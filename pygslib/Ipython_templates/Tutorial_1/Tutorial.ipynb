{
 "cells": [
  {
   "cell_type": "markdown",
   "metadata": {},
   "source": [
    "# Tutorial: Resource estimation with PyGSLIB\n",
    "\n",
    "This tutorial will guide you on doing resource estimation with PyGSLIB. The informing data is from the [BABBITT zone of the KEWEENAWAN DULUTH COMPLEX](http://www.nrri.umn.edu/egg/REPORTS/TR200321/TR200321.html).\n",
    "\n",
    "The sequence of data preparation and estimation used in this example is as it follows:\n",
    "\n",
    "-\timport drillhole tables \n",
    "-\tcreate a drillhole object\n",
    "-\tcomposite drillhole intervals\n",
    "-\tdesurvey drillholes\n",
    "-\tcode drillholes with domains\n",
    "-\tdeclustering and basic statistics\n",
    "-\tcreate a block model object\n",
    "-\tpopulate a wireframe domain with blocks\n",
    "-\testimate with ordinary kriging, inverse of the power of the distance, and nearest neighbour\n",
    "-\tbasic model validation\n",
    "\n",
    "To run this demo in your computer download the [the demo files](https://github.com/opengeostat/pygslib/tree/master/pygslib/Ipython_templates/Tutorial_1).\n",
    "\n",
    "In this tutorial we will use the development version (with commits of Oct 16, 2017 in the github repo). You will have to install pygslib by compiling the source code. \n",
    "\n",
    "```shell\n",
    "git clone https://github.com/opengeostat/pygslib.git\n",
    "cd pygslib\n",
    "python setup.py develop\n",
    "```\n",
    "\n",
    "We recommend installing the conda package first [using this tutorial](https://www.youtube.com/watch?v=cbWXi7BfZVg) and then installing the development version, this will updeate some dependencies. In windows you will also need to install Microsoft Visual C++ Compiler for Python 2.7, availiable at https://www.microsoft.com/en-ca/download/details.aspx?id=44266, MinGW and libpython. To install the last two libraries in conda type the commands: \n",
    "\n",
    "```shell\n",
    "c:\\>conda install MinGW\n",
    "c:\\>conda install libpython\n",
    "```\n",
    " \n",
    " \n",
    "## Preliminaries\n",
    "To follow this tutorial you may be familiar with: \n",
    "\n",
    " - Python 2.7\n",
    " - Python Data Analysis Library (Pandas). PyGSLIB was designed to work with Pandas. \n",
    " - Numpy\n",
    " - Matplotlib\n",
    " - Paraview, an open-source, multi-platform data analysis and visualization application\n",
    " - GSLIB, geostatistics and mineral resource estimation\n",
    " \n"
   ]
  },
  {
   "cell_type": "markdown",
   "metadata": {},
   "source": [
    "## Loading python packages"
   ]
  },
  {
   "cell_type": "code",
   "execution_count": null,
   "metadata": {},
   "outputs": [],
   "source": [
    "# import third party python libraries\n",
    "import pandas as pd\n",
    "import matplotlib.pylab as plt\n",
    "import numpy as np\n",
    "# make plots inline\n",
    "%matplotlib inline\n",
    "\n",
    "# later try %matplotlib notebook\n",
    "#%matplotlib notebook"
   ]
  },
  {
   "cell_type": "code",
   "execution_count": null,
   "metadata": {},
   "outputs": [],
   "source": [
    "# import pygslib\n",
    "import pygslib"
   ]
  },
  {
   "cell_type": "markdown",
   "metadata": {},
   "source": [
    "Need some help? Just type\n",
    "\n",
    "\n",
    "```\n",
    "help(pygslib)\n",
    "```\n",
    "\n",
    "There is also an online manual at https://opengeostat.github.io/pygslib/ but is not updated"
   ]
  },
  {
   "cell_type": "markdown",
   "metadata": {},
   "source": [
    "## Loading the drillhole tables\n",
    "PyGSLIB requires drillholes tables loaded into Pandas DataFrames. Two tables are compulsory:\n",
    " - the collar, with the compulsory fields *BHID*, *XCOLLAR*, *YCOLLAR* and *ZCOLLAR* and the optional field *LENGTH*\n",
    " - and survey, with the compulsory fields *BHID*, *AT*, *AZ*, *DIP*\n",
    "\n",
    "In addition, you may have any number of optional interval tables with the compulsory fields *BHID*, *FROM* and *TO*"
   ]
  },
  {
   "cell_type": "code",
   "execution_count": null,
   "metadata": {},
   "outputs": [],
   "source": [
    "# importing drillhole tables into pandas dataframes\n",
    "collar = pd.read_csv('Babbitt/collar_BABBITT.csv')\n",
    "survey = pd.read_csv('Babbitt/survey_BABBITT.csv')\n",
    "assay = pd.read_csv('Babbitt/assay_BABBITT.csv')"
   ]
  },
  {
   "cell_type": "code",
   "execution_count": null,
   "metadata": {},
   "outputs": [],
   "source": [
    "# print first 3 lines of the table collar\n",
    "collar.head(4)"
   ]
  },
  {
   "cell_type": "code",
   "execution_count": null,
   "metadata": {},
   "outputs": [],
   "source": [
    "# print first 3 lines of the table survey\n",
    "survey.head(3)"
   ]
  },
  {
   "cell_type": "code",
   "execution_count": null,
   "metadata": {},
   "outputs": [],
   "source": [
    "# print first 3 lines of the table assay\n",
    "assay.head(3)"
   ]
  },
  {
   "cell_type": "markdown",
   "metadata": {},
   "source": [
    "Pandas provides a large set of functions to modify your data. Let's remove some columns and make non-assayed intervals equal to zero."
   ]
  },
  {
   "cell_type": "code",
   "execution_count": null,
   "metadata": {},
   "outputs": [],
   "source": [
    "# droping some columns\n",
    "assay.drop(['NI','S','FE'], axis=1, inplace=True)\n",
    "\n",
    "# making non-sampled intervals equal to zero\n",
    "assay.loc[~np.isfinite(assay['CU']), 'CU']=0"
   ]
  },
  {
   "cell_type": "markdown",
   "metadata": {},
   "source": [
    "## Creating a drillhole object\n",
    "To get access to the drillhole functions implemented in PyGSLIB, such as desurvey and compositing, you need to create a drillhole object (an instance of the class ``Drillhole``, defined on the submodule ``gslib.drillhole``)"
   ]
  },
  {
   "cell_type": "code",
   "execution_count": null,
   "metadata": {},
   "outputs": [],
   "source": [
    "#creating a drillhole object\n",
    "mydholedb=pygslib.drillhole.Drillhole(collar=collar, survey=survey)\n",
    "\n",
    "# now you can add as many interval tables as you want, for example, assays, lithology and RQD.\n",
    "mydholedb.addtable(assay, 'assay', overwrite = False)\n"
   ]
  },
  {
   "cell_type": "markdown",
   "metadata": {},
   "source": [
    "The output above is a warning message. This one is a complain because the field ``LENGTH`` was not included in the collar table. You will see similar warnings any time PyGSLIB detects a potential issue in your data."
   ]
  },
  {
   "cell_type": "code",
   "execution_count": null,
   "metadata": {},
   "outputs": [],
   "source": [
    "# validating a drillhole object\n",
    "mydholedb.validate()"
   ]
  },
  {
   "cell_type": "markdown",
   "metadata": {},
   "source": [
    "The warning above is serious. There are drillholes with only one survey record and to desurvey we need at least two records, the first one may be at the collar of the drillhole."
   ]
  },
  {
   "cell_type": "code",
   "execution_count": null,
   "metadata": {},
   "outputs": [],
   "source": [
    "# fixing the issue of single interval at survey table\n",
    "mydholedb.fix_survey_one_interval_err(90000.)"
   ]
  },
  {
   "cell_type": "markdown",
   "metadata": {},
   "source": [
    "Note: To validate interval tables you may use the function ``validate_table``."
   ]
  },
  {
   "cell_type": "code",
   "execution_count": null,
   "metadata": {},
   "outputs": [],
   "source": [
    "#validating interval tables\n",
    "mydholedb.validate_table('assay')"
   ]
  },
  {
   "cell_type": "markdown",
   "metadata": {},
   "source": [
    "## Compositing\n",
    "\n",
    "Before doing any statistical or geostatistical analysis you may verify that all samples have approximately the same length. If samples have different lengths you may composite the drillhole intervals using a compositing algorithm."
   ]
  },
  {
   "cell_type": "code",
   "execution_count": null,
   "metadata": {},
   "outputs": [],
   "source": [
    "# Calculating length of sample intervals\n",
    "mydholedb.table['assay']['Length']= mydholedb.table['assay']['TO']-mydholedb.table['assay']['FROM']\n",
    "\n",
    "# plotting the interval lengths\n",
    "mydholedb.table['assay']['Length'].hist(bins=np.arange(15)+0.5)\n",
    "\n",
    "# printing length mode\n",
    "print ('The Length Mode is:', mydholedb.table['assay']['Length'].mode()[0])\n"
   ]
  },
  {
   "cell_type": "markdown",
   "metadata": {},
   "source": [
    "Most samples (the mode) are 10 ft length. This value or any of its multiples are good options for composite length, they minimize the oversplitting of sample intervals."
   ]
  },
  {
   "cell_type": "code",
   "execution_count": null,
   "metadata": {},
   "outputs": [],
   "source": [
    "# compositing \n",
    "mydholedb.downh_composite('assay', variable_name= \"CU\", new_table_name= \"CMP\", \n",
    "                          cint = 10, minlen=-1, overwrite = True)"
   ]
  },
  {
   "cell_type": "code",
   "execution_count": null,
   "metadata": {},
   "outputs": [],
   "source": [
    "# first 5 rows of a table\n",
    "mydholedb.table[\"CMP\"].tail(5)"
   ]
  },
  {
   "cell_type": "markdown",
   "metadata": {},
   "source": [
    "Note that some especial fields were created, those fields have prefix ``_``. ``_acum`` is the grade accumulated in the composite interval (sum of grades from sample intervals contributing to the composite interval) and ``_len`` is the actual length of the composite.\n",
    "\n",
    "In the table CMP the interval at row 54188 has *FROM : 1010.0 and TO: 1020.0* but the sample length is only *7.0 ft*. In this way the *FROM* and *TO* intervals of any drillhole or table are always at the same position and you can safely use the fields *[BHID, FROM]* to merge tables.\n"
   ]
  },
  {
   "cell_type": "markdown",
   "metadata": {},
   "source": [
    "## Desurveying\n",
    "\n",
    "To plot drillholes in 3D or to estimate grade values you need to calculate the coordinates of the composites. This process is known as *desurvey*. There are many techniques to desurvey, PyGSLIB uses minimum curvature.\n",
    "\n",
    "Desurvey will add the fields ``azm, dipm`` and ``xm, ym, zm``, these are directions and the coordinates at the mid point of composite intervals. You have the option to add endpoint coordinates ``xb, yb, zb`` and ``xe, ye, ze``, these are required to export drillholes in vtk format.\n"
   ]
  },
  {
   "cell_type": "code",
   "execution_count": null,
   "metadata": {},
   "outputs": [],
   "source": [
    "# desurveying an interval table\n",
    "mydholedb.desurvey('CMP',warns=False, endpoints=True)\n",
    "\n",
    "# first 3 rows of a table\n",
    "mydholedb.table[\"CMP\"].head(3)"
   ]
  },
  {
   "cell_type": "markdown",
   "metadata": {},
   "source": [
    "## Createing a BHID of type integer\n",
    "\n",
    "The compiled FORTRAN code of GSLIB is not good with data of type *str*, sometimes you need to transform the *BHID* to type *int*, for example, if you use a maximum number of samples per drillholes on kriging or calculating downhole variograms. The function ``txt2intID`` will do this work for you."
   ]
  },
  {
   "cell_type": "code",
   "execution_count": null,
   "metadata": {},
   "outputs": [],
   "source": [
    "# creating BHID of type integer\n",
    "mydholedb.txt2intID('CMP')\n",
    "\n",
    "# first 3 rows of a subtable\n",
    "mydholedb.table[\"CMP\"][['BHID', 'BHIDint', 'FROM', 'TO']].tail(3)"
   ]
  },
  {
   "cell_type": "markdown",
   "metadata": {},
   "source": [
    "## Rendering drillhole intervals in Paraview and exporting drillhole data\n",
    "\n",
    "PyGSLIB can export drillhole intervals to VTK. Drag and drop the VTK file on Paraview to see the drillholes in 3D. For a better image quality add a *tube* filter and update the color scale."
   ]
  },
  {
   "cell_type": "code",
   "execution_count": null,
   "metadata": {},
   "outputs": [],
   "source": [
    "# exporting results to VTK\n",
    "mydholedb.export_core_vtk_line('CMP', 'cmp.vtk', title = 'Drillhole created in PyGSLIB')"
   ]
  },
  {
   "cell_type": "markdown",
   "metadata": {},
   "source": [
    "This is how it looks in Paraview\n",
    "\n",
    "![](figure1.JPG \"Drillhole 3D view\" )"
   ]
  },
  {
   "cell_type": "markdown",
   "metadata": {},
   "source": [
    "Interval tables are stored as a python dictionary of *{Table Name : Pandas Dataframes}*. To export data to \\*.csv format use the Pandas function ``Dataframe.to_csv``. You can also export to any other format supported by Pandas, [this is the list of formats supported](http://pandas.pydata.org/pandas-docs/stable/io.html).\n"
   ]
  },
  {
   "cell_type": "code",
   "execution_count": null,
   "metadata": {},
   "outputs": [],
   "source": [
    "# inspecting interval tables in drillhole object\n",
    "print (\"Table names \", mydholedb.table_mames)\n",
    "print (\"Tables names\", mydholedb.table.keys()) \n",
    "print (\"table is    \", type(mydholedb.table))"
   ]
  },
  {
   "cell_type": "code",
   "execution_count": null,
   "metadata": {},
   "outputs": [],
   "source": [
    "# exporting to csv\n",
    "mydholedb.table[\"CMP\"].to_csv('cmp.csv', index=False)"
   ]
  },
  {
   "cell_type": "markdown",
   "metadata": {},
   "source": [
    "## Tagging samples with domain code\n",
    "\n",
    "Use the function ``pygslib.vtktools.pointinsolid`` to label composites in a domain defined by a closed wireframe. You can also use this function to label samples in open surfaces (ej. between two surfaces), below a surface and above a surface.\n"
   ]
  },
  {
   "cell_type": "code",
   "execution_count": null,
   "metadata": {},
   "outputs": [],
   "source": [
    "# importing the a wireframe (this one was created with https://geomodelr.com)\n",
    "domain=pygslib.vtktools.loadSTL('Babbitt/Mpz.stl')"
   ]
  },
  {
   "cell_type": "markdown",
   "metadata": {},
   "source": [
    "Only Stereo Lithography (*.STL) and XML VTK Polydata (VTP) file formats are implemented. If your data is in a different format, ej. DXF, you can use a file format converter, my favorite is [meshconv](http://www.patrickmin.com/meshconv)"
   ]
  },
  {
   "cell_type": "code",
   "execution_count": null,
   "metadata": {
    "scrolled": true
   },
   "outputs": [],
   "source": [
    "# creating array to tag samples in domain1\n",
    "inside1=pygslib.vtktools.pointinsolid(domain, \n",
    "                       x=mydholedb.table['CMP']['xm'].values, \n",
    "                       y=mydholedb.table['CMP']['ym'].values, \n",
    "                       z=mydholedb.table['CMP']['zm'].values)\n",
    "\n",
    "# creating a new domain field \n",
    "mydholedb.table['CMP']['Domain']=inside1.astype(int)\n",
    "\n",
    "# first 3 rows of a subtable\n",
    "mydholedb.table['CMP'][['BHID', 'FROM', 'TO', 'Domain']].head(3)"
   ]
  },
  {
   "cell_type": "code",
   "execution_count": null,
   "metadata": {},
   "outputs": [],
   "source": [
    "# exporting results to VTK\n",
    "mydholedb.export_core_vtk_line('CMP', 'cmp.vtk',  title = 'Generated with PyGSLIB')\n",
    "\n",
    "# exporting to csv\n",
    "mydholedb.table[\"CMP\"].to_csv('cmp.csv', index=False)"
   ]
  },
  {
   "cell_type": "markdown",
   "metadata": {},
   "source": [
    "A section of the wireframe and the drillholes may look as follows\n",
    "\n",
    "![](figure2.JPG \"Drillhole tagging\" )"
   ]
  },
  {
   "cell_type": "markdown",
   "metadata": {},
   "source": [
    "## Block modeling\n",
    "\n",
    "\n",
    "Cu grades will be estimated on blocks inside the mineralized domain. To create those blocks you may:\n",
    "\n",
    " - create a block model object ``pygslib.blockmodel.Blockmodel``\n",
    " - fill the mineralized domain with blocks\n",
    " \n",
    "In PyGSLIB we use percent blocks, similar to GEMS &reg;. In the future we will implement subcell style, similar to Surpac &reg;, using Adaptive Mesh Refinement (AMR).\n",
    "\n",
    "Blocks are stored in the class member ``bmtable``, this is a Pandas DataFrame with especial field index ``IJK`` or ``[IX,IY,IZ]`` and coordinates ``[XC, YC, ZC]``. We use GSLIB order, in other words, ``IJK`` is the equivalent of the row number in a GSLIB grid.\n",
    "\n",
    "Block model tables can be full or partial (with some missing blocks). Only one table will be available in a block model object.\n",
    "\n",
    "The block model definition is stored in the members ``nx, ny, nz, xorg, yorg, zorg, dx, dy, dz``. The origin ``xorg, yorg, zorg`` refers to the lower left corner of the lower left block (not the centroid), like in Datamine Studio &reg;."
   ]
  },
  {
   "cell_type": "code",
   "execution_count": null,
   "metadata": {},
   "outputs": [],
   "source": [
    "# The model definition\n",
    "xorg = 2288230\n",
    "yorg = 415200\n",
    "zorg = -1000\n",
    "dx = 100\n",
    "dy = 100\n",
    "dz = 30\n",
    "nx = 160\n",
    "ny = 100\n",
    "nz = 90"
   ]
  },
  {
   "cell_type": "code",
   "execution_count": null,
   "metadata": {},
   "outputs": [],
   "source": [
    "# Creating an empty block model\n",
    "mymodel=pygslib.blockmodel.Blockmodel(nx,ny,nz,xorg,yorg,zorg,dx,dy,dz)"
   ]
  },
  {
   "cell_type": "code",
   "execution_count": null,
   "metadata": {},
   "outputs": [],
   "source": [
    "# filling wireframe with blocks\n",
    "mymodel.fillwireframe(domain)\n",
    "\n",
    "# the fillwireframe function generates a field named  __in, \n",
    "# this is the proportion inside the wireframe. Here we rename __in to D1\n",
    "mymodel.bmtable.rename(columns={'__in': 'D1'},inplace=True)"
   ]
  },
  {
   "cell_type": "code",
   "execution_count": null,
   "metadata": {},
   "outputs": [],
   "source": [
    "# creating a partial model by filtering out blocks with zero proportion inside the solid\n",
    "mymodel.set_blocks(mymodel.bmtable[mymodel.bmtable['D1']> 0])\n",
    "\n",
    "# export partial model to a vtk unstructured grid (*.vtu)\n",
    "mymodel.blocks2vtkUnstructuredGrid(path='model.vtu')"
   ]
  },
  {
   "cell_type": "markdown",
   "metadata": {},
   "source": [
    "Note that ``fillwireframe`` created or overwrited ``mymodel.bmtable``. The blocks outside the wireframe where filtered out and the final output is a partial model with block inside or touching the wireframe domain.\n",
    "\n",
    "Note that ``fillwireframe`` works with closed surfaces only. \n",
    "\n",
    "A section view of the blocks colored by percentage inside the solid and the wireframe (white lines) may look as follows:\n",
    "\n",
    "\n",
    "![](figure3.JPG \"block model percentage\" )"
   ]
  },
  {
   "cell_type": "markdown",
   "metadata": {},
   "source": [
    "## Some basic stats\n",
    "\n",
    "You may spend some time doing exploratory data analysis, looking at statistical plots, 3D views and 2D sections of your data. A good comersial software for this is [Supervisor &reg;](http://opengeostat.com/software-solutions/), open source options are Pandas, [Statsmodels](http://statsmodels.sourceforge.net/), [Seaborn](https://stanford.edu/~mwaskom/software/seaborn/) and [glueviz](http://glueviz.org/en/stable/).\n",
    "\n",
    "PyGSLIB includes some minimum functionality for statistical plots and calculations, with support for declustering wight. Here we demonstrate how you can do a declustering analysis of the samples in the mineralized domain and how to evaluate the declustered mean. The declustered mean will be compared later with the mean of CU estimates.\n",
    "\n",
    "Note: In this section we are not including all the statistical analysis usually required for resource estimation."
   ]
  },
  {
   "cell_type": "code",
   "execution_count": null,
   "metadata": {},
   "outputs": [],
   "source": [
    "#declustering parameters \n",
    "parameters_declus = { \n",
    "        'x'      :  mydholedb.table[\"CMP\"].loc[mydholedb.table['CMP']['Domain']==1, 'xm'], \n",
    "        'y'      :  mydholedb.table[\"CMP\"].loc[mydholedb.table['CMP']['Domain']==1, 'ym'],  \n",
    "        'z'      :  mydholedb.table[\"CMP\"].loc[mydholedb.table['CMP']['Domain']==1, 'zm'], \n",
    "        'vr'     :  mydholedb.table[\"CMP\"].loc[mydholedb.table['CMP']['Domain']==1, 'CU'],   \n",
    "        'anisy'  :  1.,       \n",
    "        'anisz'  :  0.05,              \n",
    "        'minmax' :  0,                 \n",
    "        'ncell'  :  100,                  \n",
    "        'cmin'   :  100., \n",
    "        'cmax'   :  5000.,                 \n",
    "        'noff'   :  8,                    \n",
    "        'maxcel' :  -1}               \n",
    "\n",
    "# declustering \n",
    "wtopt,vrop,wtmin,wtmax,error, \\\n",
    "xinc,yinc,zinc,rxcs,rycs,rzcs,rvrcr = pygslib.gslib.declus(parameters_declus)\n",
    "\n",
    "#Plotting declustering optimization results\n",
    "plt.plot (rxcs, rvrcr, '-o')\n",
    "plt.xlabel('X cell size')\n",
    "plt.ylabel('declustered mean')\n",
    "plt.show()\n",
    "plt.plot (rycs, rvrcr, '-o')\n",
    "plt.xlabel('Y cell size')\n",
    "plt.ylabel('declustered mean')\n",
    "plt.show()\n",
    "plt.plot (rzcs, rvrcr, '-o')\n",
    "plt.xlabel('Z cell size')\n",
    "plt.ylabel('declustered mean')\n",
    "plt.show()\n"
   ]
  },
  {
   "cell_type": "code",
   "execution_count": null,
   "metadata": {},
   "outputs": [],
   "source": [
    "# parameters for declustering with the cell size selected\n",
    "parameters_declus = { \n",
    "        'x'      :  mydholedb.table[\"CMP\"].loc[mydholedb.table['CMP']['Domain']==1, 'xm'], \n",
    "        'y'      :  mydholedb.table[\"CMP\"].loc[mydholedb.table['CMP']['Domain']==1, 'ym'],  \n",
    "        'z'      :  mydholedb.table[\"CMP\"].loc[mydholedb.table['CMP']['Domain']==1, 'zm'], \n",
    "        'vr'     :  mydholedb.table[\"CMP\"].loc[mydholedb.table['CMP']['Domain']==1, 'CU'],  \n",
    "        'anisy'  :  1.,    # y == x\n",
    "        'anisz'  :  0.1,  # z = x/20     \n",
    "        'minmax' :  0,                 \n",
    "        'ncell'  :  1,                  \n",
    "        'cmin'   :  1000., \n",
    "        'cmax'   :  1000.,                 \n",
    "        'noff'   :  8,                    \n",
    "        'maxcel' :  -1}  \n",
    " \n",
    "\n",
    "# declustering \n",
    "wtopt,vrop,wtmin,wtmax,error, \\\n",
    "xinc,yinc,zinc,rxcs,rycs,rzcs,rvrcr = pygslib.gslib.declus(parameters_declus)\n",
    "\n",
    "# Adding declustering weight to a drillhole interval table\n",
    "mydholedb.table[\"CMP\"]['declustwt'] = 1\n",
    "mydholedb.table[\"CMP\"].loc[mydholedb.table['CMP']['Domain']==1, 'declustwt'] = wtopt\n",
    "\n",
    "# calculating declustered mean\n",
    "decl_mean = rvrcr[0]"
   ]
  },
  {
   "cell_type": "markdown",
   "metadata": {},
   "source": [
    "Now we can calculate some declustered stats and plot declustered histogras"
   ]
  },
  {
   "cell_type": "code",
   "execution_count": null,
   "metadata": {},
   "outputs": [],
   "source": [
    "# prepare parameters dictionary\n",
    "parameters = {\n",
    "        'hmin' : None,                          #in/output rank-0 array(float,'d')\n",
    "        'hmax' : None,                         #in/output rank-0 array(float,'d')\n",
    "        'ncl'  : 30,                            #int, number of bins\n",
    "        'iwt'  : 1,                             #int, 1 use declustering weight\n",
    "        'ilog' : 1,                             #int, 1 use logscale\n",
    "        'icum' : 0,                             #int, 1 use cumulative\n",
    "        'va'   : mydholedb.table[\"CMP\"].loc[mydholedb.table['CMP']['Domain']==1, 'CU'],             # array('d') with bounds (nd)\n",
    "        'wt'   : mydholedb.table[\"CMP\"].loc[mydholedb.table['CMP']['Domain']==1, 'declustwt'],                          # array('d') with bounds (nd), wight variable (obtained with declust?)\n",
    "        'figure' : None ,                       # a bokeh figure object (Optional: new figure created if None). Set none or undefined if creating a new figure. \n",
    "        'title'  : 'Hist Cu',                    # string. Figure title\n",
    "        'xlabel' : 'Cu (%)', # string. X axis label \n",
    "        'ylabel' : 'f(%)', # string. Y axis label\n",
    "        # visual parameter for the histogram\n",
    "        'color' : 'red', # string with valid CSS colour (https://www.w3schools.com/colors/colors_names.asp), or an RGB(A) hex value, or tuple of integers (r,g,b), or tuple of (r,g,b,a) \n",
    "        'legend': 'Non - Declustered', # string (Optional, default \"NA\")\n",
    "        'alpha' :  0.5, # float [0-1]. Transparency of the fill colour \n",
    "        'lwidth': 1, # float. Line width\n",
    "        # legend \n",
    "        'legendloc': 'top_left'}\n",
    "\n",
    "# calculate histogram\n",
    "stats, fig = pygslib.plothtml.histgplt(parameters)\n",
    "\n",
    "print ('CV', stats['xcvr'])\n",
    "print ('Mean', stats['xmen'])\n",
    "print ('Min', stats['xmin'])\n",
    "print ('Max', stats['xmax'])\n",
    "\n",
    "\n",
    "# show the figure\n",
    "pygslib.plothtml.show(fig)"
   ]
  },
  {
   "cell_type": "code",
   "execution_count": null,
   "metadata": {},
   "outputs": [],
   "source": [
    "# plot CDF \n",
    "parameters_probplt = {\n",
    "    # gslib parameters for histogram calculation  \n",
    "    'iwt'  : 1, # input boolean (Optional: set True). Use weight variable?\n",
    "    'va'   : mydholedb.table[\"CMP\"].loc[(mydholedb.table['CMP']['Domain']==1) & (mydholedb.table['CMP']['CU']>0), 'CU'],             # array('d') with bounds (nd)\n",
    "    'wt'   : mydholedb.table[\"CMP\"].loc[(mydholedb.table['CMP']['Domain']==1) & (mydholedb.table['CMP']['CU']>0), 'declustwt'],                          # array('d') with bounds (nd), wight variable (obtained with declust?)\n",
    "    # visual parameters for figure (if a new figure is created)\n",
    "    'figure' : None, # a bokeh figure object (Optional: new figure created if None). Set none or undefined if creating a new figure. \n",
    "    'title'  : 'Prob blot', # string (Optional, \"Histogram\"). Figure title\n",
    "    'xlabel' : 'Cu', # string (Optional, default \"Z\"). X axis label \n",
    "    'ylabel' : 'P[Cu<c]', # string (Optional, default \"f(%)\"). Y axis label\n",
    "    'xlog' : 1, # boolean (Optional, default True). If true plot X axis in log sale.\n",
    "    'ylog' : 1, # boolean (Optional, default True). If true plot Y axis in log sale.            \n",
    "    # visual parameter for the probplt\n",
    "    'style' : 'cross', # string with valid bokeh chart type \n",
    "    'color' : 'blue', # string with valid CSS colour (https://www.w3schools.com/colors/colors_names.asp), or an RGB(A) hex value, or tuple of integers (r,g,b), or tuple of (r,g,b,a) (Optional, default \"navy\")\n",
    "    'legend': 'Declustered Cu', # string (Optional, default \"NA\"). \n",
    "    'alpha' : 1, # float [0-1] (Optional, default 0.5). Transparency of the fill colour \n",
    "    'lwidth': 0, # float (Optional, default 1). Line width\n",
    "    # leyend\n",
    "    'legendloc': 'bottom_right'} #  float (Optional, default 'top_right'). Any of top_left, top_center, top_right, center_right, bottom_right, bottom_center, bottom_left, center_left or center\n",
    "\n",
    "results, fig2 = pygslib.plothtml.probplt(parameters_probplt)\n",
    "# show the plot\n",
    "pygslib.plothtml.show(fig2)"
   ]
  },
  {
   "cell_type": "code",
   "execution_count": null,
   "metadata": {},
   "outputs": [],
   "source": [
    "results"
   ]
  },
  {
   "cell_type": "markdown",
   "metadata": {},
   "source": [
    "## Variography"
   ]
  },
  {
   "cell_type": "code",
   "execution_count": null,
   "metadata": {
    "scrolled": false
   },
   "outputs": [],
   "source": [
    "# TODO: "
   ]
  },
  {
   "cell_type": "markdown",
   "metadata": {},
   "source": [
    "## Estimating Cu grade in one block \n",
    "\n",
    "For estimation you may use the function ``pygslib.gslib.kt3d``, which is the GSLIB’s KT3D program modified and embedded into python. KT3D now includes a maximum number of samples per drillhole in the search ellipsoid and the estimation is only in the blocks provided as arrays. \n",
    "\n",
    "The input parameters of ``pygslib.gslib.kt3d`` are defined in a large and complicated dictionary. You can get this dictionary by typing \n",
    "\n",
    "```\n",
    "print pygslib.gslib.kt3d.__doc__\n",
    "```\n",
    "\n",
    "Note that some parameters are optional. PyGSLIB will initialize those parameters to zero or to array of zeros, for example if you exclude the coordinate Z, PyGSLIB will create an array of zeros in its place.\n",
    "\n",
    "To understand GSLIB’s KT3D parameters you may read the [GSLIB user manual](https://www.amazon.ca/GSLIB-Geostatistical-Software-Library-Users/dp/0195100158) or [the kt3d gslib program parameter documentation](http://www.statios.com/help/kt3d.html). \n",
    "\n",
    "Note that in PyGSLIB the parameters nx, ny and nz are only used by superblock search algorithm, if these parameters are arbitrary the output will be correct but the running time may be longer.\n"
   ]
  },
  {
   "cell_type": "code",
   "execution_count": null,
   "metadata": {},
   "outputs": [],
   "source": [
    "# creating parameter dictionary for estimation in one block\n",
    "kt3d_Parameters = {\n",
    "            # Input Data (Only using intervals in the mineralized domain)\n",
    "            # ----------\n",
    "            'x' : mydholedb.table[\"CMP\"]['xm'][mydholedb.table[\"CMP\"]['Domain']==1].values, \n",
    "            'y' : mydholedb.table[\"CMP\"]['ym'][mydholedb.table[\"CMP\"]['Domain']==1].values,\n",
    "            'z' : mydholedb.table[\"CMP\"]['zm'][mydholedb.table[\"CMP\"]['Domain']==1].values,\n",
    "            'vr' : mydholedb.table[\"CMP\"]['CU'][mydholedb.table[\"CMP\"]['Domain']==1].values,\n",
    "            'bhid' : mydholedb.table[\"CMP\"]['BHIDint'][mydholedb.table[\"CMP\"]['Domain']==1].values, # an interger BHID\n",
    "            # Output (Target) \n",
    "            # ----------\n",
    "            'nx' : nx,  \n",
    "            'ny' : ny,  \n",
    "            'nz' : nz, \n",
    "            'xmn' : xorg,  \n",
    "            'ymn' : yorg,  \n",
    "            'zmn' : zorg,  \n",
    "            'xsiz' : dx,  \n",
    "            'ysiz' : dy,   \n",
    "            'zsiz' : dz, \n",
    "            'nxdis' : 5,  \n",
    "            'nydis' : 5,  \n",
    "            'nzdis' : 3,  \n",
    "            'outx' : mymodel.bmtable['XC'][mymodel.bmtable['IJK']==1149229].values,  # filter to estimate only on block with IJK 1149229\n",
    "            'outy' : mymodel.bmtable['YC'][mymodel.bmtable['IJK']==1149229].values,\n",
    "            'outz' : mymodel.bmtable['ZC'][mymodel.bmtable['IJK']==1149229].values,\n",
    "            # Search parameters \n",
    "            # ----------\n",
    "            'radius'     : 850,   \n",
    "            'radius1'    : 850,   \n",
    "            'radius2'    : 250,   \n",
    "            'sang1'      : -28,  \n",
    "            'sang2'      : 34,   \n",
    "            'sang3'      : 7,   \n",
    "            'ndmax'      : 12,    \n",
    "            'ndmin'      : 4,  \n",
    "            'noct'       : 0,\n",
    "            'nbhid'      : 3,   \n",
    "            # Kriging parameters and options \n",
    "            # ----------\n",
    "            'ktype'      : 1,   # 1 Ordinary kriging \n",
    "            'idbg'       : 1,   # 0 no debug \n",
    "            # Variogram parameters \n",
    "            # ----------\n",
    "            'c0'         : 0.35 * 0.109758094158,               # we require not normalized variance for GCOS, fix... multiply for actual variance\n",
    "            'it'         : [2,2],    \n",
    "            'cc'         : [0.41*0.109758094158,0.23*0.109758094158], \n",
    "            'aa'         : [96,1117],   \n",
    "            'aa1'        : [96,1117],  \n",
    "            'aa2'        : [96,300],   \n",
    "            'ang1'       : [-28,-28],   \n",
    "            'ang2'       : [ 34, 34],  \n",
    "            'ang3'       : [  7,  7]}  "
   ]
  },
  {
   "cell_type": "markdown",
   "metadata": {},
   "source": [
    "The variogram was calculated and modelled in a differnt software\n",
    "\n",
    "The variogram types are as explained in http://www.gslib.com/gslib_help/vmtype.html, for example, ``'it' : [2,2] `` means two exponential models, in other words ``[Exponential 1,Exponential 2]`` \n",
    "\n",
    "Only the block with index *IJK* equal to 1149229 was used this time and ``'idbg'`` was set to one in order to get a full output of the last (and unique) block estimate, including the samples selected, kriging weight and the search ellipsoid. "
   ]
  },
  {
   "cell_type": "code",
   "execution_count": null,
   "metadata": {},
   "outputs": [],
   "source": [
    "# estimating in one block\n",
    "estimate, debug, summary = pygslib.gslib.kt3d(kt3d_Parameters)\n"
   ]
  },
  {
   "cell_type": "code",
   "execution_count": null,
   "metadata": {},
   "outputs": [],
   "source": [
    "#saving debug to a csv file using Pandas\n",
    "pd.DataFrame({'x':debug['dbgxdat'],'y':debug['dbgydat'],'z':debug['dbgzdat'],'wt':debug['dbgwt']}).to_csv('dbg_data.csv', index=False)\n",
    "#pd.DataFrame({'x':[debug['dbgxtg']],'y':[debug['dbgytg']],'z':[debug['dbgztg']],'na':[debug['na']]}).to_csv('dbg_target.csv', index=False)\n",
    "\n",
    "# save the search ellipse to a VTK file\n",
    "pygslib.vtktools.SavePolydata(debug['ellipsoid'], 'search_ellipsoid')"
   ]
  },
  {
   "cell_type": "markdown",
   "metadata": {},
   "source": [
    "The results may look like this in Paraview. \n",
    "\n",
    "![](figure4.JPG \"Ellipsoid\")"
   ]
  },
  {
   "cell_type": "code",
   "execution_count": null,
   "metadata": {},
   "outputs": [],
   "source": [
    "# calculate block variance, wee need it for global change of support validation\n",
    "# you can also calculate this with the function pygslib.gslib.block_covariance(...)\n",
    "cbb=debug['cbb']"
   ]
  },
  {
   "cell_type": "markdown",
   "metadata": {
    "collapsed": true
   },
   "source": [
    "## Estimating in all blocks\n",
    "\n",
    "After testing the estimation parameters in few blocks you may be ready to estimate in all the blocks within the mineralized domain. Just update the parameter file to remove the debug option and reassign the target coordinates as the actual blocks coordinate arrays."
   ]
  },
  {
   "cell_type": "code",
   "execution_count": null,
   "metadata": {},
   "outputs": [],
   "source": [
    "# update parameter file\n",
    "kt3d_Parameters['idbg'] = 0 # set the debug of\n",
    "kt3d_Parameters['outx'] = mymodel.bmtable['XC'].values  # use all the blocks \n",
    "kt3d_Parameters['outy'] = mymodel.bmtable['YC'].values\n",
    "kt3d_Parameters['outz'] = mymodel.bmtable['ZC'].values"
   ]
  },
  {
   "cell_type": "code",
   "execution_count": null,
   "metadata": {},
   "outputs": [],
   "source": [
    "# estimating in all blocks\n",
    "estimate, debug, summary = pygslib.gslib.kt3d(kt3d_Parameters)"
   ]
  },
  {
   "cell_type": "code",
   "execution_count": null,
   "metadata": {},
   "outputs": [],
   "source": [
    "# adding the estimate into the model\n",
    "mymodel.bmtable['CU_OK'] = estimate['outest']\n",
    "mymodel.bmtable['CU_ID2'] = estimate['outidpower']\n",
    "mymodel.bmtable['CU_NN'] = estimate['outnn']\n",
    "mymodel.bmtable['CU_Lagrange'] = estimate['outlagrange']\n",
    "mymodel.bmtable['CU_KVar']= estimate['outkvar']"
   ]
  },
  {
   "cell_type": "code",
   "execution_count": null,
   "metadata": {},
   "outputs": [],
   "source": [
    "# exporting block model to VTK (unstructured grid) \n",
    "mymodel.blocks2vtkUnstructuredGrid(path='model.vtu')\n",
    "\n",
    "# exporting to csv using Pandas\n",
    "mymodel.bmtable['Domain']= 1\n",
    "mymodel.bmtable[mymodel.bmtable['CU_OK'].notnull()].to_csv('model.csv', index = False)"
   ]
  },
  {
   "cell_type": "markdown",
   "metadata": {
    "collapsed": true
   },
   "source": [
    "## Validating the results\n",
    "\n",
    "There are few validations you may do:\n",
    "\n",
    " - visual validation\n",
    " - comparison of mean grade\n",
    " - swath plots \n",
    " - global change of support (GCOS)\n",
    "\n",
    "Swath plots and GCOS are not implemented in PyGSLIB. For visual validations you can use Paraview, for example: \n",
    "\n",
    "![](figure5.JPG \"Visual validation\")"
   ]
  },
  {
   "cell_type": "code",
   "execution_count": null,
   "metadata": {},
   "outputs": [],
   "source": [
    "print (\"Mean in model OK   :\",  mymodel.bmtable['CU_OK'].mean())\n",
    "print (\"Mean in model ID2   :\",  mymodel.bmtable['CU_ID2'].mean())\n",
    "print (\"Mean in model NN   :\",  mymodel.bmtable['CU_NN'].mean())\n",
    "print (\"Mean in data    :\", mydholedb.table[\"CMP\"]['CU'][mydholedb.table[\"CMP\"]['Domain']==1].mean())\n",
    "print (\"Declustered mean:\", decl_mean)"
   ]
  },
  {
   "cell_type": "markdown",
   "metadata": {
    "collapsed": true
   },
   "source": [
    "### Create swath plots\n",
    "\n",
    "There are two ways of doing swath plots\n",
    "\n",
    "-\tSlicing block model and data and comparing the declustered means of each slice\n",
    "-\tCalculating nearest neighbour in blocks (this is equivalent to declustered values) and comparing means of nearest neighbour estimates with means of other estimation methods along row, columns and levels.  \n",
    "\n",
    "We do not have a function in pygslib to do that, but we can implement the second option with one line of ``pandas``\n"
   ]
  },
  {
   "cell_type": "code",
   "execution_count": null,
   "metadata": {},
   "outputs": [],
   "source": [
    "mymodel.bmtable.groupby('XC')[['CU_OK','CU_ID2','CU_NN']].mean().plot()"
   ]
  },
  {
   "cell_type": "code",
   "execution_count": null,
   "metadata": {},
   "outputs": [],
   "source": [
    "mymodel.bmtable.groupby('YC')[['CU_OK','CU_ID2','CU_NN']].mean().plot()"
   ]
  },
  {
   "cell_type": "code",
   "execution_count": null,
   "metadata": {},
   "outputs": [],
   "source": [
    "mymodel.bmtable.groupby('ZC')[['CU_OK','CU_ID2','CU_NN']].mean().plot()"
   ]
  },
  {
   "cell_type": "markdown",
   "metadata": {
    "collapsed": true
   },
   "source": [
    "### Global change of support"
   ]
  },
  {
   "cell_type": "code",
   "execution_count": null,
   "metadata": {},
   "outputs": [],
   "source": [
    "# Fit anamorphosis by changing, zmax, zmin, and extrapolation function\n",
    "PCI, H, raw, zana, gauss, z, P, raw_var, PCI_var, fig1 = pygslib.nonlinear.anamor(\n",
    "                         z = mydholedb.table[\"CMP\"].loc[mydholedb.table['CMP']['Domain']==1, 'CU'], \n",
    "                         w = mydholedb.table[\"CMP\"].loc[mydholedb.table['CMP']['Domain']==1, 'declustwt'], \n",
    "                         zmin = mydholedb.table[\"CMP\"].loc[mydholedb.table['CMP']['Domain']==1, 'CU'].min(), \n",
    "                         zmax = mydholedb.table[\"CMP\"].loc[mydholedb.table['CMP']['Domain']==1, 'CU'].max(),\n",
    "                         zpmin = None, zpmax = None,\n",
    "                         ymin=-5, ymax=5,\n",
    "                         ndisc = 5000,\n",
    "                         ltail=1, utail=4, ltpar=1, utpar=1.5, K=40)\n",
    "\n"
   ]
  },
  {
   "cell_type": "code",
   "execution_count": null,
   "metadata": {},
   "outputs": [],
   "source": [
    "# calculate the support correction coefficient r\n",
    "r = pygslib.nonlinear.get_r(Var_Zv = cbb, PCI = PCI)\n",
    "\n",
    "print ('cbb :', cbb)\n",
    "print ('r   :', r)"
   ]
  },
  {
   "cell_type": "markdown",
   "metadata": {},
   "source": [
    "Note that r is very low... "
   ]
  },
  {
   "cell_type": "code",
   "execution_count": null,
   "metadata": {},
   "outputs": [],
   "source": [
    "# fit block anamorphosis\n",
    "ZV, PV, fig2 = pygslib.nonlinear.anamor_blk( PCI, H, r = r, gauss = gauss, Z = z,\n",
    "                  ltail=1, utail=1, ltpar=1, utpar=1,\n",
    "                  raw=raw, zana=zana)"
   ]
  },
  {
   "cell_type": "code",
   "execution_count": null,
   "metadata": {},
   "outputs": [],
   "source": [
    "cutoff = np.arange(0,0.6, 0.01)\n",
    "tt = []\n",
    "gg = []\n",
    "label = []\n",
    "\n",
    "# calculate GTC from gaussian in block support \n",
    "t,ga,gb = pygslib.nonlinear.gtcurve (cutoff = cutoff, z=ZV, p=PV, varred = 1, ivtyp = 0, zmin = 0, zmax = None,\n",
    "             ltail = 1, ltpar = 1, middle = 1, mpar = 1, utail = 1, utpar = 1,maxdis = 1000)\n",
    "tt.append(t)\n",
    "gg.append(ga)\n",
    "label.append('DGM with block support')\n"
   ]
  },
  {
   "cell_type": "code",
   "execution_count": null,
   "metadata": {},
   "outputs": [],
   "source": [
    "fig = pygslib.nonlinear.plotgt(cutoff = cutoff, t = tt, g = gg, label = label)"
   ]
  },
  {
   "cell_type": "code",
   "execution_count": null,
   "metadata": {},
   "outputs": [],
   "source": [
    "# to compare global resources with the one estimated we calculate the CDF of the blocks\n",
    "\n",
    "# cdf of kriging estimate\n",
    "parameters_probplt = {\n",
    "        'iwt'  : 0,                             #int, 1 use declustering weight\n",
    "        'va'   : mymodel.bmtable['CU_OK'][mymodel.bmtable['CU_OK'].notnull()].values,             # array('d') with bounds (nd)\n",
    "        'wt'   : np.ones(mymodel.bmtable['CU_OK'][mymodel.bmtable['CU_OK'].notnull()].shape[0])} # array('d') with bounds (nd), wight variable (obtained with declust?)\n",
    "\n",
    "\n",
    "binval_ok,cl_ok,xpt025,xlqt,xmed,xuqt,xpt975,xmin,xmax, \\\n",
    "xcvr,xmen,xvar,error = pygslib.gslib.__plot.probplt(**parameters_probplt)\n",
    "\n",
    "# cdf of id2\n",
    "parameters_probplt = {\n",
    "        'iwt'  : 0,                             #int, 1 use declustering weight\n",
    "        'va'   : mymodel.bmtable['CU_ID2'][mymodel.bmtable['CU_OK'].notnull()].values,             # array('d') with bounds (nd)\n",
    "        'wt'   : np.ones(mymodel.bmtable['CU_OK'][mymodel.bmtable['CU_OK'].notnull()].shape[0])} # array('d') with bounds (nd), wight variable (obtained with declust?)\n",
    "\n",
    "binval_id2,cl_id2,xpt025,xlqt,xmed,xuqt,xpt975,xmin,xmax, \\\n",
    "xcvr,xmen,xvar,error = pygslib.gslib.__plot.probplt(**parameters_probplt)\n",
    "\n"
   ]
  },
  {
   "cell_type": "code",
   "execution_count": null,
   "metadata": {},
   "outputs": [],
   "source": [
    "# calculate GTC ok \n",
    "t,ga,gb = pygslib.nonlinear.gtcurve (cutoff = cutoff, z=cl_ok, p=binval_ok, varred = 1, ivtyp = 2, zmin = 0, zmax = None,\n",
    "             ltail = 1, ltpar = 1, middle = 1, mpar = 1, utail = 1, utpar = 1,maxdis = 1000)\n",
    "tt.append(t)\n",
    "gg.append(ga)\n",
    "label.append('Ordinary Kriging')\n",
    "\n",
    "# calculate GTC in block support\n",
    "t,ga,gb = pygslib.nonlinear.gtcurve (cutoff = cutoff, z=cl_id2, p=binval_id2, varred = 1, ivtyp = 2, zmin = 0, zmax = None,\n",
    "             ltail = 1, ltpar = 1, middle = 1, mpar = 1, utail = 1, utpar = 1,maxdis = 1000)\n",
    "tt.append(t)\n",
    "gg.append(ga)\n",
    "label.append('Inverse of the Distance 2)')"
   ]
  },
  {
   "cell_type": "code",
   "execution_count": null,
   "metadata": {},
   "outputs": [],
   "source": [
    "fig = pygslib.nonlinear.plotgt(cutoff = cutoff, t = tt, g = gg, label = label)"
   ]
  },
  {
   "cell_type": "code",
   "execution_count": null,
   "metadata": {},
   "outputs": [],
   "source": [
    "# we can plot diferences (relative error in grade)\n",
    "\n",
    "plt.plot (cutoff, gg[0]-gg[1], label = 'DGM - OK')\n",
    "plt.plot (cutoff, gg[0]-gg[2], label = 'DGM - ID2')\n",
    "plt.plot (cutoff, np.zeros(cutoff.shape[0]),'--k', label = 'Zero error')\n",
    "plt.title('relative error in grade')\n",
    "plt.legend()"
   ]
  },
  {
   "cell_type": "code",
   "execution_count": null,
   "metadata": {},
   "outputs": [],
   "source": [
    "# we can plot diferences (relative error in tonnage)\n",
    "\n",
    "plt.plot (cutoff, tt[0]-tt[1], label = 'DGM - OK')\n",
    "plt.plot (cutoff, tt[0]-tt[2], label = 'DGM - ID2')\n",
    "plt.plot (cutoff, np.zeros(cutoff.shape[0]),'--k', label = 'Zero error')\n",
    "plt.legend()\n",
    "plt.title('relative error in tonnage')"
   ]
  },
  {
   "cell_type": "code",
   "execution_count": null,
   "metadata": {},
   "outputs": [],
   "source": [
    "# To get tonnes right just multiply per total tonnes\n",
    "\n",
    "# calcullate tottal tonnage (million tonnes)\n",
    "ttonnes = mymodel.bmtable['D1'][mymodel.bmtable['CU_OK'].notnull()].sum()*100*100*30* 0.0283168 * 2.7 /1000000 \n",
    "# cubic foot to m -> 0.0283168, density 2.7"
   ]
  },
  {
   "cell_type": "code",
   "execution_count": null,
   "metadata": {},
   "outputs": [],
   "source": [
    "ttt = tt[0]*ttonnes\n",
    "\n",
    "#plot\n",
    "plt.plot(cutoff, ttt)\n",
    "plt.ylabel('Mt')\n",
    "plt.xlabel('Cutoff')"
   ]
  },
  {
   "cell_type": "code",
   "execution_count": null,
   "metadata": {},
   "outputs": [],
   "source": []
  }
 ],
 "metadata": {
  "kernelspec": {
   "display_name": "Python 3",
   "language": "python",
   "name": "python3"
  },
  "language_info": {
   "codemirror_mode": {
    "name": "ipython",
    "version": 3
   },
   "file_extension": ".py",
   "mimetype": "text/x-python",
   "name": "python",
   "nbconvert_exporter": "python",
   "pygments_lexer": "ipython3",
   "version": "3.6.4"
  }
 },
 "nbformat": 4,
 "nbformat_minor": 1
}
