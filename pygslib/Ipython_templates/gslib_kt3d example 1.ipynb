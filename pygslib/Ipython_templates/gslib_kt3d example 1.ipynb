{
 "cells": [
  {
   "cell_type": "markdown",
   "metadata": {},
   "source": [
    "PyGSLIB\n",
    "========\n",
    "\n",
    "Here we show how to work with `gslib.kt3d`. This is the kt3d GSLIB code wrapped into python. Unlike the module `kt3d`, the original GSLIB code and functionality was preserved as mush as possible in order to provide user experience similar to GSLIB.\n",
    "\n",
    "Note\n",
    "----\n",
    "In this example we assume you are familiar with GSLIB and Python\n"
   ]
  },
  {
   "cell_type": "code",
   "execution_count": 11,
   "metadata": {
    "collapsed": false
   },
   "outputs": [],
   "source": [
    "#general imports\n",
    "import matplotlib.pyplot as plt  \n",
    "import pygslib as pygsl\n",
    "import numpy as np\n",
    "\n",
    "#make the plots inline\n",
    "%matplotlib inline  "
   ]
  },
  {
   "cell_type": "markdown",
   "metadata": {},
   "source": [
    "# The dataset\n",
    "Before we can do anything we need a dataset, you can import any format supported by numpy, pandas. For GSLIB format we have an especial function..."
   ]
  },
  {
   "cell_type": "code",
   "execution_count": 12,
   "metadata": {
    "collapsed": false
   },
   "outputs": [],
   "source": [
    "mydata= pygsl.read_gslib_file('../datasets/cluster.dat') "
   ]
  },
  {
   "cell_type": "code",
   "execution_count": 13,
   "metadata": {
    "collapsed": false
   },
   "outputs": [
    {
     "data": {
      "text/html": [
       "<div>\n",
       "<table border=\"1\" class=\"dataframe\">\n",
       "  <thead>\n",
       "    <tr style=\"text-align: right;\">\n",
       "      <th></th>\n",
       "      <th>Xlocation</th>\n",
       "      <th>Ylocation</th>\n",
       "      <th>Primary</th>\n",
       "      <th>Secondary</th>\n",
       "      <th>Declustering Weight</th>\n",
       "    </tr>\n",
       "  </thead>\n",
       "  <tbody>\n",
       "    <tr>\n",
       "      <th>0</th>\n",
       "      <td>39.5</td>\n",
       "      <td>18.5</td>\n",
       "      <td>0.06</td>\n",
       "      <td>0.22</td>\n",
       "      <td>1.619</td>\n",
       "    </tr>\n",
       "    <tr>\n",
       "      <th>1</th>\n",
       "      <td>5.5</td>\n",
       "      <td>1.5</td>\n",
       "      <td>0.06</td>\n",
       "      <td>0.27</td>\n",
       "      <td>1.619</td>\n",
       "    </tr>\n",
       "    <tr>\n",
       "      <th>2</th>\n",
       "      <td>38.5</td>\n",
       "      <td>5.5</td>\n",
       "      <td>0.08</td>\n",
       "      <td>0.40</td>\n",
       "      <td>1.416</td>\n",
       "    </tr>\n",
       "    <tr>\n",
       "      <th>3</th>\n",
       "      <td>20.5</td>\n",
       "      <td>1.5</td>\n",
       "      <td>0.09</td>\n",
       "      <td>0.39</td>\n",
       "      <td>1.821</td>\n",
       "    </tr>\n",
       "    <tr>\n",
       "      <th>4</th>\n",
       "      <td>27.5</td>\n",
       "      <td>14.5</td>\n",
       "      <td>0.09</td>\n",
       "      <td>0.24</td>\n",
       "      <td>1.349</td>\n",
       "    </tr>\n",
       "  </tbody>\n",
       "</table>\n",
       "</div>"
      ],
      "text/plain": [
       "   Xlocation  Ylocation  Primary  Secondary  Declustering Weight\n",
       "0       39.5       18.5     0.06       0.22                1.619\n",
       "1        5.5        1.5     0.06       0.27                1.619\n",
       "2       38.5        5.5     0.08       0.40                1.416\n",
       "3       20.5        1.5     0.09       0.39                1.821\n",
       "4       27.5       14.5     0.09       0.24                1.349"
      ]
     },
     "execution_count": 13,
     "metadata": {},
     "output_type": "execute_result"
    }
   ],
   "source": [
    "mydata.head()"
   ]
  },
  {
   "cell_type": "markdown",
   "metadata": {},
   "source": [
    "# The parameters\n",
    "\n",
    "We use parameter dictionary, this is similar to parameter files. To get the parameter dictionary use the `help()` function, copy and update the parameters "
   ]
  },
  {
   "cell_type": "code",
   "execution_count": 14,
   "metadata": {
    "collapsed": false
   },
   "outputs": [
    {
     "name": "stdout",
     "output_type": "stream",
     "text": [
      "Help on function kt3d in module pygslib.gslib:\n",
      "\n",
      "kt3d(parameters)\n",
      "    Estimate with the GSLIB program KT3D\n",
      "    \n",
      "    This is a wrap for the GSLIB Fortran code of the program KT3D Version 2.0, \n",
      "    originally in Fortran 77. Only minor changes were included, the most \n",
      "    relevant are:\n",
      "    \n",
      "        a) the direct file output was redirected to Numpy Arrays\n",
      "        b) the input (for grid estimate) is now as numpy arrays. \n",
      "           The grid definition was retained because is an input\n",
      "           of the GSLIB search super-block algorithm.\n",
      "        c) the triming limits were removed, you may filter out \n",
      "           undesired values before estimating     \n",
      "    \n",
      "    the parameter file here is a dictionary with the following keys.\n",
      "    \n",
      "    Parameters\n",
      "    ----------\n",
      "        parameters  :  dict\n",
      "            This is a dictionary with key parameter (case sensitive) and values, \n",
      "            some of the input are optional and will be internally initialized as\n",
      "            zero or array of zeros. \n",
      "    \n",
      "        kt3d_Parameters = {\n",
      "            # Input Data \n",
      "            # ----------\n",
      "            'x' : ,   # rank-1 array('f') with bounds (nd)\n",
      "            'y' : ,   # (optional) rank-1 array('f') with bounds (nd)\n",
      "            'z' : ,   # (optional) rank-1 array('f') with bounds (nd)\n",
      "            'vr' : ,   # (optional) rank-1 array('f') with bounds (nd)\n",
      "            've' : ,   # (optional) rank-1 array('f') with bounds (nd)\n",
      "            # Output (Target) \n",
      "            # ----------\n",
      "            'nx' : ,   # int\n",
      "            'ny' : ,   # int\n",
      "            'nz' : ,   # int\n",
      "            'xmn' : ,   # float\n",
      "            'ymn' : ,   # float\n",
      "            'zmn' : ,   # float\n",
      "            'xsiz' : ,   # float\n",
      "            'ysiz' : ,   # float\n",
      "            'zsiz' : ,   # float\n",
      "            'nxdis' : ,   # int\n",
      "            'nydis' : ,   # int\n",
      "            'nzdis' : ,   # int\n",
      "            'outx' : ,   # rank-1 array('f') with bounds (nout)\n",
      "            'outy' : ,   # (optional) rank-1 array('f') with bounds (nout)\n",
      "            'outz' : ,   # (optional) rank-1 array('f') with bounds (nout)\n",
      "            'outextve' : ,   # (optional) rank-1 array('f') with bounds (nout)\n",
      "            # Search parameters \n",
      "            # ----------\n",
      "            'radius'     : ,   # float\n",
      "            'radius1'    : ,   # float\n",
      "            'radius2'    : ,   # float\n",
      "            'ndmax'      : ,   # int\n",
      "            'ndmin'      : ,   # int\n",
      "            'noct'       : ,   # (optional) int\n",
      "            'sang1'      : ,   # (optional) float\n",
      "            'sang2'      : ,   # (optional) float\n",
      "            'sang3'      : ,   # (optional) float\n",
      "            # Kriging parameters and options \n",
      "            # ----------\n",
      "            'idrif'      : ,   # (optional) rank-1 array('i') with bounds (9)\n",
      "            'itrend'     : ,   # (optional) int\n",
      "            'ktype'      : ,   # (optional) int\n",
      "            'skmean'     : ,   # (optional) float\n",
      "            'koption'    : ,   # (optional) int\n",
      "            'iktype'     : ,   # (optional) int\n",
      "            'cut'        : ,   # (optional) rank-1 array('f') with bounds (ncut)\n",
      "            'idbg'       : ,   # (optional) int\n",
      "            # Variogram parameters \n",
      "            # ----------\n",
      "            'c0'         : ,   # float\n",
      "            'it'         : ,   # rank-1 array('i') with bounds (nst)\n",
      "            'cc'         : ,   # rank-1 array('f') with bounds (nst)\n",
      "            'aa'         : ,   # rank-1 array('f') with bounds (nst)\n",
      "            'aa1'        : ,   # rank-1 array('f') with bounds (nst)\n",
      "            'aa2'        : ,   # rank-1 array('f') with bounds (nst)\n",
      "            'ang1'       : ,   # (optional) rank-1 array('f') with bounds (nst)\n",
      "            'ang2'       : ,   # (optional) rank-1 array('f') with bounds (nst)\n",
      "            'ang3'       : }   # (optional) rank-1 array('f') with bounds (nst)\n",
      "            \n",
      "        Returns\n",
      "        -------\n",
      "        dict\n",
      "            estimation results at target points/blocks\n",
      "            if iktype=0 returns variable estimate as:        \n",
      "               {'outest'     : ,  #rank-1 array('f') with bounds (nout)\n",
      "                'outkvar'    : }  #rank-1 array('f') with bounds (nout)\n",
      "            if ktype=1 returns median kriging estimate as: \n",
      "               {'outcdf'     : }  #rank-2 array('f') with bounds (nout,ncut)\n",
      "        dict\n",
      "            debug output for the last block estimated     \n",
      "            if idbg = 0\n",
      "            {}\n",
      "            if debug > 0 \n",
      "            {'cbb'       : ,  #float\n",
      "            'neq'        : ,  #int\n",
      "            'na'         : ,  #int\n",
      "            'dbgxdat'    : ,  #rank-1 array('f') with bounds (ndmax)\n",
      "            'dbgydat'    : ,  #rank-1 array('f') with bounds (ndmax)\n",
      "            'dbgzdat'    : ,  #rank-1 array('f') with bounds (ndmax)\n",
      "            'dbgvrdat'   : ,  #rank-1 array('f') with bounds (ndmax)\n",
      "            'dbgwt'      : ,  #rank-1 array('f') with bounds (ndmax + 11)\n",
      "            'dbgxtg'     : ,  #float\n",
      "            'dbgytg'     : ,  #float\n",
      "            'dbgztg'     : ,  #float\n",
      "            'dbgkvector' : ,  #rank-1 array('f') with bounds (ndmax + 11)\n",
      "            'dbgkmatrix' : }  #rank-2 array('f') with bounds (ndmax + 11,ndmax + 11)\n",
      "        dict\n",
      "            estimation summary\n",
      "            {} TODO: not implemented yet\n",
      "    \n",
      "      \n",
      "    Notes\n",
      "    -----\n",
      "    Not all the parameters are used for calculation, it depend on the kriging type and options\n",
      "    \n",
      "    Optional parameters can be removed, knowing that kt3D will create an internal array/variable\n",
      "    initialized to zero value\n",
      "    \n",
      "    This python functions is a wrapper that calls functions in the module __gslib__kt3d.so\n",
      "    \n",
      "    Example\n",
      "    -------\n",
      "    \n",
      "    >>>\n",
      "\n"
     ]
    }
   ],
   "source": [
    "help(pygsl.gslib.kt3d)"
   ]
  },
  {
   "cell_type": "markdown",
   "metadata": {},
   "source": [
    "# Updating parameters\n",
    "\n",
    "Note that these parameters are exactly the same used in GSLIB, except for `iktype`. This one was hided within the GSLIB FORTRAN code and was activated by doing `koption<0`. Other difference is that we removed all the output files and the input files. All these output and input are now arrays, e.j. `x, y, z, vr, ve`. The trim limits were removed, make sure you filter out all nans and undesired values before running the estimate. \n",
    "\n",
    "Note that we excluded some of the parameters in the example below, dose parameters will be automatically initialized to zero. Other parameters like the number of variograms are calculated from the array size. \n",
    "\n",
    "We will do the estimate in couple of blocks only (at nlocks with centroids `(25,25)` and `(50,50)`). We are also activating the option debug, this will print in the `stdout` the classical GSLIB debug but we give you only the results for the last block estimated.   "
   ]
  },
  {
   "cell_type": "code",
   "execution_count": 15,
   "metadata": {
    "collapsed": true
   },
   "outputs": [],
   "source": [
    "kt3d_Parameters = {\n",
    "            # Input Data \n",
    "            # ----------\n",
    "            'x' : mydata['Xlocation'],   # rank-1 array('f') with bounds (nd)\n",
    "            'y' : mydata['Ylocation'],   # (optional) rank-1 array('f') with bounds (nd)\n",
    "            'vr' : mydata['Xlocation'],   # (optional) rank-1 array('f') with bounds (nd)\n",
    "            # Output (Target) \n",
    "            # ----------\n",
    "            'nx' : 2,  # int\n",
    "            'ny' : 2,  # int\n",
    "            'nz' : 2, # int\n",
    "            'xmn' : 0,   # float\n",
    "            'ymn' : 0,  # float\n",
    "            'zmn' : 0,  # float\n",
    "            'xsiz' : 1,  # float\n",
    "            'ysiz' : 1,  # float\n",
    "            'zsiz' : 1,  # float\n",
    "            'nxdis' : 2,  # int\n",
    "            'nydis' : 2,  # int\n",
    "            'nzdis' : 1,  # int\n",
    "            'outx' : [25, 15],  # rank-1 array('f') with bounds (nout)\n",
    "            'outy' : [25, 15],  # (optional) rank-1 array('f') with bounds (nout)\n",
    "            # Search parameters \n",
    "            # ----------\n",
    "            'radius'     : 20,   # float\n",
    "            'radius1'    : 20,   # float\n",
    "            'radius2'    : 20,   # float\n",
    "            'ndmax'      : 8,   # int\n",
    "            'ndmin'      : 4,   # int\n",
    "            # Kriging parameters and options \n",
    "            # ----------\n",
    "            'ktype'      : 1,   # (optional) int\n",
    "            'idbg'       : 1,   # (optional) int\n",
    "            # Variogram parameters \n",
    "            # ----------\n",
    "            'c0'         : 0.2,   # float\n",
    "            'it'         : [1],   # rank-1 array('i') with bounds (nst)\n",
    "            'cc'         : [0.8],   # rank-1 array('f') with bounds (nst)\n",
    "            'aa'         : [10],   # rank-1 array('f') with bounds (nst)\n",
    "            'aa1'        : [10],   # rank-1 array('f') with bounds (nst)\n",
    "            'aa2'        : [10]}   # rank-1 array('f') with bounds (nst)"
   ]
  },
  {
   "cell_type": "markdown",
   "metadata": {},
   "source": [
    "# Running the estimate"
   ]
  },
  {
   "cell_type": "code",
   "execution_count": 16,
   "metadata": {
    "collapsed": false
   },
   "outputs": [
    {
     "data": {
      "image/png": "[encoded data removed]",
      "text/plain": [
       "<matplotlib.figure.Figure at 0x7f80fec13810>"
      ]
     },
     "metadata": {},
     "output_type": "display_data"
    }
   ],
   "source": [
    "#run the estimate \n",
    "estimate, debug, summary = pygsl.gslib.kt3d(kt3d_Parameters)"
   ]
  },
  {
   "cell_type": "markdown",
   "metadata": {},
   "source": [
    "# Review the results"
   ]
  },
  {
   "cell_type": "markdown",
   "metadata": {},
   "source": [
    "## The estimate\n",
    "\n",
    "We are using pandas to plot a nice table with the results"
   ]
  },
  {
   "cell_type": "code",
   "execution_count": 17,
   "metadata": {
    "collapsed": false
   },
   "outputs": [
    {
     "data": {
      "text/html": [
       "<div>\n",
       "<table border=\"1\" class=\"dataframe\">\n",
       "  <thead>\n",
       "    <tr style=\"text-align: right;\">\n",
       "      <th></th>\n",
       "      <th>outest</th>\n",
       "      <th>outkvar</th>\n",
       "      <th>x</th>\n",
       "      <th>y</th>\n",
       "    </tr>\n",
       "  </thead>\n",
       "  <tbody>\n",
       "    <tr>\n",
       "      <th>0</th>\n",
       "      <td>25.018808</td>\n",
       "      <td>0.149421</td>\n",
       "      <td>25</td>\n",
       "      <td>25</td>\n",
       "    </tr>\n",
       "    <tr>\n",
       "      <th>1</th>\n",
       "      <td>15.174497</td>\n",
       "      <td>0.235782</td>\n",
       "      <td>15</td>\n",
       "      <td>15</td>\n",
       "    </tr>\n",
       "  </tbody>\n",
       "</table>\n",
       "</div>"
      ],
      "text/plain": [
       "      outest   outkvar   x   y\n",
       "0  25.018808  0.149421  25  25\n",
       "1  15.174497  0.235782  15  15"
      ]
     },
     "execution_count": 17,
     "metadata": {},
     "output_type": "execute_result"
    }
   ],
   "source": [
    "import pandas as pd\n",
    "pd.DataFrame(estimate)"
   ]
  },
  {
   "cell_type": "markdown",
   "metadata": {},
   "source": [
    "## The debug output"
   ]
  },
  {
   "cell_type": "code",
   "execution_count": 18,
   "metadata": {
    "collapsed": false
   },
   "outputs": [
    {
     "data": {
      "text/plain": [
       "['cbb',\n",
       " 'dbgvrdat',\n",
       " 'dbgydat',\n",
       " 'dbgkvector',\n",
       " 'dbgkmatrix',\n",
       " 'dbgwt',\n",
       " 'dbgztg',\n",
       " 'na',\n",
       " 'dbgytg',\n",
       " 'dbgxdat',\n",
       " 'lagrange',\n",
       " 'dbgxtg',\n",
       " 'dbgzdat',\n",
       " 'plotxy',\n",
       " 'neq']"
      ]
     },
     "execution_count": 18,
     "metadata": {},
     "output_type": "execute_result"
    }
   ],
   "source": [
    "# this is all we have out\n",
    "debug.keys()"
   ]
  },
  {
   "cell_type": "code",
   "execution_count": 19,
   "metadata": {
    "collapsed": false
   },
   "outputs": [
    {
     "name": "stdout",
     "output_type": "stream",
     "text": [
      "DEBUG information of the last block estimated\n",
      "============================================= \n",
      "block covariance 0.748847171664\n",
      "lagrange [-0.00204064]\n",
      "Number of points used 8\n",
      "target block coordinates  15.0 15.0 0.0\n",
      "Points used: \n",
      "   Kriging wt    vr     x     y    z\n",
      "0    0.305142  16.5  16.5  15.5  0.0\n",
      "1    0.181344  16.5  16.5  13.5  0.0\n",
      "2    0.049236  17.5  17.5  14.5  0.0\n",
      "3    0.054708  17.5  17.5  15.5  0.0\n",
      "4    0.174575  13.5  13.5  12.5  0.0\n",
      "5    0.081240  17.5  17.5  16.5  0.0\n",
      "6    0.184925  11.5  11.5  15.5  0.0\n",
      "7   -0.031169  18.5  18.5  15.5  0.0\n",
      " \n",
      "            Kriging equations\n",
      "--------------------------------------------- \n",
      "Number of kriging equations 9\n",
      "\n",
      "System of kriging equations \n",
      "\n",
      "          0         1         2         3         4         5         6  \\\n",
      "0  1.000000  0.563200  0.631426  0.680400  0.321430  0.631426  0.250000   \n",
      "1  0.563200  1.000000  0.631426  0.536144  0.433176  0.433176  0.216248   \n",
      "2  0.631426  0.631426  1.000000  0.680400  0.299121  0.563200  0.160093   \n",
      "3  0.680400  0.536144  0.680400  1.000000  0.250000  0.680400  0.166400   \n",
      "4  0.321430  0.433176  0.299121  0.250000  1.000000  0.193585  0.386083   \n",
      "5  0.631426  0.433176  0.563200  0.680400  0.193585  1.000000  0.160093   \n",
      "6  0.250000  0.216248  0.160093  0.166400  0.386083  0.160093  1.000000   \n",
      "7  0.563200  0.469640  0.631426  0.680400  0.179587  0.631426  0.097200   \n",
      "8  1.000000  1.000000  1.000000  1.000000  1.000000  1.000000  1.000000   \n",
      "\n",
      "          7    8   kvector  \n",
      "0  0.563200  1.0  0.609633  \n",
      "1  0.469640  1.0  0.547743  \n",
      "2  0.631426  1.0  0.499496  \n",
      "3  0.680400  1.0  0.499496  \n",
      "4  0.179587  1.0  0.459100  \n",
      "5  0.631426  1.0  0.459100  \n",
      "6  0.097200  1.0  0.392747  \n",
      "7  1.000000  1.0  0.392747  \n",
      "8  1.000000  0.0  1.000000  \n",
      " \n",
      "    Plot with data used and kriging wights\n",
      "--------------------------------------------- \n"
     ]
    },
    {
     "data": {
      "image/png": "[encoded data removed]",
      "text/plain": [
       "<matplotlib.figure.Figure at 0x7f80fec13810>"
      ]
     },
     "execution_count": 19,
     "metadata": {},
     "output_type": "execute_result"
    }
   ],
   "source": [
    "# this is what it means\n",
    "print 'DEBUG information of the last block estimated'\n",
    "print '============================================= '\n",
    "print 'block covariance', debug['cbb']\n",
    "print 'lagrange', debug['lagrange']\n",
    "print 'Number of points used', debug['na']\n",
    "print 'target block coordinates ', debug['dbgxtg'],debug['dbgytg'],debug['dbgztg']\n",
    "print 'Points used: \\n', pd.DataFrame({'x': debug['dbgxdat'], \n",
    "                                       'y': debug['dbgydat'], \n",
    "                                       'z': debug['dbgzdat'],\n",
    "                                       'vr': debug['dbgvrdat'], \n",
    "                                       'Kriging wt': debug['dbgwt']})\n",
    "print ' '\n",
    "print '            Kriging equations'\n",
    "print '--------------------------------------------- '\n",
    "print 'Number of kriging equations', debug['neq']\n",
    "print ''\n",
    "print 'System of kriging equations \\n'                                      \n",
    "\n",
    "eq=pd.DataFrame(debug['dbgkmatrix'], columns = [range(debug['neq'])])\n",
    "eq['kvector'] = debug['dbgkvector']\n",
    "\n",
    "print eq\n",
    "         \n",
    "print ' '\n",
    "print '    Plot with data used and kriging wights'\n",
    "print '--------------------------------------------- '\n",
    "debug['plotxy']"
   ]
  },
  {
   "cell_type": "markdown",
   "metadata": {},
   "source": [
    "## The debug output in the stdout\n",
    "\n",
    "The output written by Fortran can be seen in the console/CMD. This is similar to the output obtained with GSLIB + the output on the debug file.\n",
    "\n"
   ]
  },
  {
   "cell_type": "markdown",
   "metadata": {},
   "source": [
    "# Some notes (Advanced)\n",
    "\n",
    "Some impementation notes:\n",
    "\n",
    "- This gslib programs wrapped to PyGSLIB at the submodule gslib\n",
    "- The fortran code is in a hided module named `__gslib__kt3d`, there you will have access to `common`, a fortran module, before common block with some predefined parameters. you **MAY NOT** directly change the values at `common.parameter` but you can read it as in the example below. \n",
    "- To modify these values and to access `__gslib__kt3d` we recommend to use the wrapper `kt3d`\n"
   ]
  },
  {
   "cell_type": "code",
   "execution_count": 20,
   "metadata": {
    "collapsed": false,
    "scrolled": true
   },
   "outputs": [
    {
     "name": "stdout",
     "output_type": "stream",
     "text": [
      "Defaul value: nan\n",
      "User defined: -999.0\n",
      "Defaul value: nan\n"
     ]
    }
   ],
   "source": [
    "# This show the value of the unestimated parameter\n",
    "print 'Defaul value:', pygsl.gslib.__gslib__kt3d.commons.unest\n",
    "\n",
    "# to set back the value to the clasic -999\n",
    "pygsl.gslib.set_nan_value(-999)\n",
    "print 'User defined:', pygsl.gslib.__gslib__kt3d.commons.unest\n",
    "\n",
    "# to go back to default \n",
    "pygsl.gslib.set_nan_value(np.nan)\n",
    "print 'Defaul value:', pygsl.gslib.__gslib__kt3d.commons.unest"
   ]
  },
  {
   "cell_type": "code",
   "execution_count": null,
   "metadata": {
    "collapsed": true
   },
   "outputs": [],
   "source": []
  }
 ],
 "metadata": {
  "kernelspec": {
   "display_name": "Python 2",
   "language": "python",
   "name": "python2"
  },
  "language_info": {
   "codemirror_mode": {
    "name": "ipython",
    "version": 2
   },
   "file_extension": ".py",
   "mimetype": "text/x-python",
   "name": "python",
   "nbconvert_exporter": "python",
   "pygments_lexer": "ipython2",
   "version": "2.7.11"
  }
 },
 "nbformat": 4,
 "nbformat_minor": 0
}
