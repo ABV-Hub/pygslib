{
 "cells": [
  {
   "cell_type": "markdown",
   "metadata": {},
   "source": [
    "PyGSLIB\n",
    "========\n",
    "\n",
    "Draw\n",
    "---------------\n",
    "\n",
    "The GSLIb equivalent parameter file is\n",
    "\n",
    "```\n",
    "                  Parameters for DRAW\n",
    "                  *******************\n",
    "\n",
    "START OF PARAMETERS:\n",
    "data/cluster.dat              \\file with data\n",
    "3                                \\   number of variables\n",
    "1   2   3                        \\   columns for variables\n",
    "0                                \\   column for probabilities (0=equal)\n",
    "-1.0e21   1.0e21                 \\   trimming limits\n",
    "69069    100                     \\random number seed, number to draw\n",
    "draw.out                         \\file for realizations\n",
    "```\n"
   ]
  },
  {
   "cell_type": "code",
   "execution_count": 1,
   "metadata": {
    "collapsed": false
   },
   "outputs": [],
   "source": [
    "#general imports\n",
    "import matplotlib.pyplot as plt   \n",
    "import pygslib as gslib  \n",
    "import numpy as np\n",
    "import pandas as pd\n",
    "\n",
    "#make the plots inline\n",
    "%matplotlib inline  "
   ]
  },
  {
   "cell_type": "markdown",
   "metadata": {},
   "source": [
    "Getting the data ready for work\n",
    "---------\n",
    "If the data is in GSLIB format you can use the function `gslib.read_gslib_file(filename)` to import the data into a Pandas DataFrame. \n"
   ]
  },
  {
   "cell_type": "code",
   "execution_count": 2,
   "metadata": {
    "collapsed": false
   },
   "outputs": [
    {
     "name": "stdout",
     "output_type": "stream",
     "text": [
      "\n",
      "\t\tCluster Data \n",
      "     Xlocation  Ylocation  Primary  Secondary  Declustering Weight\n",
      "135       31.5       41.5    22.75       8.21                0.427\n",
      "136       34.5       32.5     9.42       6.76                0.413\n",
      "137       35.5       31.5     8.48      12.78                0.419\n",
      "138       35.5       33.5     2.82       9.21                0.271\n",
      "139       36.5       32.5     5.26      12.40                0.252\n"
     ]
    }
   ],
   "source": [
    "#get the data in gslib format into a pandas Dataframe\n",
    "cluster  = gslib.read_gslib_file('../datasets/cluster.dat')\n",
    "\n",
    "print '\\n\\t\\tCluster Data \\n',cluster.tail()\n",
    "\n",
    "\n"
   ]
  },
  {
   "cell_type": "markdown",
   "metadata": {
    "collapsed": true
   },
   "source": [
    "## Testing Draw"
   ]
  },
  {
   "cell_type": "code",
   "execution_count": 3,
   "metadata": {
    "collapsed": false,
    "scrolled": true
   },
   "outputs": [
    {
     "name": "stdout",
     "output_type": "stream",
     "text": [
      "vo,sumwts,error = draw(vr,wt,rseed,ndraw,[nd,nv])\n",
      "\n",
      "Wrapper for ``draw``.\n",
      "\n",
      "Parameters\n",
      "----------\n",
      "vr : input rank-2 array('f') with bounds (nd,nv)\n",
      "wt : input rank-1 array('f') with bounds (nd)\n",
      "rseed : input int\n",
      "ndraw : input int\n",
      "\n",
      "Other Parameters\n",
      "----------------\n",
      "nd : input int, optional\n",
      "    Default: shape(vr,0)\n",
      "nv : input int, optional\n",
      "    Default: shape(vr,1)\n",
      "\n",
      "Returns\n",
      "-------\n",
      "vo : rank-2 array('f') with bounds (ndraw,nv)\n",
      "sumwts : float\n",
      "error : float\n",
      "\n"
     ]
    }
   ],
   "source": [
    "print gslib.__draw.draw.__doc__"
   ]
  },
  {
   "cell_type": "code",
   "execution_count": 4,
   "metadata": {
    "collapsed": false
   },
   "outputs": [
    {
     "name": "stdout",
     "output_type": "stream",
     "text": [
      "error ?  False 0.0\n",
      "is 1./sumwts == nd? 139.999999218 140\n"
     ]
    }
   ],
   "source": [
    "cluster['NO-Weight']=1.\n",
    "parameters_draw = {\n",
    "    'vr'    : cluster[['Xlocation','Ylocation','Primary']],  # data\n",
    "    'wt'    : cluster['NO-Weight'],                          # weight/prob (use wt[:]=1 for equal probability)\n",
    "    'rseed' : 69069,                                         # random number seed (conditioning cat.)\n",
    "    'ndraw' : 100}                                           # number to draw\n",
    "\n",
    "vo,sumwts,error = gslib.__draw.draw(**parameters_draw)\n",
    "\n",
    "print 'error ? ',  error != 0, error\n",
    "\n",
    "print 'is 1./sumwts == nd?', 1./sumwts, len(cluster)\n"
   ]
  },
  {
   "cell_type": "code",
   "execution_count": 5,
   "metadata": {
    "collapsed": true
   },
   "outputs": [],
   "source": [
    "#making the output (which is numpy array) a pandas dataframe for nice printing\n",
    "dfvo=pd.DataFrame(vo,columns= ['Xlocation','Ylocation','Primary'])"
   ]
  },
  {
   "cell_type": "markdown",
   "metadata": {},
   "source": [
    "## Comparing results with gslib"
   ]
  },
  {
   "cell_type": "code",
   "execution_count": 7,
   "metadata": {
    "collapsed": false
   },
   "outputs": [
    {
     "name": "stdout",
     "output_type": "stream",
     "text": [
      "   Xlocation  Ylocation  Primary\n",
      "0       31.5       41.5    22.75\n",
      "1        8.5       45.5     0.81\n",
      "2       39.5       30.5     7.94\n",
      "3        3.5       23.5     1.38\n",
      "4       45.5       22.5     0.93\n",
      "5       43.5       10.5     2.47\n",
      "******\n",
      "    Xlocation  Ylocation  Primary\n",
      "94       41.5       45.5     2.75\n",
      "95        2.5        9.5     6.26\n",
      "96       11.5       46.5     0.40\n",
      "97       21.5       34.5     2.84\n",
      "98        3.5       47.5     1.96\n",
      "99        2.5        8.5     8.90\n"
     ]
    }
   ],
   "source": [
    "print dfvo.head(6)\n",
    "print '******'\n",
    "print dfvo.tail(6)\n"
   ]
  },
  {
   "cell_type": "markdown",
   "metadata": {},
   "source": [
    "**Results in GSLIB ** \n",
    "```\n",
    "   Xlocation    Ylocation      Primary\n",
    "      31.500       41.500       22.750\n",
    "       8.500       45.500       0.8100\n",
    "      39.500       30.500        7.940\n",
    "       3.500       23.500        1.380\n",
    "      45.500       22.500        0.930\n",
    "********\n",
    "      41.500       45.500        2.750\n",
    "       2.500        9.500        6.260\n",
    "      11.500       46.500       0.4000\n",
    "      21.500       34.500        2.840\n",
    "       3.500       47.500        1.960\n",
    "       2.500        8.500        8.900\n",
    "```"
   ]
  },
  {
   "cell_type": "code",
   "execution_count": null,
   "metadata": {
    "collapsed": true
   },
   "outputs": [],
   "source": []
  }
 ],
 "metadata": {
  "kernelspec": {
   "display_name": "Python 2",
   "language": "python",
   "name": "python2"
  },
  "language_info": {
   "codemirror_mode": {
    "name": "ipython",
    "version": 2
   },
   "file_extension": ".py",
   "mimetype": "text/x-python",
   "name": "python",
   "nbconvert_exporter": "python",
   "pygments_lexer": "ipython2",
   "version": "2.7.10"
  }
 },
 "nbformat": 4,
 "nbformat_minor": 0
}
