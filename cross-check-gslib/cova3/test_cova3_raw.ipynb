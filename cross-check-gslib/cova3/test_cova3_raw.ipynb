{
 "cells": [
  {
   "cell_type": "markdown",
   "metadata": {},
   "source": [
    "PyGSLIB\n",
    "========\n",
    "\n",
    "Cova3 test\n",
    "---------------\n",
    "\n",
    "This is a simple example on how to use raw cova3 to fit variograms\n",
    "\n"
   ]
  },
  {
   "cell_type": "code",
   "execution_count": 5,
   "metadata": {
    "collapsed": false
   },
   "outputs": [],
   "source": [
    "#general imports\n",
    "import matplotlib.pyplot as plt   \n",
    "import pygslib as gslib                  \n",
    "import numpy as np \n",
    "import pandas as pd\n",
    "\n",
    "\n",
    "#make the plots inline\n",
    "%matplotlib inline  "
   ]
  },
  {
   "cell_type": "markdown",
   "metadata": {},
   "source": [
    "## The gslib paramater file\n",
    "\n",
    "This is the gslib parameter file:\n",
    "```\n",
    "                  Parameters for VMODEL\n",
    "                  *********************\n",
    "\n",
    "START OF PARAMETERS:\n",
    "vmodel.var                   \\file for variogram output\n",
    "1   10                       \\number of directions and lags\n",
    " 0.0   0.0    1.0            \\azm, dip, lag distance\n",
    "2    0.2                     \\nst, nugget effect\n",
    "1    0.4  0.0   0.0   0.0    \\it,cc,ang1,ang2,ang3\n",
    "         10.0   5.0  10.0    \\a_hmax, a_hmin, a_vert\n",
    "1    0.4  0.0   0.0   0.0    \\it,cc,ang1,ang2,ang3\n",
    "         10.0   5.0  10.0    \\a_hmax, a_hmin, a_vert\n",
    "```\n"
   ]
  },
  {
   "cell_type": "markdown",
   "metadata": {},
   "source": [
    "Fit the variogram\n",
    "-----\n",
    "\n",
    "We need first the rotation matrix\n"
   ]
  },
  {
   "cell_type": "code",
   "execution_count": 6,
   "metadata": {
    "collapsed": false
   },
   "outputs": [
    {
     "name": "stdout",
     "output_type": "stream",
     "text": [
      "[[[  1.21679645e-08   1.00000000e+00   0.00000000e+00]\n",
      "  [ -2.00000000e+00   2.43359290e-08   0.00000000e+00]\n",
      "  [  0.00000000e+00   0.00000000e+00   1.00000000e+00]]\n",
      "\n",
      " [[  1.21679645e-08   1.00000000e+00   0.00000000e+00]\n",
      "  [ -2.00000000e+00   2.43359290e-08   0.00000000e+00]\n",
      "  [  0.00000000e+00   0.00000000e+00   1.00000000e+00]]]\n"
     ]
    }
   ],
   "source": [
    "#rotatios matrix (one per structure)\n",
    "rmatrix_d1=gslib.setrot(ang1=0,ang2=0,ang3=0,anis1=0.5,anis2=1,ind=1,maxrot=2)  #rotation structure 1\n",
    "rmatrix_d2=gslib.setrot(ang1=0,ang2=0,ang3=0,anis1=0.5,anis2=1,ind=2,maxrot=2)  #rotation structure 2\n",
    "\n",
    "rmatrix=rmatrix_d1+rmatrix_d2\n",
    "\n",
    "print rmatrix"
   ]
  },
  {
   "cell_type": "code",
   "execution_count": 7,
   "metadata": {
    "collapsed": false
   },
   "outputs": [],
   "source": [
    "parameters_mod = { \n",
    "                'x1'     :  0,            # X coordinates, point 1\n",
    "                'y1'     :  0,            # Y coordinates, point 1\n",
    "                'z1'     :  0,            # Z coordinates, point 1\n",
    "                'x2'     :  0,            # X coordinates, point 2\n",
    "                'y2'     :  0,            # Y coordinates, point 2\n",
    "                'z2'     :  0,            # Z coordinates, point 2\n",
    "                'nst'    :  2,            # number of nested structures, array('i') with bounds (ivarg), \n",
    "                                          # ivarg is variogram number\n",
    "                'c0'     :  [0.2],        # nugget,  array('f') with bounds (ivarg)  \n",
    "                'it'     :  [1, 1],        # structure type,  array('i') with bounds (ivarg)              \n",
    "                'cc'     :  [0.4, 0.4],   # variance, array('f') with bounds (nvarg*nst[0])\n",
    "                'aa'     :  [10., 10.],      # parameter a (or range), array('f') with bounds (nvarg*nst[0])\n",
    "                'irot'   :  1,            # index of the rotation matrix for the first nested structure\n",
    "                                          # the second nested structure will use irot+1, the third irot+2, and so on\n",
    "                'rotmat' :  rmatrix}       # rotation matrices (output of the funtion setrot)"
   ]
  },
  {
   "cell_type": "code",
   "execution_count": 17,
   "metadata": {
    "collapsed": false
   },
   "outputs": [
    {
     "name": "stdout",
     "output_type": "stream",
     "text": [
      "          h     vario\n",
      "0    0.0000  0.000000\n",
      "1    0.0001  0.200012\n",
      "2    1.0000  0.319600\n",
      "3    2.0000  0.436800\n",
      "4    3.0000  0.549200\n",
      "5    4.0000  0.654400\n",
      "6    5.0000  0.750000\n",
      "7    6.0000  0.833600\n",
      "8    7.0000  0.902800\n",
      "9    8.0000  0.955200\n",
      "10   9.0000  0.988400\n",
      "11  10.0000  1.000000\n"
     ]
    }
   ],
   "source": [
    "# this is the covariance between the points x1, x2\n",
    "\n",
    "h=np.array([0, 0.0001, 1,2,3,4,5,6,7,8,9,10])\n",
    "vario=np.zeros(12)\n",
    "\n",
    "for i in range(len(h)):\n",
    "    parameters_mod['y2']=h[i]\n",
    "    cmax,cova=gslib.cova3(parameters_mod)\n",
    "    vario[i]=cmax-cova\n",
    "    \n",
    "\n",
    "\n",
    "results = pd.DataFrame ({'h': h, 'vario': vario}) \n",
    "\n",
    "print results"
   ]
  },
  {
   "cell_type": "markdown",
   "metadata": {
    "collapsed": false
   },
   "source": [
    "## The expacted results are:\n",
    "    \n",
    "```\n",
    " ID      Lag        vario\n",
    "   1     0.000      0.00000     \n",
    "   1     0.000      0.20001     \n",
    "   2     1.000      0.31960     \n",
    "   3     2.000      0.43680     \n",
    "   4     3.000      0.54920     \n",
    "   5     4.000      0.65440     \n",
    "   6     5.000      0.75000     \n",
    "   7     6.000      0.83360     \n",
    "   8     7.000      0.90280     \n",
    "   9     8.000      0.95520     \n",
    "  10     9.000      0.98840     \n",
    "  11    10.000      1.00000     \n",
    "```"
   ]
  },
  {
   "cell_type": "code",
   "execution_count": 21,
   "metadata": {
    "collapsed": false
   },
   "outputs": [
    {
     "name": "stdout",
     "output_type": "stream",
     "text": [
      "          h     vario\n",
      "0    0.0000  0.000000\n",
      "1    0.0001  0.200024\n",
      "2    1.0000  0.436800\n",
      "3    2.0000  0.654400\n",
      "4    3.0000  0.833600\n",
      "5    4.0000  0.955200\n",
      "6    5.0000  1.000000\n",
      "7    6.0000  1.000000\n",
      "8    7.0000  1.000000\n",
      "9    8.0000  1.000000\n",
      "10   9.0000  1.000000\n",
      "11  10.0000  1.000000\n"
     ]
    }
   ],
   "source": [
    "# testiong different direction\n",
    "h=np.array([0, 0.0001, 1,2,3,4,5,6,7,8,9,10])\n",
    "parameters_mod['y2']=0\n",
    "vario=np.zeros(12)\n",
    "\n",
    "for i in range(len(h)):\n",
    "    parameters_mod['x2']=h[i]\n",
    "    cmax,cova=gslib.cova3(parameters_mod)\n",
    "    vario[i]=cmax-cova\n",
    "    \n",
    "\n",
    "\n",
    "results = pd.DataFrame ({'h': h, 'vario': vario}) \n",
    "\n",
    "print results"
   ]
  },
  {
   "cell_type": "markdown",
   "metadata": {},
   "source": [
    "```\n",
    "   ID    Lag        Vario\n",
    "   1     0.000      0.00000\n",
    "   1     0.000      0.20002\n",
    "   2     1.000      0.43680\n",
    "   3     2.000      0.65440\n",
    "   4     3.000      0.83360\n",
    "   5     4.000      0.95520\n",
    "   6     5.000      1.00000\n",
    "   7     6.000      1.00000\n",
    "   8     7.000      1.00000\n",
    "   9     8.000      1.00000\n",
    "  10     9.000      1.00000\n",
    "  11    10.000      1.00000\n",
    "\n",
    "```"
   ]
  },
  {
   "cell_type": "code",
   "execution_count": null,
   "metadata": {
    "collapsed": true
   },
   "outputs": [],
   "source": []
  },
  {
   "cell_type": "code",
   "execution_count": null,
   "metadata": {
    "collapsed": true
   },
   "outputs": [],
   "source": []
  }
 ],
 "metadata": {
  "kernelspec": {
   "display_name": "Python 2",
   "language": "python",
   "name": "python2"
  },
  "language_info": {
   "codemirror_mode": {
    "name": "ipython",
    "version": 2
   },
   "file_extension": ".py",
   "mimetype": "text/x-python",
   "name": "python",
   "nbconvert_exporter": "python",
   "pygments_lexer": "ipython2",
   "version": "2.7.10"
  }
 },
 "nbformat": 4,
 "nbformat_minor": 0
}
