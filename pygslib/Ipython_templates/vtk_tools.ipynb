{
 "cells": [
  {
   "cell_type": "markdown",
   "metadata": {},
   "source": [
    "# VTK tools\n",
    "\n",
    "Pygslib will use VTK:\n",
    "\n",
    " - as data format and data converting tool\n",
    " - to plot in 3D\n",
    " - as a library with some basic computational geometry functions, for example to know if a point is inside a surface\n",
    "\n",
    "\n",
    "Some of the tools tested here were obtained from Adamos Kyriakou at: \n",
    "\n",
    "https://pyscience.wordpress.com/\n"
   ]
  },
  {
   "cell_type": "code",
   "execution_count": 1,
   "metadata": {
    "collapsed": true
   },
   "outputs": [],
   "source": [
    "import pygslib as gslib "
   ]
  },
  {
   "cell_type": "markdown",
   "metadata": {
    "collapsed": false
   },
   "source": [
    "## Functions in vtktools"
   ]
  },
  {
   "cell_type": "code",
   "execution_count": 2,
   "metadata": {
    "collapsed": false
   },
   "outputs": [
    {
     "name": "stdout",
     "output_type": "stream",
     "text": [
      "Help on module pygslib.vtktools in pygslib:\n",
      "\n",
      "NAME\n",
      "    pygslib.vtktools - PyGSLIB vtktools, Module with tools to work with VTK.\n",
      "\n",
      "FILE\n",
      "    /home/adrian/bitbucket/public/pygslib/pygslib/vtktools.so\n",
      "\n",
      "DESCRIPTION\n",
      "    Copyright (C) 2015 Adrian Martinez Vargas \n",
      "    \n",
      "    This program is free software; you can redistribute it and/or modify\n",
      "    it under the terms of the GNU General Public License as published by\n",
      "    the Free Software Foundation; either version 3 of the License, or\n",
      "    any later version.\n",
      "       \n",
      "    This program is distributed in the hope that it will be useful,\n",
      "    but WITHOUT ANY WARRANTY; without even the implied warranty of\n",
      "    MERCHANTABILITY or FITNESS FOR A PARTICULAR PURPOSE.  See the\n",
      "    GNU General Public License for more details.\n",
      "       \n",
      "    You should have received a copy of the GNU General Public License\n",
      "    along with this program.  If not, see <http://www.gnu.org/licenses/>\n",
      "\n",
      "FUNCTIONS\n",
      "    addLine(...)\n",
      "        addPoint(renderer, \n",
      "                 p, \n",
      "                 radius=1.0, \n",
      "                 color=(0.0, 0.0, 1.0))\n",
      "        \n",
      "        Adds a line into an existing VTK renderer \n",
      "        \n",
      "        Parameters\n",
      "        ----------\n",
      "        renderer : VTK renderer\n",
      "               renderer with vtk objects and properties \n",
      "        p1,p2: tuple with 3 float\n",
      "               point location\n",
      "        radius: radius of the point  \n",
      "               Default 1.\n",
      "        color: tuple with 3 float\n",
      "                Default (0.0, 0.0, 0.0)\n",
      "        \n",
      "        Returns\n",
      "        -------\n",
      "        VtkRenderer : an Vtk renderer containing VTK polydata \n",
      "           \n",
      "        See Also\n",
      "        --------\n",
      "        vtk_show, loadSTL\n",
      "        \n",
      "        Notes\n",
      "        -----\n",
      "        This Code was modified fron the original code by Adamos Kyriakou\n",
      "        published in https://pyscience.wordpress.com/\n",
      "    \n",
      "    addPoint(...)\n",
      "        addPoint(renderer, \n",
      "                 p, \n",
      "                 radius=1.0, \n",
      "                 color=(0.0, 0.0, 0.0))\n",
      "        \n",
      "        Adds a point into an existing VTK renderer \n",
      "        \n",
      "        Parameters\n",
      "        ----------\n",
      "        renderer : VTK renderer\n",
      "               renderer with vtk objects and properties \n",
      "        p: tuple with 3 float\n",
      "               point location\n",
      "        radius: radius of the point  \n",
      "               Default 1.\n",
      "        color: tuple with 3 float\n",
      "                Default (0.0, 0.0, 0.0)\n",
      "        \n",
      "        Returns\n",
      "        -------\n",
      "        VtkRenderer : an Vtk renderer containing VTK polydata \n",
      "           \n",
      "        See Also\n",
      "        --------\n",
      "        vtk_show, loadSTL\n",
      "        \n",
      "        Notes\n",
      "        -----\n",
      "        This Code was modified fron the original code by Adamos Kyriakou\n",
      "        published in https://pyscience.wordpress.com/\n",
      "    \n",
      "    loadSTL(...)\n",
      "        loadSTL(filenameSTL)\n",
      "        \n",
      "        Load a STL wireframe file\n",
      "        \n",
      "        Parameters\n",
      "        ----------\n",
      "        filenameSTL : file path\n",
      "        \n",
      "        Returns\n",
      "        -------\n",
      "        polydata : VTK Polydata object \n",
      "               \n",
      "           \n",
      "        Notes\n",
      "        -----\n",
      "        Code by Adamos Kyriakou\n",
      "        published in https://pyscience.wordpress.com/\n",
      "    \n",
      "    polydata2renderer(...)\n",
      "        polydata2renderer(polydata, \n",
      "                 color=None, \n",
      "                 opacity=None, \n",
      "                 background=None)\n",
      "        \n",
      "        Creates vtk renderer from vtk polydata\n",
      "        \n",
      "        Parameters\n",
      "        ----------\n",
      "        polydata : VTK polydata\n",
      "        \n",
      "        color: tuple with 3 floats (RGB)\n",
      "            default color=(1.,0.,0.)\n",
      "        opacity: float \n",
      "            default 1 (opaque)\n",
      "        background: tuple with 3 floats (RGB)\n",
      "            default background=(1.,1.,1.)\n",
      "            \n",
      "            \n",
      "        Returns\n",
      "        -------\n",
      "        VtkRenderer : an Vtk renderer containing VTK polydata \n",
      "           \n",
      "        See Also\n",
      "        --------\n",
      "        vtk_show, loadSTL\n",
      "        \n",
      "        Notes\n",
      "        -----\n",
      "        This Code was modified fron the original code by Adamos Kyriakou\n",
      "        published in https://pyscience.wordpress.com/\n",
      "    \n",
      "    vtk_raycasting(...)\n",
      "        vtk_raycasting(surface, pSource, pTarget)\n",
      "        \n",
      "        Intersects a line defined by two points with a polydata vtk object,\n",
      "        for example a closed surface. \n",
      "        \n",
      "        This function is to find intersection and inclusion of points \n",
      "        within, below or over a surface. This is handy to select points \n",
      "        or define blocks inside solids.    \n",
      "        \n",
      "        Parameters\n",
      "        ----------\n",
      "        surface : VTK polydata\n",
      "               this may work with any 3D object..., no necessarily triangles   \n",
      "        pSource, pTarget: tuples with 3 float\n",
      "               point location defining a ray\n",
      "        \n",
      "        Returns\n",
      "        -------\n",
      "        intersect : integer, with values -1, 0, 1\n",
      "            0 means that no intersection points were found\n",
      "            1 means that some intersection points were found\n",
      "           -1 means the ray source lies within the surface\n",
      "        pointsIntersection : tuple of tuples with 3 float\n",
      "            this is a tuple with coordinates tuples defining \n",
      "            intersection points\n",
      "        \n",
      "        pointsVTKIntersectionData : an Vtk polydata object \n",
      "            similar to pointsIntersection but in Vtk polydata format\n",
      "        \n",
      "        \n",
      "        See Also\n",
      "        --------\n",
      "        vtk_show, loadSTL\n",
      "        \n",
      "        Notes\n",
      "        -----\n",
      "        This Code was modified fron the original code by Adamos Kyriakou\n",
      "        published in https://pyscience.wordpress.com/\n",
      "    \n",
      "    vtk_show(...)\n",
      "        vtk_show(renderer, \n",
      "                 width=400, \n",
      "                 height=300,\n",
      "                 camera_position=None,\n",
      "                 camera_focalpoint=None)\n",
      "        \n",
      "        Display a vtk renderer in Ipython Image\n",
      "        \n",
      "        Parameters\n",
      "        ----------\n",
      "        renderer : VTK renderer\n",
      "               renderer with vtk objects and properties \n",
      "        width, height: float\n",
      "               Size of the image, default (400,300)\n",
      "        camera_position, camera_focalpoint: tuples with 3 float \n",
      "               camera position, camera focal point (ex. center of mass)\n",
      "               default None. If not None the the camera will be overwrite\n",
      "        Returns\n",
      "        -------\n",
      "        Image : an IPython display Image object\n",
      "          \n",
      "        See Also\n",
      "        --------\n",
      "        polydata2renderer, loadSTL\n",
      "           \n",
      "        Notes\n",
      "        -----\n",
      "        This Code was modified fron the original code by Adamos Kyriakou\n",
      "        published in https://pyscience.wordpress.com/\n",
      "\n",
      "DATA\n",
      "    __test__ = {}\n",
      "\n",
      "\n"
     ]
    }
   ],
   "source": [
    "help(gslib.vtktools)"
   ]
  },
  {
   "cell_type": "markdown",
   "metadata": {},
   "source": [
    "## Load a cube defined in an stl file and plot it\n",
    "\n",
    "STL is a popular mesh format included an many non-commercial and commercial software, example: Paraview, Datamine Studio, etc. \n"
   ]
  },
  {
   "cell_type": "code",
   "execution_count": 3,
   "metadata": {
    "collapsed": false
   },
   "outputs": [
    {
     "name": "stdout",
     "output_type": "stream",
     "text": [
      "vtkPolyData (0x271e060)\n",
      "  Debug: Off\n",
      "  Modified Time: 183\n",
      "  Reference Count: 1\n",
      "  Registered Events: (none)\n",
      "  Information: 0x26f0750\n",
      "  Data Released: False\n",
      "  Global Release Data: Off\n",
      "  UpdateTime: 184\n",
      "  Field Data:\n",
      "    Debug: Off\n",
      "    Modified Time: 144\n",
      "    Reference Count: 1\n",
      "    Registered Events: (none)\n",
      "    Number Of Arrays: 0\n",
      "    Number Of Components: 0\n",
      "    Number Of Tuples: 0\n",
      "  Number Of Points: 8\n",
      "  Number Of Cells: 12\n",
      "  Cell Data:\n",
      "    Debug: Off\n",
      "    Modified Time: 152\n",
      "    Reference Count: 1\n",
      "    Registered Events: \n",
      "      Registered Observers:\n",
      "        vtkObserver (0x271e4e0)\n",
      "          Event: 33\n",
      "          EventName: ModifiedEvent\n",
      "          Command: 0x2175c10\n",
      "          Priority: 0\n",
      "          Tag: 1\n",
      "    Number Of Arrays: 0\n",
      "    Number Of Components: 0\n",
      "    Number Of Tuples: 0\n",
      "    Copy Tuple Flags: ( 1 1 1 1 1 0 1 1 )\n",
      "    Interpolate Flags: ( 1 1 1 1 1 0 0 1 )\n",
      "    Pass Through Flags: ( 1 1 1 1 1 1 1 1 )\n",
      "    Scalars: (none)\n",
      "    Vectors: (none)\n",
      "    Normals: (none)\n",
      "    TCoords: (none)\n",
      "    Tensors: (none)\n",
      "    GlobalIds: (none)\n",
      "    PedigreeIds: (none)\n",
      "    EdgeFlag: (none)\n",
      "  Point Data:\n",
      "    Debug: Off\n",
      "    Modified Time: 154\n",
      "    Reference Count: 1\n",
      "    Registered Events: \n",
      "      Registered Observers:\n",
      "        vtkObserver (0x271e380)\n",
      "          Event: 33\n",
      "          EventName: ModifiedEvent\n",
      "          Command: 0x2175c10\n",
      "          Priority: 0\n",
      "          Tag: 1\n",
      "    Number Of Arrays: 0\n",
      "    Number Of Components: 0\n",
      "    Number Of Tuples: 0\n",
      "    Copy Tuple Flags: ( 1 1 1 1 1 0 1 1 )\n",
      "    Interpolate Flags: ( 1 1 1 1 1 0 0 1 )\n",
      "    Pass Through Flags: ( 1 1 1 1 1 1 1 1 )\n",
      "    Scalars: (none)\n",
      "    Vectors: (none)\n",
      "    Normals: (none)\n",
      "    TCoords: (none)\n",
      "    Tensors: (none)\n",
      "    GlobalIds: (none)\n",
      "    PedigreeIds: (none)\n",
      "    EdgeFlag: (none)\n",
      "  Bounds: \n",
      "    Xmin,Xmax: (-5, 5)\n",
      "    Ymin,Ymax: (-5, 5)\n",
      "    Zmin,Zmax: (-5, 5)\n",
      "  Compute Time: 198\n",
      "  Number Of Points: 8\n",
      "  Point Coordinates: 0x2175a90\n",
      "  Locator: 0\n",
      "  Number Of Vertices: 0\n",
      "  Number Of Lines: 0\n",
      "  Number Of Polygons: 12\n",
      "  Number Of Triangle Strips: 0\n",
      "  Number Of Pieces: 1\n",
      "  Piece: 0\n",
      "  Ghost Level: 0\n",
      "\n",
      "\n"
     ]
    }
   ],
   "source": [
    "#load the cube \n",
    "mycube=gslib.vtktools.loadSTL('../datasets/stl/cube.stl')\n",
    "\n",
    "# see the information about this data... Note that it is an vtkPolyData\n",
    "print mycube"
   ]
  },
  {
   "cell_type": "code",
   "execution_count": 4,
   "metadata": {
    "collapsed": false
   },
   "outputs": [
    {
     "data": {
      "image/png": "[encoded data removed]",
      "text/plain": [
       "<IPython.core.display.Image object>"
      ]
     },
     "execution_count": 4,
     "metadata": {},
     "output_type": "execute_result"
    }
   ],
   "source": [
    "# convert the data in the STL file into a renderer and then we plot it\n",
    "renderer = gslib.vtktools.polydata2renderer(mycube, color=(1,0,0), opacity=0.50, background=(1,1,1))\n",
    "#lets rotate a bit this\n",
    "gslib.vtktools.vtk_show(renderer, camera_position=(-20,20,20), camera_focalpoint=(0,0,0))"
   ]
  },
  {
   "cell_type": "markdown",
   "metadata": {},
   "source": [
    "## Ray casting to find intersections of a lines with the cube   \n",
    "\n",
    "This is basically how we plan to find points inside solid and to define blocks inside solid"
   ]
  },
  {
   "cell_type": "code",
   "execution_count": 5,
   "metadata": {
    "collapsed": false
   },
   "outputs": [
    {
     "data": {
      "image/png": "[encoded data removed]",
      "text/plain": [
       "<IPython.core.display.Image object>"
      ]
     },
     "execution_count": 5,
     "metadata": {},
     "output_type": "execute_result"
    }
   ],
   "source": [
    "# we have a line, for example a block model row \n",
    "# defined by two points or an infinite line passing trough a dillhole sample \n",
    "pSource = [-50.0, 0.0, 0.0]\n",
    "pTarget = [50.0, 0.0, 0.0]\n",
    "\n",
    "# now we want to see how this looks like\n",
    "gslib.vtktools.addLine(renderer,pSource, pTarget, color=(0, 1, 0))\n",
    "gslib.vtktools.vtk_show(renderer) # the camera position was already defined \n"
   ]
  },
  {
   "cell_type": "code",
   "execution_count": 6,
   "metadata": {
    "collapsed": false
   },
   "outputs": [
    {
     "name": "stdout",
     "output_type": "stream",
     "text": [
      "the line intersects?  True\n",
      "the line is over the surface? False\n",
      "[(-5.0, 0.0, 0.0), (5.0, 0.0, 0.0)]\n"
     ]
    }
   ],
   "source": [
    "# now we find the point coordinates of the intersections \n",
    "intersect, points, pointsVTK= gslib.vtktools.vtk_raycasting(mycube, pSource, pTarget)\n",
    "\n",
    "print \"the line intersects? \", intersect==1\n",
    "print \"the line is over the surface?\", intersect==-1\n",
    "\n",
    "# list of coordinates of the points intersecting \n",
    "print points\n"
   ]
  },
  {
   "cell_type": "code",
   "execution_count": 7,
   "metadata": {
    "collapsed": false
   },
   "outputs": [
    {
     "data": {
      "image/png": "[encoded data removed]",
      "text/plain": [
       "<IPython.core.display.Image object>"
      ]
     },
     "execution_count": 7,
     "metadata": {},
     "output_type": "execute_result"
    }
   ],
   "source": [
    "#Now we plot the intersecting points\n",
    "\n",
    "# To do this we add the points to the renderer \n",
    "for p in points: \n",
    "    gslib.vtktools.addPoint(renderer, p, radius=0.5, color=(0.0, 0.0, 1.0))\n",
    "\n",
    "gslib.vtktools.vtk_show(renderer)    \n",
    "    "
   ]
  },
  {
   "cell_type": "code",
   "execution_count": null,
   "metadata": {
    "collapsed": true
   },
   "outputs": [],
   "source": []
  }
 ],
 "metadata": {
  "kernelspec": {
   "display_name": "Python 2",
   "language": "python",
   "name": "python2"
  },
  "language_info": {
   "codemirror_mode": {
    "name": "ipython",
    "version": 2
   },
   "file_extension": ".py",
   "mimetype": "text/x-python",
   "name": "python",
   "nbconvert_exporter": "python",
   "pygments_lexer": "ipython2",
   "version": "2.7.10"
  }
 },
 "nbformat": 4,
 "nbformat_minor": 0
}
