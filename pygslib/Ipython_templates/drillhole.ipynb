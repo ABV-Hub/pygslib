{
 "cells": [
  {
   "cell_type": "markdown",
   "metadata": {},
   "source": [
    "PyGSLIB\n",
    "========\n",
    "\n",
    "Introduction\n",
    "---------------\n",
    "\n",
    "This is a set of test for the drillhole functions.\n",
    "\n",
    "These functions are not part of GSLIB but are required for some basic drillhole test and processing (example desurvey)\n",
    "\n"
   ]
  },
  {
   "cell_type": "code",
   "execution_count": 1,
   "metadata": {
    "collapsed": false
   },
   "outputs": [],
   "source": [
    "#general imports  \n",
    "import pygslib as gslib      \n",
    "import pandas as pd\n",
    "\n",
    "#make the plots inline\n",
    "%matplotlib inline  "
   ]
  },
  {
   "cell_type": "markdown",
   "metadata": {},
   "source": [
    "Getting the data ready for work\n",
    "---------\n",
    "\n",
    "Here we use arbitrary data\n"
   ]
  },
  {
   "cell_type": "code",
   "execution_count": 2,
   "metadata": {
    "collapsed": false
   },
   "outputs": [],
   "source": [
    "collar = pd.DataFrame ({'bhid'   : [0,1],\n",
    "                        'xcollar': [0.,10.],\n",
    "                        'ycollar': [2., 8.], \n",
    "                        'zcollar': [5.,50.] \n",
    "                       })\n",
    "survey = pd.DataFrame ({'bhid'   : [0,0,0,1,1,1],\n",
    "                        'azi'    : [0.,10,20,100.,110,130],\n",
    "                        'dip'    : [90,80,50,90,70,50],         # positive downdip\n",
    "                        'len'    : [0,10,20,0,10,20] \n",
    "                       })\n",
    "assay  = pd.DataFrame ({'bhid'   : [0,0,0,1,1,1],\n",
    "                        'from'   : [ 10,20,30,50,60,80],\n",
    "                        'to'     : [ 20,30,40,60,80,90]  \n",
    "                       })"
   ]
  },
  {
   "cell_type": "code",
   "execution_count": 3,
   "metadata": {
    "collapsed": false
   },
   "outputs": [
    {
     "data": {
      "text/html": [
       "<div>\n",
       "<table border=\"1\" class=\"dataframe\">\n",
       "  <thead>\n",
       "    <tr style=\"text-align: right;\">\n",
       "      <th></th>\n",
       "      <th>bhid</th>\n",
       "      <th>xcollar</th>\n",
       "      <th>ycollar</th>\n",
       "      <th>zcollar</th>\n",
       "    </tr>\n",
       "  </thead>\n",
       "  <tbody>\n",
       "    <tr>\n",
       "      <th>0</th>\n",
       "      <td>0</td>\n",
       "      <td>0</td>\n",
       "      <td>2</td>\n",
       "      <td>5</td>\n",
       "    </tr>\n",
       "    <tr>\n",
       "      <th>1</th>\n",
       "      <td>1</td>\n",
       "      <td>10</td>\n",
       "      <td>8</td>\n",
       "      <td>50</td>\n",
       "    </tr>\n",
       "  </tbody>\n",
       "</table>\n",
       "</div>"
      ],
      "text/plain": [
       "   bhid  xcollar  ycollar  zcollar\n",
       "0     0        0        2        5\n",
       "1     1       10        8       50"
      ]
     },
     "execution_count": 3,
     "metadata": {},
     "output_type": "execute_result"
    }
   ],
   "source": [
    "collar"
   ]
  },
  {
   "cell_type": "code",
   "execution_count": 4,
   "metadata": {
    "collapsed": false
   },
   "outputs": [
    {
     "data": {
      "text/html": [
       "<div>\n",
       "<table border=\"1\" class=\"dataframe\">\n",
       "  <thead>\n",
       "    <tr style=\"text-align: right;\">\n",
       "      <th></th>\n",
       "      <th>azi</th>\n",
       "      <th>bhid</th>\n",
       "      <th>dip</th>\n",
       "      <th>len</th>\n",
       "    </tr>\n",
       "  </thead>\n",
       "  <tbody>\n",
       "    <tr>\n",
       "      <th>0</th>\n",
       "      <td>0</td>\n",
       "      <td>0</td>\n",
       "      <td>90</td>\n",
       "      <td>0</td>\n",
       "    </tr>\n",
       "    <tr>\n",
       "      <th>1</th>\n",
       "      <td>10</td>\n",
       "      <td>0</td>\n",
       "      <td>80</td>\n",
       "      <td>10</td>\n",
       "    </tr>\n",
       "    <tr>\n",
       "      <th>2</th>\n",
       "      <td>20</td>\n",
       "      <td>0</td>\n",
       "      <td>50</td>\n",
       "      <td>20</td>\n",
       "    </tr>\n",
       "    <tr>\n",
       "      <th>3</th>\n",
       "      <td>100</td>\n",
       "      <td>1</td>\n",
       "      <td>90</td>\n",
       "      <td>0</td>\n",
       "    </tr>\n",
       "    <tr>\n",
       "      <th>4</th>\n",
       "      <td>110</td>\n",
       "      <td>1</td>\n",
       "      <td>70</td>\n",
       "      <td>10</td>\n",
       "    </tr>\n",
       "    <tr>\n",
       "      <th>5</th>\n",
       "      <td>130</td>\n",
       "      <td>1</td>\n",
       "      <td>50</td>\n",
       "      <td>20</td>\n",
       "    </tr>\n",
       "  </tbody>\n",
       "</table>\n",
       "</div>"
      ],
      "text/plain": [
       "   azi  bhid  dip  len\n",
       "0    0     0   90    0\n",
       "1   10     0   80   10\n",
       "2   20     0   50   20\n",
       "3  100     1   90    0\n",
       "4  110     1   70   10\n",
       "5  130     1   50   20"
      ]
     },
     "execution_count": 4,
     "metadata": {},
     "output_type": "execute_result"
    }
   ],
   "source": [
    "survey"
   ]
  },
  {
   "cell_type": "code",
   "execution_count": 5,
   "metadata": {
    "collapsed": false
   },
   "outputs": [
    {
     "data": {
      "text/html": [
       "<div>\n",
       "<table border=\"1\" class=\"dataframe\">\n",
       "  <thead>\n",
       "    <tr style=\"text-align: right;\">\n",
       "      <th></th>\n",
       "      <th>bhid</th>\n",
       "      <th>from</th>\n",
       "      <th>to</th>\n",
       "    </tr>\n",
       "  </thead>\n",
       "  <tbody>\n",
       "    <tr>\n",
       "      <th>0</th>\n",
       "      <td>0</td>\n",
       "      <td>10</td>\n",
       "      <td>20</td>\n",
       "    </tr>\n",
       "    <tr>\n",
       "      <th>1</th>\n",
       "      <td>0</td>\n",
       "      <td>20</td>\n",
       "      <td>30</td>\n",
       "    </tr>\n",
       "    <tr>\n",
       "      <th>2</th>\n",
       "      <td>0</td>\n",
       "      <td>30</td>\n",
       "      <td>40</td>\n",
       "    </tr>\n",
       "    <tr>\n",
       "      <th>3</th>\n",
       "      <td>1</td>\n",
       "      <td>50</td>\n",
       "      <td>60</td>\n",
       "    </tr>\n",
       "    <tr>\n",
       "      <th>4</th>\n",
       "      <td>1</td>\n",
       "      <td>60</td>\n",
       "      <td>80</td>\n",
       "    </tr>\n",
       "    <tr>\n",
       "      <th>5</th>\n",
       "      <td>1</td>\n",
       "      <td>80</td>\n",
       "      <td>90</td>\n",
       "    </tr>\n",
       "  </tbody>\n",
       "</table>\n",
       "</div>"
      ],
      "text/plain": [
       "   bhid  from  to\n",
       "0     0    10  20\n",
       "1     0    20  30\n",
       "2     0    30  40\n",
       "3     1    50  60\n",
       "4     1    60  80\n",
       "5     1    80  90"
      ]
     },
     "execution_count": 5,
     "metadata": {},
     "output_type": "execute_result"
    }
   ],
   "source": [
    "assay"
   ]
  },
  {
   "cell_type": "markdown",
   "metadata": {},
   "source": [
    "## Testing validation functions issort"
   ]
  },
  {
   "cell_type": "code",
   "execution_count": 6,
   "metadata": {
    "collapsed": false
   },
   "outputs": [
    {
     "name": "stdout",
     "output_type": "stream",
     "text": [
      "issort = issort(cid,sid,sleng,aid,afrom,ato,tol,gaptol,inttol,[nc,ns,na])\n",
      "\n",
      "Wrapper for ``issort``.\n",
      "\n",
      "Parameters\n",
      "----------\n",
      "cid : input rank-1 array('i') with bounds (nc)\n",
      "sid : input rank-1 array('i') with bounds (ns)\n",
      "sleng : input rank-1 array('f') with bounds (ns)\n",
      "aid : input rank-1 array('i') with bounds (na)\n",
      "afrom : input rank-1 array('f') with bounds (na)\n",
      "ato : input rank-1 array('f') with bounds (na)\n",
      "tol : input float\n",
      "gaptol : input float\n",
      "inttol : input float\n",
      "\n",
      "Other Parameters\n",
      "----------------\n",
      "nc : input int, optional\n",
      "    Default: len(cid)\n",
      "ns : input int, optional\n",
      "    Default: len(sid)\n",
      "na : input int, optional\n",
      "    Default: len(aid)\n",
      "\n",
      "Returns\n",
      "-------\n",
      "issort : int\n",
      "\n"
     ]
    }
   ],
   "source": [
    "# test sort, overlap, gap and zero interval \n",
    "print gslib.__drillhole.issort.__doc__"
   ]
  },
  {
   "cell_type": "code",
   "execution_count": 7,
   "metadata": {
    "collapsed": false
   },
   "outputs": [
    {
     "name": "stdout",
     "output_type": "stream",
     "text": [
      "error :  0 expected : 0\n"
     ]
    }
   ],
   "source": [
    "parameter = {\n",
    "    'cid'    : collar['bhid'],\n",
    "    'sid'    : survey['bhid'],\n",
    "    'sleng'  : survey['len'],\n",
    "    'aid'    : assay['bhid'],\n",
    "    'afrom'  : assay['from'],\n",
    "    'ato'    : assay['to'],\n",
    "    'tol'    : 0.01,\n",
    "    'gaptol' : 2,\n",
    "    'inttol' : 0.5}\n",
    "\n",
    "\n",
    "print  'error : ', gslib.__drillhole.issort(**parameter), 'expected :', 0"
   ]
  },
  {
   "cell_type": "code",
   "execution_count": 8,
   "metadata": {
    "collapsed": false
   },
   "outputs": [
    {
     "name": "stdout",
     "output_type": "stream",
     "text": [
      "error :  10 expected : 10\n"
     ]
    }
   ],
   "source": [
    "#test collar id not sorted by removing nin to max order\n",
    "parameter['cid']= [1,0]\n",
    "print  'error : ', gslib.__drillhole.issort(**parameter), 'expected :', 10\n",
    "# fixing data again\n",
    "parameter['cid']=collar.bhid"
   ]
  },
  {
   "cell_type": "code",
   "execution_count": 9,
   "metadata": {
    "collapsed": false
   },
   "outputs": [
    {
     "name": "stdout",
     "output_type": "stream",
     "text": [
      "error :  20 expected : 20\n"
     ]
    }
   ],
   "source": [
    "#test survey id not sorted by removing nin to max order\n",
    "parameter['sid']= [1,1,1,0,0,0]\n",
    "print  'error : ', gslib.__drillhole.issort(**parameter), 'expected :', 20\n",
    "# fixing data again\n",
    "parameter['sid']=survey.bhid"
   ]
  },
  {
   "cell_type": "code",
   "execution_count": 10,
   "metadata": {
    "collapsed": false
   },
   "outputs": [
    {
     "name": "stdout",
     "output_type": "stream",
     "text": [
      "error :  21 expected : 21\n"
     ]
    }
   ],
   "source": [
    "#test survey not sorted by len\n",
    "parameter['sleng']= [0,20,10,0,10,20]\n",
    "print  'error : ', gslib.__drillhole.issort(**parameter), 'expected :', 21\n",
    "# fixing data again\n",
    "parameter['sleng']=survey.len"
   ]
  },
  {
   "cell_type": "code",
   "execution_count": 11,
   "metadata": {
    "collapsed": false
   },
   "outputs": [
    {
     "name": "stdout",
     "output_type": "stream",
     "text": [
      "error :  30 expected : 30\n"
     ]
    }
   ],
   "source": [
    "#test assay not sorted by id\n",
    "parameter['aid']= [1,1,1,0,0,0]\n",
    "print  'error : ', gslib.__drillhole.issort(**parameter), 'expected :', 30\n",
    "# fixing data again\n",
    "parameter['aid']=assay.bhid"
   ]
  },
  {
   "cell_type": "code",
   "execution_count": 12,
   "metadata": {
    "collapsed": false
   },
   "outputs": [
    {
     "name": "stdout",
     "output_type": "stream",
     "text": [
      "error :  31 expected : 31\n"
     ]
    }
   ],
   "source": [
    "#test assay not sorted by from\n",
    "parameter['afrom']= [ 30,20,30,50,60,80]\n",
    "print  'error : ', gslib.__drillhole.issort(**parameter), 'expected :', 31\n",
    "# fixing data again\n",
    "parameter['afrom']=assay['from']"
   ]
  },
  {
   "cell_type": "code",
   "execution_count": 13,
   "metadata": {
    "collapsed": false
   },
   "outputs": [
    {
     "name": "stdout",
     "output_type": "stream",
     "text": [
      "error :  32 expected : 32\n"
     ]
    }
   ],
   "source": [
    "#test assay gaps (within tolerance)\n",
    "parameter['afrom']= [ 10,15,30,50,60,80]\n",
    "parameter['ato']=   [ 20,30,40,60,80,90]\n",
    "print  'error : ', gslib.__drillhole.issort(**parameter), 'expected :', 32\n",
    "# fixing data again\n",
    "parameter['afrom']=assay['from']\n",
    "parameter['ato']=assay['to']"
   ]
  },
  {
   "cell_type": "code",
   "execution_count": 14,
   "metadata": {
    "collapsed": false
   },
   "outputs": [
    {
     "name": "stdout",
     "output_type": "stream",
     "text": [
      "error :  33 expected : 33\n"
     ]
    }
   ],
   "source": [
    "#test assay overlap (within tolerance)\n",
    "parameter['afrom']= [ 10,25,30,50,60,80]\n",
    "parameter['ato']=   [ 20,30,40,60,80,90]\n",
    "print  'error : ', gslib.__drillhole.issort(**parameter), 'expected :', 33\n",
    "# fixing data again\n",
    "parameter['afrom']=assay['from']\n",
    "parameter['ato']=assay['to']"
   ]
  },
  {
   "cell_type": "code",
   "execution_count": 15,
   "metadata": {
    "collapsed": false
   },
   "outputs": [
    {
     "name": "stdout",
     "output_type": "stream",
     "text": [
      "error :  34 expected : 34\n"
     ]
    }
   ],
   "source": [
    "#test assay from > to? (within tolerance)\n",
    "parameter['afrom']= [ 10.1,10.1,30,50,60,80]\n",
    "parameter['ato']=   [ 10.0,30,40,60,80,90]\n",
    "print  'error : ', gslib.__drillhole.issort(**parameter), 'expected :', 34\n",
    "# fixing data again\n",
    "parameter['afrom']=assay['from']\n",
    "parameter['ato']=assay['to']"
   ]
  },
  {
   "cell_type": "code",
   "execution_count": 16,
   "metadata": {
    "collapsed": false
   },
   "outputs": [
    {
     "name": "stdout",
     "output_type": "stream",
     "text": [
      "error :  35 expected : 35\n"
     ]
    }
   ],
   "source": [
    "#test assay from - to > inttol? (interval too small )\n",
    "parameter['afrom']= [ 10.0,10.1,30,50,60,80]\n",
    "parameter['ato']=   [ 10.1,30,40,60,80,90]\n",
    "print  'error : ', gslib.__drillhole.issort(**parameter), 'expected :', 35\n",
    "# fixing data again\n",
    "parameter['afrom']=assay['from']\n",
    "parameter['ato']=assay['to']"
   ]
  },
  {
   "cell_type": "markdown",
   "metadata": {},
   "source": [
    "## Testing dmincurb (desurvey with minimum curvature)"
   ]
  },
  {
   "cell_type": "code",
   "execution_count": 17,
   "metadata": {
    "collapsed": false
   },
   "outputs": [
    {
     "name": "stdout",
     "output_type": "stream",
     "text": [
      "ax,ay,az = dmincurb(cid,cx,cy,cz,sid,saz,sdip,sleng,aid,afrom,ato,[nc,ns,na])\n",
      "\n",
      "Wrapper for ``dmincurb``.\n",
      "\n",
      "Parameters\n",
      "----------\n",
      "cid : input rank-1 array('i') with bounds (nc)\n",
      "cx : input rank-1 array('f') with bounds (nc)\n",
      "cy : input rank-1 array('f') with bounds (nc)\n",
      "cz : input rank-1 array('f') with bounds (nc)\n",
      "sid : input rank-1 array('i') with bounds (ns)\n",
      "saz : input rank-1 array('f') with bounds (ns)\n",
      "sdip : input rank-1 array('f') with bounds (ns)\n",
      "sleng : input rank-1 array('f') with bounds (ns)\n",
      "aid : input rank-1 array('i') with bounds (na)\n",
      "afrom : input rank-1 array('f') with bounds (na)\n",
      "ato : input rank-1 array('f') with bounds (na)\n",
      "\n",
      "Other Parameters\n",
      "----------------\n",
      "nc : input int, optional\n",
      "    Default: len(cid)\n",
      "ns : input int, optional\n",
      "    Default: len(sid)\n",
      "na : input int, optional\n",
      "    Default: len(aid)\n",
      "\n",
      "Returns\n",
      "-------\n",
      "ax : rank-1 array('f') with bounds (na)\n",
      "ay : rank-1 array('f') with bounds (na)\n",
      "az : rank-1 array('f') with bounds (na)\n",
      "\n"
     ]
    }
   ],
   "source": [
    "print gslib.__drillhole.dmincurb.__doc__"
   ]
  },
  {
   "cell_type": "code",
   "execution_count": 18,
   "metadata": {
    "collapsed": false
   },
   "outputs": [],
   "source": [
    "parameter_desurvey = {\n",
    "    'cid'    : collar['bhid'],\n",
    "    'cx'     : collar['xcollar'],\n",
    "    'cy'     : collar['ycollar'],\n",
    "    'cz'     : collar['zcollar'],\n",
    "    'sid'    : survey['bhid'],\n",
    "    'saz'    : survey['azi'],\n",
    "    'sdip'   : survey['dip'],\n",
    "    'sleng'  : survey['len'],\n",
    "    'aid'    : assay['bhid'],\n",
    "    'afrom'  : assay['from'],\n",
    "    'ato'    : assay['to']}\n",
    "\n",
    "ax,ay,az = gslib.__drillhole.dmincurb(**parameter_desurvey)"
   ]
  },
  {
   "cell_type": "code",
   "execution_count": 19,
   "metadata": {
    "collapsed": false
   },
   "outputs": [
    {
     "data": {
      "text/plain": [
       "(array([ 0.,  0.,  0.,  0.,  0.,  0.], dtype=float32),\n",
       " array([ 0.,  0.,  0.,  0.,  0.,  0.], dtype=float32),\n",
       " array([ 0.,  0.,  0.,  0.,  0.,  0.], dtype=float32))"
      ]
     },
     "execution_count": 19,
     "metadata": {},
     "output_type": "execute_result"
    }
   ],
   "source": [
    "ax,ay,az"
   ]
  },
  {
   "cell_type": "code",
   "execution_count": null,
   "metadata": {
    "collapsed": true
   },
   "outputs": [],
   "source": []
  }
 ],
 "metadata": {
  "kernelspec": {
   "display_name": "Python 2",
   "language": "python",
   "name": "python2"
  },
  "language_info": {
   "codemirror_mode": {
    "name": "ipython",
    "version": 2
   },
   "file_extension": ".py",
   "mimetype": "text/x-python",
   "name": "python",
   "nbconvert_exporter": "python",
   "pygments_lexer": "ipython2",
   "version": "2.7.10"
  }
 },
 "nbformat": 4,
 "nbformat_minor": 0
}
