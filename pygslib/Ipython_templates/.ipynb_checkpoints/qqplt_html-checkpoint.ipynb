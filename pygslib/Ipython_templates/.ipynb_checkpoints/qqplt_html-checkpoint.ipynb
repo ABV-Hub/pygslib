{
 "cells": [
  {
   "cell_type": "markdown",
   "metadata": {},
   "source": [
    "PyGSLIB\n",
    "========\n",
    "\n",
    "QQ and PP plots\n",
    "---------------\n",
    "\n",
    "\n",
    "\n"
   ]
  },
  {
   "cell_type": "code",
   "execution_count": 5,
   "metadata": {
    "collapsed": false
   },
   "outputs": [],
   "source": [
    "#general imports\n",
    "import matplotlib.pyplot as plt   \n",
    "import pygslib\n",
    "import numpy as np\n",
    "\n",
    "#make the plots inline\n",
    "%matplotlib inline  "
   ]
  },
  {
   "cell_type": "markdown",
   "metadata": {},
   "source": [
    "Getting the data ready for work\n",
    "---------\n",
    "If the data is in GSLIB format you can use the function `pygslib.gslib.read_gslib_file(filename)` to import the data into a Pandas DataFrame. \n"
   ]
  },
  {
   "cell_type": "code",
   "execution_count": 6,
   "metadata": {
    "collapsed": false
   },
   "outputs": [],
   "source": [
    "#get the data in gslib format into a pandas Dataframe\n",
    "cluster= pygslib.gslib.read_gslib_file('../datasets/cluster.dat')  \n",
    "true= pygslib.gslib.read_gslib_file('../datasets/true.dat')  \n",
    "\n",
    "true['Declustering Weight'] = 1\n"
   ]
  },
  {
   "cell_type": "markdown",
   "metadata": {},
   "source": [
    "## QQ-Plot"
   ]
  },
  {
   "cell_type": "code",
   "execution_count": null,
   "metadata": {
    "collapsed": true
   },
   "outputs": [],
   "source": [
    "npoints = len(cluster['Primary'])\n",
    "true['Declustering Weight'] = 1\n",
    "\n",
    "\n",
    "#using declustering wight\n",
    "parameters_qpplt = {\n",
    "    # gslib parameters for qq-pp calculation  \n",
    "    'qqorpp': 0, # integer (Optional, default 0, Q-Q plot). Q-Q plot (qqorpp=0); P-P plot (qqorpp=1)\n",
    "    #'npts'  : None, # integer (Optional, default min length of va1 and va2). Number of points to use on the Q-Q or P-P plot (should not exceed the smallest number of data in data1 / data2\n",
    "    'va1'   : cluster['Primary'], # rank-1 array('d') with bounds (nd). Variable 1\n",
    "    'wt1'   : cluster['Declustering Weight'], # rank-1 array('d') with bounds (nd) (Optional, set to array of ones). Declustering weight for variable 1.  \n",
    "    'va2'   : true['Primary'], # rank-1 array('d') with bounds (nd). Variable 2\n",
    "    'wt2'   : true['Declustering Weight'], # rank-1 array('d') with bounds (nd) (Optional, set to array of ones). Declustering weight for variable 2.\n",
    "    # visual parameters for figure (if a new figure is created)\n",
    "    #'figure' : None, # a bokeh figure object (Optional: new figure created if None). Set none or undefined if creating a new figure. \n",
    "    #'title'  : None, # string (Optional, \"QQ plot\" or \"PP plot\"). Figure title\n",
    "    #'xlabel' : 'Z1', # string (Optional, default \"Z1\" or \"P1\"). X axis label \n",
    "    #'ylabel' : 'Z2', # string (Optional, default \"Z2\" or \"P2\"). Y axis label\n",
    "    #'xlog' : True, # boolean (Optional, default True). If true plot X axis in log sale.\n",
    "    #'ylog' : True, # boolean (Optional, default True). If true plot Y axis in log sale.            \n",
    "    # visual parameter for the probplt\n",
    "    #'style' : None, # string with valid bokeh chart type \n",
    "    'color' : 'black', # string with valid CSS colour (https://www.w3schools.com/colors/colors_names.asp), or an RGB(A) hex value, or tuple of integers (r,g,b), or tuple of (r,g,b,a) (Optional, default \"navy\")\n",
    "    'legend': 'Declustered', # string (Optional, default \"NA\"). \n",
    "    #'alpha' : None, # float [0-1] (Optional, default 0.5). Transparency of the fill colour \n",
    "    #'lwidth': None, # float (Optional, default 1). Line width\n",
    "    # leyend\n",
    "    'legendloc': None} #  float (Optional, default 'bottom_right'). Any of top_left, top_center, top_right, center_right, bottom_right, bottom_center, bottom_left, center_left "
   ]
  },
  {
   "cell_type": "code",
   "execution_count": 9,
   "metadata": {
    "collapsed": false
   },
   "outputs": [
    {
     "name": "stdout",
     "output_type": "stream",
     "text": [
      "error ?  False\n"
     ]
    }
   ],
   "source": [
    "# Calculate the non declustered qq plot    \n",
    "results, fig = pygslib.plothtml.qpplt(parameters_qpplt)\n",
    "print 'error ? ',  results['error'] != 0"
   ]
  },
  {
   "cell_type": "code",
   "execution_count": null,
   "metadata": {
    "collapsed": true
   },
   "outputs": [],
   "source": [
    "# Calculate declustered qqplot\n",
    "\n",
    "# a) get array of ones as weights \n",
    "cluster['naive']= cluster['Declustering Weight'].values*0 +1\n",
    "\n",
    "# update parameter dic\n",
    "parameters_qpplt['wt1'] = cluster['naive']\n",
    "parameters_qpplt['color'] = 'blue'\n",
    "parameters_qpplt['legend']='Clustered'\n",
    "results, fig = pygslib.plothtml.qpplt(parameters_qpplt)\n",
    "print 'error ? ',  results['error'] != 0"
   ]
  },
  {
   "cell_type": "code",
   "execution_count": 10,
   "metadata": {
    "collapsed": false
   },
   "outputs": [
    {
     "data": {
      "text/html": [
       "\n",
       "\n",
       "    <div class=\"bk-root\">\n",
       "        <div class=\"bk-plotdiv\" id=\"2e4e9a5d-6138-4f11-bb02-44b596c79439\"></div>\n",
       "    </div>\n",
       "<script type=\"text/javascript\">\n",
       "  \n",
       "  (function(global) {\n",
       "    function now() {\n",
       "      return new Date();\n",
       "    }\n",
       "  \n",
       "    var force = false;\n",
       "  \n",
       "    if (typeof (window._bokeh_onload_callbacks) === \"undefined\" || force === true) {\n",
       "      window._bokeh_onload_callbacks = [];\n",
       "      window._bokeh_is_loading = undefined;\n",
       "    }\n",
       "  \n",
       "  \n",
       "    \n",
       "    if (typeof (window._bokeh_timeout) === \"undefined\" || force === true) {\n",
       "      window._bokeh_timeout = Date.now() + 0;\n",
       "      window._bokeh_failed_load = false;\n",
       "    }\n",
       "  \n",
       "    var NB_LOAD_WARNING = {'data': {'text/html':\n",
       "       \"<div style='background-color: #fdd'>\\n\"+\n",
       "       \"<p>\\n\"+\n",
       "       \"BokehJS does not appear to have successfully loaded. If loading BokehJS from CDN, this \\n\"+\n",
       "       \"may be due to a slow or bad network connection. Possible fixes:\\n\"+\n",
       "       \"</p>\\n\"+\n",
       "       \"<ul>\\n\"+\n",
       "       \"<li>re-rerun `output_notebook()` to attempt to load from CDN again, or</li>\\n\"+\n",
       "       \"<li>use INLINE resources instead, as so:</li>\\n\"+\n",
       "       \"</ul>\\n\"+\n",
       "       \"<code>\\n\"+\n",
       "       \"from bokeh.resources import INLINE\\n\"+\n",
       "       \"output_notebook(resources=INLINE)\\n\"+\n",
       "       \"</code>\\n\"+\n",
       "       \"</div>\"}};\n",
       "  \n",
       "    function display_loaded() {\n",
       "      if (window.Bokeh !== undefined) {\n",
       "        var el = document.getElementById(\"2e4e9a5d-6138-4f11-bb02-44b596c79439\");\n",
       "        el.textContent = \"BokehJS \" + Bokeh.version + \" successfully loaded.\";\n",
       "      } else if (Date.now() < window._bokeh_timeout) {\n",
       "        setTimeout(display_loaded, 100)\n",
       "      }\n",
       "    }\n",
       "  \n",
       "    function run_callbacks() {\n",
       "      try {\n",
       "        window._bokeh_onload_callbacks.forEach(function(callback) { callback() });\n",
       "      }\n",
       "      finally {\n",
       "        delete window._bokeh_onload_callbacks\n",
       "      }\n",
       "      console.info(\"Bokeh: all callbacks have finished\");\n",
       "    }\n",
       "  \n",
       "    function load_libs(js_urls, callback) {\n",
       "      window._bokeh_onload_callbacks.push(callback);\n",
       "      if (window._bokeh_is_loading > 0) {\n",
       "        console.log(\"Bokeh: BokehJS is being loaded, scheduling callback at\", now());\n",
       "        return null;\n",
       "      }\n",
       "      if (js_urls == null || js_urls.length === 0) {\n",
       "        run_callbacks();\n",
       "        return null;\n",
       "      }\n",
       "      console.log(\"Bokeh: BokehJS not loaded, scheduling load and callback at\", now());\n",
       "      window._bokeh_is_loading = js_urls.length;\n",
       "      for (var i = 0; i < js_urls.length; i++) {\n",
       "        var url = js_urls[i];\n",
       "        var s = document.createElement('script');\n",
       "        s.src = url;\n",
       "        s.async = false;\n",
       "        s.onreadystatechange = s.onload = function() {\n",
       "          window._bokeh_is_loading--;\n",
       "          if (window._bokeh_is_loading === 0) {\n",
       "            console.log(\"Bokeh: all BokehJS libraries loaded\");\n",
       "            run_callbacks()\n",
       "          }\n",
       "        };\n",
       "        s.onerror = function() {\n",
       "          console.warn(\"failed to load library \" + url);\n",
       "        };\n",
       "        console.log(\"Bokeh: injecting script tag for BokehJS library: \", url);\n",
       "        document.getElementsByTagName(\"head\")[0].appendChild(s);\n",
       "      }\n",
       "    };var element = document.getElementById(\"2e4e9a5d-6138-4f11-bb02-44b596c79439\");\n",
       "    if (element == null) {\n",
       "      console.log(\"Bokeh: ERROR: autoload.js configured with elementid '2e4e9a5d-6138-4f11-bb02-44b596c79439' but no matching script tag was found. \")\n",
       "      return false;\n",
       "    }\n",
       "  \n",
       "    var js_urls = [];\n",
       "  \n",
       "    var inline_js = [\n",
       "      function(Bokeh) {\n",
       "        (function() {\n",
       "          var fn = function() {\n",
       "            var docs_json = {\"4e0f1da5-8a27-4908-b93a-4a51e40cf8bd\":{\"roots\":{\"references\":[{\"attributes\":{\"items\":[{\"id\":\"40902350-98f9-49dd-94cc-663683d6fd25\",\"type\":\"LegendItem\"}],\"location\":\"bottom_right\",\"plot\":{\"id\":\"43434c20-523a-4b71-a9f8-3fdb6a07d2c0\",\"subtype\":\"Figure\",\"type\":\"Plot\"}},\"id\":\"cb5cfaf4-375c-42c6-8317-014c4b10b4ab\",\"type\":\"Legend\"},{\"attributes\":{\"callback\":null,\"end\":39.73002728331267,\"start\":0.03},\"id\":\"cccb96a3-4ecb-46b5-9e29-a81dbdd3b414\",\"type\":\"Range1d\"},{\"attributes\":{\"plot\":{\"id\":\"43434c20-523a-4b71-a9f8-3fdb6a07d2c0\",\"subtype\":\"Figure\",\"type\":\"Plot\"}},\"id\":\"201e7e5a-0307-4b4a-b689-682ae53674aa\",\"type\":\"SaveTool\"},{\"attributes\":{\"overlay\":{\"id\":\"afbb991d-5f98-412d-89c2-78d152bafb79\",\"type\":\"BoxAnnotation\"},\"plot\":{\"id\":\"43434c20-523a-4b71-a9f8-3fdb6a07d2c0\",\"subtype\":\"Figure\",\"type\":\"Plot\"}},\"id\":\"931e5fae-2bb4-4890-a75b-326f896e1f9a\",\"type\":\"BoxZoomTool\"},{\"attributes\":{\"fill_alpha\":{\"value\":0.1},\"fill_color\":{\"value\":\"#1f77b4\"},\"line_alpha\":{\"value\":0.1},\"line_color\":{\"value\":\"#1f77b4\"},\"x\":{\"field\":\"x\"},\"y\":{\"field\":\"y\"}},\"id\":\"ee09af6e-3937-4392-a7dc-92770a600d5d\",\"type\":\"Circle\"},{\"attributes\":{\"active_drag\":\"auto\",\"active_inspect\":\"auto\",\"active_scroll\":\"auto\",\"active_tap\":\"auto\",\"tools\":[{\"id\":\"19a8c019-dc9b-4a4b-810f-c79f54442394\",\"type\":\"PanTool\"},{\"id\":\"6bc99437-6ff2-49be-b4bc-8d15aa4fcbb9\",\"type\":\"WheelZoomTool\"},{\"id\":\"931e5fae-2bb4-4890-a75b-326f896e1f9a\",\"type\":\"BoxZoomTool\"},{\"id\":\"201e7e5a-0307-4b4a-b689-682ae53674aa\",\"type\":\"SaveTool\"},{\"id\":\"f238afce-b94b-459a-a6c6-b00ed3f6f368\",\"type\":\"ResetTool\"},{\"id\":\"c347da37-3598-4506-b502-4555bda63731\",\"type\":\"HelpTool\"}]},\"id\":\"dae189f1-0b5e-47f0-b044-b9248c1be843\",\"type\":\"Toolbar\"},{\"attributes\":{\"fill_alpha\":{\"value\":0.5},\"fill_color\":{\"value\":\"navy\"},\"line_alpha\":{\"value\":0.5},\"line_color\":{\"value\":\"navy\"},\"x\":{\"field\":\"x\"},\"y\":{\"field\":\"y\"}},\"id\":\"9e0ea26e-7825-49c9-b0bb-9e9e48388101\",\"type\":\"Circle\"},{\"attributes\":{\"plot\":{\"id\":\"43434c20-523a-4b71-a9f8-3fdb6a07d2c0\",\"subtype\":\"Figure\",\"type\":\"Plot\"}},\"id\":\"19a8c019-dc9b-4a4b-810f-c79f54442394\",\"type\":\"PanTool\"},{\"attributes\":{\"dimension\":1,\"plot\":{\"id\":\"43434c20-523a-4b71-a9f8-3fdb6a07d2c0\",\"subtype\":\"Figure\",\"type\":\"Plot\"},\"ticker\":{\"id\":\"c7ace0b3-4767-43e4-9d25-ee4091082854\",\"type\":\"LogTicker\"}},\"id\":\"1545f825-cd0c-4198-81c4-9dad768fbb43\",\"type\":\"Grid\"},{\"attributes\":{},\"id\":\"dffb93ec-fb57-4fd0-9cc0-8fb4c717dff6\",\"type\":\"LogScale\"},{\"attributes\":{\"callback\":null,\"column_names\":[\"x\",\"y\"],\"data\":{\"x\":{\"__ndarray__\":\"uB6F61G4rj+4HoXrUbiuPwgFmUftM68/NXte5rf5sj+w+Qc0i4G1PwrXo3A9Crc/CtejcD0Ktz+qP3gtVyC4P5qZmZmZmbk/70+fBiPfuT//NLfeiQq8Pylcj8L1KLw/48VflowswD/reayyIOXDP3sUrkfhesQ/LZSbyHLCxD8z1vs4etzFP37zJCaJK8c/UrgehetRyD9SuB6F61HIP1K4HoXrUcg/qzBI/F4Pyj9kUGBE7IXMPwEysk/0As4/7O514r2Vzz+9HXFCJZ7QP3YVwSAFhdE/7FG4HoXr0T9A6qw3gRXSPxtuJ5kKP9M/GNYxGRAN1D+ndcgGm3vUP2Bbe191+9Q/giaQNuFf1T8UW3+t2rnVP8P1KFyPwtU/w/UoXI/C1T+OTkUqWCfWPzwNe9wTANk/L+4sO/F42z+AFxdXYAPdP/FHhK3UzN0/vZKMzB1w4D8d5cP10DbiP+mAjTvukuM/jmNhjXhp5D8sjyTu2/rkP1OuDD8XYOU/T5ajcTkT5j/AOtDcAP7mP04k5JDWzOg/DK+yqUeV6T/RsVK1RADqP2WzEpBDceo/PFu4sdjI6j8RR5vMjrfrPx8Um+F0s+w/RLaf2UFL7T8F8xGOVJntP5ASO6JQz+0/GzJktkwF7j8/1PVTn2fuP2qOWblI6e4/DO3U9TyL7z+uR+F6FK7vP7x3AiQr0u8/QQyygtAq8D+SijPwhk3wP4R5oIqsS/E/+ttx79Cx8T9qYQaCVE3yP1yPwvUoXPM/XI/C9Shc8z+9N/UKD7LzP97bs8vWWfQ/ask7XKIF9T+Ad0I1moL1P7SzrDY7svU/PwPc2QfW9T/Rf4CPSfb1PxSuR+F6FPY/fkAk5TZC9j/Rcceqk9n5P4abs9Wi+/o/YVzy0zdI+z/Chh+T9MP7P7WwrA2Ojfw/MFLNX+zh/D8fSD60Nw79P8q0FVZJdv0/fHrmSj4r/j+hSSa167z+P655UmSnSv8/Sn4sYIWT/z/I3ZsaTJcAQAasVDvxMQFADU+A6xN9AUD4safJ5CwCQPo0umkkoAJApHA9CtejAkActX+/Hx4DQClVO/Tm9gNAG/efaYxSBEDqysLEBvEFQElPKMs8AgZApc5cIGYbBkCoonUSlawGQLttCE9KdgdA8e5ToC/PB0BMOg9WaSAIQMIJlUitOQlAZO5muaBXCkBn650Ry7MKQIEJU5KbywpAHi8P4dKsC0C4TI/SzGAMQJkganuW3QxAWBlaCn/FDUAungUjFLQPQLUXyjuxfBFAUVa8EhgEE0BQ3BZNzJ4TQCqc9fVPDhRAxvBlVu1yFEBQTi5r0ssUQJXVJXzZTBVAKVyPwvUoFkD40PvlnrAZQO/YB/ladh5AcCkQjdTCH0B3Lu3xxM4gQL+N/cPJ1CFAKVyPwvUoIkAUW+4oqIkiQIRZG5EdaCRA+oYPuhl3J0CFpy3T6ogvQI7ANG4oIzJAKAq7lGoJNEAkvS7ThQFCQA==\",\"dtype\":\"float64\",\"shape\":[140]},\"y\":{\"__ndarray__\":\"uB6F61G4nj97FK5H4XqkP5qZmZmZmak/uB6F61G4rj/sUbgeheuxP3sUrkfherQ/CtejcD0Ktz8K16NwPQq3P5qZmZmZmbk/KVyPwvUovD+4HoXrUbi+P6RwPQrXo8A/7FG4HoXrwT/sUbgehevBPzMzMzMzM8M/exSuR+F6xD97FK5H4XrEP8P1KFyPwsU/CtejcD0Kxz+oClc7TPTHP1K4HoXrUcg/mpmZmZmZyT8pXI/C9SjMPylcj8L1KMw/uB6F61G4zj+4HoXrUbjOPwAAAAAAANA/pHA9Ctej0D9I4XoUrkfRP+xRuB6F69E/j8L1KFyP0j8zMzMzMzPTP3sUrkfhetQ/exSuR+F61D8fhetRuB7VP8P1KFyPwtU/CtejcD0K1z+uR+F6FK7XP/YoXI/C9dg/mpmZmZmZ2T89CtejcD3aP4XrUbgehds/zczMzMzM3D9xPQrXo3DdPxSuR+F6FN4/uB6F61G43j8AAAAAAADgP1K4HoXrUeA/9ihcj8L14D+amZmZmZnhP+xRuB6F6+E/PQrXo3A94j8zMzMzMzPjP4XrUbgeheM/KVyPwvUo5D/NzMzMzMzkPywYpcC/k+U/FK5H4XoU5j+4HoXrUbjmP1yPwvUoXOc/AAAAAAAA6D/2KFyPwvXoP5qZmZmZmek/PQrXo3A96j/hehSuR+HqP9ejcD0K1+s/exSuR+F67D9xPQrXo3DtPxSuR+F6FO4/ZmZmZmZm7j+uR+F6FK7vPylcj8L1KPA/pHA9Ctej8D/2KFyPwvXwP3E9CtejcPE/w/UoXI/C8T89CtejcD3yP00xYyPqoPI/CtejcD0K8z/Xo3A9CtfzP58TPl3hevQ/SOF6FK5H9T/sUbgehev1Pz0K16NwPfY/4XoUrkfh9j8m4qq90pD3Pxl8ZA7aBfg/pHA9Ctej+D8fhetRuB75PxSuR+F6FPo/4XoUrkfh+j9Euw55or/7P9rFBdSA2Pw/w/UoXI/C/T9iarZ/Zmb+P/h0rdpEf/8/KVyPwvUoAECkcD0K16MAQCBA8lF/JwFAmpmZmZmZAUAUrkfhehQCQKRwPQrXowJACtejcD0KA0CamZmZmZkDQClcj8L1KARAGDcLrw7qBEDD9Shcj8IFQFK4HoXrUQZAhetRuB6FB0CMLXR5eWMIQFLHne7JaglAPQrXo3A9CkBI4XoUrkcLQFLc+8jPLgxA7hmWeyoNDUApXI/C9SgOQLhXwAk8WQ9AXI/C9ShcEEAbL4Qx5z4RQEjhehSuRxJAAfnMiNhUE0Bcj8L1KFwUQMC7FwJ7FBVACtejcD0KFkAAAAAAAAAXQJlVRHAXEBlApoyT0JPVGUDNzMzMzMwaQH6s014m+hxAuk85jBSuH0D4fJltacggQJlqokod1CFAK6KhPb7iIkB342D0ZDUlQG1qZpkXECdAn4m3YCA2K0AKuHe2uJ4uQHQ7UEMzszJASOF6FK5HN0ABgrWIcd1DQA==\",\"dtype\":\"float64\",\"shape\":[140]}}},\"id\":\"7e9c4119-d922-4872-9cd5-7e69b07dd27f\",\"type\":\"ColumnDataSource\"},{\"attributes\":{\"plot\":{\"id\":\"43434c20-523a-4b71-a9f8-3fdb6a07d2c0\",\"subtype\":\"Figure\",\"type\":\"Plot\"}},\"id\":\"6bc99437-6ff2-49be-b4bc-8d15aa4fcbb9\",\"type\":\"WheelZoomTool\"},{\"attributes\":{\"plot\":{\"id\":\"43434c20-523a-4b71-a9f8-3fdb6a07d2c0\",\"subtype\":\"Figure\",\"type\":\"Plot\"}},\"id\":\"c347da37-3598-4506-b502-4555bda63731\",\"type\":\"HelpTool\"},{\"attributes\":{\"axis_label\":\"Z2\",\"formatter\":{\"id\":\"9b204709-0b5e-46a4-a9d9-0e66a22a485b\",\"type\":\"LogTickFormatter\"},\"plot\":{\"id\":\"43434c20-523a-4b71-a9f8-3fdb6a07d2c0\",\"subtype\":\"Figure\",\"type\":\"Plot\"},\"ticker\":{\"id\":\"c7ace0b3-4767-43e4-9d25-ee4091082854\",\"type\":\"LogTicker\"}},\"id\":\"df788291-67a3-4422-8041-76019d83c1e4\",\"type\":\"LogAxis\"},{\"attributes\":{\"plot\":{\"id\":\"43434c20-523a-4b71-a9f8-3fdb6a07d2c0\",\"subtype\":\"Figure\",\"type\":\"Plot\"},\"ticker\":{\"id\":\"51fadbcf-357a-4e1e-8f71-1c6932e30c4c\",\"type\":\"LogTicker\"}},\"id\":\"296d2c68-94a9-4adb-885e-134e3858e0b6\",\"type\":\"Grid\"},{\"attributes\":{\"below\":[{\"id\":\"90503550-523e-4bd1-b360-4685aa1031f0\",\"type\":\"LogAxis\"}],\"left\":[{\"id\":\"df788291-67a3-4422-8041-76019d83c1e4\",\"type\":\"LogAxis\"}],\"renderers\":[{\"id\":\"90503550-523e-4bd1-b360-4685aa1031f0\",\"type\":\"LogAxis\"},{\"id\":\"296d2c68-94a9-4adb-885e-134e3858e0b6\",\"type\":\"Grid\"},{\"id\":\"df788291-67a3-4422-8041-76019d83c1e4\",\"type\":\"LogAxis\"},{\"id\":\"1545f825-cd0c-4198-81c4-9dad768fbb43\",\"type\":\"Grid\"},{\"id\":\"afbb991d-5f98-412d-89c2-78d152bafb79\",\"type\":\"BoxAnnotation\"},{\"id\":\"cb5cfaf4-375c-42c6-8317-014c4b10b4ab\",\"type\":\"Legend\"},{\"id\":\"8f224aad-2e4b-4c69-a56f-a449ed66432c\",\"type\":\"GlyphRenderer\"}],\"title\":{\"id\":\"e54da62c-0fad-48a1-96c0-a085d933af3a\",\"type\":\"Title\"},\"tool_events\":{\"id\":\"784bb8e0-8b67-4f00-a50e-c0d004bd123f\",\"type\":\"ToolEvents\"},\"toolbar\":{\"id\":\"dae189f1-0b5e-47f0-b044-b9248c1be843\",\"type\":\"Toolbar\"},\"toolbar_location\":\"above\",\"x_range\":{\"id\":\"e48f1b5b-51aa-44ad-8077-ccc3df68648c\",\"type\":\"Range1d\"},\"x_scale\":{\"id\":\"dffb93ec-fb57-4fd0-9cc0-8fb4c717dff6\",\"type\":\"LogScale\"},\"y_range\":{\"id\":\"cccb96a3-4ecb-46b5-9e29-a81dbdd3b414\",\"type\":\"Range1d\"},\"y_scale\":{\"id\":\"8a04a083-c409-4b9f-9886-7788a22d662c\",\"type\":\"LogScale\"}},\"id\":\"43434c20-523a-4b71-a9f8-3fdb6a07d2c0\",\"subtype\":\"Figure\",\"type\":\"Plot\"},{\"attributes\":{\"bottom_units\":\"screen\",\"fill_alpha\":{\"value\":0.5},\"fill_color\":{\"value\":\"lightgrey\"},\"left_units\":\"screen\",\"level\":\"overlay\",\"line_alpha\":{\"value\":1.0},\"line_color\":{\"value\":\"black\"},\"line_dash\":[4,4],\"line_width\":{\"value\":2},\"plot\":null,\"render_mode\":\"css\",\"right_units\":\"screen\",\"top_units\":\"screen\"},\"id\":\"afbb991d-5f98-412d-89c2-78d152bafb79\",\"type\":\"BoxAnnotation\"},{\"attributes\":{\"num_minor_ticks\":10},\"id\":\"51fadbcf-357a-4e1e-8f71-1c6932e30c4c\",\"type\":\"LogTicker\"},{\"attributes\":{\"data_source\":{\"id\":\"7e9c4119-d922-4872-9cd5-7e69b07dd27f\",\"type\":\"ColumnDataSource\"},\"glyph\":{\"id\":\"9e0ea26e-7825-49c9-b0bb-9e9e48388101\",\"type\":\"Circle\"},\"hover_glyph\":null,\"muted_glyph\":null,\"nonselection_glyph\":{\"id\":\"ee09af6e-3937-4392-a7dc-92770a600d5d\",\"type\":\"Circle\"},\"selection_glyph\":null},\"id\":\"8f224aad-2e4b-4c69-a56f-a449ed66432c\",\"type\":\"GlyphRenderer\"},{\"attributes\":{\"plot\":null,\"text\":\"QQ plot\"},\"id\":\"e54da62c-0fad-48a1-96c0-a085d933af3a\",\"type\":\"Title\"},{\"attributes\":{\"ticker\":null},\"id\":\"9b204709-0b5e-46a4-a9d9-0e66a22a485b\",\"type\":\"LogTickFormatter\"},{\"attributes\":{\"ticker\":null},\"id\":\"100e10f0-268d-423c-abd3-e0ee069650ef\",\"type\":\"LogTickFormatter\"},{\"attributes\":{\"label\":{\"value\":\"NA\"},\"renderers\":[{\"id\":\"8f224aad-2e4b-4c69-a56f-a449ed66432c\",\"type\":\"GlyphRenderer\"}]},\"id\":\"40902350-98f9-49dd-94cc-663683d6fd25\",\"type\":\"LegendItem\"},{\"attributes\":{\"callback\":null,\"end\":36.011896512815184,\"start\":0.06},\"id\":\"e48f1b5b-51aa-44ad-8077-ccc3df68648c\",\"type\":\"Range1d\"},{\"attributes\":{\"axis_label\":\"Z1\",\"formatter\":{\"id\":\"100e10f0-268d-423c-abd3-e0ee069650ef\",\"type\":\"LogTickFormatter\"},\"plot\":{\"id\":\"43434c20-523a-4b71-a9f8-3fdb6a07d2c0\",\"subtype\":\"Figure\",\"type\":\"Plot\"},\"ticker\":{\"id\":\"51fadbcf-357a-4e1e-8f71-1c6932e30c4c\",\"type\":\"LogTicker\"}},\"id\":\"90503550-523e-4bd1-b360-4685aa1031f0\",\"type\":\"LogAxis\"},{\"attributes\":{},\"id\":\"784bb8e0-8b67-4f00-a50e-c0d004bd123f\",\"type\":\"ToolEvents\"},{\"attributes\":{\"num_minor_ticks\":10},\"id\":\"c7ace0b3-4767-43e4-9d25-ee4091082854\",\"type\":\"LogTicker\"},{\"attributes\":{\"plot\":{\"id\":\"43434c20-523a-4b71-a9f8-3fdb6a07d2c0\",\"subtype\":\"Figure\",\"type\":\"Plot\"}},\"id\":\"f238afce-b94b-459a-a6c6-b00ed3f6f368\",\"type\":\"ResetTool\"},{\"attributes\":{},\"id\":\"8a04a083-c409-4b9f-9886-7788a22d662c\",\"type\":\"LogScale\"}],\"root_ids\":[\"43434c20-523a-4b71-a9f8-3fdb6a07d2c0\"]},\"title\":\"Bokeh Application\",\"version\":\"0.12.6\"}};\n",
       "            var render_items = [{\"docid\":\"4e0f1da5-8a27-4908-b93a-4a51e40cf8bd\",\"elementid\":\"2e4e9a5d-6138-4f11-bb02-44b596c79439\",\"modelid\":\"43434c20-523a-4b71-a9f8-3fdb6a07d2c0\"}];\n",
       "            \n",
       "            Bokeh.embed.embed_items(docs_json, render_items);\n",
       "          };\n",
       "          if (document.readyState != \"loading\") fn();\n",
       "          else document.addEventListener(\"DOMContentLoaded\", fn);\n",
       "        })();\n",
       "      },\n",
       "      function(Bokeh) {\n",
       "      }\n",
       "    ];\n",
       "  \n",
       "    function run_inline_js() {\n",
       "      \n",
       "      if ((window.Bokeh !== undefined) || (force === true)) {\n",
       "        for (var i = 0; i < inline_js.length; i++) {\n",
       "          inline_js[i](window.Bokeh);\n",
       "        }if (force === true) {\n",
       "          display_loaded();\n",
       "        }} else if (Date.now() < window._bokeh_timeout) {\n",
       "        setTimeout(run_inline_js, 100);\n",
       "      } else if (!window._bokeh_failed_load) {\n",
       "        console.log(\"Bokeh: BokehJS failed to load within specified timeout.\");\n",
       "        window._bokeh_failed_load = true;\n",
       "      } else if (force !== true) {\n",
       "        var cell = $(document.getElementById(\"2e4e9a5d-6138-4f11-bb02-44b596c79439\")).parents('.cell').data().cell;\n",
       "        cell.output_area.append_execute_result(NB_LOAD_WARNING)\n",
       "      }\n",
       "  \n",
       "    }\n",
       "  \n",
       "    if (window._bokeh_is_loading === 0) {\n",
       "      console.log(\"Bokeh: BokehJS loaded, going straight to plotting\");\n",
       "      run_inline_js();\n",
       "    } else {\n",
       "      load_libs(js_urls, function() {\n",
       "        console.log(\"Bokeh: BokehJS plotting callback run at\", now());\n",
       "        run_inline_js();\n",
       "      });\n",
       "    }\n",
       "  }(this));\n",
       "</script>"
      ]
     },
     "metadata": {},
     "output_type": "display_data"
    }
   ],
   "source": [
    "# show the plot\n",
    "pygslib.plothtml.show(fig)"
   ]
  },
  {
   "cell_type": "code",
   "execution_count": null,
   "metadata": {
    "collapsed": true
   },
   "outputs": [],
   "source": []
  }
 ],
 "metadata": {
  "anaconda-cloud": {},
  "kernelspec": {
   "display_name": "Python [conda root]",
   "language": "python",
   "name": "conda-root-py"
  },
  "language_info": {
   "codemirror_mode": {
    "name": "ipython",
    "version": 2
   },
   "file_extension": ".py",
   "mimetype": "text/x-python",
   "name": "python",
   "nbconvert_exporter": "python",
   "pygments_lexer": "ipython2",
   "version": "2.7.12"
  }
 },
 "nbformat": 4,
 "nbformat_minor": 0
}
