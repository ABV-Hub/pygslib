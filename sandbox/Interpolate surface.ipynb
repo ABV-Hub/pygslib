{
 "cells": [
  {
   "cell_type": "code",
   "execution_count": null,
   "metadata": {},
   "outputs": [],
   "source": [
    "import pandas as pd\n",
    "from scipy.interpolate import Rbf\n",
    "from scipy.spatial import KDTree\n",
    "import numpy as np\n",
    "import matplotlib.pyplot as plt\n",
    "%matplotlib inline\n"
   ]
  },
  {
   "cell_type": "code",
   "execution_count": null,
   "metadata": {},
   "outputs": [],
   "source": [
    "# Get data \n",
    "data = pd.read_csv('test.csv')\n",
    "\n",
    "#Create points to interoplate\n",
    "nx = 100\n",
    "ny = 100\n",
    "dx = 10\n",
    "dy = 10\n",
    "dgridx = 50\n",
    "dgridy = 50\n",
    "xmin = 0. # from model definition \n",
    "ymin = 0.\n",
    "xmax = xmin + dx*(nx+1) # from model definition \n",
    "ymax = ymin + dy*(ny+1)\n",
    "x = np.arange (xmin, xmax, dgridx)\n",
    "y = np.arange (ymin, ymax, dgridy)\n",
    "xi, yi = np.meshgrid(x, y)\n",
    "\n",
    "interp = pd.DataFrame({'X':xi.ravel(), 'Y':yi.ravel()})\n",
    "\n",
    "ax = data.plot.scatter('XP', 'YP', color='k', alpha=0.5)\n",
    "_ = interp.plot.scatter('X', 'Y', ax=ax)\n",
    "\n",
    "plt.show()\n",
    "print(data.shape[0])\n"
   ]
  },
  {
   "cell_type": "code",
   "execution_count": null,
   "metadata": {},
   "outputs": [],
   "source": [
    "#Check for duplicates around m metres \n",
    "m = 0.5\n",
    "ktree = KDTree(data[['XP', 'YP']])\n",
    "duplicates = ktree.query_pairs(r=m )\n",
    "print (len(duplicates))\n",
    "print (duplicates)"
   ]
  },
  {
   "cell_type": "code",
   "execution_count": null,
   "metadata": {},
   "outputs": [],
   "source": [
    "for i in  ['multiquadric', 'inverse', 'gaussian', 'linear', 'cubic', 'quintic', 'thin_plate']:\n",
    "    print ('interpolating with {}'.format(i))\n",
    "    # create an RBF interpolator    \n",
    "    rbfi = Rbf(data['XP'].values, data['YP'].values, data['ZP'].values, epsilon=100, function = i)  # radial basis function interpolator instance\n",
    "    # interpolated values\n",
    "    zi = rbfi(interp['X'].values, interp['Y'].values) \n",
    "    interp[i] = zi\n",
    "    "
   ]
  },
  {
   "cell_type": "code",
   "execution_count": null,
   "metadata": {},
   "outputs": [],
   "source": [
    "interp.to_csv('grd.csv', index=False)"
   ]
  },
  {
   "cell_type": "code",
   "execution_count": null,
   "metadata": {},
   "outputs": [],
   "source": [
    "# use paraview to imprt csvs (data points abd grid) merge csvs and generate mesh\n",
    "# export mesh as vtkpolydata or stl \n"
   ]
  },
  {
   "cell_type": "code",
   "execution_count": null,
   "metadata": {},
   "outputs": [],
   "source": []
  }
 ],
 "metadata": {
  "kernelspec": {
   "display_name": "Python 3",
   "language": "python",
   "name": "python3"
  },
  "language_info": {
   "codemirror_mode": {
    "name": "ipython",
    "version": 3
   },
   "file_extension": ".py",
   "mimetype": "text/x-python",
   "name": "python",
   "nbconvert_exporter": "python",
   "pygments_lexer": "ipython3",
   "version": "3.6.4"
  }
 },
 "nbformat": 4,
 "nbformat_minor": 2
}
