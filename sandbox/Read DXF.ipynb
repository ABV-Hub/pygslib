{
 "cells": [
  {
   "cell_type": "code",
   "execution_count": null,
   "metadata": {},
   "outputs": [],
   "source": [
    "import ezdxf\n",
    "import vtk"
   ]
  },
  {
   "cell_type": "markdown",
   "metadata": {},
   "source": [
    "# Get DXF data \n",
    "\n",
    "Here we assume that wireframes are stored as `3DFACE` entities"
   ]
  },
  {
   "cell_type": "code",
   "execution_count": null,
   "metadata": {},
   "outputs": [],
   "source": [
    "dwg = ezdxf.readfile('test.dxf')"
   ]
  },
  {
   "cell_type": "code",
   "execution_count": null,
   "metadata": {},
   "outputs": [],
   "source": [
    "# iterate over all entities in model space\n",
    "msp = dwg.modelspace()\n",
    "\n",
    "# entity query for all LINE entities in model space\n",
    "triangles = []\n",
    "for e in msp.query('3DFACE'):\n",
    "    # get point coordinates of the triangle (one per row)\n",
    "    triangles.append([e.dxf.vtx0, e.dxf.vtx1, e.dxf.vtx3])\n"
   ]
  },
  {
   "cell_type": "code",
   "execution_count": null,
   "metadata": {},
   "outputs": [],
   "source": [
    "#first triangle\n",
    "print (triangles[0])"
   ]
  },
  {
   "cell_type": "markdown",
   "metadata": {},
   "source": [
    "# Put Triangles in VTK"
   ]
  },
  {
   "cell_type": "code",
   "execution_count": null,
   "metadata": {},
   "outputs": [],
   "source": [
    "# Setup points\n",
    "meshpoints = vtk.vtkPoints()\n",
    "meshtriangle = vtk.vtkTriangle()\n",
    "meshtriangles = vtk.vtkCellArray()\n",
    "id = 0\n",
    "for i in triangles:\n",
    "    meshpoints.InsertNextPoint(i[0])\n",
    "    meshpoints.InsertNextPoint(i[1])\n",
    "    meshpoints.InsertNextPoint(i[2])\n",
    "    meshtriangle = vtk.vtkTriangle()\n",
    "    meshtriangle.GetPointIds().InsertId(0,id)\n",
    "    meshtriangle.GetPointIds().InsertId(1,id+1)\n",
    "    meshtriangle.GetPointIds().InsertId(2,id+2)\n",
    "    meshtriangles.InsertNextCell(meshtriangle)\n",
    "    id = id+3\n",
    "\n",
    "mesh = vtk.vtkPolyData()    \n",
    "mesh.SetPoints(meshpoints)\n",
    "mesh.SetPolys(meshtriangles)\n",
    "\n",
    "# doing a bit of cleanup (remove duplicated points)\n",
    "cleanPolyData = vtk.vtkCleanPolyData()\n",
    "cleanPolyData.SetInputData(mesh)\n",
    "cleanPolyData.Update()\n"
   ]
  },
  {
   "cell_type": "code",
   "execution_count": null,
   "metadata": {},
   "outputs": [],
   "source": [
    "#export mesh\n",
    "writer = vtk.vtkXMLPolyDataWriter()\n",
    "writer.SetFileName(\"test.vtp\")\n",
    "writer.SetInputData(cleanPolyData.GetOutput())\n",
    "writer.Write()\n"
   ]
  },
  {
   "cell_type": "code",
   "execution_count": null,
   "metadata": {},
   "outputs": [],
   "source": []
  }
 ],
 "metadata": {
  "kernelspec": {
   "display_name": "Python 3",
   "language": "python",
   "name": "python3"
  },
  "language_info": {
   "codemirror_mode": {
    "name": "ipython",
    "version": 3
   },
   "file_extension": ".py",
   "mimetype": "text/x-python",
   "name": "python",
   "nbconvert_exporter": "python",
   "pygments_lexer": "ipython3",
   "version": "3.6.4"
  }
 },
 "nbformat": 4,
 "nbformat_minor": 2
}
