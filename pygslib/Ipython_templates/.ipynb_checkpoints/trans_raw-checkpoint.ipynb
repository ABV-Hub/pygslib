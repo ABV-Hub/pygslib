{
 "cells": [
  {
   "cell_type": "markdown",
   "metadata": {},
   "source": [
    "PyGSLIB\n",
    "========\n",
    "\n",
    "Trans\n",
    "---------------\n",
    "\n",
    "The GSLIb equivalent parameter file is\n",
    "\n",
    "```\n",
    "                  Parameters for TRANS\n",
    "                  ********************\n",
    "\n",
    "START OF PARAMETERS:\n",
    "1                         \\1=continuous, 0=categorical\n",
    "data/true.dat          \\file with reference distribution\n",
    "1   0                     \\   columns for variable and weight(0=none)\n",
    "data/cluster.dat       \\file with original distributions\n",
    "3   0                     \\   columns for variable and weight(0=none)\n",
    "-1.0e21  1.0e21           \\trimming limits\n",
    "trans.out                 \\file for transformed distributions\n",
    "1                         \\number of realizations or \"sets\" to trans\n",
    "50  50  1                 \\categorical: nx, ny, nz: size of 3-D model\n",
    " 2   2  0                 \\   wx, wy, wz: window size for tie-breaking\n",
    "1000                      \\continuous: number to transform per \"set\"\n",
    "0.0   75.0                \\   minimum and maximum values\n",
    "1      1.0                \\   lower tail: option, parameter\n",
    "1     75.0                \\   upper tail: option, parameter\n",
    "1                         \\honor local data? (1=yes, 0=no)\n",
    "data/kt3d.out             \\   file with estimation variance\n",
    "2                         \\   column number\n",
    "0.5                       \\   control parameter ( 0.33 < w < 3.0 )\n",
    "69069                     \\   random number seed (conditioning cat.)\n",
    "```\n"
   ]
  },
  {
   "cell_type": "code",
   "execution_count": 1,
   "metadata": {
    "collapsed": false
   },
   "outputs": [],
   "source": [
    "#general imports\n",
    "import matplotlib.pyplot as plt   \n",
    "import pygslib as gslib  \n",
    "import numpy as np\n",
    "import pandas as pd\n",
    "\n",
    "#make the plots inline\n",
    "%matplotlib inline  "
   ]
  },
  {
   "cell_type": "markdown",
   "metadata": {},
   "source": [
    "Getting the data ready for work\n",
    "---------\n",
    "If the data is in GSLIB format you can use the function `gslib.read_gslib_file(filename)` to import the data into a Pandas DataFrame. \n"
   ]
  },
  {
   "cell_type": "code",
   "execution_count": 2,
   "metadata": {
    "collapsed": false
   },
   "outputs": [
    {
     "name": "stdout",
     "output_type": "stream",
     "text": [
      "\t\ttrue \n",
      "      Primary  Secondary\n",
      "2495     7.11       8.82\n",
      "2496     9.26       7.97\n",
      "2497     1.86       8.62\n",
      "2498     1.12       6.59\n",
      "2499     1.65       5.83\n",
      "\n",
      "\t\tcluster \n",
      "     Xlocation  Ylocation  Primary  Secondary  Declustering Weight\n",
      "135       31.5       41.5    22.75       8.21                0.427\n",
      "136       34.5       32.5     9.42       6.76                0.413\n",
      "137       35.5       31.5     8.48      12.78                0.419\n",
      "138       35.5       33.5     2.82       9.21                0.271\n",
      "139       36.5       32.5     5.26      12.40                0.252\n",
      "\n",
      "\t\tkt3d \n",
      "      Estimate  EstimationVariance\n",
      "2495     2.938               0.918\n",
      "2496     2.872               0.923\n",
      "2497     2.829               0.928\n",
      "2498     2.809               0.935\n",
      "2499     2.742               0.947\n"
     ]
    }
   ],
   "source": [
    "#get the data in gslib format into a pandas Dataframe\n",
    "true= gslib.read_gslib_file('../datasets/true.dat')  \n",
    "cluster  = gslib.read_gslib_file('../datasets/cluster.dat')\n",
    "kt3d   = gslib.read_gslib_file('../datasets/kt3d.out')\n",
    "\n",
    "print '\\t\\ttrue \\n', true.tail()\n",
    "print '\\n\\t\\tcluster \\n',cluster.tail()\n",
    "print '\\n\\t\\tkt3d \\n',kt3d.tail()  \n",
    "\n"
   ]
  },
  {
   "cell_type": "markdown",
   "metadata": {},
   "source": [
    "### Some Stats\n",
    "Here we check we are not incorporating undefined values (see minimum and max) and that we have the same number of rows in the reference distribution (*true.dat*) and in the file with estimation variance (*kt3d.out*)"
   ]
  },
  {
   "cell_type": "code",
   "execution_count": 3,
   "metadata": {
    "collapsed": false
   },
   "outputs": [
    {
     "name": "stdout",
     "output_type": "stream",
     "text": [
      "\t\ttrue \n",
      "           Primary    Secondary\n",
      "count  2500.000000  2500.000000\n",
      "mean      2.580196     2.320084\n",
      "std       5.151933     2.705845\n",
      "min       0.010000     0.110000\n",
      "25%       0.340000     0.640000\n",
      "50%       0.960000     1.350000\n",
      "75%       2.560000     2.820000\n",
      "max     102.700000    22.460000\n",
      "\n",
      "\t\tcluster \n",
      "        Xlocation   Ylocation     Primary   Secondary  Declustering Weight\n",
      "count  140.000000  140.000000  140.000000  140.000000           140.000000\n",
      "mean    23.321429   25.607143    4.350429    4.140214             1.000021\n",
      "std     14.461692   13.594697    6.726625    4.508008             0.542023\n",
      "min      0.500000    0.500000    0.060000    0.180000             0.252000\n",
      "25%      9.500000   14.250000    0.700000    0.787500             0.445000\n",
      "50%     25.500000   27.000000    2.195000    2.375000             1.012000\n",
      "75%     35.500000   36.500000    5.327500    5.580000             1.416000\n",
      "max     48.500000   48.500000   58.320000   22.460000             2.023000\n",
      "\n",
      "\t\tkt3d \n",
      "          Estimate  EstimationVariance\n",
      "count  2500.000000         2500.000000\n",
      "mean      2.393652            0.572960\n",
      "std       2.818447            0.176583\n",
      "min      -1.376000            0.000000\n",
      "25%       0.994000            0.508750\n",
      "50%       1.595500            0.587000\n",
      "75%       2.634500            0.672000\n",
      "max      58.320000            0.971000\n"
     ]
    }
   ],
   "source": [
    "print '\\t\\ttrue \\n', true.describe()\n",
    "print '\\n\\t\\tcluster \\n',cluster.describe()\n",
    "print '\\n\\t\\tkt3d \\n',kt3d.describe()\n"
   ]
  },
  {
   "cell_type": "code",
   "execution_count": null,
   "metadata": {
    "collapsed": true
   },
   "outputs": [],
   "source": []
  },
  {
   "cell_type": "markdown",
   "metadata": {
    "collapsed": true
   },
   "source": [
    "## Testing trans"
   ]
  },
  {
   "cell_type": "code",
   "execution_count": 4,
   "metadata": {
    "collapsed": false,
    "scrolled": true
   },
   "outputs": [
    {
     "name": "stdout",
     "output_type": "stream",
     "text": [
      "gmedian,rvr,rcdf,ncut,zval,error = trans(ivtype,vr,wt,vo,wo,nx,ny,nz,wx,wy,wz,nxyza,zmin,zmax,ltpar,utpar,ltail,utail,ldata,kv,ef,rseed,[nr,no])\n",
      "\n",
      "Wrapper for ``trans``.\n",
      "\n",
      "Parameters\n",
      "----------\n",
      "ivtype : input int\n",
      "vr : input rank-1 array('f') with bounds (nr)\n",
      "wt : input rank-1 array('f') with bounds (nr)\n",
      "vo : input rank-1 array('f') with bounds (no)\n",
      "wo : input rank-1 array('f') with bounds (no)\n",
      "nx : input int\n",
      "ny : input int\n",
      "nz : input int\n",
      "wx : input int\n",
      "wy : input int\n",
      "wz : input int\n",
      "nxyza : input int\n",
      "zmin : input float\n",
      "zmax : input float\n",
      "ltpar : input float\n",
      "utpar : input float\n",
      "ltail : input int\n",
      "utail : input int\n",
      "ldata : input int\n",
      "kv : input rank-1 array('f') with bounds (nr)\n",
      "ef : input float\n",
      "rseed : input int\n",
      "\n",
      "Other Parameters\n",
      "----------------\n",
      "nr : input int, optional\n",
      "    Default: len(vr)\n",
      "no : input int, optional\n",
      "    Default: len(vo)\n",
      "\n",
      "Returns\n",
      "-------\n",
      "gmedian : float\n",
      "rvr : rank-1 array('f') with bounds (nr)\n",
      "rcdf : rank-1 array('f') with bounds (nr)\n",
      "ncut : int\n",
      "zval : rank-1 array('f') with bounds (no)\n",
      "error : int\n",
      "\n"
     ]
    }
   ],
   "source": [
    "print gslib.__trans.trans.__doc__"
   ]
  },
  {
   "cell_type": "code",
   "execution_count": 5,
   "metadata": {
    "collapsed": false
   },
   "outputs": [
    {
     "name": "stdout",
     "output_type": "stream",
     "text": [
      "error ?  False 0\n"
     ]
    }
   ],
   "source": [
    "true['Weight'] =1\n",
    "cluster['NO-Weight']=1\n",
    "parameters_trans = {\n",
    "        'ivtype' : 1,                           # 1=continuous, 0=categorical (in this case vo may have nxyza raws?)\n",
    "        'vr'     : true['Primary'],             # reference distribution (variable )\n",
    "        'wt'     : true['Weight'],              # reference distribution (weight)\n",
    "        'vo'     : cluster['Primary'],           # calibration scatterplot (secondary data)\n",
    "        'wo'     : cluster['NO-Weight'],        # calibration scatterplot (weight data)\n",
    "        'nx'     : 50 ,                          #categorical: nx, ny, nz: size of 3-D model\n",
    "        'ny'     : 50,                           \n",
    "        'nz'     : 1,\n",
    "        'wx'     : 2,                            #   wx, wy, wz: window size for tie-breaking\n",
    "        'wy'     : 2,\n",
    "        'wz'     : 0,\n",
    "        'nxyza'  : 2500,                         # continuous: number to transform per \"set\"\n",
    "        'zmin'   : 0 ,                           # minimum and maximum values\n",
    "        'zmax'   : 75,\n",
    "        'ltpar'  : 1,                            # lower/upper tail: option, parameter\n",
    "        'utpar'  : 75,\n",
    "        'ltail'  : 1,\n",
    "        'utail'  : 1,\n",
    "        'ldata'  : 1,                           # honor local data?\n",
    "        'kv'     : kt3d['EstimationVariance'].values,\n",
    "        'ef'     : 0.5,                         # control parameter ( 0.33 < w < 3.0 )\n",
    "        'rseed'  : 69069}                       #  random number seed (conditioning cat.)\n",
    "\n",
    "gmedian,rvr,rcdf,ncut,zval,error = gslib.__trans.trans(**parameters_trans)\n",
    "\n",
    "print 'error ? ',  error != 0, error\n"
   ]
  },
  {
   "cell_type": "markdown",
   "metadata": {},
   "source": [
    "## Comparing results with gslib"
   ]
  },
  {
   "cell_type": "code",
   "execution_count": 6,
   "metadata": {
    "collapsed": false
   },
   "outputs": [
    {
     "name": "stdout",
     "output_type": "stream",
     "text": [
      "gmedian 0.959999978542\n",
      "zval\n",
      "   transformed variable\n",
      "0              0.044571\n",
      "1              0.039962\n",
      "2              0.062277\n",
      "3              0.078089\n",
      "4              0.072163\n",
      "5              0.088185\n",
      "     transformed variable\n",
      "134             18.868206\n",
      "135             23.230911\n",
      "136              6.643336\n",
      "137              4.916990\n",
      "138              1.597525\n",
      "139              2.868510\n"
     ]
    }
   ],
   "source": [
    "print 'gmedian', gmedian\n",
    "print 'zval'\n",
    "print pd.DataFrame({'transformed variable':zval}).head(6)\n",
    "print pd.DataFrame({'transformed variable':zval}).tail(6)\n"
   ]
  },
  {
   "cell_type": "markdown",
   "metadata": {},
   "source": [
    "**Results in GSLIB ** \n",
    "```\n",
    "     0.04457\n",
    "     0.03996\n",
    "     0.06228\n",
    "     0.07809\n",
    "     0.07216\n",
    "     0.08818\n",
    "\n",
    "***\n",
    "      18.868\n",
    "      23.231\n",
    "       6.643\n",
    "       4.917\n",
    "       1.598\n",
    "       2.869\n",
    "```"
   ]
  },
  {
   "cell_type": "code",
   "execution_count": 7,
   "metadata": {
    "collapsed": false
   },
   "outputs": [
    {
     "name": "stdout",
     "output_type": "stream",
     "text": [
      "   i    rcdf   rvr\n",
      "0  1  0.0002  0.01\n",
      "1  2  0.0006  0.01\n",
      "2  3  0.0010  0.01\n",
      "3  4  0.0014  0.02\n",
      "4  5  0.0018  0.02\n",
      "         i      rcdf         rvr\n",
      "2495  2496  0.998215   43.500000\n",
      "2496  2497  0.998615   46.529999\n",
      "2497  2498  0.999015   54.389999\n",
      "2498  2499  0.999415   58.320000\n",
      "2499  2500  0.999815  102.699997\n"
     ]
    }
   ],
   "source": [
    "# not in gslib output, not used here because this is continuous\n",
    "i= np.arange(len(rcdf))+1\n",
    "\n",
    "print pd.DataFrame({'i':i, 'rcdf': rcdf, 'rvr': rvr}). head()\n",
    "print pd.DataFrame({'i':i, 'rcdf': rcdf, 'rvr': rvr}). tail()\n"
   ]
  },
  {
   "cell_type": "markdown",
   "metadata": {},
   "source": [
    "**expected results**\n",
    "\n",
    "By adding this into GSLIB code \n",
    "\n",
    "```\n",
    "\t  print *, 'i', 'rcdf(i)', 'rvr(i)'\n",
    "      do i=1,ncut\n",
    "\t      print *, i, rcdf(i), rvr(i)\n",
    "      end do\n",
    "```\n",
    "we get this results \n",
    "\n",
    "```\n",
    "\n",
    "\n",
    "           1   1.99999995E-04   9.99999978E-03\n",
    "           2   5.99999970E-04   9.99999978E-03\n",
    "           3   9.99999931E-04   9.99999978E-03\n",
    "           4   1.39999995E-03   1.99999996E-02\n",
    "           5   1.79999997E-03   1.99999996E-02\n",
    "******\n",
    "        2496  0.998214602       43.5000000    \n",
    "        2497  0.998614550       46.5299988    \n",
    "        2498  0.999014616       54.3899994    \n",
    "        2499  0.999414563       58.3199997    \n",
    "        2500  0.999814570       102.699997 \n",
    "```"
   ]
  },
  {
   "cell_type": "code",
   "execution_count": 8,
   "metadata": {
    "collapsed": false
   },
   "outputs": [
    {
     "data": {
      "text/plain": [
       "<bound method Figure.show of <matplotlib.figure.Figure object at 0x7f91aa56b110>>"
      ]
     },
     "execution_count": 8,
     "metadata": {},
     "output_type": "execute_result"
    },
    {
     "data": {
      "image/png": "[encoded data removed]",
      "text/plain": [
       "<matplotlib.figure.Figure at 0x7f91aa56b110>"
      ]
     },
     "metadata": {},
     "output_type": "display_data"
    }
   ],
   "source": [
    "\n",
    "parameters_probplt = {\n",
    "        'iwt'  : 0,                             #int, 1 use declustering weight\n",
    "        'va'   : true['Primary'],             # array('d') with bounds (nd)\n",
    "        'wt'   : true['Weight']} # array('d') with bounds (nd), wight variable (obtained with declust?)\n",
    "\n",
    "\n",
    "binval,cl,xpt025,xlqt,xmed,xuqt,xpt975,xmin,xmax,xcvr,xmen,xvar,error = gslib.__plot.probplt(**parameters_probplt)\n",
    "\n",
    "\n",
    "fig = plt.figure()\n",
    "ax = fig.add_subplot(1,1,1)\n",
    "plt.plot (cl, binval, label = 'True')\n",
    "parameters_probplt['va'] = cluster['Primary']\n",
    "parameters_probplt['wt'] = cluster['NO-Weight']\n",
    "binval,cl,xpt025,xlqt,xmed,xuqt,xpt975,xmin,xmax,xcvr,xmen,xvar,error = gslib.__plot.probplt(**parameters_probplt)\n",
    "plt.plot (cl, binval,  label = 'Cluster not transformed')\n",
    "parameters_probplt['va'] = zval\n",
    "parameters_probplt['wt'] = cluster['NO-Weight']\n",
    "binval,cl,xpt025,xlqt,xmed,xuqt,xpt975,xmin,xmax,xcvr,xmen,xvar,error = gslib.__plot.probplt(**parameters_probplt)\n",
    "plt.plot (cl, binval,  label = 'Cluster transformed')\n",
    "plt.grid(True)\n",
    "ax.set_xscale('log')\n",
    "#ax.set_yscale('log')\n",
    "plt.legend(loc=4)\n",
    "fig.show\n"
   ]
  },
  {
   "cell_type": "code",
   "execution_count": null,
   "metadata": {
    "collapsed": true
   },
   "outputs": [],
   "source": []
  }
 ],
 "metadata": {
  "kernelspec": {
   "display_name": "Python 2",
   "language": "python",
   "name": "python2"
  },
  "language_info": {
   "codemirror_mode": {
    "name": "ipython",
    "version": 2
   },
   "file_extension": ".py",
   "mimetype": "text/x-python",
   "name": "python",
   "nbconvert_exporter": "python",
   "pygments_lexer": "ipython2",
   "version": "2.7.10"
  }
 },
 "nbformat": 4,
 "nbformat_minor": 0
}
