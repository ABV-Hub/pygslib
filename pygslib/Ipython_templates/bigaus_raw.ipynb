{
 "cells": [
  {
   "cell_type": "markdown",
   "metadata": {},
   "source": [
    "PyGSLIB\n",
    "========\n",
    "\n",
    "bigaus\n",
    "---------------\n",
    "\n",
    "\n"
   ]
  },
  {
   "cell_type": "code",
   "execution_count": 1,
   "metadata": {
    "collapsed": false
   },
   "outputs": [],
   "source": [
    "#general imports\n",
    "import matplotlib.pyplot as plt   \n",
    "import pygslib as gslib                  \n",
    "import numpy as np \n",
    "import pandas as pd\n",
    "\n",
    "\n",
    "#make the plots inline\n",
    "%matplotlib inline  "
   ]
  },
  {
   "cell_type": "code",
   "execution_count": 2,
   "metadata": {
    "collapsed": false
   },
   "outputs": [],
   "source": [
    "#get the data in gslib format into a pandas Dataframe\n",
    "mydata= gslib.read_gslib_file('cluster.dat')  "
   ]
  },
  {
   "cell_type": "code",
   "execution_count": 3,
   "metadata": {
    "collapsed": false
   },
   "outputs": [
    {
     "name": "stdout",
     "output_type": "stream",
     "text": [
      " \n",
      " **** 5 first rows in my datafile \n",
      "\n",
      "      Xlocation  Ylocation  Primary  Secondary  Declustering Weight  Zlocation  \\\n",
      "0       39.5       18.5     0.06       0.22                1.619          0   \n",
      "1        5.5        1.5     0.06       0.27                1.619          0   \n",
      "2       38.5        5.5     0.08       0.40                1.416          0   \n",
      "3       20.5        1.5     0.09       0.39                1.821          0   \n",
      "4       27.5       14.5     0.09       0.24                1.349          0   \n",
      "\n",
      "   bhid  \n",
      "0     1  \n",
      "1     1  \n",
      "2     1  \n",
      "3     1  \n",
      "4     1  \n"
     ]
    }
   ],
   "source": [
    "# This is a 2D file, in this GSLIB version we require 3D data and drillhole name or domain code\n",
    "# so, we are adding constant elevation = 0 and a dummy BHID = 1 \n",
    "mydata['Zlocation']=0\n",
    "mydata['bhid']=1\n",
    "\n",
    "# printing to verify results\n",
    "print ' \\n **** 5 first rows in my datafile \\n\\n  ', mydata.head(n=5)"
   ]
  },
  {
   "cell_type": "markdown",
   "metadata": {},
   "source": [
    "## Calculate cutof for given deciles (using declustering wight)"
   ]
  },
  {
   "cell_type": "code",
   "execution_count": 4,
   "metadata": {
    "collapsed": false
   },
   "outputs": [
    {
     "name": "stdout",
     "output_type": "stream",
     "text": [
      "[-0.67448975  0.          0.67448975]\n"
     ]
    }
   ],
   "source": [
    "#Calculate gausian values for given deciles \n",
    "from scipy.stats import norm\n",
    "Ycuoff = norm.ppf([0.25, 0.5, 0.75])\n",
    "print Ycuoff\n"
   ]
  },
  {
   "cell_type": "code",
   "execution_count": 5,
   "metadata": {
    "collapsed": false
   },
   "outputs": [
    {
     "name": "stdout",
     "output_type": "stream",
     "text": [
      "there was any error?:  False\n"
     ]
    }
   ],
   "source": [
    "#get transformation table\n",
    "transin,transout, error = gslib.__dist_transf.ns_ttable(mydata['Primary'],mydata['Declustering Weight'])\n",
    "print 'there was any error?: ', error!=0"
   ]
  },
  {
   "cell_type": "code",
   "execution_count": 6,
   "metadata": {
    "collapsed": false
   },
   "outputs": [],
   "source": [
    "tt=pd.DataFrame({'Ycuoff': Ycuoff})"
   ]
  },
  {
   "cell_type": "code",
   "execution_count": 7,
   "metadata": {
    "collapsed": false
   },
   "outputs": [
    {
     "name": "stdout",
     "output_type": "stream",
     "text": [
      "there was any error?:  False 0\n",
      "Z cutoff [ 0.34000004  1.109976    2.75563465]\n"
     ]
    }
   ],
   "source": [
    "#get the equivelent value with back transformation \n",
    "Zcutoff,error = gslib.__dist_transf.backtr(tt['Ycuoff'],\n",
    "                                     transin,transout,\n",
    "                                     ltail=1,utail=1,ltpar=0,utpar=60,\n",
    "                                     zmin=0,zmax=60,getrank=0)\n",
    "print 'there was any error?: ', error!=0, error\n",
    "print 'Z cutoff', Zcutoff"
   ]
  },
  {
   "cell_type": "markdown",
   "metadata": {
    "collapsed": true
   },
   "source": [
    "## get some experimental variograms"
   ]
  },
  {
   "cell_type": "code",
   "execution_count": 8,
   "metadata": {
    "collapsed": false
   },
   "outputs": [],
   "source": [
    "# these are the parameters we need. Note that at difference of GSLIB this dictionary also stores \n",
    "# the actual data (ex, X, Y, etc.). \n",
    "\n",
    "#important! python is case sensitive 'bhid' is not equal to 'BHID'\n",
    "\n",
    "cut = mydata['Primary']<Zcutoff[0]\n",
    "mydata['ind_25'] = cut.astype(float) \n",
    "cut = mydata['Primary']<Zcutoff[1]\n",
    "mydata['ind_50'] = cut.astype(float) \n",
    "cut = mydata['Primary']<Zcutoff[2]\n",
    "mydata['ind_75'] = cut.astype(float) \n",
    "\n",
    "\n",
    "parameters = { \n",
    "'x'      :  mydata['Xlocation']   , # X coordinates, array('f') with bounds (nd), nd is number of data points\n",
    "'y'      :  mydata['Ylocation'],    # Y coordinates, array('f') with bounds (nd)\n",
    "'z'      :  mydata['Zlocation'],    # Z coordinates, array('f') with bounds (nd)\n",
    "'bhid'   :  mydata['bhid'],         # bhid for downhole variogram, array('i') with bounds (nd)    \n",
    "'vr'     :  mydata['ind_25']  ,  # Variables, array('f') with bounds (nd,nv), nv is number of variables\n",
    "'tmin'   : -1.0e21,                 # trimming limits, float\n",
    "'tmax'   :  1.0e21,                 # trimming limits, float\n",
    "'nlag'   :  10,                     # number of lags, int\n",
    "'xlag'   :  2,                      # lag separation distance, float                \n",
    "'xltol'  :  1,                      # lag tolerance, float\n",
    "'azm'    : [0],                     # azimuth, array('f') with bounds (ndir)\n",
    "'atol'   : [22.5],                  # azimuth tolerance, array('f') with bounds (ndir)\n",
    "'bandwh' : [10000],                 # bandwith h, array('f') with bounds (ndir)\n",
    "'dip'    : [0],                     # dip, array('f') with bounds (ndir)\n",
    "'dtol'   : [10],                    # dip tolerance, array('f') with bounds (ndir)\n",
    "'bandwd' : [10],                    # bandwith d, array('f') with bounds (ndir)\n",
    "'isill'  : 0,                       # standardize sills? (0=no, 1=yes), int\n",
    "'sills'  : [100],                   # variance used to std the sills, array('f') with bounds (nv)\n",
    "'ivtail' : [1],                     # tail var., array('i') with bounds (nvarg), nvarg is number of variograms\n",
    "'ivhead' : [1],                     # head var., array('i') with bounds (nvarg)\n",
    "'ivtype' : [1],                     # variogram type, array('i') with bounds (nvarg)\n",
    "'maxclp' : 50000}                   # maximum number of variogram point cloud to use, input int\n",
    "\n",
    "'''\n",
    "Remember this is GSLIB... use this code to define variograms\n",
    "type 1 = traditional semivariogram\n",
    "     2 = traditional cross semivariogram\n",
    "     3 = covariance\n",
    "     4 = correlogram\n",
    "     5 = general relative semivariogram\n",
    "     6 = pairwise relative semivariogram\n",
    "     7 = semivariogram of logarithms\n",
    "     8 = semimadogram\n",
    "\n",
    "'''              \n",
    "\n",
    "pdis25,pgam25, phm,ptm,phv,ptv,pnump, cldi, cldj, cldg, cldh = gslib.gamv(parameters)\n",
    "\n",
    "#check the variogram is ok\n",
    "assert gslib.check_gamv_par(parameters)==1 , 'sorry this parameter file is wrong' \n"
   ]
  },
  {
   "cell_type": "code",
   "execution_count": 9,
   "metadata": {
    "collapsed": false
   },
   "outputs": [
    {
     "name": "stdout",
     "output_type": "stream",
     "text": [
      "Zcutoff [ 0.34000004  1.109976    2.75563465]\n"
     ]
    }
   ],
   "source": [
    "#Now we are ready to calculate the veriogram\n",
    "\n",
    "parameters = { \n",
    "'x'      :  mydata['Xlocation']   , # X coordinates, array('f') with bounds (nd), nd is number of data points\n",
    "'y'      :  mydata['Ylocation'],    # Y coordinates, array('f') with bounds (nd)\n",
    "'z'      :  mydata['Zlocation'],    # Z coordinates, array('f') with bounds (nd)\n",
    "'bhid'   :  mydata['bhid'],         # bhid for downhole variogram, array('i') with bounds (nd)    \n",
    "'vr'     :  mydata['ind_50']  ,  # Variables, array('f') with bounds (nd,nv), nv is number of variables\n",
    "'tmin'   : -1.0e21,                 # trimming limits, float\n",
    "'tmax'   :  1.0e21,                 # trimming limits, float\n",
    "'nlag'   :  10,                     # number of lags, int\n",
    "'xlag'   :  2,                      # lag separation distance, float                \n",
    "'xltol'  :  1,                      # lag tolerance, float\n",
    "'azm'    : [0],                     # azimuth, array('f') with bounds (ndir)\n",
    "'atol'   : [22.5],                  # azimuth tolerance, array('f') with bounds (ndir)\n",
    "'bandwh' : [10000],                 # bandwith h, array('f') with bounds (ndir)\n",
    "'dip'    : [0],                     # dip, array('f') with bounds (ndir)\n",
    "'dtol'   : [10],                    # dip tolerance, array('f') with bounds (ndir)\n",
    "'bandwd' : [10],                    # bandwith d, array('f') with bounds (ndir)\n",
    "'isill'  : 0,                       # standardize sills? (0=no, 1=yes), int\n",
    "'sills'  : [100],                   # variance used to std the sills, array('f') with bounds (nv)\n",
    "'ivtail' : [1],                     # tail var., array('i') with bounds (nvarg), nvarg is number of variograms\n",
    "'ivhead' : [1],                     # head var., array('i') with bounds (nvarg)\n",
    "'ivtype' : [1],                     # variogram type, array('i') with bounds (nvarg)\n",
    "'maxclp' : 50000}                   # maximum number of variogram point cloud to use, input int\n",
    "\n",
    "pdis50,pgam50, phm,ptm,phv,ptv,pnump, cldi, cldj, cldg, cldh = gslib.gamv(parameters)\n",
    "\n",
    "print 'Zcutoff', Zcutoff\n",
    "#print mydata[['Primary','ind_25', 'ind_50']]"
   ]
  },
  {
   "cell_type": "markdown",
   "metadata": {},
   "source": [
    "Test bigaus\n",
    "-----\n",
    "\n",
    "We are using variogram of logarithms... \n"
   ]
  },
  {
   "cell_type": "code",
   "execution_count": 10,
   "metadata": {
    "collapsed": false
   },
   "outputs": [
    {
     "name": "stdout",
     "output_type": "stream",
     "text": [
      "zc,out_j,out_l,out_h,out_ri,out_ci,out_rop,out_p,error = bigaus(c0,it,cc,aa,aa1,aa2,ang1,ang2,ang3,nlag,azm,dip,xlag,zcc,[nst,ncut,ndir])\n",
      "\n",
      "Wrapper for ``bigaus``.\n",
      "\n",
      "Parameters\n",
      "----------\n",
      "c0 : input rank-1 array('f') with bounds (1)\n",
      "it : input rank-1 array('i') with bounds (nst)\n",
      "cc : input rank-1 array('f') with bounds (nst)\n",
      "aa : input rank-1 array('f') with bounds (nst)\n",
      "aa1 : input rank-1 array('f') with bounds (nst)\n",
      "aa2 : input rank-1 array('f') with bounds (nst)\n",
      "ang1 : input rank-1 array('f') with bounds (nst)\n",
      "ang2 : input rank-1 array('f') with bounds (nst)\n",
      "ang3 : input rank-1 array('f') with bounds (nst)\n",
      "nlag : input int\n",
      "azm : input rank-1 array('f') with bounds (ndir)\n",
      "dip : input rank-1 array('f') with bounds (ndir)\n",
      "xlag : input rank-1 array('f') with bounds (ndir)\n",
      "zcc : input rank-1 array('f') with bounds (ncut)\n",
      "\n",
      "Other Parameters\n",
      "----------------\n",
      "nst : input int, optional\n",
      "    Default: len(it)\n",
      "ncut : input int, optional\n",
      "    Default: len(zcc)\n",
      "ndir : input int, optional\n",
      "    Default: len(azm)\n",
      "\n",
      "Returns\n",
      "-------\n",
      "zc : rank-1 array('f') with bounds (ncut)\n",
      "out_j : rank-3 array('i') with bounds (nlag,ndir,ncut)\n",
      "out_l : rank-3 array('i') with bounds (nlag,ndir,ncut)\n",
      "out_h : rank-3 array('f') with bounds (nlag,ndir,ncut)\n",
      "out_ri : rank-3 array('f') with bounds (nlag,ndir,ncut)\n",
      "out_ci : rank-3 array('f') with bounds (nlag,ndir,ncut)\n",
      "out_rop : rank-3 array('f') with bounds (nlag,ndir,ncut)\n",
      "out_p : rank-1 array('f') with bounds (ncut)\n",
      "error : int\n",
      "\n"
     ]
    }
   ],
   "source": [
    "print gslib.__bigaus.bigaus.__doc__"
   ]
  },
  {
   "cell_type": "code",
   "execution_count": 11,
   "metadata": {
    "collapsed": false
   },
   "outputs": [
    {
     "name": "stdout",
     "output_type": "stream",
     "text": [
      "any error False\n"
     ]
    }
   ],
   "source": [
    "parameters ={'zcc' : [ 0.25, 0.5, 0.75],    #threshold cdf values\n",
    "             'nlag':  20,                        #number lags\n",
    "             'azm' : [0.0],                        #azm(1), dip(1), lag(1)\n",
    "             'dip' : [0.],\n",
    "             'xlag': [1.], \n",
    "             'c0'  :  [0.2],         # nugget,  array('f') with bounds (ivarg)  \n",
    "             'it'  :  [1,1],        # structure type,  array('i') with bounds (ivarg)              \n",
    "             'cc'  :  [0.4,0.4],    # variance, array('f') with bounds (nvarg*nst[0])\n",
    "             'aa'  :  [10,10],     # parameter a (or range), array('f') with bounds (nvarg*nst[0])    \n",
    "             'aa1' :  [5,5],     # parameter a (or range), array('f') with bounds (nvarg*nst[0])    \n",
    "             'aa2' :  [10,10],     # parameter a (or range), array('f') with bounds (nvarg*nst[0])    \n",
    "             'ang1':  [0.,0],\n",
    "             'ang2':  [0.,0],\n",
    "             'ang3':  [0.,0]}\n",
    "                      \n",
    "zc,out_j,out_l,out_h,out_ri,out_ci,out_rop,out_p,error = gslib.__bigaus.bigaus(**parameters) \n",
    "\n",
    "\"\"\"\n",
    "result=pd.Panel({'lag numb:':out_j,\n",
    "                     'number of pairs:':out_l,\n",
    "                     'lag separation:':out_h,\n",
    "                     'variogram:':out_ri,\n",
    "                     'mean of the tail:':out_ci,\n",
    "                     'variogram standardized:':out_rop})\n",
    "\"\"\"\n",
    "print 'any error', error!=0\n"
   ]
  },
  {
   "cell_type": "code",
   "execution_count": 12,
   "metadata": {
    "collapsed": false
   },
   "outputs": [
    {
     "name": "stdout",
     "output_type": "stream",
     "text": [
      "zc: [-0.6744898  0.         0.6744898]\n",
      "p: [ 0.24999997  0.5         0.75      ]\n"
     ]
    }
   ],
   "source": [
    "print 'zc:', zc\n",
    "print 'p:', out_p"
   ]
  },
  {
   "cell_type": "code",
   "execution_count": 13,
   "metadata": {
    "collapsed": false
   },
   "outputs": [
    {
     "name": "stdout",
     "output_type": "stream",
     "text": [
      "[[ 0.   ]\n",
      " [ 0.103]\n",
      " [ 0.121]\n",
      " [ 0.136]\n",
      " [ 0.149]\n",
      " [ 0.161]\n",
      " [ 0.17 ]\n",
      " [ 0.177]\n",
      " [ 0.183]\n",
      " [ 0.186]\n",
      " [ 0.188]\n",
      " [ 0.188]\n",
      " [ 0.188]\n",
      " [ 0.188]\n",
      " [ 0.188]\n",
      " [ 0.188]\n",
      " [ 0.188]\n",
      " [ 0.188]\n",
      " [ 0.188]\n",
      " [ 0.188]]\n"
     ]
    }
   ],
   "source": [
    "#nlag,ndir,ncut\n",
    "vcut=0\n",
    "vdir=0\n",
    "np.set_printoptions(precision=3)\n",
    "print out_ri[:,:,vcut]\n",
    "#print out_h[:,:,vcut]"
   ]
  },
  {
   "cell_type": "markdown",
   "metadata": {
    "collapsed": true
   },
   "source": [
    "** Compare with standard GSLIB bigaus output **\n",
    "``` \n",
    "********************GSLIB output***********************\n",
    "Model Indicator Variogram: cutoff =   -0.674 Direction \n",
    "\n",
    "                 (vr-vcut=0)\n",
    "  1    0.000        0.000      1      1.17810      0.00000\n",
    "  2    1.000        0.103      1      0.53184      0.54856\n",
    "  3    2.000        0.121      1      0.41848      0.64478\n",
    "  4    3.000        0.136      1      0.32192      0.72675\n",
    "  5    4.000        0.149      1      0.23902      0.79712\n",
    "  6    5.000        0.161      1      0.16845      0.85701\n",
    "  7    6.000        0.170      1      0.10978      0.90682\n",
    "  8    7.000        0.177      1      0.06307      0.94646\n",
    "  9    8.000        0.183      1      0.02872      0.97562\n",
    " 10    9.000        0.186      1      0.00738      0.99374\n",
    " 11   10.000        0.188      1      0.00000      1.00000\n",
    " 12   11.000        0.188      1      0.00000      1.00000\n",
    " 13   12.000        0.188      1      0.00000      1.00000\n",
    " 14   13.000        0.188      1      0.00000      1.00000\n",
    " 15   14.000        0.188      1      0.00000      1.00000\n",
    " 16   15.000        0.188      1      0.00000      1.00000\n",
    " 17   16.000        0.188      1      0.00000      1.00000\n",
    " 18   17.000        0.188      1      0.00000      1.00000\n",
    " 19   18.000        0.188      1      0.00000      1.00000\n",
    " 20   19.000        0.188      1      0.00000      1.00000\n",
    "\n",
    "```"
   ]
  },
  {
   "cell_type": "code",
   "execution_count": 14,
   "metadata": {
    "collapsed": false
   },
   "outputs": [
    {
     "data": {
      "image/png": "[encoded data removed]",
      "text/plain": [
       "<matplotlib.figure.Figure at 0x7f67ba4f4fd0>"
      ]
     },
     "metadata": {},
     "output_type": "display_data"
    }
   ],
   "source": [
    "%matplotlib inline\n",
    "import matplotlib.pyplot as plt\n",
    "\n",
    "#plotting the variogram 1 only\n",
    "v=0\n",
    "\n",
    "plt.plot (out_h[:,:,0], out_ri[:,:,0], 'r-', label='cut bg 0.25')\n",
    "plt.plot (pdis25[0, 0, 1:], pgam25[0, 0, 1:], 'r-o', label='cut exp 0.25')\n",
    "\n",
    "plt.plot (out_h[:,:,1], out_ri[:,:,1], 'g-', label='cut bg 0.50')\n",
    "plt.plot (pdis50[0, 0, 1:], pgam50[0, 0, 1:], 'g-o', label='cut exp 0.50')\n",
    "\n",
    "plt.legend()\n",
    "plt.grid(True)\n",
    "plt.show()"
   ]
  },
  {
   "cell_type": "code",
   "execution_count": null,
   "metadata": {
    "collapsed": true
   },
   "outputs": [],
   "source": []
  },
  {
   "cell_type": "code",
   "execution_count": null,
   "metadata": {
    "collapsed": true
   },
   "outputs": [],
   "source": []
  }
 ],
 "metadata": {
  "kernelspec": {
   "display_name": "Python 2",
   "language": "python",
   "name": "python2"
  },
  "language_info": {
   "codemirror_mode": {
    "name": "ipython",
    "version": 2
   },
   "file_extension": ".py",
   "mimetype": "text/x-python",
   "name": "python",
   "nbconvert_exporter": "python",
   "pygments_lexer": "ipython2",
   "version": "2.7.10"
  }
 },
 "nbformat": 4,
 "nbformat_minor": 0
}
