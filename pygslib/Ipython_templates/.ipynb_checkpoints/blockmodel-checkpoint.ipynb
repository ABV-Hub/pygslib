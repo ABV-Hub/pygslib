{
 "cells": [
  {
   "cell_type": "markdown",
   "metadata": {},
   "source": [
    "# Block model test"
   ]
  },
  {
   "cell_type": "code",
   "execution_count": 1,
   "metadata": {
    "collapsed": false
   },
   "outputs": [],
   "source": [
    "# load some modules\n",
    "import pandas as pd\n",
    "import matplotlib.pylab as plt\n",
    "import numpy as np\n",
    "import pygslib as gslib"
   ]
  },
  {
   "cell_type": "code",
   "execution_count": 2,
   "metadata": {
    "collapsed": false
   },
   "outputs": [
    {
     "name": "stdout",
     "output_type": "stream",
     "text": [
      "Help on module pygslib.blockmodel in pygslib:\n",
      "\n",
      "NAME\n",
      "    pygslib.blockmodel - PyGSLIB Blockmodel, Module to handle blockmodel data.\n",
      "\n",
      "FILE\n",
      "    /home/adrian/bitbucket/public/pygslib/pygslib/blockmodel.so\n",
      "\n",
      "DESCRIPTION\n",
      "    Copyright (C) 2015 Adrian Martinez Vargas \n",
      "    \n",
      "    This program is free software; you can redistribute it and/or modify\n",
      "    it under the terms of the GNU General Public License as published by\n",
      "    the Free Software Foundation; either version 3 of the License, or\n",
      "    any later version.\n",
      "       \n",
      "    This program is distributed in the hope that it will be useful,\n",
      "    but WITHOUT ANY WARRANTY; without even the implied warranty of\n",
      "    MERCHANTABILITY or FITNESS FOR A PARTICULAR PURPOSE.  See the\n",
      "    GNU General Public License for more details.\n",
      "       \n",
      "    You should have received a copy of the GNU General Public License\n",
      "    along with this program.  If not, see <http://www.gnu.org/licenses/>\n",
      "\n",
      "CLASSES\n",
      "    __builtin__.object\n",
      "        Blockmodel\n",
      "    \n",
      "    class Blockmodel(__builtin__.object)\n",
      "     |  Blockmodel(nx,ny,nz,xorg,yorg,zorg,dx,dy,dz)\n",
      "     |  \n",
      "     |  Blockmodel working database object with functions to handle \n",
      "     |  block models.\n",
      "     |  \n",
      "     |  Parameters\n",
      "     |  ----------\n",
      "     |  nx,ny,nz : integer\n",
      "     |      Number of rows columns and levels  \n",
      "     |  xorg,yorg,zorg : float\n",
      "     |      Coordinates of the lower left corner (not centroid) \n",
      "     |  dx,dy,dz : float\n",
      "     |      Size of the parent block\n",
      "     |  \n",
      "     |  Attributes\n",
      "     |  ----------\n",
      "     |  \n",
      "     |  \n",
      "     |  Notes\n",
      "     |  -----\n",
      "     |  \n",
      "     |  Methods defined here:\n",
      "     |  \n",
      "     |  blockinsurface(...)\n",
      "     |      blockinsurface(surface, field, azm, dip, test, overwrite=False)\n",
      "     |              \n",
      "     |      Creates blocks given a VTK surface (polydata) depending on a \n",
      "     |      test criteria: \n",
      "     |        \n",
      "     |      Parameters\n",
      "     |      ----------\n",
      "     |      surface : VTK polydata\n",
      "     |             this may work with any 3D object..., no necessarily triangles   \n",
      "     |      field : str\n",
      "     |             Name of the new field with selection results\n",
      "     |      azm, dip: float, default 0, 90\n",
      "     |             rotation defining the direction we will use to test the points\n",
      "     |             azm 0 will point north and dip positive meas downward direction\n",
      "     |             (like surface drillholes)\n",
      "     |      test    : integer, default 1\n",
      "     |             1 test inside closed surface. Here we use \n",
      "     |               vtkOBBTree::InsideOrOutside. Closed surface are required\n",
      "     |             2 test 'above' surface \n",
      "     |             3 test 'below' surface \n",
      "     |             4 test 'inside' surface (the surface can be open)\n",
      "     |       overwrite : boolean\n",
      "     |             overwrite flag, if true and field exist in bmtable the \n",
      "     |             values will be overwritten\n",
      "     |      \n",
      "     |      Notes\n",
      "     |      -----\n",
      "     |      This function calls vtktools.pointquering for all the points \n",
      "     |      existing in the block model. The function is not optimized\n",
      "     |      for large model. \n",
      "     |      \n",
      "     |      A new set of blocks will be created if there is not block \n",
      "     |      defined. If there are blocks in the model and overwrite==True\n",
      "     |      the blocks will be removed first. \n",
      "     |      \n",
      "     |      Examples\n",
      "     |      --------\n",
      "     |      >>> fillblocks(surface, azm, dip, test, overwrite=False)\n",
      "     |  \n",
      "     |  blocks2vtkfile(...)\n",
      "     |  \n",
      "     |  calc_ijk(...)\n",
      "     |      calc_ijk(overwrite=False)\n",
      "     |              \n",
      "     |      Calculate the IJK field from IX, IY, IZ indices\n",
      "     |      If IJK exist and overwrite=True the existing values \n",
      "     |      will be overwritten. \n",
      "     |      \n",
      "     |      \n",
      "     |      Parameters\n",
      "     |      ----------\n",
      "     |      overwrite : Boolean, default False           \n",
      "     |                      \n",
      "     |      Examples\n",
      "     |      --------\n",
      "     |      >>> myblockmodel.calc_ijk()\n",
      "     |      >>> myblockmodel.calc_ijk(overwrite=True)\n",
      "     |  \n",
      "     |  calc_ixyz_fromijk(...)\n",
      "     |      calc_ixyz_fromijk(overwrite=False)\n",
      "     |              \n",
      "     |      Calculate the IX, IY, IZ fields from IJK index\n",
      "     |      If IX, IY, IZ exist and overwrite=True the existing values \n",
      "     |      will be overwritten. \n",
      "     |      \n",
      "     |      \n",
      "     |      Parameters\n",
      "     |      ----------\n",
      "     |      overwrite : Boolean, default False           \n",
      "     |                      \n",
      "     |      Examples\n",
      "     |      --------\n",
      "     |      >>> myblockmodel.calc_ixyz_fromijk()\n",
      "     |      >>> myblockmodel.calc_ixyz_fromijk(overwrite=True)\n",
      "     |  \n",
      "     |  calc_ixyz_fromxyz(...)\n",
      "     |      calc_ixyz_fromxyz(overwrite=False)\n",
      "     |              \n",
      "     |      Calculate the IX, IY, IZ fields from XC, YC, ZC coordinates\n",
      "     |      If IX, IY, IZ exist and overwrite=True the existing values \n",
      "     |      will be overwritten. \n",
      "     |      \n",
      "     |      \n",
      "     |      Parameters\n",
      "     |      ----------\n",
      "     |      overwrite : Boolean, default False           \n",
      "     |                      \n",
      "     |      Examples\n",
      "     |      --------\n",
      "     |      >>> myblockmodel.calc_ixyz_fromxyz()\n",
      "     |      >>> myblockmodel.calc_ixyz_fromxyz(overwrite=True)\n",
      "     |  \n",
      "     |  calc_xyz_fromixyz(...)\n",
      "     |      calc_xyz_fromixyz(overwrite=False)\n",
      "     |              \n",
      "     |      Calculate the XC, YC, ZC coordinates from IX, IY, IZ indices\n",
      "     |      If XC, YC, ZC exist and overwrite=True the existing values \n",
      "     |      will be overwritten. \n",
      "     |      \n",
      "     |      \n",
      "     |      Parameters\n",
      "     |      ----------\n",
      "     |      overwrite : Boolean, default False           \n",
      "     |                      \n",
      "     |      Examples\n",
      "     |      --------\n",
      "     |      >>> myblockmodel.calc_xyz_fromixyz()\n",
      "     |      >>> myblockmodel.calc_xyz_fromixyz(overwrite=True)\n",
      "     |  \n",
      "     |  create_IJK(...)\n",
      "     |      create_IJK(overwrite=False)\n",
      "     |              \n",
      "     |      Creates a new block set consisting in IJK indices.  \n",
      "     |        \n",
      "     |      Notes\n",
      "     |      -----        \n",
      "     |      A new set of blocks will be created if there is not block \n",
      "     |      defined. If there are blocks in the model and overwrite==True\n",
      "     |      the blocks will be removed first. \n",
      "     |      \n",
      "     |      Examples\n",
      "     |      --------\n",
      "     |      >>> create_IJK(overwrite=True)\n",
      "     |  \n",
      "     |  delete_blocks(...)\n",
      "     |      delete_blocks()\n",
      "     |              \n",
      "     |      Delete the block model table   \n",
      "     |      \n",
      "     |      \n",
      "     |      Note\n",
      "     |      ----\n",
      "     |      This functions makes Blockmodel.bmtable=None. The data will\n",
      "     |      be preserved in any external instance of bmtable.   \n",
      "     |                                 \n",
      "     |      Examples\n",
      "     |      --------\n",
      "     |      >>> myblockmodel.delete_blocks()\n",
      "     |      >>> print myblockmodel.bmtable\n",
      "     |      None\n",
      "     |  \n",
      "     |  set_block_size(...)\n",
      "     |      set_block_size(dx,dy,dz) \n",
      "     |              \n",
      "     |      Set block sizes  \n",
      "     |                      \n",
      "     |      Examples\n",
      "     |      --------\n",
      "     |      \n",
      "     |      >>> myblockmodel.set_block_size(dx=10,dy=10,dz=5)\n",
      "     |  \n",
      "     |  set_blocks(...)\n",
      "     |      set_blocks(bmtable)\n",
      "     |              \n",
      "     |      Assign an external block model stored in a Pandas DataFrame\n",
      "     |      table.  \n",
      "     |      \n",
      "     |      One or many conditions apply \n",
      "     |      a)  The blockmodel has IJK field  \n",
      "     |      b)  Or/And has IX,IY and IZ fields\n",
      "     |      b)  Or/And has XC,YC and ZC fields\n",
      "     |      \n",
      "     |      Note\n",
      "     |      ----\n",
      "     |      One or the above conditions is required. In case that two or \n",
      "     |      more of the special fields mentioned above are defined the \n",
      "     |      validity of the fields is not verified, for example the\n",
      "     |      valid IJK representation of fields IX,IY and IZ is not tested.\n",
      "     |      \n",
      "     |      Parameters\n",
      "     |      ----------\n",
      "     |      bmtable : Pandas DataFrame object \n",
      "     |          block model with special coordinate or index fields\n",
      "     |         \n",
      "     |                      \n",
      "     |      Examples\n",
      "     |      --------\n",
      "     |      >>> bmtable=pd.DataFrame({'IJK':[1,2,3,4]})\n",
      "     |      >>> myblockmodel.set_blocks(bmtable)\n",
      "     |  \n",
      "     |  set_origin(...)\n",
      "     |      set_origin(xorg,yorg, zorg)\n",
      "     |              \n",
      "     |      Set the block model origin of coordinate. This is the lower \n",
      "     |      left corner of the lower left block (not-the centroid). \n",
      "     |                      \n",
      "     |      Examples\n",
      "     |      --------\n",
      "     |      \n",
      "     |      >>> myblockmodel.set_origin(xorg=-5,yorg=-5, zorg=0)\n",
      "     |  \n",
      "     |  set_rcl(...)\n",
      "     |      set_rcl(nx,ny,nz)\n",
      "     |              \n",
      "     |      Set number of blocks at row, call, level\n",
      "     |      \n",
      "     |      Two conditions apply: \n",
      "     |      a)  nx,ny and nz may be greater than zero   \n",
      "     |      b)  nx*ny*nz may be equal to the actual number of blocks\n",
      "     |      \n",
      "     |      Note\n",
      "     |      ----\n",
      "     |      This function basically reorder the blocks along rows, columns  \n",
      "     |      and levels without changing the total number of blocks. \n",
      "     |                      \n",
      "     |      Examples\n",
      "     |      --------\n",
      "     |      \n",
      "     |      >>> myblockmodel.set_rcl(nx=10,ny=10,nz=10)\n",
      "     |      >>> myblockmodel.set_rcl(nx=10,ny=100,nz=1)\n",
      "     |  \n",
      "     |  ----------------------------------------------------------------------\n",
      "     |  Data descriptors defined here:\n",
      "     |  \n",
      "     |  bmtable\n",
      "     |  \n",
      "     |  dx\n",
      "     |  \n",
      "     |  dy\n",
      "     |  \n",
      "     |  dz\n",
      "     |  \n",
      "     |  ndx\n",
      "     |  \n",
      "     |  ndy\n",
      "     |  \n",
      "     |  ndz\n",
      "     |  \n",
      "     |  nx\n",
      "     |  \n",
      "     |  ny\n",
      "     |  \n",
      "     |  nz\n",
      "     |  \n",
      "     |  percent\n",
      "     |  \n",
      "     |  randisc\n",
      "     |  \n",
      "     |  subcell\n",
      "     |  \n",
      "     |  xorg\n",
      "     |  \n",
      "     |  yorg\n",
      "     |  \n",
      "     |  zorg\n",
      "     |  \n",
      "     |  ----------------------------------------------------------------------\n",
      "     |  Data and other attributes defined here:\n",
      "     |  \n",
      "     |  __new__ = <built-in method __new__ of type object>\n",
      "     |      T.__new__(S, ...) -> a new object with type S, a subtype of T\n",
      "     |  \n",
      "     |  __pyx_vtable__ = <capsule object NULL>\n",
      "\n",
      "FUNCTIONS\n",
      "    ijk2ind(...)\n",
      "        ijk2ind(ijk,nx,ny,nz)\n",
      "        \n",
      "        Calculates the raw, column, level indices ``ix, iy, iz`` from IJK.\n",
      "        \n",
      "        The IJK block index is an unique identifier of each block position.\n",
      "        This is equivalent to the position of a block in a gslib grid file. \n",
      "        All the points within a block will have the same IJK number. \n",
      "        \n",
      "        From IJK you can calculate ix,iy and iz as:\n",
      "        \n",
      "        iz =  ijk / nx*ny\n",
      "        iy = (ijk-iz*nx*ny)/nx\n",
      "        ix =  ijk-iz*nx*ny - iy*nx\n",
      "        \n",
      "        \n",
      "        Parameters\n",
      "        ----------\n",
      "        ijk        : 1D array of integers \n",
      "               arbitrary raw, level and column indices\n",
      "        nx,ny,nz   : integers\n",
      "               number of blocks per row, column, level\n",
      "        \n",
      "        Returns\n",
      "        -------\n",
      "        ix,iy,iz : 1D array of integers\n",
      "            The raw, column and level indices\n",
      "        \n",
      "        See Also\n",
      "        --------\n",
      "        x2ix, ijk2ind\n",
      "        \n",
      "        Notes\n",
      "        -----\n",
      "        The indices ix, iy and iz start at zero\n",
      "        \n",
      "        \n",
      "        Examples\n",
      "        --------\n",
      "        >>> ijk= np.array([0, 1, 2, 3, 4, 5, 6, 7])\n",
      "        >>> ix,iy,iz = ijk2ind(ijk,2,2,2)\n",
      "        >>> print ix\n",
      "        >>> print iy\n",
      "        >>> print iz\n",
      "        [0 1 0 1 0 1 0 1]\n",
      "        [0 0 1 1 0 0 1 1]\n",
      "        [0 0 0 0 1 1 1 1]\n",
      "    \n",
      "    ind2ijk(...)\n",
      "        ind2ijk(ix,iy,iz, nx,ny,nz)\n",
      "        \n",
      "        Calculates the IJK block index\n",
      "        \n",
      "        The IJK block index is an unique identifier of each block position.\n",
      "        This is equivalent to the position of a block in a gslib grid file. \n",
      "        All the points within a block will have the same IJK number. \n",
      "        \n",
      "        \n",
      "        Parameters\n",
      "        ----------\n",
      "        ix, iy, iz : 1D array of integers \n",
      "               arbitrary raw, level and column indices\n",
      "        nx,ny,nz   : integers\n",
      "               number of blocks per row, column, level\n",
      "        \n",
      "        Returns\n",
      "        -------\n",
      "        ijk : 1D array of integers\n",
      "            Unique identifier of block location\n",
      "        \n",
      "        See Also\n",
      "        --------\n",
      "        x2ix, ijk2ind\n",
      "        \n",
      "        Notes\n",
      "        -----\n",
      "        The index ijk start at zero (first block) and ends at nx*ny*nz\n",
      "        \n",
      "        \n",
      "        Examples\n",
      "        --------\n",
      "        >>> # a 2D grid with 2x2x1 cells \n",
      "        >>> ix=np.array([0,1,0,1])\n",
      "        >>> iy=np.array([1,1,0,0])\n",
      "        >>> iz=np.array([0,0,0,0])\n",
      "        >>> ind2ijk(ix,iy,iz,2,2,1)\n",
      "        array([2, 3, 0, 1])\n",
      "    \n",
      "    ix2x(...)\n",
      "        ix2x(ix, xorg,dx)\n",
      "        \n",
      "        Calculates the block coordinate (x, y or z) \n",
      "        \n",
      "        Return array of coordinates x calculated from indices ix.    \n",
      "        \n",
      "        \n",
      "        Parameters\n",
      "        ----------\n",
      "        ix   : 1D array of positive integers \n",
      "               arbitrary index ix (or iy, or iz)\n",
      "        xorg : float\n",
      "               origin of coordinate (lower left corner of the block) \n",
      "        dx   : float \n",
      "               size of the block\n",
      "        \n",
      "        Returns\n",
      "        -------\n",
      "        x  : 1D array of floats\n",
      "            Coordinates x corresponding to index ix \n",
      "        \n",
      "        See Also\n",
      "        --------\n",
      "        x2ix\n",
      "        \n",
      "        Notes\n",
      "        -----\n",
      "        The index start at zero (first block)\n",
      "        If there is a point i with coordinate x[i] < xorg  and error will be \n",
      "        raised\n",
      "        \n",
      "        \n",
      "        Examples\n",
      "        --------\n",
      "    \n",
      "    x2ix(...)\n",
      "        x2ix(x, xorg,dx)\n",
      "        \n",
      "        Calculates the block index (ix, iy or iz) \n",
      "        \n",
      "        Return array of ix indices representing the raw, column or level \n",
      "        in which a point with coordinate x is located. To get the three\n",
      "        indexes ix, iy, iz you may run this functions three times, changing\n",
      "        coordinates to x, y and z, respectively.    \n",
      "        \n",
      "        You can use this function to find the block which contain a points \n",
      "        with arbitrary coordinates.  \n",
      "        \n",
      "        Parameters\n",
      "        ----------\n",
      "        x    : 1D array of floats \n",
      "               arbitrary coordinates x (or y, or z)\n",
      "        xorg : float\n",
      "               origin of coordinate (lower left corner of the block) \n",
      "        dx   : float \n",
      "               size of the block\n",
      "        \n",
      "        Returns\n",
      "        -------\n",
      "        ix : 1D array of integers\n",
      "            Index of the blocks where points with coordinates x are located\n",
      "        \n",
      "        See Also\n",
      "        --------\n",
      "        ind2ijk, ijk2ind\n",
      "        \n",
      "        Notes\n",
      "        -----\n",
      "        The index start at zero (first block)\n",
      "        If there is a point i with coordinate x[i] < xorg  and error will be \n",
      "        raised\n",
      "        \n",
      "        \n",
      "        Examples\n",
      "        --------\n",
      "        >>> a=np.array([2.1,7.8,15.9,20,30,31])\n",
      "        >>> x2ix(a,xorg=2., dx=1)\n",
      "        array([ 0,  5, 13, 18, 28, 29])\n",
      "\n",
      "DATA\n",
      "    __test__ = {u'Blockmodel.blockinsurface (line 619)': u\"\\n        block...\n",
      "\n",
      "\n"
     ]
    }
   ],
   "source": [
    "# see block model help\n",
    "help(gslib.blockmodel)"
   ]
  },
  {
   "cell_type": "code",
   "execution_count": 3,
   "metadata": {
    "collapsed": false
   },
   "outputs": [],
   "source": [
    "# Create an empty block model\n",
    "mymodel=gslib.blockmodel.Blockmodel(nx=5,ny=5,nz=5,xorg=-6,yorg=-6,zorg=-6,dx=3,dy=3,dz=3)"
   ]
  },
  {
   "cell_type": "code",
   "execution_count": 4,
   "metadata": {
    "collapsed": false
   },
   "outputs": [
    {
     "name": "stdout",
     "output_type": "stream",
     "text": [
      "None\n"
     ]
    }
   ],
   "source": [
    "# there is no data, it is empty\n",
    "print mymodel.bmtable"
   ]
  },
  {
   "cell_type": "code",
   "execution_count": 5,
   "metadata": {
    "collapsed": false
   },
   "outputs": [
    {
     "name": "stdout",
     "output_type": "stream",
     "text": [
      "   IJK\n",
      "0    1\n",
      "1    2\n",
      "2    3\n",
      "3    4\n"
     ]
    }
   ],
   "source": [
    "# Create a model from external DataFrame. \n",
    "# In this case IJK or IX, IY, IZ or XC, YC, ZC are required\n",
    "bmtable=pd.DataFrame({'IJK':[1,2,3,4]})\n",
    "mymodel.set_blocks(bmtable)\n",
    "print mymodel.bmtable"
   ]
  },
  {
   "cell_type": "code",
   "execution_count": 6,
   "metadata": {
    "collapsed": false
   },
   "outputs": [
    {
     "name": "stdout",
     "output_type": "stream",
     "text": [
      "   IJK  IX  IY  IZ\n",
      "0    1   1   0   0\n",
      "1    2   2   0   0\n",
      "2    3   3   0   0\n",
      "3    4   4   0   0\n"
     ]
    }
   ],
   "source": [
    "# Calculate row, column and level indices from IJK \n",
    "mymodel.calc_ixyz_fromijk(overwrite=False)\n",
    "mymodel.calc_ixyz_fromijk(overwrite=True)   # if IX, IY, IZ exist we need to overwrite\n",
    "print mymodel.bmtable"
   ]
  },
  {
   "cell_type": "code",
   "execution_count": 7,
   "metadata": {
    "collapsed": false
   },
   "outputs": [
    {
     "name": "stdout",
     "output_type": "stream",
     "text": [
      "None\n"
     ]
    }
   ],
   "source": [
    "# Removing data from block model\n",
    "mymodel.delete_blocks()\n",
    "print mymodel.bmtable"
   ]
  },
  {
   "cell_type": "code",
   "execution_count": 8,
   "metadata": {
    "collapsed": false
   },
   "outputs": [
    {
     "name": "stdout",
     "output_type": "stream",
     "text": [
      "     IJK\n",
      "120  120\n",
      "121  121\n",
      "122  122\n",
      "123  123\n",
      "124  124\n"
     ]
    }
   ],
   "source": [
    "# Creating a full block model with IJK\n",
    "mymodel.create_IJK(overwrite=True)\n",
    "print mymodel.bmtable.tail()"
   ]
  },
  {
   "cell_type": "code",
   "execution_count": 9,
   "metadata": {
    "collapsed": false
   },
   "outputs": [
    {
     "name": "stdout",
     "output_type": "stream",
     "text": [
      "     IJK  IX  IY  IZ\n",
      "120  120   0   4   4\n",
      "121  121   1   4   4\n",
      "122  122   2   4   4\n",
      "123  123   3   4   4\n",
      "124  124   4   4   4\n"
     ]
    }
   ],
   "source": [
    "# Calculate row, column and level indices from IJK  \n",
    "mymodel.calc_ixyz_fromijk(overwrite=True)\n",
    "print mymodel.bmtable.tail()"
   ]
  },
  {
   "cell_type": "code",
   "execution_count": 10,
   "metadata": {
    "collapsed": false
   },
   "outputs": [
    {
     "name": "stdout",
     "output_type": "stream",
     "text": [
      "     IJK  IX  IY  IZ   XC   YC   ZC\n",
      "120  120   0   4   4 -4.5  7.5  7.5\n",
      "121  121   1   4   4 -1.5  7.5  7.5\n",
      "122  122   2   4   4  1.5  7.5  7.5\n",
      "123  123   3   4   4  4.5  7.5  7.5\n",
      "124  124   4   4   4  7.5  7.5  7.5\n"
     ]
    }
   ],
   "source": [
    "# Calculate coordinates from indices  \n",
    "mymodel.calc_xyz_fromixyz(overwrite=True)\n",
    "print mymodel.bmtable.tail()"
   ]
  },
  {
   "cell_type": "markdown",
   "metadata": {},
   "source": [
    "## Blocks inside solid\n",
    "\n",
    "Here we have a function that finds if the centroid of the block is inside a solid, between surfaces, over a surface or below a surface. This uses the function pygslib.vtktools.pointquering. \n",
    "\n",
    "For now this is not optimized for large models and each block centroid in the model is tested. "
   ]
  },
  {
   "cell_type": "code",
   "execution_count": 11,
   "metadata": {
    "collapsed": false
   },
   "outputs": [
    {
     "data": {
      "image/png": "[encoded data removed]",
      "text/plain": [
       "<IPython.core.display.Image object>"
      ]
     },
     "execution_count": 11,
     "metadata": {},
     "output_type": "execute_result"
    }
   ],
   "source": [
    "#load a surface\n",
    "mycube=gslib.vtktools.loadSTL('../datasets/stl/cube.stl')\n",
    "\n",
    "#plotting the surface\n",
    "\n",
    "# a) Create a VTK render containing a surface (mycube)\n",
    "renderer = gslib.vtktools.polydata2renderer(mycube, color=(1,0,0), opacity=0.50, background=(1,1,1))\n",
    "# b) Now we plot the render\n",
    "gslib.vtktools.vtk_show(renderer, camera_position=(-20,20,20), camera_focalpoint=(0,0,0))"
   ]
  },
  {
   "cell_type": "code",
   "execution_count": 12,
   "metadata": {
    "collapsed": false
   },
   "outputs": [
    {
     "name": "stdout",
     "output_type": "stream",
     "text": [
      "   IJK  IX  IY  IZ   XC   YC   ZC  incube\n",
      "0    0   0   0   0 -4.5 -4.5 -4.5       1\n",
      "1    1   1   0   0 -1.5 -4.5 -4.5       1\n",
      "2    2   2   0   0  1.5 -4.5 -4.5       1\n",
      "3    3   3   0   0  4.5 -4.5 -4.5       1\n",
      "4    4   4   0   0  7.5 -4.5 -4.5       0\n",
      "5    5   0   1   0 -4.5 -1.5 -4.5       1\n"
     ]
    }
   ],
   "source": [
    "# Find the block centroids inside the solid\n",
    "mymodel.blockinsurface(mycube, 'incube', overwrite=True)\n",
    "# See the results\n",
    "print mymodel.bmtable.head(6)"
   ]
  },
  {
   "cell_type": "markdown",
   "metadata": {},
   "source": [
    "### Plotting resoults in 3D"
   ]
  },
  {
   "cell_type": "code",
   "execution_count": 13,
   "metadata": {
    "collapsed": false
   },
   "outputs": [],
   "source": [
    "# Here we add the points to the renderer\n",
    "for i in range(len(mymodel.bmtable['IJK'])):\n",
    "    p= [mymodel.bmtable['XC'][i], mymodel.bmtable['YC'][i], mymodel.bmtable['ZC'][i]]\n",
    "    if mymodel.bmtable['incube'][i]==1:\n",
    "        gslib.vtktools.addPoint(renderer, p, radius=0.2, color=(0.0, 0.0, 1.0))\n",
    "    else:\n",
    "        gslib.vtktools.addPoint(renderer, p, radius=0.1, color=(0.0, 1.0, 0.0))"
   ]
  },
  {
   "cell_type": "code",
   "execution_count": 14,
   "metadata": {
    "collapsed": false
   },
   "outputs": [
    {
     "data": {
      "image/png": "[encoded data removed]",
      "text/plain": [
       "<IPython.core.display.Image object>"
      ]
     },
     "execution_count": 14,
     "metadata": {},
     "output_type": "execute_result"
    }
   ],
   "source": [
    "# we show the renderer\n",
    "gslib.vtktools.vtk_show(renderer, camera_position=(-10,30,40), camera_focalpoint=(0,0,0))"
   ]
  },
  {
   "cell_type": "markdown",
   "metadata": {
    "collapsed": true
   },
   "source": [
    "## Export blocks to a VTK file"
   ]
  },
  {
   "cell_type": "code",
   "execution_count": 15,
   "metadata": {
    "collapsed": false
   },
   "outputs": [],
   "source": [
    "mymodel.blocks2vtkRectilinearGrid('blocks')"
   ]
  },
  {
   "cell_type": "markdown",
   "metadata": {},
   "source": [
    "The results can be ploted in an external viewer, for example mayavi or paraview:\n",
    "\n",
    "<img src=\"figures/Fig_paraview2.png\">"
   ]
  },
  {
   "cell_type": "code",
   "execution_count": null,
   "metadata": {
    "collapsed": true
   },
   "outputs": [],
   "source": []
  }
 ],
 "metadata": {
  "kernelspec": {
   "display_name": "Python 2",
   "language": "python",
   "name": "python2"
  },
  "language_info": {
   "codemirror_mode": {
    "name": "ipython",
    "version": 2
   },
   "file_extension": ".py",
   "mimetype": "text/x-python",
   "name": "python",
   "nbconvert_exporter": "python",
   "pygments_lexer": "ipython2",
   "version": "2.7.10"
  }
 },
 "nbformat": 4,
 "nbformat_minor": 0
}
