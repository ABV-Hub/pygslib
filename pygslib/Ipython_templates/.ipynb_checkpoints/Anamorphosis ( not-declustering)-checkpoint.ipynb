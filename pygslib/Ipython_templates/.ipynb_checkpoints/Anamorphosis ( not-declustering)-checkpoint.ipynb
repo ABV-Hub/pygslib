{
 "cells": [
  {
   "cell_type": "markdown",
   "metadata": {},
   "source": [
    "## Testing nonlinear"
   ]
  },
  {
   "cell_type": "code",
   "execution_count": 1,
   "metadata": {
    "collapsed": false
   },
   "outputs": [],
   "source": [
    "import matplotlib.pyplot as plt\n",
    "import pandas as pd\n",
    "import numpy as np\n",
    "import pylab as plt\n",
    "import pygslib as gslib\n",
    "%matplotlib inline\n"
   ]
  },
  {
   "cell_type": "code",
   "execution_count": 2,
   "metadata": {
    "collapsed": false
   },
   "outputs": [
    {
     "name": "stdout",
     "output_type": "stream",
     "text": [
      "Help on module pygslib.nonlinear in pygslib:\n",
      "\n",
      "NAME\n",
      "    pygslib.nonlinear - PyGSLIB nonlinear, Module with function for nonlinear geostatistics\n",
      "\n",
      "FILE\n",
      "    /home/adrian/bitbucket/public/pygslib/pygslib/nonlinear.so\n",
      "\n",
      "DESCRIPTION\n",
      "    Copyright (C) 2015 Adrian Martinez Vargas \n",
      "    \n",
      "    This program is free software; you can redistribute it and/or modify\n",
      "    it under the terms of the GNU General Public License as published by\n",
      "    the Free Software Foundation; either version 3 of the License, or\n",
      "    any later version.\n",
      "       \n",
      "    This program is distributed in the hope that it will be useful,\n",
      "    but WITHOUT ANY WARRANTY; without even the implied warranty of\n",
      "    MERCHANTABILITY or FITNESS FOR A PARTICULAR PURPOSE.  See the\n",
      "    GNU General Public License for more details.\n",
      "       \n",
      "    You should have received a copy of the GNU General Public License\n",
      "    along with this program.  If not, see <http://www.gnu.org/licenses/>\n",
      "\n",
      "FUNCTIONS\n",
      "    Y2Z(...)\n",
      "        Y2Z( y, PCI, ypmin,zpmin,ypmax,zpmax,yamin,zamin,yamax,zamax, r=1)\n",
      "        \n",
      "        Gaussian (Y) to raw (Z) transformation \n",
      "        \n",
      "        This is a convenience functions. It calls H=recurrentH(K,Y) and\n",
      "        then returns Z = expand_anamor(PCI,H,r). K is deduced from \n",
      "        PCI.shape[0]. It also linearly interpolate the values\n",
      "        out of the control points. \n",
      "        \n",
      "        \n",
      "        Parameters\n",
      "        ----------\n",
      "        PCI : 1D array of floats\n",
      "            hermite coefficient\n",
      "        y : 1D array of floats\n",
      "            Gaussian values\n",
      "        r : float, default 1\n",
      "            the support effect\n",
      "        ypmin, zpmin, ypmax, zpmax : float\n",
      "             z, y practical minimum and maximum\n",
      "        yamin, zamin, yamax,zamax : float\n",
      "             z, y authorized minimum and maximum\n",
      "        \n",
      "        Returns\n",
      "        -------\n",
      "        Z : 1D array of floats\n",
      "            raw values corresponding to Y \n",
      "          \n",
      "        See Also\n",
      "        --------\n",
      "        recurrentH, expand_anamor\n",
      "           \n",
      "        Notes\n",
      "        -----\n",
      "    \n",
      "    Z2Y_linear(...)\n",
      "        Z2Y_linear(z,zm,ym,ypmin,zpmin,ypmax,zpmax,yamin,zamin,yamax,zamax)\n",
      "         \n",
      "        Raw (Z) to Gaussian (Y) transformation \n",
      "        \n",
      "        Given a set of pairs [zm,ym] representing an experimental \n",
      "        gaussian anamorphosis, this functions linearly interpolate y values \n",
      "        corresponding to z within the [zamin, zamax] intervals\n",
      "        \n",
      "        Parameters\n",
      "        ----------\n",
      "        z : 1D array of floats\n",
      "            raw (Z) values where we want to know Gaussian (Y) equivalent\n",
      "        zm,ym : 1D array of floats\n",
      "            tabulated [Z,Y] values\n",
      "        ypmin, zpmin, ypmax, zpmax : float\n",
      "             z, y practical minimum and maximum\n",
      "        yamin, zamin, yamax,zamax : float\n",
      "             z, y authorized minimum and maximum\n",
      "        \n",
      "        Returns\n",
      "        -------\n",
      "        Z : 1D array of floats\n",
      "            raw values corresponding to Y \n",
      "          \n",
      "        See Also\n",
      "        --------\n",
      "        Y2Z\n",
      "           \n",
      "        Notes\n",
      "        -----\n",
      "    \n",
      "    ctrpoints(...)\n",
      "        zamin, yamin, zamax, yamax, zpmin, ypmin, zpmax, ypmax = ctrpoints (z, y, ze)\n",
      "        \n",
      "        Infer some control point using the following rules:\n",
      "           The admissible minimum and maximum are just logic values defined \n",
      "           by user or nature of the problem, ex. grade between 0 and 100 \n",
      "           percent. Here we define it as the data maximum and minimum. \n",
      "        \n",
      "           The practical minimum and maximum are selected as follow\n",
      "        \n",
      "             - are within admissible interval\n",
      "             - are within data minimum and maximum values\n",
      "             - are within interval where ze do not fluctuates\n",
      "        \n",
      "        Parameters\n",
      "        ----------\n",
      "        z, y : 1D array of floats\n",
      "            experimental transformation table \n",
      "        ze : 1D array of floats\n",
      "            z values obtained with polynomial expansion of y, in other \n",
      "            ze may be calculated as expand_anamor(PCI,H,r=1) \n",
      "        \n",
      "        Returns\n",
      "        -------\n",
      "        zamin, yamin, zamax, yamax, zpmin, ypmin, zpmax, ypmax : floats\n",
      "            Control points\n",
      "    \n",
      "    expand_anamor(...)\n",
      "        expand_anamor(PCI,H,r=1)\n",
      "        \n",
      "        Expand the anamorphosis function, that is Z = SUMp(PSIp*r^p*Hp(Yv))\n",
      "        \n",
      "        r is the support effect. If r = 1 Z with point support will returned. \n",
      "        \n",
      "        \n",
      "        Parameters\n",
      "        ----------\n",
      "        PCI : 1D array of floats\n",
      "            hermite coefficient\n",
      "        H : 2D array of floats\n",
      "            Hermite monomials H(i,y) with shape [K+1,len(y)]. See recurrentH\n",
      "        r : float, default 1\n",
      "            the support effect\n",
      "        \n",
      "        Returns\n",
      "        -------\n",
      "        PCI : 1D array of floats\n",
      "            Hermite coefficients or PCI \n",
      "          \n",
      "        See Also\n",
      "        --------\n",
      "        recurrentH\n",
      "           \n",
      "        Notes\n",
      "        -----\n",
      "    \n",
      "    f_covar_ZvZv(...)\n",
      "        f_covar_ZvZv(ro,s,r,PCI,Covar_ZvZv=0)\n",
      "        \n",
      "        This is an internal function used to deduce the coefficients \n",
      "        ro = covar(Yv, Yv*). This function represents the expression:  \n",
      "        \n",
      "        \n",
      "            Covar (Zv,Zv*) = sum PCI^2 * r^n * s^n * ro^n\n",
      "            \n",
      "        ro is necessary to account for the conditional bias in the \n",
      "        information effect.     \n",
      "            \n",
      "        see \"The information effect and estimating recoverable reserves\"\n",
      "        J. Deraisme (Geovariances), C. Roth (Geovariances) for more information\n",
      "        \n",
      "        Parameters\n",
      "        ----------\n",
      "        r, ro, s : float\n",
      "            support effect and information effect coefficients.\n",
      "        PCI : 1D array of floats\n",
      "            hermite coefficients\n",
      "        Covar_ZvZv : float\n",
      "            Block covariance (correlation) between true Zv and estimate Zv* \n",
      "        \n",
      "        Notes\n",
      "        -----\n",
      "        Covar (Zv,Zv*) = var(Zv) - Kriging variance - LaGrange multiplier\n",
      "        \n",
      "        see expression 7.47, page 97 on Basic Linear Geostatistics by \n",
      "        Margaret Armstrong.\n",
      "        \n",
      "        In case of information effect this can be calculated with a dummy \n",
      "        dataset in a single block representing future information, for \n",
      "        example blast holes. \n",
      "        \n",
      "        Note that the slop of regression is  \n",
      "        \n",
      "        p = Covar (Zv,Zv*) / (Covar (Zv,Zv*)  - LaGrange multiplier)\n",
      "    \n",
      "    f_var_Zv(...)\n",
      "        f_var_Zv(r,PCI,Var_Zv=0)\n",
      "        \n",
      "        This is an internal function used to deduce the coefficients r\n",
      "        (or s), representing the support effect. It defines the relations:  \n",
      "        \n",
      "        \n",
      "            Var(Zv) = sum PCI^2 * r^(n*2) \n",
      "            \n",
      "            or \n",
      "        \n",
      "            Var(Zv*) = sum PCI^2 * s^(n*2)\n",
      "        \n",
      "        r is necessary to account for information effect\n",
      "        s is necessary to account for smoothing in the information effect.        \n",
      "            \n",
      "        see \"The information effect and estimating recoverable reserves\"\n",
      "        J. Deraisme (Geovariances), C. Roth (Geovariances) for more information\n",
      "        \n",
      "        Parameters\n",
      "        ----------\n",
      "        r : float\n",
      "            r or s coefficient representing support effect of Zv (or Zv*)\n",
      "        PCI : 1D array of floats\n",
      "            hermite coefficients\n",
      "        Var_Zv : float\n",
      "            Block Variance var(Zv) or var(Zv*) \n",
      "        \n",
      "        Notes\n",
      "        -----\n",
      "        var(Zv) can be calculated as C(0)-gamma(v,v) or C(v,v) see function \n",
      "        block_covariance \n",
      "        \n",
      "        var(Zv*) = var(Zv) - Kriging variance - 2*LaGrange multiplier\n",
      "         \n",
      "        In case of information effect this can be calculated with a dummy \n",
      "        dataset in a single block representing future information, for \n",
      "        example blast holes.\n",
      "    \n",
      "    fit_PCI(...)\n",
      "        fit_PCI(z,y,H, meanz=np.nan)\n",
      "        \n",
      "        or \n",
      "        \n",
      "        fit_PCI(z,y,H, meanz=float('NaN'))\n",
      "        \n",
      "        Fit the hermite coefficient (PCI) \n",
      "        \n",
      "        Parameters\n",
      "        ----------\n",
      "        z  : 1D array of floats\n",
      "            Raw values sorted\n",
      "        y  : 1D array of floats\n",
      "            Gaussian values calculated for the right part of the bin.\n",
      "        K  : integer, default 30\n",
      "            Number of hermite polynomials \n",
      "        meanz: float, default np.nan\n",
      "            mean of z, if NaN then the mean will be calculated as np.mean(z)\n",
      "        \n",
      "        Returns\n",
      "        -------\n",
      "        PCI : 1D array of floats\n",
      "            Hermite coefficients or PCI \n",
      "          \n",
      "        See Also\n",
      "        --------\n",
      "        var_PCI\n",
      "           \n",
      "        Notes\n",
      "        -----  \n",
      "        PCI[0]=mean(z) and the sum=(PCI[1...n]^2). To validate the fit \n",
      "        calculate the variance with var_PCI function and compare it with the \n",
      "        experimental variance of z. You may also validate the fit by \n",
      "        calculating the error= z-PHI(y), where PHI(y) are the z' values\n",
      "        calculated with the hermite polynomial expansion.\n",
      "    \n",
      "    get_r(...)\n",
      "        get_r(Var_Zv,PCI)\n",
      "         \n",
      "        This function deduces the value of the support effect coefficient r\n",
      "        or the information effect coefficient, smoothing component, s \n",
      "        defined by the equations: \n",
      "        \n",
      "        \n",
      "            Var(Zv) = sum PCI^2 * r^(n*2) \n",
      "            \n",
      "            and \n",
      "        \n",
      "            Var(Zv*) = sum PCI^2 * s^(n*2)\n",
      "        \n",
      "        The value of r is deduced by finding the root of the equation \n",
      "        f_var_Zv, using the classic Brent method (see scipy.optimize.brentq) \n",
      "        \n",
      "        \n",
      "        Parameters\n",
      "        ----------\n",
      "        PCI : 1D array of floats\n",
      "            hermite coefficient\n",
      "        Var_Zv : float\n",
      "            Block variance\n",
      "        \n",
      "        Returns\n",
      "        -------\n",
      "        r :  float\n",
      "            support effect coefficient r or information effect coefficient s\n",
      "          \n",
      "        See Also\n",
      "        --------\n",
      "        f_var_Zv, fit_PCI, scipy.optimize.brentq\n",
      "        \n",
      "        Notes\n",
      "        -----\n",
      "        var(Zv) can be calculated as C(0)-gamma(v,v) or C(v,v) see function \n",
      "        block_covariance \n",
      "        \n",
      "        var(Zv*) = var(Zv) - Kriging variance - 2*LaGrange multiplier\n",
      "         \n",
      "        In case of information effect this can be calculated with a dummy \n",
      "        dataset in a single block representing future information, for \n",
      "        example blast holes.\n",
      "    \n",
      "    get_ro(...)\n",
      "        get_ro(Covar_ZvZv,PCI,r,s)\n",
      "        \n",
      "        This function deduces the information effect coefficient, \n",
      "        conditional bias component, ro defined by the equations: \n",
      "        \n",
      "            Covar (Zv,Zv*) = sum PCI^2 * r^n * s^n * ro^n\n",
      "            \n",
      "        ro is necessary to account for the conditional bias in the \n",
      "        information effect.     \n",
      "            \n",
      "        The value of ro is deduced by finding the root of the equation \n",
      "        f_covar_ZvZv, using the classic Brent method (see \n",
      "        scipy.optimize.brentq)\n",
      "        \n",
      "        Parameters\n",
      "        ----------\n",
      "        r, s : float\n",
      "            support effect and information effect (smoothing component)\n",
      "        PCI : 1D array of floats\n",
      "            hermite coefficients\n",
      "        Covar_ZvZv : float\n",
      "            Block covariance (correlation) between true Zv and estimate Zv* \n",
      "        \n",
      "        Notes\n",
      "        -----\n",
      "        Covar (Zv,Zv*) = var(Zv) - Kriging variance - LaGrange multiplier\n",
      "        \n",
      "        see expression 7.47, page 97 on Basic Linear Geostatistics by \n",
      "        Margaret Armstrong.\n",
      "        \n",
      "        In case of information effect this can be calculated with a dummy \n",
      "        dataset in a single block representing future information, for \n",
      "        example blast holes. \n",
      "        \n",
      "        Note that the slop of regression is  \n",
      "        \n",
      "        p = Covar (Zv,Zv*) / (Covar (Zv,Zv*)  - LaGrange multiplier)\n",
      "    \n",
      "    recurrentH(...)\n",
      "        recurrentH(y, K=30)\n",
      "        \n",
      "        Calculate the hermite polynomials with the recurrent formula\n",
      "        \n",
      "        Parameters\n",
      "        ----------\n",
      "        y : 1D array of floats\n",
      "            Gaussian values calculated for the right part of the bin.\n",
      "        K  : integer, default 30\n",
      "            Number of hermite polynomials \n",
      "        \n",
      "        Returns\n",
      "        -------\n",
      "        H : 2D array of floats\n",
      "            Hermite monomials H(i,y) with shape [K+1,len(y)]\n",
      "          \n",
      "        See Also\n",
      "        --------\n",
      "        pygslib.__dist_transf.anatbl\n",
      "           \n",
      "        Notes\n",
      "        -----  \n",
      "        The y values may be calculated on the right side of the bin, \n",
      "        as shown in fig VI.13, page 478 of Mining Geostatistics: \n",
      "        A. G. Journel, Andre G. Journel, C. J. The function \n",
      "        pygslib.__dist_transf.anatbl was prepared to provide these values,\n",
      "        considering declustering weight if necessary. \n",
      "        \n",
      "        The results from pygslib.__dist_transf.ns_ttable are inappropriate \n",
      "        for this calculation because are the mid interval in the bin.\n",
      "    \n",
      "    var_PCI(...)\n",
      "        var_PCI(PCI)\n",
      "         \n",
      "        Calculates the variance from hermite coefficient (PCI) \n",
      "         \n",
      "        Parameters\n",
      "        ----------\n",
      "        PCI : 1D array of floats\n",
      "            hermite coefficient\n",
      "        \n",
      "        Returns\n",
      "        -------\n",
      "        var : float\n",
      "            variance calculated with hermite polynomials\n",
      "          \n",
      "        See Also\n",
      "        --------\n",
      "        fit_PCI\n",
      "           \n",
      "        Notes\n",
      "        -----  \n",
      "        The output may be used for validation of the PCI coefficients, it \n",
      "        may be close to the experimental variance of z.\n",
      "\n",
      "DATA\n",
      "    __test__ = {}\n",
      "    norm = <scipy.stats._continuous_distns.norm_gen object>\n",
      "\n",
      "\n"
     ]
    }
   ],
   "source": [
    "help(gslib.nonlinear)"
   ]
  },
  {
   "cell_type": "markdown",
   "metadata": {},
   "source": [
    "## Get some data ready for work"
   ]
  },
  {
   "cell_type": "code",
   "execution_count": 3,
   "metadata": {
    "collapsed": false
   },
   "outputs": [
    {
     "name": "stdout",
     "output_type": "stream",
     "text": [
      "   Xlocation  Ylocation  Primary  Secondary  Declustering Weight\n",
      "0       39.5       18.5     0.06       0.22                1.619\n",
      "1        5.5        1.5     0.06       0.27                1.619\n",
      "2       38.5        5.5     0.08       0.40                1.416\n",
      "3       20.5        1.5     0.09       0.39                1.821\n",
      "4       27.5       14.5     0.09       0.24                1.349\n",
      "mean     : 4.35042857143\n",
      "variance : 44.9242855306\n"
     ]
    }
   ],
   "source": [
    "mydata=gslib.read_gslib_file('../datasets/cluster.dat')\n",
    "print mydata.head()\n",
    "t=mydata['Primary'].values\n",
    "w=np.ones(t.shape[0])\n",
    "\n",
    "# if apply declustering make sure to use the declustred mean in all calculation \n",
    "parameters_probpltl =  {\n",
    "        'iwt'  : 1, #int, 1 use declustering weight\n",
    "        'va'   : t,            \n",
    "        'wt'   : w}  \n",
    "\n",
    "# get the mean from pplot function \n",
    "binval,cl,xpt025,xlqt,xmed,xuqt,xpt975,xmin,xmax,xcvr,xmen,xvar,error = gslib.__plot.probplt(**parameters_probpltl)\n",
    "\n",
    "print 'mean     :', xmen\n",
    "print 'variance :', xvar"
   ]
  },
  {
   "cell_type": "markdown",
   "metadata": {},
   "source": [
    "## Get transformation table"
   ]
  },
  {
   "cell_type": "code",
   "execution_count": 4,
   "metadata": {
    "collapsed": false
   },
   "outputs": [
    {
     "name": "stdout",
     "output_type": "stream",
     "text": [
      "there was any error?:  False\n"
     ]
    }
   ],
   "source": [
    "z,y, error = gslib.__dist_transf.anatbl(t,w,despike=1)\n",
    "print 'there was any error?: ', error!=0"
   ]
  },
  {
   "cell_type": "code",
   "execution_count": 5,
   "metadata": {
    "collapsed": false
   },
   "outputs": [
    {
     "data": {
      "image/png": "[encoded data removed]",
      "text/plain": [
       "<matplotlib.figure.Figure at 0x7f1ca6fc6e90>"
      ]
     },
     "metadata": {},
     "output_type": "display_data"
    }
   ],
   "source": [
    "# plot experimental anamorphosis function \n",
    "plt.plot(y,z, label='raw or experimental')\n",
    "plt.xlabel('Y: Gaussian values')\n",
    "plt.ylabel('Z: Raw values')\n",
    "plt.title('Experimental Gaussian anamorphosis')\n",
    "#plt.yscale ('log')\n",
    "#plt.xscale ('log')\n",
    "#plt.legend(loc=2)\n",
    "plt.show()"
   ]
  },
  {
   "cell_type": "markdown",
   "metadata": {},
   "source": [
    "## Test anamorphosis"
   ]
  },
  {
   "cell_type": "code",
   "execution_count": 6,
   "metadata": {
    "collapsed": false
   },
   "outputs": [
    {
     "name": "stderr",
     "output_type": "stream",
     "text": [
      "/home/adrian/anaconda/lib/python2.7/site-packages/matplotlib/collections.py:590: FutureWarning: elementwise comparison failed; returning scalar instead, but in the future will perform elementwise comparison\n",
      "  if self._edgecolors == str('face'):\n"
     ]
    },
    {
     "data": {
      "image/png": "[encoded data removed]",
      "text/plain": [
       "<matplotlib.figure.Figure at 0x7f1ca69f85d0>"
      ]
     },
     "metadata": {},
     "output_type": "display_data"
    },
    {
     "data": {
      "image/png": "[encoded data removed]",
      "text/plain": [
       "<matplotlib.figure.Figure at 0x7f1ca3128f50>"
      ]
     },
     "metadata": {},
     "output_type": "display_data"
    }
   ],
   "source": [
    "K=50\n",
    "H=gslib.nonlinear.recurrentH(y=y, K=K)\n",
    "\n",
    "# some test plot, example lack of correlation\n",
    "plt.scatter(H[1,:], H[2,:])\n",
    "plt.show()\n",
    "plt.scatter(H[1,:], H[3,:])\n",
    "plt.show()"
   ]
  },
  {
   "cell_type": "code",
   "execution_count": 7,
   "metadata": {
    "collapsed": false
   },
   "outputs": [
    {
     "data": {
      "image/png": "[encoded data removed]",
      "text/plain": [
       "<matplotlib.figure.Figure at 0x7f1ca2fe0590>"
      ]
     },
     "metadata": {},
     "output_type": "display_data"
    }
   ],
   "source": [
    "# plot some H values\n",
    "plt.plot(y,H[0,:], label='H0')\n",
    "plt.plot(y,H[1,:], label='H1')\n",
    "plt.plot(y,H[2,:], label='H2')\n",
    "plt.plot(y,H[15,:], label='H15')\n",
    "plt.legend()\n",
    "plt.show()"
   ]
  },
  {
   "cell_type": "markdown",
   "metadata": {},
   "source": [
    "## Fit Anamaorphosis coefficients"
   ]
  },
  {
   "cell_type": "code",
   "execution_count": 8,
   "metadata": {
    "collapsed": false
   },
   "outputs": [
    {
     "data": {
      "image/png": "[encoded data removed]",
      "text/plain": [
       "<matplotlib.figure.Figure at 0x7f1ca2ec9e50>"
      ]
     },
     "metadata": {},
     "output_type": "display_data"
    }
   ],
   "source": [
    "\n",
    "\n",
    "PCI=gslib.nonlinear.fit_PCI(z,y,H, meanz=xmen)\n",
    "#print PCI\n",
    "plt.plot(np.arange(PCI.shape[0])+1, PCI)\n",
    "plt.xlabel('K')\n",
    "plt.ylabel('Y')\n",
    "plt.show()\n"
   ]
  },
  {
   "cell_type": "markdown",
   "metadata": {},
   "source": [
    "### Validate PCI\n",
    "\n",
    "There are two basic validations:\n",
    "\n",
    " - The variance calculated from PCI may be close to the experimental variance (declustered)\n",
    " - The error of the z' fitted with hermite polynomial expansion may be close to z"
   ]
  },
  {
   "cell_type": "code",
   "execution_count": 9,
   "metadata": {
    "collapsed": false
   },
   "outputs": [
    {
     "name": "stdout",
     "output_type": "stream",
     "text": [
      "Variance from PCI:                  43.5315377635\n",
      "Variance experimental declustered:  44.9242855306\n",
      "Variance experimental:              44.9242522728\n"
     ]
    }
   ],
   "source": [
    "# test variance\n",
    "print 'Variance from PCI:                 ', gslib.nonlinear.var_PCI(PCI)\n",
    "print 'Variance experimental declustered: ', xvar\n",
    "print 'Variance experimental:             ', np.var(z)"
   ]
  },
  {
   "cell_type": "code",
   "execution_count": 10,
   "metadata": {
    "collapsed": false
   },
   "outputs": [
    {
     "name": "stdout",
     "output_type": "stream",
     "text": [
      "Mean z 4.35047885959\n",
      "Mean ze 4.14669482768\n",
      "Var z 44.9242522728\n",
      "Var ze 30.7255876501\n"
     ]
    },
    {
     "data": {
      "image/png": "[encoded data removed]",
      "text/plain": [
       "<matplotlib.figure.Figure at 0x7f1ca6a19c50>"
      ]
     },
     "metadata": {},
     "output_type": "display_data"
    },
    {
     "data": {
      "image/png": "[encoded data removed]",
      "text/plain": [
       "<matplotlib.figure.Figure at 0x7f1ca2d63e10>"
      ]
     },
     "metadata": {},
     "output_type": "display_data"
    },
    {
     "data": {
      "image/png": "[encoded data removed]",
      "text/plain": [
       "<matplotlib.figure.Figure at 0x7f1ca2ca1f90>"
      ]
     },
     "metadata": {},
     "output_type": "display_data"
    }
   ],
   "source": [
    "# test the fiiting error with polynomial expansion\n",
    "ze = gslib.nonlinear.expand_anamor(PCI,H,r=1) # make sure that r == 1 for point support\n",
    "\n",
    "fit_error = z-ze\n",
    "\n",
    "#print some comparisons\n",
    "print 'Mean z', z.mean()\n",
    "print 'Mean ze', ze.mean()\n",
    "print 'Var z', z.var()\n",
    "print 'Var ze', ze.var()\n",
    "\n",
    "# scaterplots of true / estimate\n",
    "plt.plot(z,ze, '+')\n",
    "plt.show()\n",
    "\n",
    "# error by y\n",
    "plt.plot(y,fit_error)\n",
    "plt.show()\n",
    "\n",
    "# plot histogram of errors\n",
    "pd.DataFrame({'fit_error': fit_error}).hist(bins=K)\n",
    "plt.show()\n"
   ]
  },
  {
   "cell_type": "code",
   "execution_count": 11,
   "metadata": {
    "collapsed": false
   },
   "outputs": [
    {
     "data": {
      "image/png": "[encoded data removed]",
      "text/plain": [
       "<matplotlib.figure.Figure at 0x7f1ca2e01bd0>"
      ]
     },
     "metadata": {},
     "output_type": "display_data"
    }
   ],
   "source": [
    "# also plot anamorphosis function \n",
    "plt.plot(y,ze,label='Z from anamorphosis')\n",
    "plt.plot(y,z, label='raw')\n",
    "plt.xlabel('Y: Gaussian values')\n",
    "plt.ylabel('Z: Raw values')\n",
    "plt.title('Gaussian anamorphosis')\n",
    "plt.legend(loc=2)\n",
    "plt.show()"
   ]
  },
  {
   "cell_type": "markdown",
   "metadata": {},
   "source": [
    "# Using the function to transform arbitrary y values\n",
    "\n",
    "As result of some nonlinear and simulation application you may have arbitrary gaussian (Y) values you want to convert to raw (Z) values. This is partially implemented and only valid for some practical intervals. \n",
    "\n",
    "To do this is necessary to identify four set of control points: \n",
    "\n",
    " - [yamin,zamin] admissible minimum value\n",
    " - [ypmin,zpmin] practical minimum value\n",
    " - [ypmax,zpmax] practical minimum value\n",
    " - [yamax,zamin] admissible minimum value\n",
    "\n",
    "\n",
    "\n"
   ]
  },
  {
   "cell_type": "code",
   "execution_count": 12,
   "metadata": {
    "collapsed": false
   },
   "outputs": [
    {
     "name": "stdout",
     "output_type": "stream",
     "text": [
      "0.0600345209241 -2.45255947113 58.3200035095 2.45255947113\n",
      "0.570056915283 -0.74892783165 58.3200035095 2.45255947113\n"
     ]
    }
   ],
   "source": [
    "zamin, yamin, zpmin, ypmin, zpmax, ypmax, zamax, yamax = gslib.nonlinear.ctrpoints(z,y,ze)\n",
    "print zamin,yamin,zamax,yamax\n",
    "print zpmin,ypmin,zpmax,ypmax\n"
   ]
  },
  {
   "cell_type": "code",
   "execution_count": 13,
   "metadata": {
    "collapsed": false
   },
   "outputs": [
    {
     "data": {
      "image/png": "[encoded data removed]",
      "text/plain": [
       "<matplotlib.figure.Figure at 0x7f1ca29f9c90>"
      ]
     },
     "metadata": {},
     "output_type": "display_data"
    }
   ],
   "source": [
    "# also plot anamorphosis function \n",
    "plt.plot(y,ze,'.', label='Z from anamorphosis')\n",
    "plt.plot(y,z, '+', label='raw')\n",
    "plt.plot(yamin,zamin, 'ok', label='Admissible control point')\n",
    "plt.plot(yamax,zamax, 'ok')\n",
    "plt.plot(ypmin,zpmin, '+r', label='Practical control point')\n",
    "plt.plot(ypmax,zpmax, '+r')\n",
    "plt.xlabel('Y: Gaussian values')\n",
    "plt.ylabel('Z: Raw values')\n",
    "plt.title('Gaussian anamorphosis')\n",
    "plt.legend(loc=2)\n",
    "plt.show()"
   ]
  },
  {
   "cell_type": "code",
   "execution_count": 14,
   "metadata": {
    "collapsed": false
   },
   "outputs": [
    {
     "data": {
      "image/png": "[encoded data removed]",
      "text/plain": [
       "<matplotlib.figure.Figure at 0x7f1ca298bc90>"
      ]
     },
     "metadata": {},
     "output_type": "display_data"
    }
   ],
   "source": [
    "#test using different Y data to fit a new Z (not in the input)\n",
    "yyy=np.linspace(-5,5,4000)\n",
    "\n",
    "ZZZ=gslib.nonlinear.Y2Z(yyy,PCI,zamin, yamin, zpmin, ypmin, zpmax, ypmax, zamax, yamax, r=1)\n",
    "\n",
    "plt.plot(yyy,ZZZ, label = 'z from y in [-5, 5]')\n",
    "plt.plot(y,z, label = 'Raw transformation (z)')\n",
    "plt.plot(y,ze, label = 'z from y in dataset (ze)')\n",
    "plt.legend(loc=2)\n",
    "plt.show()"
   ]
  },
  {
   "cell_type": "code",
   "execution_count": 15,
   "metadata": {
    "collapsed": false
   },
   "outputs": [
    {
     "data": {
      "image/png": "[encoded data removed]",
      "text/plain": [
       "<matplotlib.figure.Figure at 0x7f1ca293bd10>"
      ]
     },
     "metadata": {},
     "output_type": "display_data"
    }
   ],
   "source": [
    "#test using different Z data to fit a new Y \n",
    "zzz=np.linspace(z.min()-1,z.max()+3,1000)\n",
    "\n",
    "YYY=gslib.nonlinear.Z2Y_linear(zzz,ze,y,zamin, yamin, zpmin, ypmin, zpmax, ypmax, zamax, yamax)\n",
    "\n",
    "plt.plot(YYY,zzz, '.',linewidth=2.0, label = 'Y from arbitrary z')\n",
    "plt.plot(y,z, label = 'Raw transformation (z)')\n",
    "plt.plot(y,ze, label = 'z from y in dataset (ze)')\n",
    "plt.legend(loc=2)\n",
    "plt.show()"
   ]
  },
  {
   "cell_type": "markdown",
   "metadata": {
    "collapsed": true
   },
   "source": [
    "# Change of support and information effect\n",
    "\n",
    "## Support effect\n",
    "\n",
    "To account for support effect you need to know: \n",
    "\n",
    "- point-support variance:  $Var(Zx) = γ(\\infty)$\n",
    "- block-support variance: $ Var(Zv) = \\gamma(\\infty) − \\gamma(v,v) $\n",
    "\n",
    "## Information effect\n",
    "\n",
    "To account for information effect, in addition to the point variance and block variance, you need to know:\n",
    "\n",
    "- estimated grade variance: $ Var(Zv^*) = Var(Zv) -  \\sigma^2_K - 2\\mu$\n",
    "- true grade–estimated grade covariance: $Cov(Zv,Zv^*) = Var(Zv) - \\sigma^2_K - \\mu$\n",
    "\n",
    "Note that the information effect has two components. The smoothing due to kriging, represented by the estimated grade variance and some degree of conditional bias represented by the true grade–estimated grade covariance. Note that the amount of conditional bias can be represented as the slope of regression: $p = Cov(Zv,Zv^*) / (Cov(Zv,Zv^*)  - \\mu)$\n"
   ]
  },
  {
   "cell_type": "markdown",
   "metadata": {},
   "source": [
    "## Calculating the support effect"
   ]
  },
  {
   "cell_type": "code",
   "execution_count": 16,
   "metadata": {
    "collapsed": false
   },
   "outputs": [
    {
     "name": "stdout",
     "output_type": "stream",
     "text": [
      "var(Zx)= 16.979510753\n",
      "unbias: 26.0\n",
      "f: 0.653058105883\n"
     ]
    }
   ],
   "source": [
    "# first we define the parameters for block covariance calculation\n",
    "xsize = 5\n",
    "ysize = 5\n",
    "zsize = 5\n",
    "nx, ny, nz = (5, 5, 5) # number of discretization points \n",
    "dx = np.linspace(0 + xsize/(2*nx), xsize-xsize/(2*nx), nx)\n",
    "dy = np.linspace(0 + ysize/(2*ny), ysize-ysize/(2*ny), ny)\n",
    "dz = np.linspace(0 + zsize/(2*nz), ysize-ysize/(2*nz), nz)\n",
    "xv, yv, zv = np.meshgrid(dx, dy, dz)\n",
    "xdb = xv.ravel() \n",
    "ydb = yv.ravel() \n",
    "zdb = zv.ravel() \n",
    "\n",
    "parameters_blk = { \n",
    "                'xdb'  :  xdb,       # X coordinates of discretazation points\n",
    "                'ydb'  :  ydb,       # Y coordinates of discretazation points\n",
    "                'zdb'  :  zdb,       # Z coordinates of discretazation points\n",
    "                'it'   :  [1, 1],    # two structures: 1 spherical, 2 exponential \n",
    "                'c0'   :  [6],    # nugget,  \n",
    "                'cc'   :  [10, 10],# variance of each structure \n",
    "                'aa'   :  [30, 60],  # parameter a (or range) mayor direction \n",
    "                'aa1'  :  [30, 60],  # parameter a (or range) semimayor direction \n",
    "                'aa2'  :  [30, 60],   # parameter a (or range) minor direction\n",
    "                'ang1'   : [0, 0],   # Rotation angles per structure  \n",
    "                'ang2'   : [0, 0],              \n",
    "                'ang3'   : [0, 0]}       \n",
    "\n",
    "\n",
    "\n",
    "unbias, blk_var=gslib.__block_covariance.block_covariance(**parameters_blk)\n",
    "\n",
    "print 'var(Zx)=', blk_var\n",
    "print 'unbias:', unbias\n",
    "print 'f:', blk_var/unbias"
   ]
  },
  {
   "cell_type": "code",
   "execution_count": 17,
   "metadata": {
    "collapsed": false
   },
   "outputs": [
    {
     "name": "stdout",
     "output_type": "stream",
     "text": [
      "0.713271196214\n"
     ]
    }
   ],
   "source": [
    "# now we can calculate r\n",
    "r = gslib.nonlinear.get_r (Var_Zv=blk_var,PCI= PCI)\n",
    "print r"
   ]
  },
  {
   "cell_type": "code",
   "execution_count": 18,
   "metadata": {
    "collapsed": false
   },
   "outputs": [
    {
     "data": {
      "image/png": "[encoded data removed]",
      "text/plain": [
       "<matplotlib.figure.Figure at 0x7f1ca2ae0b10>"
      ]
     },
     "metadata": {},
     "output_type": "display_data"
    }
   ],
   "source": [
    "# see the impact in the CDF (this time we plot z from anamorphosis)\n",
    "yi=np.linspace(-3.5,3.5,4000)\n",
    "H_yi = gslib.nonlinear.recurrentH(y=yi, K=K)\n",
    "zp= gslib.nonlinear.expand_anamor(PCI,H=H_yi,r=1) \n",
    "zr= gslib.nonlinear.expand_anamor(PCI,H=H_yi,r=r) \n",
    "\n",
    "plt.plot(y,z,'k', label = 'experimental')\n",
    "plt.plot(yi,zp, label = 'point')\n",
    "plt.plot(yi,zr, label = 'block')\n",
    "\n",
    "plt.legend(loc=2)\n",
    "plt.show()"
   ]
  },
  {
   "cell_type": "markdown",
   "metadata": {},
   "source": [
    "## Calculating information effect parameters"
   ]
  },
  {
   "cell_type": "markdown",
   "metadata": {},
   "source": [
    "Here we assume some arbitrary numbers. In practice you may do kriging in a panel with dummy future data, for example, blast holes.  \n",
    "\n",
    "$ \\sigma^2_K = 2 $\n",
    "\n",
    "and \n",
    "\n",
    "$ \\mu = 0.5 $\n",
    "\n",
    "Then \n",
    "\n",
    "$ Var(Zv^*) = Var(Zv) -  \\sigma^2_K - 2\\mu$\n",
    "$ = Var(Zv) -  2 - 1 $\n",
    "\n",
    "$Cov(Zv,Zv^*) = Var(Zv) - \\sigma^2_K - \\mu$\n",
    "$ = Var(Zv) - 2 - 0.5$"
   ]
  },
  {
   "cell_type": "code",
   "execution_count": 19,
   "metadata": {
    "collapsed": false
   },
   "outputs": [
    {
     "name": "stdout",
     "output_type": "stream",
     "text": [
      "Var(Zv*)=    13.979510753\n",
      "Cov(Zv,Zv*)= 14.479510753\n"
     ]
    }
   ],
   "source": [
    "blk_e_var= blk_var - 2. -2*0.5\n",
    "blk_te_covar= blk_var - 2. -0.5\n",
    "print 'Var(Zv*)=   ', blk_e_var\n",
    "print 'Cov(Zv,Zv*)=', blk_te_covar"
   ]
  },
  {
   "cell_type": "code",
   "execution_count": 20,
   "metadata": {
    "collapsed": false
   },
   "outputs": [
    {
     "name": "stdout",
     "output_type": "stream",
     "text": [
      "r   =  0.713271196214\n",
      "s   =  0.658784240484\n",
      "ro  =  0.950839154246\n",
      "s*ro=  0.626397850053\n"
     ]
    }
   ],
   "source": [
    "# now we can calculate s and ro\n",
    "s = gslib.nonlinear.get_r (Var_Zv=blk_e_var,PCI= PCI)\n",
    "ro = gslib.nonlinear.get_ro(Covar_ZvZv=blk_te_covar, PCI= PCI, r=r, s=s)\n",
    "print 'r   = ', r\n",
    "print 's   = ', s\n",
    "print 'ro  = ', ro\n",
    "print 's*ro= ', s*ro"
   ]
  },
  {
   "cell_type": "code",
   "execution_count": 21,
   "metadata": {
    "collapsed": false
   },
   "outputs": [
    {
     "data": {
      "image/png": "[encoded data removed]",
      "text/plain": [
       "<matplotlib.figure.Figure at 0x7f1ca2b1e510>"
      ]
     },
     "metadata": {},
     "output_type": "display_data"
    }
   ],
   "source": [
    "# see the impact in the CDF (this time we plot z from anamorphosis)\n",
    "zs= gslib.nonlinear.expand_anamor(PCI,H=H_yi,r=s*r) \n",
    "\n",
    "plt.plot(y,z,'k', label = 'experimental')\n",
    "plt.plot(yi,zp, label = 'point')\n",
    "plt.plot(yi,zr, label = 'block')\n",
    "plt.plot(yi,zs, label = 'block*') # verify this\n",
    "\n",
    "plt.legend(loc=2)\n",
    "plt.show()"
   ]
  },
  {
   "cell_type": "code",
   "execution_count": null,
   "metadata": {
    "collapsed": true
   },
   "outputs": [],
   "source": []
  },
  {
   "cell_type": "code",
   "execution_count": null,
   "metadata": {
    "collapsed": true
   },
   "outputs": [],
   "source": []
  }
 ],
 "metadata": {
  "kernelspec": {
   "display_name": "Python 2",
   "language": "python",
   "name": "python2"
  },
  "language_info": {
   "codemirror_mode": {
    "name": "ipython",
    "version": 2
   },
   "file_extension": ".py",
   "mimetype": "text/x-python",
   "name": "python",
   "nbconvert_exporter": "python",
   "pygments_lexer": "ipython2",
   "version": "2.7.10"
  }
 },
 "nbformat": 4,
 "nbformat_minor": 0
}
