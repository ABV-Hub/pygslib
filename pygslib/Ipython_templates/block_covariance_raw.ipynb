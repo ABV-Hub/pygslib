{
 "cells": [
  {
   "cell_type": "markdown",
   "metadata": {},
   "source": [
    "# Block covariance raw"
   ]
  },
  {
   "cell_type": "code",
   "execution_count": 1,
   "metadata": {
    "collapsed": true
   },
   "outputs": [],
   "source": [
    "import pygslib as gslib \n",
    "import numpy as np\n",
    "import matplotlib.pyplot as plt \n",
    "\n",
    "#make the plots inline\n",
    "%matplotlib inline  "
   ]
  },
  {
   "cell_type": "code",
   "execution_count": 2,
   "metadata": {
    "collapsed": false
   },
   "outputs": [],
   "source": [
    "parameters_blk = { \n",
    "                'xdb'  :  [0 , 0, 1, 1],  # X coordinates of discretazation points\n",
    "                'ydb'  :  [1 , 0, 1, 0],  # Y coordinates of discretazation points\n",
    "                'zdb'  :  [0 , 0, 0, 0],  # Z coordinates of discretazation points\n",
    "                'it'   :  [3, 2],        # structure type,  array('i') with bounds (ivarg)        \n",
    "                'c0'   :  [0.1],        # nugget,  array('f') with bounds (ivarg)        \n",
    "                'cc'   :  [0.4, 0.5],   # variance, array('f') with bounds (nvarg*nst[0])\n",
    "                'aa'   :  [8, 26],       # parameter a (or range), array('f') with bounds (nst)\n",
    "                'aa1'  :  [8, 26],       # parameter a (or range), array('f') with bounds (nst)\n",
    "                'aa2'  :  [8, 16],       # parameter a (or range), array('f') with bounds (nst)\n",
    "                'ang1'   : [0, 0],              # input rank-1 array('d') with bounds (nst)\n",
    "                'ang2'   : [0, 0],              # input rank-1 array('d') with bounds (nst)\n",
    "                'ang3'   : [0, 0]}                # input rank-1 array('d') with bounds (nst)"
   ]
  },
  {
   "cell_type": "code",
   "execution_count": 3,
   "metadata": {
    "collapsed": false
   },
   "outputs": [
    {
     "name": "stdout",
     "output_type": "stream",
     "text": [
      "0.803182760643\n"
     ]
    }
   ],
   "source": [
    "print gslib.block_covariance(parameters_blk)"
   ]
  },
  {
   "cell_type": "markdown",
   "metadata": {},
   "source": [
    "Note that the block is defined by discretization points, you can use this function to:\n",
    "  *  find the covariance of a given block size with regular discretization\n",
    "  *  find the covariance of a given block size with random discretization\n",
    "  *  find the covariance of a given polygon defined with discretization points"
   ]
  },
  {
   "cell_type": "markdown",
   "metadata": {},
   "source": [
    "## example discretization test"
   ]
  },
  {
   "cell_type": "code",
   "execution_count": 6,
   "metadata": {
    "collapsed": false
   },
   "outputs": [
    {
     "data": {
      "image/png": "[encoded data removed]",
      "text/plain": [
       "<matplotlib.figure.Figure at 0x7f29da30c990>"
      ]
     },
     "metadata": {},
     "output_type": "display_data"
    }
   ],
   "source": [
    "xsize = 10\n",
    "ysize = 10\n",
    "maxdis = 10\n",
    "\n",
    "cbb = np.zeros (maxdis)\n",
    "cbbr = np.zeros (maxdis)\n",
    "nn = np.arange (2,maxdis+2)\n",
    "\n",
    "\n",
    "for n in range(2,maxdis+2): \n",
    "    nx, ny = (n, n)\n",
    "    x = np.linspace(-xsize/2.+xsize/2./n, xsize/2.-xsize/2./n, nx)\n",
    "    y = np.linspace(-ysize/2.+ysize/2./n, ysize/2.-ysize/2./n , ny)\n",
    "    xv, yv = np.meshgrid(x, y)\n",
    "    xdb = xv.ravel() \n",
    "    ydb = yv.ravel() \n",
    "    xdbr = xdb + np.random.uniform(-xsize/2./n, xsize/2./n,size=len(ydb))\n",
    "    ydbr = ydb + np.random.uniform(-ysize/2./n, ysize/2./n,size=len(ydb))\n",
    "    zdb = np.zeros(len(ydb))\n",
    "\n",
    "    parameters_blk['xdb']=xdbr\n",
    "    parameters_blk['ydb']=ydbr\n",
    "    parameters_blk['zdb']=zdb\n",
    "\n",
    "    cbbr[n-2]= gslib.block_covariance(parameters_blk)\n",
    "\n",
    "    parameters_blk['xdb']=xdb\n",
    "    parameters_blk['ydb']=ydb\n",
    "    parameters_blk['zdb']=zdb\n",
    "\n",
    "    cbb[n-2]= gslib.block_covariance(parameters_blk)\n",
    "\n",
    "     \n",
    "plt.plot (nn, cbb, '-', label= 'regular')\n",
    "plt.plot (nn, cbbr, '-', label= 'random')\n",
    "plt.legend()\n",
    "plt.grid(True)\n",
    "plt.show()"
   ]
  },
  {
   "cell_type": "code",
   "execution_count": 7,
   "metadata": {
    "collapsed": false
   },
   "outputs": [
    {
     "data": {
      "text/plain": [
       "[<matplotlib.lines.Line2D at 0x7f29da3701d0>]"
      ]
     },
     "execution_count": 7,
     "metadata": {},
     "output_type": "execute_result"
    },
    {
     "data": {
      "image/png": "[encoded data removed]",
      "text/plain": [
       "<matplotlib.figure.Figure at 0x7f29da370190>"
      ]
     },
     "metadata": {},
     "output_type": "display_data"
    }
   ],
   "source": [
    "plt.plot(xdb, ydb, 'o')\n",
    "plt.plot(xdbr, ydbr, '*')    \n"
   ]
  },
  {
   "cell_type": "code",
   "execution_count": null,
   "metadata": {
    "collapsed": true
   },
   "outputs": [],
   "source": []
  }
 ],
 "metadata": {
  "kernelspec": {
   "display_name": "Python 2",
   "language": "python",
   "name": "python2"
  },
  "language_info": {
   "codemirror_mode": {
    "name": "ipython",
    "version": 2
   },
   "file_extension": ".py",
   "mimetype": "text/x-python",
   "name": "python",
   "nbconvert_exporter": "python",
   "pygments_lexer": "ipython2",
   "version": "2.7.10"
  }
 },
 "nbformat": 4,
 "nbformat_minor": 0
}
