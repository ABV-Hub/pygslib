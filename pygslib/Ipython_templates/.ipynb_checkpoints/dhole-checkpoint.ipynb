{
 "cells": [
  {
   "cell_type": "markdown",
   "metadata": {},
   "source": [
    "\n",
    "# Test dhole module\n",
    "\n",
    "The module drillhole has a class Drillhole designed to create and validate a drillhole **working** database loaded in memory. It requires **Pandas Dataframe** tables: Collar, Survey and optionally interval tables, for example, assay tables. The name of the fields are hard code and case sensitive, as shown here. \n",
    "\n",
    "Fields for Collar:\n",
    "\n",
    "\n",
    "\n",
    "Field name | TYPE | Description\n",
    ":---|\n",
    "BHID | any | Drillhole ID\n",
    "XCOLLAR | double | X coordinate\n",
    "YCOLLAR | double | Y coordinate\n",
    "ZCOLLAR | double | Z coordinate\n",
    "\n",
    "\n",
    "\n",
    "Fields for Survey: \n",
    "\n",
    "Field name | TYPE | Description\n",
    "---|\n",
    "BHID | any | Drillhole ID\n",
    "AT | double | Distance from the collar, AT = 0 required, two, AT per drillhole required, AT at the end of the drillhole recommended \n",
    "AZ | double | Azimuth (direction direction), in degrees\n",
    "DIP | double | Dip angle, positive downward , in degrees\n",
    "\n",
    "\n",
    "Fields for Tables:\n",
    "\n",
    "Field name | TYPE | Description\n",
    "---|\n",
    "BHID | any | Drillhole ID\n",
    "FROM | double | Distance from the collar of the beginning of the core\n",
    "TO | double | Distance from the collar of the end of the core\n",
    "\n",
    "In this example we show how to create a working drillhole database from csv files, how to validate and how to desurvey. \n",
    "\n",
    "In a second part we also test some of the functions we use to interpolate angles in ID, required to desurvey interval tables. These functions can be used as tools to interpolate angles in 3D. \n",
    "\n",
    "We also show how to create an arbitrary BHID as a sequence of integers, this is useful for pygslib functions developed in Fortran, for example the gamv (with downhole variogram).  \n",
    "<p>\n",
    "<div class=\"alert alert-info\">\n",
    "    Note: The module drillhole was develop in Cython to avoid issues with string and other data conversion from Python to Fortran. The code is fast (optimized with Cython) and support large datasets but will force you to use the right data types in the Pandas DataFrame used as input data.\n",
    "</div>\n",
    "\n"
   ]
  },
  {
   "cell_type": "code",
   "execution_count": 1,
   "metadata": {
    "collapsed": false
   },
   "outputs": [],
   "source": [
    "# load some modules\n",
    "import pandas as pd\n",
    "import numpy as np\n",
    "from pygslib.drillhole import *   # here we are importing all the classes and functions in pygslib.drillhole\n",
    "import matplotlib.pylab as plt\n",
    "%matplotlib inline  "
   ]
  },
  {
   "cell_type": "code",
   "execution_count": 2,
   "metadata": {
    "collapsed": false
   },
   "outputs": [],
   "source": [
    "# a) import existing data\n",
    "collar= pd.read_csv('../datasets/dhole_data/collar.csv')\n",
    "survey= pd.read_csv('../datasets/dhole_data/survey.csv')\n",
    "assay= pd.read_csv('../datasets/dhole_data/assay.csv')\n",
    "litho= pd.read_csv('../datasets/dhole_data/litho.csv')\n",
    "\n",
    "# survey is downhole negative, so we change the sign\n",
    "survey.DIP=-survey.DIP"
   ]
  },
  {
   "cell_type": "code",
   "execution_count": 3,
   "metadata": {
    "collapsed": false
   },
   "outputs": [],
   "source": [
    "# creating a working Drillhole database. \n",
    "# Note that you may provide a collar and survey table with the right field names and dtypes (\n",
    "# for example: an error will be produced if you have non numeric characters in XCOLLAR\n",
    "mydholedb=Drillhole(collar=collar,survey=survey)"
   ]
  },
  {
   "cell_type": "code",
   "execution_count": 4,
   "metadata": {
    "collapsed": false
   },
   "outputs": [],
   "source": [
    "mydholedb.addtable(assay, 'assay' ,overwrite = False)\n",
    "mydholedb.addtable(litho, 'litho', overwrite = False)"
   ]
  },
  {
   "cell_type": "code",
   "execution_count": 5,
   "metadata": {
    "collapsed": false
   },
   "outputs": [
    {
     "name": "stdout",
     "output_type": "stream",
     "text": [
      "Table names:\n",
      "['litho', 'assay']\n",
      "\n",
      "Table Litho: \n",
      "    BHID   FROM      TO              LITHO_DESC\n",
      "0  E-046   0.00   23.46                  Casing\n",
      "1  E-046  23.46   86.25  Indifferenciated Tuffs\n",
      "2  E-046  86.25  131.06  Porphyric Granodiorite\n"
     ]
    }
   ],
   "source": [
    "print 'Table names:\\n', mydholedb.table_mames\n",
    "print '\\nTable Litho: \\n', mydholedb.table['litho'].head(3)"
   ]
  },
  {
   "cell_type": "markdown",
   "metadata": {},
   "source": [
    "\n",
    "\n",
    "\n",
    "***The memory of the input Pandas DataFrame is shared with Drillhole working class***, as shown in the example below. \n",
    "<p>\n",
    "<div class=\"alert alert-danger\">\n",
    " ** Warning: ** By changing the pandas table you will change the working database information\n",
    "</div>"
   ]
  },
  {
   "cell_type": "code",
   "execution_count": 6,
   "metadata": {
    "collapsed": false
   },
   "outputs": [
    {
     "name": "stdout",
     "output_type": "stream",
     "text": [
      "   BHID      FROM        TO     AU\n",
      "0  lala  70.71360  71.32320  0.026\n",
      "1  lala  22.86000  23.59152  0.026\n",
      "2  lala  35.29584  35.60064  0.686\n"
     ]
    }
   ],
   "source": [
    "# We change the \"external\" input table\n",
    "assay['BHID']= 'lala'\n",
    "# and this changes the \"Internal Data\"\n",
    "print mydholedb.table['assay'].head(3)"
   ]
  },
  {
   "cell_type": "code",
   "execution_count": 7,
   "metadata": {
    "collapsed": false
   },
   "outputs": [
    {
     "name": "stdout",
     "output_type": "stream",
     "text": [
      "   BHID      FROM        TO     AU\n",
      "0  lala  70.71360  71.32320  0.026\n",
      "1  lala  22.86000  23.59152  0.026\n",
      "2  lala  35.29584  35.60064  0.686\n"
     ]
    }
   ],
   "source": [
    "# if we delete or redefine the input data, the internal data is not affected\n",
    "del assay  # or assay = 0; assay = None; assay = n; etc. \n",
    "print mydholedb.table['assay'].head(3)"
   ]
  },
  {
   "cell_type": "markdown",
   "metadata": {},
   "source": [
    "## Validating the dataset\n",
    "\n",
    "An error will be raised is there is anything wrong in the database. \n",
    "\n",
    "<p>\n",
    "<div class=\"alert alert-danger\">\n",
    " ** Warning: ** Error are not validated at input. Always run validations after creating a working database, defining data, or changing data. Always run validations before doing operations like desurvey. \n",
    "</div>\n",
    "\n",
    "<p>\n",
    "<div class=\"alert alert-danger\">\n",
    " ** Warning: ** This version of the module (0.0.0.3) only test few possible issues like NaN values at compulsory fields like BHI, XCOLLAR, AT, etc. and check survey without values AT==0 in the first interval. \n",
    "</div>\n",
    "<div class=\"alert alert-danger\">\n",
    " ** Warning: ** Survey require at least 2 intervals per drillholes, one at AT==0 and a second at any position with AT>0. This is not included in validations at the version (0.0.0.3)\n",
    "</div>\n"
   ]
  },
  {
   "cell_type": "code",
   "execution_count": 8,
   "metadata": {
    "collapsed": false
   },
   "outputs": [],
   "source": [
    "mydholedb.validate()"
   ]
  },
  {
   "cell_type": "code",
   "execution_count": 9,
   "metadata": {
    "collapsed": false
   },
   "outputs": [],
   "source": [
    "mydholedb.validate_table('assay')\n",
    "mydholedb.validate_table('litho')"
   ]
  },
  {
   "cell_type": "markdown",
   "metadata": {},
   "source": [
    "### Adding BHIDint\n",
    "The BHID field can be any data type (dtype) but some applicatios with functions written in Fortran require BHID of integer dtype. An example is the modified version of GAMV in pygslib. \n",
    "\n",
    "To create an alternative BHIDint field in a table use the txt2intID function... \n",
    "\n",
    "<p>\n",
    "<div class=\"alert alert-info\">\n",
    " ** Info: ** Avery time you run txt2intID the Collar BHIDint is updated. \n",
    "</div>"
   ]
  },
  {
   "cell_type": "code",
   "execution_count": 10,
   "metadata": {
    "collapsed": false
   },
   "outputs": [],
   "source": [
    "mydholedb.txt2intID('assay')"
   ]
  },
  {
   "cell_type": "code",
   "execution_count": 11,
   "metadata": {
    "collapsed": false
   },
   "outputs": [
    {
     "data": {
      "text/html": [
       "<div>\n",
       "<table border=\"1\" class=\"dataframe\">\n",
       "  <thead>\n",
       "    <tr style=\"text-align: right;\">\n",
       "      <th></th>\n",
       "      <th>BHID</th>\n",
       "      <th>XCOLLAR</th>\n",
       "      <th>YCOLLAR</th>\n",
       "      <th>ZCOLLAR</th>\n",
       "      <th>BHIDint</th>\n",
       "    </tr>\n",
       "  </thead>\n",
       "  <tbody>\n",
       "    <tr>\n",
       "      <th>0</th>\n",
       "      <td>B-576</td>\n",
       "      <td>291492.30</td>\n",
       "      <td>5331488.57</td>\n",
       "      <td>-313.95</td>\n",
       "      <td>1</td>\n",
       "    </tr>\n",
       "    <tr>\n",
       "      <th>1</th>\n",
       "      <td>E-046</td>\n",
       "      <td>292322.80</td>\n",
       "      <td>5329541.71</td>\n",
       "      <td>326.43</td>\n",
       "      <td>2</td>\n",
       "    </tr>\n",
       "    <tr>\n",
       "      <th>2</th>\n",
       "      <td>E-133</td>\n",
       "      <td>292423.04</td>\n",
       "      <td>5329537.17</td>\n",
       "      <td>326.73</td>\n",
       "      <td>3</td>\n",
       "    </tr>\n",
       "    <tr>\n",
       "      <th>3</th>\n",
       "      <td>E-364</td>\n",
       "      <td>289971.66</td>\n",
       "      <td>5328599.92</td>\n",
       "      <td>326.73</td>\n",
       "      <td>4</td>\n",
       "    </tr>\n",
       "    <tr>\n",
       "      <th>4</th>\n",
       "      <td>P-338</td>\n",
       "      <td>291784.74</td>\n",
       "      <td>5329274.13</td>\n",
       "      <td>-103.94</td>\n",
       "      <td>5</td>\n",
       "    </tr>\n",
       "  </tbody>\n",
       "</table>\n",
       "</div>"
      ],
      "text/plain": [
       "    BHID    XCOLLAR     YCOLLAR  ZCOLLAR  BHIDint\n",
       "0  B-576  291492.30  5331488.57  -313.95        1\n",
       "1  E-046  292322.80  5329541.71   326.43        2\n",
       "2  E-133  292423.04  5329537.17   326.73        3\n",
       "3  E-364  289971.66  5328599.92   326.73        4\n",
       "4  P-338  291784.74  5329274.13  -103.94        5"
      ]
     },
     "execution_count": 11,
     "metadata": {},
     "output_type": "execute_result"
    }
   ],
   "source": [
    "mydholedb.collar"
   ]
  },
  {
   "cell_type": "markdown",
   "metadata": {},
   "source": [
    "<p>\n",
    "<div class=\"alert alert-info\">\n",
    " ** Info: ** BHIDint equal to `0` means that the drillohole is not in the collar table. Valid BHIDint start at `1`. \n",
    "</div>"
   ]
  },
  {
   "cell_type": "code",
   "execution_count": 12,
   "metadata": {
    "collapsed": false
   },
   "outputs": [
    {
     "data": {
      "text/html": [
       "<div>\n",
       "<table border=\"1\" class=\"dataframe\">\n",
       "  <thead>\n",
       "    <tr style=\"text-align: right;\">\n",
       "      <th></th>\n",
       "      <th>BHID</th>\n",
       "      <th>FROM</th>\n",
       "      <th>TO</th>\n",
       "      <th>AU</th>\n",
       "      <th>BHIDint</th>\n",
       "    </tr>\n",
       "  </thead>\n",
       "  <tbody>\n",
       "    <tr>\n",
       "      <th>0</th>\n",
       "      <td>lala</td>\n",
       "      <td>70.71360</td>\n",
       "      <td>71.32320</td>\n",
       "      <td>0.026</td>\n",
       "      <td>0</td>\n",
       "    </tr>\n",
       "    <tr>\n",
       "      <th>1</th>\n",
       "      <td>lala</td>\n",
       "      <td>22.86000</td>\n",
       "      <td>23.59152</td>\n",
       "      <td>0.026</td>\n",
       "      <td>0</td>\n",
       "    </tr>\n",
       "    <tr>\n",
       "      <th>2</th>\n",
       "      <td>lala</td>\n",
       "      <td>35.29584</td>\n",
       "      <td>35.60064</td>\n",
       "      <td>0.686</td>\n",
       "      <td>0</td>\n",
       "    </tr>\n",
       "    <tr>\n",
       "      <th>3</th>\n",
       "      <td>lala</td>\n",
       "      <td>36.21024</td>\n",
       "      <td>36.33216</td>\n",
       "      <td>0.026</td>\n",
       "      <td>0</td>\n",
       "    </tr>\n",
       "    <tr>\n",
       "      <th>4</th>\n",
       "      <td>lala</td>\n",
       "      <td>39.86784</td>\n",
       "      <td>40.08120</td>\n",
       "      <td>0.026</td>\n",
       "      <td>0</td>\n",
       "    </tr>\n",
       "  </tbody>\n",
       "</table>\n",
       "</div>"
      ],
      "text/plain": [
       "   BHID      FROM        TO     AU  BHIDint\n",
       "0  lala  70.71360  71.32320  0.026        0\n",
       "1  lala  22.86000  23.59152  0.026        0\n",
       "2  lala  35.29584  35.60064  0.686        0\n",
       "3  lala  36.21024  36.33216  0.026        0\n",
       "4  lala  39.86784  40.08120  0.026        0"
      ]
     },
     "execution_count": 12,
     "metadata": {},
     "output_type": "execute_result"
    }
   ],
   "source": [
    "mydholedb.table['assay'].head()"
   ]
  },
  {
   "cell_type": "code",
   "execution_count": 13,
   "metadata": {
    "collapsed": false,
    "scrolled": true
   },
   "outputs": [
    {
     "data": {
      "text/html": [
       "<div>\n",
       "<table border=\"1\" class=\"dataframe\">\n",
       "  <thead>\n",
       "    <tr style=\"text-align: right;\">\n",
       "      <th></th>\n",
       "      <th>BHID</th>\n",
       "      <th>FROM</th>\n",
       "      <th>TO</th>\n",
       "      <th>LITHO_DESC</th>\n",
       "      <th>BHIDint</th>\n",
       "    </tr>\n",
       "  </thead>\n",
       "  <tbody>\n",
       "    <tr>\n",
       "      <th>0</th>\n",
       "      <td>E-046</td>\n",
       "      <td>0.00</td>\n",
       "      <td>23.46</td>\n",
       "      <td>Casing</td>\n",
       "      <td>2</td>\n",
       "    </tr>\n",
       "    <tr>\n",
       "      <th>1</th>\n",
       "      <td>E-046</td>\n",
       "      <td>23.46</td>\n",
       "      <td>86.25</td>\n",
       "      <td>Indifferenciated Tuffs</td>\n",
       "      <td>2</td>\n",
       "    </tr>\n",
       "    <tr>\n",
       "      <th>2</th>\n",
       "      <td>E-046</td>\n",
       "      <td>86.25</td>\n",
       "      <td>131.06</td>\n",
       "      <td>Porphyric Granodiorite</td>\n",
       "      <td>2</td>\n",
       "    </tr>\n",
       "    <tr>\n",
       "      <th>3</th>\n",
       "      <td>E-046</td>\n",
       "      <td>131.06</td>\n",
       "      <td>157.88</td>\n",
       "      <td>Indifferenciated Tuffs</td>\n",
       "      <td>2</td>\n",
       "    </tr>\n",
       "    <tr>\n",
       "      <th>4</th>\n",
       "      <td>E-046</td>\n",
       "      <td>157.88</td>\n",
       "      <td>158.58</td>\n",
       "      <td>Porphyric Granodiorite</td>\n",
       "      <td>2</td>\n",
       "    </tr>\n",
       "  </tbody>\n",
       "</table>\n",
       "</div>"
      ],
      "text/plain": [
       "    BHID    FROM      TO              LITHO_DESC  BHIDint\n",
       "0  E-046    0.00   23.46                  Casing        2\n",
       "1  E-046   23.46   86.25  Indifferenciated Tuffs        2\n",
       "2  E-046   86.25  131.06  Porphyric Granodiorite        2\n",
       "3  E-046  131.06  157.88  Indifferenciated Tuffs        2\n",
       "4  E-046  157.88  158.58  Porphyric Granodiorite        2"
      ]
     },
     "execution_count": 13,
     "metadata": {},
     "output_type": "execute_result"
    }
   ],
   "source": [
    "mydholedb.txt2intID('litho')\n",
    "mydholedb.table['litho'].head() # here the drillhole B-576 with BHIDint=1 is absent... "
   ]
  },
  {
   "cell_type": "markdown",
   "metadata": {},
   "source": [
    "### Desurveying drillhole tables\n",
    "Drillholes interval tables in raw databases are without coordinates x,y,z at samples. This coordinates are calculated from collar table coordinates and survey table deviations. Survey table is required and requires AT at zero interval and a second AT (two survey minimum per drillhole). \n",
    "\n",
    "<p>\n",
    "<div class=\"alert alert-info\">\n",
    " ** Info: ** pygslib uses minimum curvature method as explained in http://www.cgg.com/data//1/rec_docs/2269_MinimumCurvatureWellPaths.pdf, combined with balanced tangential methid if the dog-leg (dl) parameter is zero (example if an interval is stright). \n",
    "</div>\n",
    "\n",
    "<div class=\"alert alert-info\">\n",
    " ** Info: ** If the last survey point (AT) is after a desurvey interval (example TO), this is `AT < TO`, the last survey values will be used for desurvey and a warning will be raised.  \n",
    "</div>\n"
   ]
  },
  {
   "cell_type": "code",
   "execution_count": 14,
   "metadata": {
    "collapsed": false
   },
   "outputs": [
    {
     "name": "stderr",
     "output_type": "stream",
     "text": [
      "/home/adrian/anaconda/lib/python2.7/site-packages/IPython/kernel/__main__.py:1: UserWarning: \n",
      " point beyond the last survey point at 7\n",
      "  if __name__ == '__main__':\n"
     ]
    },
    {
     "data": {
      "text/html": [
       "<div>\n",
       "<table border=\"1\" class=\"dataframe\">\n",
       "  <thead>\n",
       "    <tr style=\"text-align: right;\">\n",
       "      <th></th>\n",
       "      <th>BHID</th>\n",
       "      <th>FROM</th>\n",
       "      <th>TO</th>\n",
       "      <th>LITHO_DESC</th>\n",
       "      <th>BHIDint</th>\n",
       "      <th>azm</th>\n",
       "      <th>dipm</th>\n",
       "      <th>xm</th>\n",
       "      <th>ym</th>\n",
       "      <th>zm</th>\n",
       "    </tr>\n",
       "  </thead>\n",
       "  <tbody>\n",
       "    <tr>\n",
       "      <th>0</th>\n",
       "      <td>E-046</td>\n",
       "      <td>0.00</td>\n",
       "      <td>23.46</td>\n",
       "      <td>Casing</td>\n",
       "      <td>2</td>\n",
       "      <td>342.309998</td>\n",
       "      <td>46.781525</td>\n",
       "      <td>292320.43750</td>\n",
       "      <td>5329549.0</td>\n",
       "      <td>317.660736</td>\n",
       "    </tr>\n",
       "    <tr>\n",
       "      <th>1</th>\n",
       "      <td>E-046</td>\n",
       "      <td>23.46</td>\n",
       "      <td>86.25</td>\n",
       "      <td>Indifferenciated Tuffs</td>\n",
       "      <td>2</td>\n",
       "      <td>342.309998</td>\n",
       "      <td>39.329010</td>\n",
       "      <td>292310.75000</td>\n",
       "      <td>5329579.0</td>\n",
       "      <td>288.640289</td>\n",
       "    </tr>\n",
       "    <tr>\n",
       "      <th>2</th>\n",
       "      <td>E-046</td>\n",
       "      <td>86.25</td>\n",
       "      <td>131.06</td>\n",
       "      <td>Porphyric Granodiorite</td>\n",
       "      <td>2</td>\n",
       "      <td>342.309998</td>\n",
       "      <td>34.139462</td>\n",
       "      <td>292297.65625</td>\n",
       "      <td>5329620.5</td>\n",
       "      <td>256.557007</td>\n",
       "    </tr>\n",
       "    <tr>\n",
       "      <th>3</th>\n",
       "      <td>E-046</td>\n",
       "      <td>131.06</td>\n",
       "      <td>157.88</td>\n",
       "      <td>Indifferenciated Tuffs</td>\n",
       "      <td>2</td>\n",
       "      <td>342.309998</td>\n",
       "      <td>31.376076</td>\n",
       "      <td>292288.50000</td>\n",
       "      <td>5329649.0</td>\n",
       "      <td>237.171402</td>\n",
       "    </tr>\n",
       "    <tr>\n",
       "      <th>4</th>\n",
       "      <td>E-046</td>\n",
       "      <td>157.88</td>\n",
       "      <td>158.58</td>\n",
       "      <td>Porphyric Granodiorite</td>\n",
       "      <td>2</td>\n",
       "      <td>342.309998</td>\n",
       "      <td>30.336117</td>\n",
       "      <td>292284.90625</td>\n",
       "      <td>5329660.5</td>\n",
       "      <td>230.102463</td>\n",
       "    </tr>\n",
       "    <tr>\n",
       "      <th>5</th>\n",
       "      <td>E-046</td>\n",
       "      <td>158.58</td>\n",
       "      <td>168.00</td>\n",
       "      <td>Indifferenciated Tuffs</td>\n",
       "      <td>2</td>\n",
       "      <td>342.309998</td>\n",
       "      <td>29.956472</td>\n",
       "      <td>292283.56250</td>\n",
       "      <td>5329664.5</td>\n",
       "      <td>227.555573</td>\n",
       "    </tr>\n",
       "    <tr>\n",
       "      <th>6</th>\n",
       "      <td>E-046</td>\n",
       "      <td>168.00</td>\n",
       "      <td>168.85</td>\n",
       "      <td>Porphyric Granodiorite</td>\n",
       "      <td>2</td>\n",
       "      <td>342.309998</td>\n",
       "      <td>29.572680</td>\n",
       "      <td>292282.21875</td>\n",
       "      <td>5329669.0</td>\n",
       "      <td>224.999756</td>\n",
       "    </tr>\n",
       "    <tr>\n",
       "      <th>7</th>\n",
       "      <td>E-046</td>\n",
       "      <td>168.85</td>\n",
       "      <td>185.01</td>\n",
       "      <td>Indifferenciated Tuffs</td>\n",
       "      <td>2</td>\n",
       "      <td>342.309998</td>\n",
       "      <td>28.940193</td>\n",
       "      <td>292279.96875</td>\n",
       "      <td>5329676.0</td>\n",
       "      <td>220.830414</td>\n",
       "    </tr>\n",
       "  </tbody>\n",
       "</table>\n",
       "</div>"
      ],
      "text/plain": [
       "    BHID    FROM      TO              LITHO_DESC  BHIDint         azm  \\\n",
       "0  E-046    0.00   23.46                  Casing        2  342.309998   \n",
       "1  E-046   23.46   86.25  Indifferenciated Tuffs        2  342.309998   \n",
       "2  E-046   86.25  131.06  Porphyric Granodiorite        2  342.309998   \n",
       "3  E-046  131.06  157.88  Indifferenciated Tuffs        2  342.309998   \n",
       "4  E-046  157.88  158.58  Porphyric Granodiorite        2  342.309998   \n",
       "5  E-046  158.58  168.00  Indifferenciated Tuffs        2  342.309998   \n",
       "6  E-046  168.00  168.85  Porphyric Granodiorite        2  342.309998   \n",
       "7  E-046  168.85  185.01  Indifferenciated Tuffs        2  342.309998   \n",
       "\n",
       "        dipm            xm         ym          zm  \n",
       "0  46.781525  292320.43750  5329549.0  317.660736  \n",
       "1  39.329010  292310.75000  5329579.0  288.640289  \n",
       "2  34.139462  292297.65625  5329620.5  256.557007  \n",
       "3  31.376076  292288.50000  5329649.0  237.171402  \n",
       "4  30.336117  292284.90625  5329660.5  230.102463  \n",
       "5  29.956472  292283.56250  5329664.5  227.555573  \n",
       "6  29.572680  292282.21875  5329669.0  224.999756  \n",
       "7  28.940193  292279.96875  5329676.0  220.830414  "
      ]
     },
     "execution_count": 14,
     "metadata": {},
     "output_type": "execute_result"
    }
   ],
   "source": [
    "mydholedb.desurvey('litho')\n",
    "mydholedb.table['litho'][mydholedb.table['litho']['BHID']=='E-046']"
   ]
  },
  {
   "cell_type": "markdown",
   "metadata": {},
   "source": [
    "#### Reference data (desurveyed with comercial softare)\n",
    "\n",
    "BHID  |  X  |  Y  |  Z  |   AZM  |  DIP\n",
    "--| \n",
    "E-046  |  292320.44  |  5329549.12  |  317.65  |  342.31  |  46.92\n",
    "E-046  |  292310.76  |  5329579.47  |  288.63  |  342.31  |  39.40\n",
    "E-046  |  292297.64  |  5329620.61  |  256.54  |  342.31  |  34.18\n",
    "E-046  |  292288.50  |  5329649.27  |  237.15  |  342.31  |  31.44\n",
    "E-046  |  292284.91  |  5329660.51  |  230.09  |  342.31  |  30.39\n",
    "E-046  |  292283.58  |  5329664.67  |  227.54  |  342.31  |  30.00\n",
    "E-046  |  292282.23  |  5329668.92  |  224.99  |  342.31  |  29.60\n",
    "E-046  |  292279.97  |  5329675.99  |  220.83  |  342.31  |  28.95\n",
    "\n"
   ]
  },
  {
   "cell_type": "code",
   "execution_count": 15,
   "metadata": {
    "collapsed": false
   },
   "outputs": [
    {
     "data": {
      "text/plain": [
       "0    292320.43750\n",
       "1    292310.75000\n",
       "2    292297.65625\n",
       "3    292288.50000\n",
       "4    292284.90625\n",
       "5    292283.56250\n",
       "6    292282.21875\n",
       "7    292279.96875\n",
       "Name: xm, dtype: float64"
      ]
     },
     "execution_count": 15,
     "metadata": {},
     "output_type": "execute_result"
    }
   ],
   "source": [
    "mydholedb.table['litho']['xm'][mydholedb.table['litho']['BHID']=='E-046']"
   ]
  },
  {
   "cell_type": "code",
   "execution_count": 16,
   "metadata": {
    "collapsed": false
   },
   "outputs": [
    {
     "data": {
      "image/png": "[encoded data removed]",
      "text/plain": [
       "<matplotlib.figure.Figure at 0x7ff694a08110>"
      ]
     },
     "metadata": {},
     "output_type": "display_data"
    }
   ],
   "source": [
    "x0=[292320.44,292310.76,292297.64,292288.50,292284.91,292283.58,292282.23,292279.97]\n",
    "y0=[5329549.12,5329579.47,5329620.61,5329649.27,5329660.51,5329664.67,5329668.92,5329675.99]\n",
    "\n",
    "x1= mydholedb.table['litho']['xm'][mydholedb.table['litho']['BHID']=='E-046']\n",
    "y1= mydholedb.table['litho']['ym'][mydholedb.table['litho']['BHID']=='E-046']\n",
    "\n",
    "plt.plot(x0,y0, label= 'reference data')\n",
    "plt.plot(x1,y1, label= 'pygslib result')\n",
    "plt.legend()\n",
    "plt.show()\n"
   ]
  },
  {
   "cell_type": "markdown",
   "metadata": {},
   "source": [
    "# Testing some basic functions for desurvey\n",
    "\n",
    "In this section we test some of the functions we use for desurveying. The main objective here is to show some internal stability test on the functions that work with angles. \n",
    "\n",
    "The angles functions can be used to interpolate angles in 3D, for example if you are planning to use moving ellipsoids / anisotropies. \n"
   ]
  },
  {
   "cell_type": "markdown",
   "metadata": {},
   "source": [
    "### Testing angles to coordinates and  coordinates to angles\n",
    "We do this conversion to interpolate angles from survey to table intervals, with 1D interpolation, drillhole by drillhole. \n",
    "\n",
    "The methodology is based on this paper: http://www.srk.com/files/APCOM_Grade_Modelling_with_Local_Anisotropy_DM_HR_OL_sk_rev13.pdf. The equations used are slighly different. \n",
    "\n",
    "To test the conversion functions we convert angle1 to coordinate a and coordinate a to angle2. The expected result is  `angle1==angle2`"
   ]
  },
  {
   "cell_type": "code",
   "execution_count": 17,
   "metadata": {
    "collapsed": false
   },
   "outputs": [
    {
     "data": {
      "text/html": [
       "<div>\n",
       "<table border=\"1\" class=\"dataframe\">\n",
       "  <thead>\n",
       "    <tr style=\"text-align: right;\">\n",
       "      <th></th>\n",
       "      <th>az</th>\n",
       "      <th>dip</th>\n",
       "      <th>x</th>\n",
       "      <th>y</th>\n",
       "      <th>z</th>\n",
       "      <th>az_back</th>\n",
       "      <th>dip_back</th>\n",
       "    </tr>\n",
       "  </thead>\n",
       "  <tbody>\n",
       "    <tr>\n",
       "      <th>0</th>\n",
       "      <td>0.00</td>\n",
       "      <td>90.00</td>\n",
       "      <td>-0.00</td>\n",
       "      <td>-0.00</td>\n",
       "      <td>-1.00</td>\n",
       "      <td>0.00</td>\n",
       "      <td>90.00</td>\n",
       "    </tr>\n",
       "    <tr>\n",
       "      <th>1</th>\n",
       "      <td>45.00</td>\n",
       "      <td>80.00</td>\n",
       "      <td>0.12</td>\n",
       "      <td>0.12</td>\n",
       "      <td>-0.98</td>\n",
       "      <td>45.00</td>\n",
       "      <td>80.00</td>\n",
       "    </tr>\n",
       "    <tr>\n",
       "      <th>2</th>\n",
       "      <td>90.00</td>\n",
       "      <td>70.00</td>\n",
       "      <td>0.34</td>\n",
       "      <td>-0.00</td>\n",
       "      <td>-0.94</td>\n",
       "      <td>90.00</td>\n",
       "      <td>70.00</td>\n",
       "    </tr>\n",
       "    <tr>\n",
       "      <th>3</th>\n",
       "      <td>135.00</td>\n",
       "      <td>60.00</td>\n",
       "      <td>0.35</td>\n",
       "      <td>-0.35</td>\n",
       "      <td>-0.87</td>\n",
       "      <td>135.00</td>\n",
       "      <td>60.00</td>\n",
       "    </tr>\n",
       "    <tr>\n",
       "      <th>4</th>\n",
       "      <td>180.00</td>\n",
       "      <td>50.00</td>\n",
       "      <td>-0.00</td>\n",
       "      <td>-0.64</td>\n",
       "      <td>-0.77</td>\n",
       "      <td>180.00</td>\n",
       "      <td>50.00</td>\n",
       "    </tr>\n",
       "    <tr>\n",
       "      <th>5</th>\n",
       "      <td>225.00</td>\n",
       "      <td>40.00</td>\n",
       "      <td>-0.54</td>\n",
       "      <td>-0.54</td>\n",
       "      <td>-0.64</td>\n",
       "      <td>225.00</td>\n",
       "      <td>40.00</td>\n",
       "    </tr>\n",
       "    <tr>\n",
       "      <th>6</th>\n",
       "      <td>270.00</td>\n",
       "      <td>30.00</td>\n",
       "      <td>-0.87</td>\n",
       "      <td>0.00</td>\n",
       "      <td>-0.50</td>\n",
       "      <td>270.00</td>\n",
       "      <td>30.00</td>\n",
       "    </tr>\n",
       "    <tr>\n",
       "      <th>7</th>\n",
       "      <td>315.00</td>\n",
       "      <td>20.00</td>\n",
       "      <td>-0.66</td>\n",
       "      <td>0.66</td>\n",
       "      <td>-0.34</td>\n",
       "      <td>315.00</td>\n",
       "      <td>20.00</td>\n",
       "    </tr>\n",
       "    <tr>\n",
       "      <th>8</th>\n",
       "      <td>360.00</td>\n",
       "      <td>10.00</td>\n",
       "      <td>0.00</td>\n",
       "      <td>0.98</td>\n",
       "      <td>-0.17</td>\n",
       "      <td>0.00</td>\n",
       "      <td>10.00</td>\n",
       "    </tr>\n",
       "    <tr>\n",
       "      <th>9</th>\n",
       "      <td>0.00</td>\n",
       "      <td>0.00</td>\n",
       "      <td>0.00</td>\n",
       "      <td>1.00</td>\n",
       "      <td>-0.00</td>\n",
       "      <td>0.00</td>\n",
       "      <td>0.00</td>\n",
       "    </tr>\n",
       "    <tr>\n",
       "      <th>10</th>\n",
       "      <td>45.00</td>\n",
       "      <td>-10.00</td>\n",
       "      <td>0.70</td>\n",
       "      <td>0.70</td>\n",
       "      <td>0.17</td>\n",
       "      <td>45.00</td>\n",
       "      <td>-10.00</td>\n",
       "    </tr>\n",
       "    <tr>\n",
       "      <th>11</th>\n",
       "      <td>90.00</td>\n",
       "      <td>-20.00</td>\n",
       "      <td>0.94</td>\n",
       "      <td>-0.00</td>\n",
       "      <td>0.34</td>\n",
       "      <td>90.00</td>\n",
       "      <td>-20.00</td>\n",
       "    </tr>\n",
       "    <tr>\n",
       "      <th>12</th>\n",
       "      <td>135.00</td>\n",
       "      <td>-30.00</td>\n",
       "      <td>0.61</td>\n",
       "      <td>-0.61</td>\n",
       "      <td>0.50</td>\n",
       "      <td>135.00</td>\n",
       "      <td>-30.00</td>\n",
       "    </tr>\n",
       "    <tr>\n",
       "      <th>13</th>\n",
       "      <td>180.00</td>\n",
       "      <td>-40.00</td>\n",
       "      <td>-0.00</td>\n",
       "      <td>-0.77</td>\n",
       "      <td>0.64</td>\n",
       "      <td>180.00</td>\n",
       "      <td>-40.00</td>\n",
       "    </tr>\n",
       "    <tr>\n",
       "      <th>14</th>\n",
       "      <td>225.00</td>\n",
       "      <td>-50.00</td>\n",
       "      <td>-0.45</td>\n",
       "      <td>-0.45</td>\n",
       "      <td>0.77</td>\n",
       "      <td>225.00</td>\n",
       "      <td>-50.00</td>\n",
       "    </tr>\n",
       "    <tr>\n",
       "      <th>15</th>\n",
       "      <td>270.00</td>\n",
       "      <td>-60.00</td>\n",
       "      <td>-0.50</td>\n",
       "      <td>0.00</td>\n",
       "      <td>0.87</td>\n",
       "      <td>270.00</td>\n",
       "      <td>-60.00</td>\n",
       "    </tr>\n",
       "    <tr>\n",
       "      <th>16</th>\n",
       "      <td>315.00</td>\n",
       "      <td>-70.00</td>\n",
       "      <td>-0.24</td>\n",
       "      <td>0.24</td>\n",
       "      <td>0.94</td>\n",
       "      <td>315.00</td>\n",
       "      <td>-70.00</td>\n",
       "    </tr>\n",
       "  </tbody>\n",
       "</table>\n",
       "</div>"
      ],
      "text/plain": [
       "       az    dip     x     y     z  az_back  dip_back\n",
       "0    0.00  90.00 -0.00 -0.00 -1.00     0.00     90.00\n",
       "1   45.00  80.00  0.12  0.12 -0.98    45.00     80.00\n",
       "2   90.00  70.00  0.34 -0.00 -0.94    90.00     70.00\n",
       "3  135.00  60.00  0.35 -0.35 -0.87   135.00     60.00\n",
       "4  180.00  50.00 -0.00 -0.64 -0.77   180.00     50.00\n",
       "5  225.00  40.00 -0.54 -0.54 -0.64   225.00     40.00\n",
       "6  270.00  30.00 -0.87  0.00 -0.50   270.00     30.00\n",
       "7  315.00  20.00 -0.66  0.66 -0.34   315.00     20.00\n",
       "8  360.00  10.00  0.00  0.98 -0.17     0.00     10.00\n",
       "9    0.00   0.00  0.00  1.00 -0.00     0.00      0.00\n",
       "10  45.00 -10.00  0.70  0.70  0.17    45.00    -10.00\n",
       "11  90.00 -20.00  0.94 -0.00  0.34    90.00    -20.00\n",
       "12 135.00 -30.00  0.61 -0.61  0.50   135.00    -30.00\n",
       "13 180.00 -40.00 -0.00 -0.77  0.64   180.00    -40.00\n",
       "14 225.00 -50.00 -0.45 -0.45  0.77   225.00    -50.00\n",
       "15 270.00 -60.00 -0.50  0.00  0.87   270.00    -60.00\n",
       "16 315.00 -70.00 -0.24  0.24  0.94   315.00    -70.00"
      ]
     },
     "execution_count": 17,
     "metadata": {},
     "output_type": "execute_result"
    }
   ],
   "source": [
    "#create some test data\n",
    "angles = pd.DataFrame (\n",
    "    {'az'   : [0.,45,90,135,180,225,270,315,360,0,45,90,135,180,225,270,315],\n",
    "     'dip': [90.,80,70,60,50,40,30,20,10,0,-10,-20,-30,-40,-50,-60,-70]})\n",
    "\n",
    "# adding coordinate columns\n",
    "angles['x']=np.nan\n",
    "angles['y']=np.nan\n",
    "angles['z']=np.nan\n",
    "\n",
    "# angle to coordinates (ang2cart is defined in pygslib.drillhole)\n",
    "for i in range(len(angles)):\n",
    "    x,y,z = ang2cart(azm=angles['az'][i],dip=angles['dip'][i])\n",
    "    angles['x'][i]=x\n",
    "    angles['y'][i]=y\n",
    "    angles['z'][i]=z\n",
    "\n",
    "# coordinate to angles  (cart2ang is defined in pygslib.drillhole) \n",
    "angles['az_back']=np.nan\n",
    "angles['dip_back']=np.nan\n",
    "for i in range(len(angles)):\n",
    "    a,d = cart2ang(x=angles['x'][i], y=angles['y'][i], z=angles['z'][i])\n",
    "    angles['az_back'][i]=a\n",
    "    angles['dip_back'][i]=d\n",
    "\n",
    "#showing results \n",
    "pd.options.display.float_format = '{:,.2f}'.format #round output\n",
    "angles"
   ]
  },
  {
   "cell_type": "markdown",
   "metadata": {},
   "source": [
    "az == az_back and dip == dip_back; note that 360.00 was coverted to 0.00"
   ]
  },
  {
   "cell_type": "markdown",
   "metadata": {},
   "source": [
    "## 1D interpolation of angles\n",
    "\n",
    "In this section we show some issues of angle interpolation and the impact on desurveying. \n",
    "\n",
    "<p>\n",
    "<div class=\"alert alert-info\">\n",
    " ** Reamember: ** Angles are interpolated (but not extrapolated) from two survey values into FROM,MID and TO intervals. \n",
    "</div>\n",
    "\n"
   ]
  },
  {
   "cell_type": "markdown",
   "metadata": {},
   "source": [
    "*** Interpolate between two non vertical intervals (dip!=90) ***"
   ]
  },
  {
   "cell_type": "code",
   "execution_count": 18,
   "metadata": {
    "collapsed": false
   },
   "outputs": [
    {
     "data": {
      "image/png": "[encoded data removed]",
      "text/plain": [
       "<matplotlib.figure.Figure at 0x7ff69a9eef50>"
      ]
     },
     "metadata": {},
     "output_type": "display_data"
    },
    {
     "data": {
      "image/png": "[encoded data removed]",
      "text/plain": [
       "<matplotlib.figure.Figure at 0x7ff694879710>"
      ]
     },
     "metadata": {},
     "output_type": "display_data"
    }
   ],
   "source": [
    "a=[]\n",
    "d=[]\n",
    "l=[]\n",
    "for i in range(11):\n",
    "    azm,dip = interp_ang1D(azm1=0,\n",
    "                         dip1=75,\n",
    "                         azm2=100,\n",
    "                         dip2=45,\n",
    "                         len12=10,\n",
    "                         d1=i)\n",
    "    #print i, azm,dip\n",
    "    \n",
    "    a.append(azm)\n",
    "    d.append(dip)\n",
    "    l.append(i)\n",
    "\n",
    "plt.plot(l,a, '-o')\n",
    "plt.title('Azimuth')\n",
    "plt.show()\n",
    "plt.plot(l,d, '-o')\n",
    "plt.title('Dip')\n",
    "plt.show()"
   ]
  },
  {
   "cell_type": "markdown",
   "metadata": {},
   "source": [
    "*** Interpolate between vertical interval (dip=90) and a non-vertical interval (dip!=90)  ***\n",
    "\n",
    "The result is a discontinuity and this is good for drillhole desurvey! **The azimuth of a vertical interval is meaningless**"
   ]
  },
  {
   "cell_type": "code",
   "execution_count": 19,
   "metadata": {
    "collapsed": false
   },
   "outputs": [
    {
     "data": {
      "image/png": "[encoded data removed]",
      "text/plain": [
       "<matplotlib.figure.Figure at 0x7ff694813710>"
      ]
     },
     "metadata": {},
     "output_type": "display_data"
    },
    {
     "data": {
      "image/png": "[encoded data removed]",
      "text/plain": [
       "<matplotlib.figure.Figure at 0x7ff694762190>"
      ]
     },
     "metadata": {},
     "output_type": "display_data"
    }
   ],
   "source": [
    "a=[]\n",
    "d=[]\n",
    "l=[]\n",
    "for i in range(11):\n",
    "    azm,dip = interp_ang1D(azm1=0,\n",
    "                         dip1=90,\n",
    "                         azm2=100,\n",
    "                         dip2=45,\n",
    "                         len12=10,\n",
    "                         d1=i)\n",
    "    #print i, azm,dip\n",
    "    \n",
    "    a.append(azm)\n",
    "    d.append(dip)\n",
    "    l.append(i)\n",
    "\n",
    "plt.plot(l,a, '-o')\n",
    "plt.title('Azimuth')\n",
    "plt.show()\n",
    "plt.plot(l,d, '-o')\n",
    "plt.title('Dip')\n",
    "plt.show()"
   ]
  },
  {
   "cell_type": "markdown",
   "metadata": {},
   "source": [
    "*** Interpolate between two vertical interval (dip=90) ***\n",
    "\n",
    "The result is a discontinuity plus a bizarre and unstable output due to rounding error. Since all the dip values are 90 this is not an issue for drillhole desurvey!\n"
   ]
  },
  {
   "cell_type": "code",
   "execution_count": 20,
   "metadata": {
    "collapsed": false
   },
   "outputs": [
    {
     "data": {
      "image/png": "[encoded data removed]",
      "text/plain": [
       "<matplotlib.figure.Figure at 0x7ff694924690>"
      ]
     },
     "metadata": {},
     "output_type": "display_data"
    },
    {
     "data": {
      "image/png": "[encoded data removed]",
      "text/plain": [
       "<matplotlib.figure.Figure at 0x7ff6948a1c50>"
      ]
     },
     "metadata": {},
     "output_type": "display_data"
    }
   ],
   "source": [
    "a=[]\n",
    "d=[]\n",
    "l=[]\n",
    "for i in range(11):\n",
    "    azm,dip = interp_ang1D(azm1=0,\n",
    "                         dip1=90,\n",
    "                         azm2=100,\n",
    "                         dip2=90,\n",
    "                         len12=10,\n",
    "                         d1=i)\n",
    "    # print i, azm,dip\n",
    "    \n",
    "    a.append(azm)\n",
    "    d.append(dip)\n",
    "    l.append(i)\n",
    "\n",
    "plt.plot(l,a, '-o')\n",
    "plt.title('Azimuth')\n",
    "plt.show()\n",
    "plt.plot(l,d, '-o')\n",
    "plt.title('Dip')\n",
    "plt.show()"
   ]
  },
  {
   "cell_type": "markdown",
   "metadata": {},
   "source": [
    "\n",
    "<p>\n",
    "<div class=\"alert alert-warning\">\n",
    " ** Question?: ** What will be the error if the next interval is non-vertical?\n",
    " see: *Interpolate between vertical interval (dip=90) and a non-vertical interval (dip!=90)*\n",
    "</div>\n",
    "    "
   ]
  },
  {
   "cell_type": "markdown",
   "metadata": {},
   "source": [
    "## Desurvey function (minimum curvature)\n",
    "We use here minimum curvature method. If the dog-leg (dl) is zero and makes the Ratio Factor (rf) undefined then we use balanced tangential method. It works like this:\n",
    "\n",
    "``` Python\n",
    "    # calculate the dog-leg (dl) and the Ratio Factor (rf)\n",
    "    dl = acos(cos(i2-i1)-sin(i1)*sin(i2)*(1-cos(a2-a1))) \n",
    "    \n",
    "    if dl/=0:\n",
    "        rf = 2*tan(dl/2)/dl  # minimum curvature\n",
    "    else:\n",
    "        rf=1                 # balanced tangential\n",
    "    \n",
    "    dz = 0.5*len12*(cos(i1)+cos(i2))*rf\n",
    "    dn = 0.5*len12*(sin(i1)*cos(a1)+sin(i2)*cos(a2))*rf\n",
    "    de = 0.5*len12*(sin(i1)*sin(a1)+sin(i2)*sin(a2))*rf\n",
    "```\n",
    "\n",
    "Where:\n",
    "\n",
    "- i1, i2 are inclination angles or (90-dip) and \n",
    "- a1, a2 are the azimuths at survey points 1,2 (with length from collar at 1 < length from collar at 2). \n",
    "- The input angles are in degrees. \n",
    "- Dip angles ar 90 downward (ex. surface drillhole) to -90 upwards (ex. underground drillholes pointing to surface).\n",
    "\n",
    "This internal function is exposed in the drillhole module and it works as follow:"
   ]
  },
  {
   "cell_type": "code",
   "execution_count": 21,
   "metadata": {
    "collapsed": false
   },
   "outputs": [
    {
     "name": "stdout",
     "output_type": "stream",
     "text": [
      "\n",
      "        az        dip          x          y          z \n",
      "      0.00      70.00       0.00       0.00       0.00 \n",
      "      0.00      70.00       0.00       3.42      -9.40 \n",
      "      0.00      70.00       0.00       6.84     -18.79 \n",
      "      0.00      70.00       0.00      10.26     -28.19 \n"
     ]
    }
   ],
   "source": [
    "# survey\n",
    "ats = np.array([  0, 10, 20, 30, 40], dtype=np.double)\n",
    "azs   = np.array([  0, 0, 0, 0, 0], dtype=np.double)\n",
    "dips  = np.array([ 70, 70, 70, 70, 70], dtype=np.double)\n",
    "xc    = 0.\n",
    "yc    = 0.\n",
    "zc    = 0.\n",
    "# interval table (ex. assay)\n",
    "midt  = np.array([  0, 10, 20, 30], dtype=np.double)\n",
    "\n",
    "indbs = 0\n",
    "indes = len(ats)-1\n",
    "   \n",
    "print ''\n",
    "print '{0:>10} {1:>10} {2:>10} {3:>10} {4:>10} '.format('az','dip','x','y','z')\n",
    "for interv in midt: \n",
    "    azmt,dipmt,xmt,ymt,zmt = desurv1dh(indbs,indes,ats,azs,dips,xc,yc,zc,interv)\n",
    "    print '{0:10.2f} {1:10.2f} {2:10.2f} {3:10.2f} {4:10.2f} '.format(azmt,dipmt,xmt,ymt,zmt)"
   ]
  },
  {
   "cell_type": "code",
   "execution_count": 22,
   "metadata": {
    "collapsed": false
   },
   "outputs": [
    {
     "name": "stdout",
     "output_type": "stream",
     "text": [
      "0 4\n",
      "        az        dip          x          y          z \n",
      "      0.00      70.00       0.00       0.00       0.00 \n",
      "      0.00      70.00       0.00       3.42      -9.40 \n",
      "      0.00      70.00       0.00       6.84     -18.79 \n",
      "      0.00      70.00       0.00      99.19    -272.51 \n"
     ]
    },
    {
     "name": "stderr",
     "output_type": "stream",
     "text": [
      "/home/adrian/anaconda/lib/python2.7/site-packages/IPython/kernel/__main__.py:18: UserWarning: \n",
      " point beyond the last survey point at 4\n"
     ]
    }
   ],
   "source": [
    "# survey\n",
    "ats = np.array([  0, 10, 20, 30, 40], dtype=np.double)\n",
    "azs   = np.array([  0, 0, 0, 0, 0], dtype=np.double)\n",
    "dips  = np.array([ 70, 70, 70, 70, 70], dtype=np.double)\n",
    "xc    = 0.\n",
    "yc    = 0.\n",
    "zc    = 0.\n",
    "# interval table (ex. assay)\n",
    "midt  = np.array([  0, 10, 20, 300], dtype=np.double)\n",
    "#                               1 <-- here we have a value beyond the las survey AT (40)\n",
    "\n",
    "indbs = 0\n",
    "indes = 4\n",
    "   \n",
    "print indbs, indes\n",
    "print '{0:>10} {1:>10} {2:>10} {3:>10} {4:>10} '.format('az','dip','x','y','z')\n",
    "for interv in midt: \n",
    "    azmt,dipmt,xmt,ymt,zmt = desurv1dh(indbs,indes,ats,azs,dips,xc,yc,zc,interv)\n",
    "    print '{0:10.2f} {1:10.2f} {2:10.2f} {3:10.2f} {4:10.2f} '.format(azmt,dipmt,xmt,ymt,zmt)"
   ]
  },
  {
   "cell_type": "code",
   "execution_count": null,
   "metadata": {
    "collapsed": true
   },
   "outputs": [],
   "source": []
  }
 ],
 "metadata": {
  "kernelspec": {
   "display_name": "Python 2",
   "language": "python",
   "name": "python2"
  },
  "language_info": {
   "codemirror_mode": {
    "name": "ipython",
    "version": 2
   },
   "file_extension": ".py",
   "mimetype": "text/x-python",
   "name": "python",
   "nbconvert_exporter": "python",
   "pygments_lexer": "ipython2",
   "version": "2.7.10"
  }
 },
 "nbformat": 4,
 "nbformat_minor": 0
}
