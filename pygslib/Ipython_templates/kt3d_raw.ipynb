{
 "cells": [
  {
   "cell_type": "markdown",
   "metadata": {},
   "source": [
    "# Kriging with kt3d raw"
   ]
  },
  {
   "cell_type": "code",
   "execution_count": 1,
   "metadata": {
    "collapsed": false
   },
   "outputs": [],
   "source": [
    "import pygslib as gslib \n",
    "import numpy as np\n",
    "import matplotlib.pyplot as plt \n",
    "\n",
    "#make the plots inline\n",
    "%matplotlib inline  "
   ]
  },
  {
   "cell_type": "markdown",
   "metadata": {},
   "source": [
    "Calculating some parameters\n",
    "-------------------------------"
   ]
  },
  {
   "cell_type": "code",
   "execution_count": 2,
   "metadata": {
    "collapsed": false
   },
   "outputs": [],
   "source": [
    "xdb = [0 , 0, 1, 1]\n",
    "ydb = [1 , 0, 1, 0]\n",
    "zdb = [0 , 0, 0, 0]\n",
    "it =  [3, 2]\n",
    "c0 =  [0.1]\n",
    "cc =  [0.4, 0.5]\n",
    "aa =  [8, 26]\n",
    "aa1 =  [8, 26]\n",
    "aa2 =  [8, 16]\n",
    "ang1 = [0, 0]\n",
    "ang2 = [0, 0]\n",
    "ang3 = [0, 0]\n",
    "\n",
    "parameters_blk = { \n",
    "                'xdb'  :  xdb,  # X coordinates of discretazation points\n",
    "                'ydb'  :  ydb,  # Y coordinates of discretazation points\n",
    "                'zdb'  :  zdb,  # Z coordinates of discretazation points\n",
    "                'it'   :  it,   # structure type,  array('i') with bounds (ivarg)        \n",
    "                'c0'   :  c0,   # nugget,  array('f') with bounds (ivarg)        \n",
    "                'cc'   :  cc,   # variance, array('f') with bounds (nvarg*nst[0])\n",
    "                'aa'   :  aa,   # parameter a (or range), array('f') with bounds (nst)\n",
    "                'aa1'  :  aa1,   # parameter a (or range), array('f') with bounds (nst)\n",
    "                'aa2'  :  aa2,    # parameter a (or range), array('f') with bounds (nst)\n",
    "                'ang1'   : ang1,   # input rank-1 array('d') with bounds (nst)\n",
    "                'ang2'   : ang2,    # input rank-1 array('d') with bounds (nst)\n",
    "                'ang3'   : ang3}     # input rank-1 array('d') with bounds (nst)"
   ]
  },
  {
   "cell_type": "code",
   "execution_count": 3,
   "metadata": {
    "collapsed": false
   },
   "outputs": [
    {
     "name": "stdout",
     "output_type": "stream",
     "text": [
      "cbb =  0.803182760643\n"
     ]
    }
   ],
   "source": [
    "cbb=gslib.block_covariance(parameters_blk)\n",
    "\n",
    "print 'cbb = ', cbb"
   ]
  },
  {
   "cell_type": "markdown",
   "metadata": {},
   "source": [
    "Note that the block is defined by discretization points, you can use this function to:\n",
    "  *  find the covariance of a given block size with regular discretization\n",
    "  *  find the covariance of a given block size with random discretization\n",
    "  *  find the covariance of a given polygon defined with discretization points\n",
    "  \n",
    "  \n",
    "**Defining the data and parameters**"
   ]
  },
  {
   "cell_type": "code",
   "execution_count": 4,
   "metadata": {
    "collapsed": false
   },
   "outputs": [
    {
     "name": "stdout",
     "output_type": "stream",
     "text": [
      "0\n"
     ]
    }
   ],
   "source": [
    "xa = [- 3., -4., 2., 2.5]\n",
    "ya = [  4., -2., 5., 2.5]\n",
    "za = [0., 0., 0., 0.]\n",
    "vra = [10., 20., 4.5, 30.]  \n",
    "vea = [ 11.,18 , 4.0, 29.]\n",
    "na= len(xa)\n",
    "\n",
    "radius = np.max(xa) -np.min(xa)\n",
    "ktype =  1\n",
    "skmean = 0\n",
    "idrif = [ 0, 0, 0, 0, 0, 0, 0, 0, 0 ]\n",
    "\n",
    "UNEST = np.nan\n",
    "\n",
    "extest = 1\n",
    "\n",
    "\n",
    "mdt, kneq, error = gslib.kt3d_getmatrix_size(ktype,idrif,na)\n",
    "\n",
    "print error\n"
   ]
  },
  {
   "cell_type": "markdown",
   "metadata": {},
   "source": [
    "## Run the estimate"
   ]
  },
  {
   "cell_type": "code",
   "execution_count": 5,
   "metadata": {
    "collapsed": false
   },
   "outputs": [
    {
     "name": "stdout",
     "output_type": "stream",
     "text": [
      "error :  0\n",
      "est   :  21.3282750547\n",
      "estv  :  0.5379128165\n",
      "estt  :  16.1484274417\n",
      "estvt :  1.26028221846\n",
      "w     :  [ 0.21065906  0.24796332  0.07760435  0.46377328]\n",
      "wt    :  [ 0.26151582  0.31218043  0.21566477  0.21063898]\n",
      "kmatrix   : \n",
      "[[ 1.          0.25003169  0.28795346  0.2631384   1.        ]\n",
      " [ 0.25003169  1.          0.17257457  0.20088169  1.        ]\n",
      " [ 0.28795346  0.17257457  1.          0.53293025  1.        ]\n",
      " [ 0.2631384   0.20088169  0.53293025  1.          1.        ]\n",
      " [ 1.          1.          1.          1.          0.        ]]\n",
      "kvector   :  [[ 0.29711138  0.28726149  0.30828597  0.4904454   1.        ]]\n",
      "ksolution :  [[ 0.21065906  0.24796332  0.07760435  0.46377328 -0.11992936]]\n"
     ]
    }
   ],
   "source": [
    "parameters_kt3d = { \n",
    "                    'xa'      :  xa,    # data x coordinates, array('f') with bounds (na), na is number of data points\n",
    "                    'ya'      :  ya,    # data y coordinates, array('f') with bounds (na)\n",
    "                    'za'      :  za,    # data z coordinates, array('f') with bounds (na)\n",
    "                    'vra'     :  vra,    # variable, array('f') with bounds (na)\n",
    "                    'vea'     :  vea,    # external drift, array('f') with bounds (na)\n",
    "                    'xdb'     :  xdb,        # discretization points x coordinates, array('f') with bounds (ndb), ndb is number of discretization points\n",
    "                    'ydb'     :  ydb,        # discretization points y coordinates, array('f') with bounds (ndb)\n",
    "                    'zdb'     :  zdb,        # discretization points z coordinates, array('f') with bounds (ndb)\n",
    "                    'extest'  :  extest,          # external drift at target block, 'f' \n",
    "                    'cbb'     :  cbb,          # block covariance , 'f'. Use block_covariance(parameters) to calculate its value\n",
    "                    'radius'  :  radius,          # search radius, 'f'. Only used to rescale some values\n",
    "                    'c0'      :  c0,      # nugget,  array('f') with bounds (1)  \n",
    "                    'it'      :  it,      # structure type,  array('i') with bounds (nst)          \n",
    "                    'cc'      :  cc, # variance, array('f') with bounds (nst)\n",
    "                    'aa'      :  aa,     # parameter a (or range mayor), array('f') with bounds (nst)\n",
    "                    'aa1'     :  aa1,     # parameter a1 (or range semimayor), array('f') with bounds (nst)\n",
    "                    'aa2'     :  aa2,     # parameter a2 (or range minor), array('f') with bounds (nst)\n",
    "                    'ang1'    :  ang1,     # rotation angle 1, array('f') with bounds (nst)\n",
    "                    'ang2'    :  ang2,     # rotation angle 2, array('f') with bounds (nst)\n",
    "                    'ang3'    :  ang3,     # rotation angle 3, array('f') with bounds (nst)\n",
    "                    'ktype'   :  ktype,           # kriging type, 'i' (-0=SK,1=OK,2=non-st SK,3=exdrift)\n",
    "                    'skmean'  :  skmean,          # mean for simple kriging, 'f'\n",
    "                    'unest'   :  UNEST,    # value for unestimated, 'f'\n",
    "                    'idrift'   :  idrif,    # drift terms,  array('i') with bounds (9)     \n",
    "                                                      # the following drift terms are used\n",
    "                                                      # x,y,z,xx,yy,zz,xy,xz,zy  \n",
    "                    'kneq'    :  kneq}                   # number of kriging equations, 'f'\n",
    "\n",
    "est,estv,estt,estvt,w,wt,error,kmatrix,kvector,ksolution = gslib.kt3d(parameters_kt3d)\n",
    "\n",
    "print 'error : ', error\n",
    "print 'est   : ', est \n",
    "print 'estv  : ', estv\n",
    "print 'estt  : ', estt\n",
    "print 'estvt : ', estvt\n",
    "print 'w     : ', w\n",
    "print 'wt    : ', wt\n",
    "print 'kmatrix   : \\n',  kmatrix\n",
    "print 'kvector   : ', kvector\n",
    "print 'ksolution : ', ksolution"
   ]
  },
  {
   "cell_type": "code",
   "execution_count": 6,
   "metadata": {
    "collapsed": false
   },
   "outputs": [
    {
     "name": "stderr",
     "output_type": "stream",
     "text": [
      "/home/adrian/anaconda/lib/python2.7/site-packages/matplotlib/collections.py:590: FutureWarning: elementwise comparison failed; returning scalar instead, but in the future will perform elementwise comparison\n",
      "  if self._edgecolors == str('face'):\n"
     ]
    },
    {
     "data": {
      "image/png": "[encoded data removed]",
      "text/plain": [
       "<matplotlib.figure.Figure at 0x7fb648eeaf50>"
      ]
     },
     "metadata": {},
     "output_type": "display_data"
    }
   ],
   "source": [
    "fig, ax1 = plt.subplots()\n",
    "ax1.scatter(xa, ya,  s=w*10000, c=w, alpha=0.5) # the size is proportional to weight\n",
    "ax1.plot(xa, ya, 'o', label = 'data')\n",
    "ax1.plot(xdb, ydb, '*',  label = 'discretization points')\n",
    "ax1.legend(loc=4)\n",
    "ax1.grid(True)\n",
    "ax1.set_xlim([-6, 6])\n",
    "ax1.set_ylim([-6, 6])\n",
    "\n",
    "for i,k in enumerate(w):   \n",
    "    ax1.text(xa[i]+0.2, ya[i], str(np.round(k,2)))"
   ]
  },
  {
   "cell_type": "code",
   "execution_count": 7,
   "metadata": {
    "collapsed": false
   },
   "outputs": [
    {
     "name": "stdout",
     "output_type": "stream",
     "text": [
      "error :  0\n",
      "est   :  1.07038143277\n",
      "estv  :  1.08654081221\n",
      "estt  :  1.15013071895\n",
      "estvt :  1.56100984104\n",
      "w     :  [ 0.35568992  0.17517432  0.78682656 -0.3176908 ]\n",
      "wt    :  [ 0.36889204  0.25828978  0.74075023 -0.36793205]\n",
      "kmatrix   : \n",
      "[[  1.           0.25003169   0.28795346   0.2631384    1.          11.        ]\n",
      " [  0.25003169   1.           0.17257457   0.20088169   1.          18.        ]\n",
      " [  0.28795346   0.17257457   1.           0.53293025   1.           4.        ]\n",
      " [  0.2631384    0.20088169   0.53293025   1.           1.          29.        ]\n",
      " [  1.           1.           1.           1.           0.           0.        ]\n",
      " [ 11.          18.           4.          29.           0.           0.        ]]\n",
      "kvector   :  [[ 0.29711138  0.28726149  0.30828597  0.4904454   1.          1.        ]]\n",
      "ksolution :  [[ 0.35568992  0.17517432  0.78682656 -0.3176908  -0.55419255  0.02807655]]\n"
     ]
    }
   ],
   "source": [
    "# Testing different parameters?\n",
    "\n",
    "ktype = 3 #kriging with external drift\n",
    "mdt, kneq, error = gslib.kt3d_getmatrix_size(ktype,idrif,na)\n",
    "parameters_kt3d['ktype']=ktype\n",
    "parameters_kt3d['kneq']=kneq\n",
    "est,estv,estt,estvt,w,wt,error,kmatrix,kvector,ksolution = gslib.kt3d(parameters_kt3d)\n",
    "\n",
    "print 'error : ', error\n",
    "print 'est   : ', est \n",
    "print 'estv  : ', estv\n",
    "print 'estt  : ', estt\n",
    "print 'estvt : ', estvt\n",
    "print 'w     : ', w\n",
    "print 'wt    : ', wt\n",
    "print 'kmatrix   : \\n',  kmatrix\n",
    "print 'kvector   : ', kvector\n",
    "print 'ksolution : ', ksolution"
   ]
  },
  {
   "cell_type": "code",
   "execution_count": 8,
   "metadata": {
    "collapsed": false
   },
   "outputs": [
    {
     "data": {
      "image/png": "[encoded data removed]",
      "text/plain": [
       "<matplotlib.figure.Figure at 0x7f8eef56bf50>"
      ]
     },
     "metadata": {},
     "output_type": "display_data"
    }
   ],
   "source": [
    "fig, ax1 = plt.subplots()\n",
    "ax1.scatter(xa, ya,  s=w*10000, c=w, alpha=0.5) # the size is proportional to weight\n",
    "\n",
    "ax1.plot(xa, ya, 'o', label = 'data')\n",
    "ax1.plot(xdb, ydb, '*',  label = 'discretization points')\n",
    "ax1.legend(loc=4)\n",
    "ax1.grid(True)\n",
    "ax1.set_xlim([-6, 6])\n",
    "ax1.set_ylim([-6, 6])\n",
    "\n",
    "for i,k in enumerate(w):   \n",
    "    ax1.text(xa[i]+0.2, ya[i], str(np.round(k,2)))"
   ]
  },
  {
   "cell_type": "code",
   "execution_count": 9,
   "metadata": {
    "collapsed": false
   },
   "outputs": [
    {
     "name": "stdout",
     "output_type": "stream",
     "text": [
      "error :  10\n",
      "est   :  1.07038143277\n",
      "estv  :  1.08654081221\n",
      "estt  :  1.15013071895\n",
      "estvt :  1.56100984104\n",
      "w     :  [ 0.35568992  0.17517432  0.78682656 -0.3176908 ]\n",
      "wt    :  [ 0.36889204  0.25828978  0.74075023 -0.36793205]\n",
      "kmatrix   : \n",
      "[[ 0.]]\n",
      "kvector   :  [[ 0.]]\n",
      "ksolution :  [[ 0.]]\n"
     ]
    },
    {
     "name": "stderr",
     "output_type": "stream",
     "text": [
      "/home/adrian/bitbucket/public/pygslib/pygslib/__init__.py:945: UserWarning: Error > 0, check your parameters\n",
      "  warnings.warn('Error > 0, check your parameters')\n"
     ]
    }
   ],
   "source": [
    "# Testing not returning kriging matrix making kneq=0 fail, use arbitrary number instead (1 in the example below)\n",
    "# TODO: fix this\n",
    "\n",
    "ktype = 3 #kriging with external drift\n",
    "mdt, kneq, error = gslib.kt3d_getmatrix_size(ktype,idrif,na)\n",
    "parameters_kt3d['ktype']=ktype\n",
    "parameters_kt3d['kneq']=1\n",
    "est,estv,estt,estvt,w,wt,error,kmatrix,kvector,ksolution = gslib.kt3d(parameters_kt3d)\n",
    "\n",
    "print 'error : ', error\n",
    "print 'est   : ', est \n",
    "print 'estv  : ', estv\n",
    "print 'estt  : ', estt\n",
    "print 'estvt : ', estvt\n",
    "print 'w     : ', w\n",
    "print 'wt    : ', wt\n",
    "print 'kmatrix   : \\n',  kmatrix\n",
    "print 'kvector   : ', kvector\n",
    "print 'ksolution : ', ksolution"
   ]
  },
  {
   "cell_type": "code",
   "execution_count": null,
   "metadata": {
    "collapsed": true
   },
   "outputs": [],
   "source": []
  }
 ],
 "metadata": {
  "kernelspec": {
   "display_name": "Python 2",
   "language": "python",
   "name": "python2"
  },
  "language_info": {
   "codemirror_mode": {
    "name": "ipython",
    "version": 2
   },
   "file_extension": ".py",
   "mimetype": "text/x-python",
   "name": "python",
   "nbconvert_exporter": "python",
   "pygments_lexer": "ipython2",
   "version": "2.7.11"
  }
 },
 "nbformat": 4,
 "nbformat_minor": 0
}
