{
 "cells": [
  {
   "cell_type": "markdown",
   "metadata": {},
   "source": [
    "# VTK tools\n",
    "\n",
    "Pygslib use VTK:\n",
    "\n",
    " - as data format and data converting tool\n",
    " - to plot in 3D\n",
    " - as a library with some basic computational geometry functions, for example to know if a point is inside a surface\n",
    "\n",
    "\n",
    "Some of the functions in VTK were obtained or modified from Adamos Kyriakou at https://pyscience.wordpress.com/\n"
   ]
  },
  {
   "cell_type": "code",
   "execution_count": 1,
   "metadata": {
    "collapsed": true
   },
   "outputs": [],
   "source": [
    "import pygslib as gslib \n",
    "import numpy as np"
   ]
  },
  {
   "cell_type": "markdown",
   "metadata": {
    "collapsed": false
   },
   "source": [
    "## Functions in vtktools"
   ]
  },
  {
   "cell_type": "code",
   "execution_count": 2,
   "metadata": {
    "collapsed": false
   },
   "outputs": [
    {
     "name": "stdout",
     "output_type": "stream",
     "text": [
      "Help on module pygslib.vtktools in pygslib:\n",
      "\n",
      "NAME\n",
      "    pygslib.vtktools - PyGSLIB vtktools, Module with tools to work with VTK.\n",
      "\n",
      "FILE\n",
      "    /home/adrian/bitbucket/public/pygslib/pygslib/vtktools.so\n",
      "\n",
      "DESCRIPTION\n",
      "    Copyright (C) 2015 Adrian Martinez Vargas \n",
      "    \n",
      "    This program is free software; you can redistribute it and/or modify\n",
      "    it under the terms of the GNU General Public License as published by\n",
      "    the Free Software Foundation; either version 3 of the License, or\n",
      "    any later version.\n",
      "       \n",
      "    This program is distributed in the hope that it will be useful,\n",
      "    but WITHOUT ANY WARRANTY; without even the implied warranty of\n",
      "    MERCHANTABILITY or FITNESS FOR A PARTICULAR PURPOSE.  See the\n",
      "    GNU General Public License for more details.\n",
      "       \n",
      "    You should have received a copy of the GNU General Public License\n",
      "    along with this program.  If not, see <http://www.gnu.org/licenses/>\n",
      "\n",
      "FUNCTIONS\n",
      "    addLine(...)\n",
      "        addLine(renderer, \n",
      "                 p1,\n",
      "                 p2,  \n",
      "                 color=(0.0, 0.0, 1.0))\n",
      "        \n",
      "        Adds a line into an existing VTK renderer \n",
      "        \n",
      "        Parameters\n",
      "        ----------\n",
      "        renderer : VTK renderer\n",
      "               renderer with vtk objects and properties \n",
      "        p1,p2: tuple with 3 float\n",
      "               point location\n",
      "        radius: radius of the point  \n",
      "               Default 1.\n",
      "        color: tuple with 3 float\n",
      "                Default (0.0, 0.0, 0.0)\n",
      "        \n",
      "        Returns\n",
      "        -------\n",
      "        VtkRenderer : an Vtk renderer containing VTK polydata \n",
      "           \n",
      "        See Also\n",
      "        --------\n",
      "        vtk_show, loadSTL\n",
      "        \n",
      "        Notes\n",
      "        -----\n",
      "        This Code was modified fron the original code by Adamos Kyriakou\n",
      "        published in https://pyscience.wordpress.com/\n",
      "    \n",
      "    addPoint(...)\n",
      "        addPoint(renderer, \n",
      "                 p, \n",
      "                 radius=1.0, \n",
      "                 color=(0.0, 0.0, 0.0))\n",
      "        \n",
      "        Adds a point into an existing VTK renderer \n",
      "        \n",
      "        Parameters\n",
      "        ----------\n",
      "        renderer : VTK renderer\n",
      "               renderer with vtk objects and properties \n",
      "        p: tuple with 3 float\n",
      "               point location\n",
      "        radius: radius of the point  \n",
      "               Default 1.\n",
      "        color: tuple with 3 float\n",
      "                Default (0.0, 0.0, 0.0)\n",
      "        \n",
      "        Returns\n",
      "        -------\n",
      "        VtkRenderer : an Vtk renderer containing VTK polydata \n",
      "           \n",
      "        See Also\n",
      "        --------\n",
      "        vtk_show, loadSTL\n",
      "        \n",
      "        Notes\n",
      "        -----\n",
      "        This Code was modified fron the original code by Adamos Kyriakou\n",
      "        published in https://pyscience.wordpress.com/\n",
      "    \n",
      "    getbounds(...)\n",
      "        boundingbox(polydata)\n",
      "        \n",
      "        Returns the bounding box limits x,y,z minimum and maximum\n",
      "        \n",
      "        \n",
      "        Parameters\n",
      "        ----------\n",
      "        polydata : VTK polydata\n",
      "        \n",
      "            \n",
      "        Returns\n",
      "        -------\n",
      "        xmin,xmax, ymin,ymax, zmin,zmax : float\n",
      "            The geometry bounding box\n",
      "    \n",
      "    grid2vtkfile(...)\n",
      "        grid2vtkfile(path, x,y,z, data)\n",
      "        \n",
      "        save grid in vtk file if x,y,z are 1D it saves VtkRectilinearGrid,\n",
      "        if are 3D it saves VtkStructuredGrid\n",
      "        \n",
      "        \n",
      "        Parameters\n",
      "        ----------\n",
      "        \n",
      "        \n",
      "            \n",
      "        Returns\n",
      "        -------\n",
      "    \n",
      "    loadSTL(...)\n",
      "        loadSTL(filenameSTL)\n",
      "        \n",
      "        Load a STL wireframe file\n",
      "        \n",
      "        Parameters\n",
      "        ----------\n",
      "        filenameSTL : file path\n",
      "        \n",
      "        Returns\n",
      "        -------\n",
      "        polydata : VTK Polydata object \n",
      "               \n",
      "           \n",
      "        Notes\n",
      "        -----\n",
      "        Code by Adamos Kyriakou\n",
      "        published in https://pyscience.wordpress.com/\n",
      "    \n",
      "    pointquering(...)\n",
      "        pointquering(surface, azm, dip, x, y, z, test)\n",
      "        \n",
      "        Find points inside, over and below surface/solid\n",
      "            \n",
      "        \n",
      "        Parameters\n",
      "        ----------\n",
      "        surface : VTK polydata\n",
      "               this may work with any 3D object..., no necessarily triangles   \n",
      "        azm, dip: float\n",
      "               rotation defining the direction we will use to test the points\n",
      "               azm 0 will point north and dip positive meas downward direction\n",
      "               (like surface drillholes)\n",
      "        x,y,z   : 1D array of floats\n",
      "               coordinates of the points to be tested\n",
      "        test    : integer\n",
      "               1 test inside closed surface. Here we use \n",
      "                 vtkOBBTree::InsideOrOutside. Closed surface are required\n",
      "               2 test 'above' surface \n",
      "               3 test 'below' surface \n",
      "               4 test 'inside' surface (the surface can be open)\n",
      "        \n",
      "        Returns\n",
      "        -------\n",
      "        inside : 1D array of integers \n",
      "            Indicator of point inclusion with values [0,1]  \n",
      "            0 means that the point is not inside, above or below surface\n",
      "            1 means that the point is inside, above or below surface\n",
      "        \n",
      "        See Also\n",
      "        --------\n",
      "        vtk_raycasting\n",
      "        \n",
      "        Notes\n",
      "        -----\n",
      "        The test 1 requires the surface to be close, to find points between\n",
      "        two surfaces you can use test=4\n",
      "        The test, 2,3 and 4 use raycasting and rays orientation are defined\n",
      "        by azm and dip values. The results will depend on this direction,\n",
      "        for example, to find the points between two open surfaces you may \n",
      "        use ray direction perpendicular to surfaces  \n",
      "        If a surface is closed the points over and below a surface will \n",
      "        include points inside surface\n",
      "    \n",
      "    points2vtkfile(...)\n",
      "        bpoints2vtkfile(path, x,y,z, data)\n",
      "        \n",
      "        Save points in vtk file\n",
      "        \n",
      "        \n",
      "        Parameters\n",
      "        ----------\n",
      "        \n",
      "        \n",
      "            \n",
      "        Returns\n",
      "        -------\n",
      "    \n",
      "    polydata2renderer(...)\n",
      "        polydata2renderer(polydata, \n",
      "                 color=None, \n",
      "                 opacity=None, \n",
      "                 background=None)\n",
      "        \n",
      "        Creates vtk renderer from vtk polydata\n",
      "        \n",
      "        Parameters\n",
      "        ----------\n",
      "        polydata : VTK polydata\n",
      "        \n",
      "        color: tuple with 3 floats (RGB)\n",
      "            default color=(1.,0.,0.)\n",
      "        opacity: float \n",
      "            default 1 (opaque)\n",
      "        background: tuple with 3 floats (RGB)\n",
      "            default background=(1.,1.,1.)\n",
      "            \n",
      "            \n",
      "        Returns\n",
      "        -------\n",
      "        VtkRenderer : an Vtk renderer containing VTK polydata \n",
      "           \n",
      "        See Also\n",
      "        --------\n",
      "        vtk_show, loadSTL\n",
      "        \n",
      "        Notes\n",
      "        -----\n",
      "        This Code was modified fron the original code by Adamos Kyriakou\n",
      "        published in https://pyscience.wordpress.com/\n",
      "    \n",
      "    vtk_raycasting(...)\n",
      "        vtk_raycasting(surface, pSource, pTarget)\n",
      "        \n",
      "        Intersects a line defined by two points with a polydata vtk object,\n",
      "        for example a closed surface. \n",
      "        \n",
      "        This function is to find intersection and inclusion of points \n",
      "        within, below or over a surface. This is handy to select points \n",
      "        or define blocks inside solids.    \n",
      "        \n",
      "        Parameters\n",
      "        ----------\n",
      "        surface : VTK polydata\n",
      "               this may work with any 3D object..., no necessarily triangles   \n",
      "        pSource, pTarget: tuples with 3 float\n",
      "               point location defining a ray\n",
      "        \n",
      "        Returns\n",
      "        -------\n",
      "        intersect : integer, with values -1, 0, 1\n",
      "            0 means that no intersection points were found\n",
      "            1 means that some intersection points were found\n",
      "           -1 means the ray source lies within the surface\n",
      "        pointsIntersection : tuple of tuples with 3 float\n",
      "            this is a tuple with coordinates tuples defining \n",
      "            intersection points\n",
      "        \n",
      "        pointsVTKIntersectionData : an Vtk polydata object \n",
      "            similar to pointsIntersection but in Vtk polydata format\n",
      "        \n",
      "        \n",
      "        See Also\n",
      "        --------\n",
      "        vtk_show, loadSTL\n",
      "        \n",
      "        Notes\n",
      "        -----\n",
      "        This Code was modified fron the original code by Adamos Kyriakou\n",
      "        published in https://pyscience.wordpress.com/\n",
      "    \n",
      "    vtk_show(...)\n",
      "        vtk_show(renderer, \n",
      "                 width=400, \n",
      "                 height=300,\n",
      "                 camera_position=None,\n",
      "                 camera_focalpoint=None)\n",
      "        \n",
      "        Display a vtk renderer in Ipython Image\n",
      "        \n",
      "        Parameters\n",
      "        ----------\n",
      "        renderer : VTK renderer\n",
      "               renderer with vtk objects and properties \n",
      "        width, height: float\n",
      "               Size of the image, default (400,300)\n",
      "        camera_position, camera_focalpoint: tuples with 3 float \n",
      "               camera position, camera focal point (ex. center of mass)\n",
      "               default None. If not None the the camera will be overwrite\n",
      "        Returns\n",
      "        -------\n",
      "        Image : an IPython display Image object\n",
      "          \n",
      "        See Also\n",
      "        --------\n",
      "        polydata2renderer, loadSTL\n",
      "           \n",
      "        Notes\n",
      "        -----\n",
      "        This Code was modified fron the original code by Adamos Kyriakou\n",
      "        published in https://pyscience.wordpress.com/\n",
      "\n",
      "DATA\n",
      "    __test__ = {}\n",
      "\n",
      "\n"
     ]
    }
   ],
   "source": [
    "help(gslib.vtktools)"
   ]
  },
  {
   "cell_type": "markdown",
   "metadata": {},
   "source": [
    "## Load a cube defined in an stl file and plot it\n",
    "\n",
    "STL is a popular mesh format included an many non-commercial and commercial software, example: Paraview, Datamine Studio, etc. \n"
   ]
  },
  {
   "cell_type": "code",
   "execution_count": 3,
   "metadata": {
    "collapsed": false
   },
   "outputs": [
    {
     "name": "stdout",
     "output_type": "stream",
     "text": [
      "vtkPolyData (0x333c6f0)\n",
      "  Debug: Off\n",
      "  Modified Time: 183\n",
      "  Reference Count: 1\n",
      "  Registered Events: (none)\n",
      "  Information: 0x2b64a60\n",
      "  Data Released: False\n",
      "  Global Release Data: Off\n",
      "  UpdateTime: 184\n",
      "  Field Data:\n",
      "    Debug: Off\n",
      "    Modified Time: 144\n",
      "    Reference Count: 1\n",
      "    Registered Events: (none)\n",
      "    Number Of Arrays: 0\n",
      "    Number Of Components: 0\n",
      "    Number Of Tuples: 0\n",
      "  Number Of Points: 8\n",
      "  Number Of Cells: 12\n",
      "  Cell Data:\n",
      "    Debug: Off\n",
      "    Modified Time: 152\n",
      "    Reference Count: 1\n",
      "    Registered Events: \n",
      "      Registered Observers:\n",
      "        vtkObserver (0x3aa2df0)\n",
      "          Event: 33\n",
      "          EventName: ModifiedEvent\n",
      "          Command: 0x3853450\n",
      "          Priority: 0\n",
      "          Tag: 1\n",
      "    Number Of Arrays: 0\n",
      "    Number Of Components: 0\n",
      "    Number Of Tuples: 0\n",
      "    Copy Tuple Flags: ( 1 1 1 1 1 0 1 1 )\n",
      "    Interpolate Flags: ( 1 1 1 1 1 0 0 1 )\n",
      "    Pass Through Flags: ( 1 1 1 1 1 1 1 1 )\n",
      "    Scalars: (none)\n",
      "    Vectors: (none)\n",
      "    Normals: (none)\n",
      "    TCoords: (none)\n",
      "    Tensors: (none)\n",
      "    GlobalIds: (none)\n",
      "    PedigreeIds: (none)\n",
      "    EdgeFlag: (none)\n",
      "  Point Data:\n",
      "    Debug: Off\n",
      "    Modified Time: 154\n",
      "    Reference Count: 1\n",
      "    Registered Events: \n",
      "      Registered Observers:\n",
      "        vtkObserver (0x3aa3050)\n",
      "          Event: 33\n",
      "          EventName: ModifiedEvent\n",
      "          Command: 0x3853450\n",
      "          Priority: 0\n",
      "          Tag: 1\n",
      "    Number Of Arrays: 0\n",
      "    Number Of Components: 0\n",
      "    Number Of Tuples: 0\n",
      "    Copy Tuple Flags: ( 1 1 1 1 1 0 1 1 )\n",
      "    Interpolate Flags: ( 1 1 1 1 1 0 0 1 )\n",
      "    Pass Through Flags: ( 1 1 1 1 1 1 1 1 )\n",
      "    Scalars: (none)\n",
      "    Vectors: (none)\n",
      "    Normals: (none)\n",
      "    TCoords: (none)\n",
      "    Tensors: (none)\n",
      "    GlobalIds: (none)\n",
      "    PedigreeIds: (none)\n",
      "    EdgeFlag: (none)\n",
      "  Bounds: \n",
      "    Xmin,Xmax: (-5, 5)\n",
      "    Ymin,Ymax: (-5, 5)\n",
      "    Zmin,Zmax: (-5, 5)\n",
      "  Compute Time: 198\n",
      "  Number Of Points: 8\n",
      "  Point Coordinates: 0x3e15770\n",
      "  Locator: 0\n",
      "  Number Of Vertices: 0\n",
      "  Number Of Lines: 0\n",
      "  Number Of Polygons: 12\n",
      "  Number Of Triangle Strips: 0\n",
      "  Number Of Pieces: 1\n",
      "  Piece: 0\n",
      "  Ghost Level: 0\n",
      "\n",
      "\n"
     ]
    }
   ],
   "source": [
    "#load the cube \n",
    "mycube=gslib.vtktools.loadSTL('../datasets/stl/cube.stl')\n",
    "\n",
    "# see the information about this data... Note that it is an vtkPolyData\n",
    "print mycube"
   ]
  },
  {
   "cell_type": "code",
   "execution_count": 4,
   "metadata": {
    "collapsed": false
   },
   "outputs": [
    {
     "data": {
      "image/png": "[encoded data removed]",
      "text/plain": [
       "<IPython.core.display.Image object>"
      ]
     },
     "execution_count": 4,
     "metadata": {},
     "output_type": "execute_result"
    }
   ],
   "source": [
    "# Create a VTK render containing a surface (mycube)\n",
    "renderer = gslib.vtktools.polydata2renderer(mycube, color=(1,0,0), opacity=0.50, background=(1,1,1))\n",
    "# Now we plot the render\n",
    "gslib.vtktools.vtk_show(renderer, camera_position=(-20,20,20), camera_focalpoint=(0,0,0))"
   ]
  },
  {
   "cell_type": "markdown",
   "metadata": {},
   "source": [
    "## Ray casting to find intersections of a lines with the cube   \n",
    "\n",
    "This is basically how we plan to find points inside solid and to define blocks inside solid"
   ]
  },
  {
   "cell_type": "code",
   "execution_count": 5,
   "metadata": {
    "collapsed": false
   },
   "outputs": [
    {
     "data": {
      "image/png": "[encoded data removed]",
      "text/plain": [
       "<IPython.core.display.Image object>"
      ]
     },
     "execution_count": 5,
     "metadata": {},
     "output_type": "execute_result"
    }
   ],
   "source": [
    "# we have a line, for example a block model row \n",
    "# defined by two points or an infinite line passing trough a dillhole sample \n",
    "pSource = [-50.0, 0.0, 0.0]\n",
    "pTarget = [50.0, 0.0, 0.0]\n",
    "\n",
    "# now we want to see how this looks like\n",
    "gslib.vtktools.addLine(renderer,pSource, pTarget, color=(0, 1, 0))\n",
    "gslib.vtktools.vtk_show(renderer) # the camera position was already defined \n"
   ]
  },
  {
   "cell_type": "code",
   "execution_count": 6,
   "metadata": {
    "collapsed": false
   },
   "outputs": [
    {
     "name": "stdout",
     "output_type": "stream",
     "text": [
      "the line intersects?  True\n",
      "the line is over the surface? False\n",
      "[(-5.0, 0.0, 0.0), (5.0, 0.0, 0.0)]\n"
     ]
    }
   ],
   "source": [
    "# now we find the point coordinates of the intersections \n",
    "intersect, points, pointsVTK= gslib.vtktools.vtk_raycasting(mycube, pSource, pTarget)\n",
    "\n",
    "print \"the line intersects? \", intersect==1\n",
    "print \"the line is over the surface?\", intersect==-1\n",
    "\n",
    "# list of coordinates of the points intersecting \n",
    "print points\n"
   ]
  },
  {
   "cell_type": "code",
   "execution_count": 7,
   "metadata": {
    "collapsed": false
   },
   "outputs": [
    {
     "data": {
      "image/png": "[encoded data removed]",
      "text/plain": [
       "<IPython.core.display.Image object>"
      ]
     },
     "execution_count": 7,
     "metadata": {},
     "output_type": "execute_result"
    }
   ],
   "source": [
    "#Now we plot the intersecting points\n",
    "\n",
    "# To do this we add the points to the renderer \n",
    "for p in points: \n",
    "    gslib.vtktools.addPoint(renderer, p, radius=0.5, color=(0.0, 0.0, 1.0))\n",
    "\n",
    "gslib.vtktools.vtk_show(renderer)    \n",
    "    "
   ]
  },
  {
   "cell_type": "markdown",
   "metadata": {},
   "source": [
    "### Test line on surface"
   ]
  },
  {
   "cell_type": "code",
   "execution_count": 8,
   "metadata": {
    "collapsed": false
   },
   "outputs": [
    {
     "name": "stdout",
     "output_type": "stream",
     "text": [
      "the line intersects?  True\n",
      "the line is over the surface? False\n",
      "[(-5.0, 5.010000228881836, 0.0), (5.0, 5.010000228881836, 0.0)]\n"
     ]
    },
    {
     "data": {
      "image/png": "[encoded data removed]",
      "text/plain": [
       "<IPython.core.display.Image object>"
      ]
     },
     "execution_count": 8,
     "metadata": {},
     "output_type": "execute_result"
    }
   ],
   "source": [
    "# we have a line, for example a block model row \n",
    "# defined by two points or an infinite line passing trough a dillhole sample \n",
    "pSource = [-50.0, 5.01, 0]\n",
    "pTarget = [50.0, 5.01, 0]\n",
    "\n",
    "# now we find the point coordinates of the intersections \n",
    "intersect, points, pointsVTK= gslib.vtktools.vtk_raycasting(mycube, pSource, pTarget)\n",
    "\n",
    "print \"the line intersects? \", intersect==1\n",
    "print \"the line is over the surface?\", intersect==-1\n",
    "\n",
    "# list of coordinates of the points intersecting \n",
    "print points\n",
    "\n",
    "# now we want to see how this looks like\n",
    "gslib.vtktools.addLine(renderer,pSource, pTarget, color=(0, 1, 0))\n",
    "\n",
    "for p in points: \n",
    "    gslib.vtktools.addPoint(renderer, p, radius=0.5, color=(0.0, 0.0, 1.0))\n",
    "\n",
    "gslib.vtktools.vtk_show(renderer) # the camera position was already defined \n",
    "\n",
    "# note that there is a tolerance of about 0.01"
   ]
  },
  {
   "cell_type": "markdown",
   "metadata": {
    "collapsed": true
   },
   "source": [
    "# Finding points"
   ]
  },
  {
   "cell_type": "code",
   "execution_count": 9,
   "metadata": {
    "collapsed": false
   },
   "outputs": [],
   "source": [
    "#using same cube but generation arbitrary random points\n",
    "x = np.random.uniform(-10,10,150)\n",
    "y = np.random.uniform(-10,10,150)\n",
    "z = np.random.uniform(-10,10,150)"
   ]
  },
  {
   "cell_type": "markdown",
   "metadata": {
    "collapsed": true
   },
   "source": [
    "## Find points inside a solid"
   ]
  },
  {
   "cell_type": "code",
   "execution_count": 10,
   "metadata": {
    "collapsed": false
   },
   "outputs": [
    {
     "name": "stdout",
     "output_type": "stream",
     "text": [
      "[]\n",
      "[]\n",
      "[]\n"
     ]
    }
   ],
   "source": [
    "# selecting all inside the solid\n",
    "# This two methods are equivelent but test=4 also works with open surfaces  \n",
    "inside,p=gslib.vtktools.pointquering(mycube, azm=0, dip=0, x=x, y=y, z=z, test=1)\n",
    "inside1,p=gslib.vtktools.pointquering(mycube, azm=0, dip=0, x=x, y=y, z=z, test=4)\n",
    "err=inside==inside1\n",
    "#print inside, tuple(p)\n",
    "print x[~err]\n",
    "print y[~err]\n",
    "print z[~err]"
   ]
  },
  {
   "cell_type": "code",
   "execution_count": 11,
   "metadata": {
    "collapsed": false
   },
   "outputs": [
    {
     "data": {
      "text/plain": [
       "(vtkOpenGLRenderer)0x7fd32879cf50"
      ]
     },
     "execution_count": 11,
     "metadata": {},
     "output_type": "execute_result"
    }
   ],
   "source": [
    "# here we prepare to plot the solid, the x,y,z indicator and we also \n",
    "# plot the line (direction) used to ray trace\n",
    "\n",
    "# convert the data in the STL file into a renderer and then we plot it\n",
    "renderer = gslib.vtktools.polydata2renderer(mycube, color=(1,0,0), opacity=0.70, background=(1,1,1))\n",
    "# add indicator (r->x, g->y, b->z)\n",
    "gslib.vtktools.addLine(renderer,[-10,-10,-10], [-7,-10,-10], color=(1, 0, 0))\n",
    "gslib.vtktools.addLine(renderer,[-10,-10,-10], [-10,-7,-10], color=(0, 1, 0))\n",
    "gslib.vtktools.addLine(renderer,[-10,-10,-10], [-10,-10,-7], color=(0, 0, 1))\n",
    "\n",
    "# add ray to see where we are pointing\n",
    "gslib.vtktools.addLine(renderer, (0.,0.,0.), tuple(p), color=(0, 0, 0))\n"
   ]
  },
  {
   "cell_type": "code",
   "execution_count": 12,
   "metadata": {
    "collapsed": false
   },
   "outputs": [
    {
     "data": {
      "image/png": "[encoded data removed]",
      "text/plain": [
       "<IPython.core.display.Image object>"
      ]
     },
     "execution_count": 12,
     "metadata": {},
     "output_type": "execute_result"
    }
   ],
   "source": [
    "# here we plot the points selected and non-selected in different color and size\n",
    "# add the points selected\n",
    "for i in range(len(inside)):\n",
    "    p=[x[i],y[i],z[i]]\n",
    "    \n",
    "    if inside[i]!=0:\n",
    "        #inside\n",
    "        gslib.vtktools.addPoint(renderer, p, radius=0.5, color=(0.0, 0.0, 1.0))\n",
    "    else:\n",
    "        gslib.vtktools.addPoint(renderer, p, radius=0.2, color=(0.0, 1.0, 0.0))\n",
    "\n",
    "        \n",
    "#lets rotate a bit this\n",
    "gslib.vtktools.vtk_show(renderer, camera_position=(0,0,50), camera_focalpoint=(0,0,0))"
   ]
  },
  {
   "cell_type": "markdown",
   "metadata": {},
   "source": [
    "# Find points over a surface"
   ]
  },
  {
   "cell_type": "code",
   "execution_count": 13,
   "metadata": {
    "collapsed": false
   },
   "outputs": [
    {
     "data": {
      "text/plain": [
       "(vtkOpenGLRenderer)0x7fd32879c530"
      ]
     },
     "execution_count": 13,
     "metadata": {},
     "output_type": "execute_result"
    }
   ],
   "source": [
    "# selecting all over a solid (test = 2) \n",
    "inside,p=gslib.vtktools.pointquering(mycube, azm=0, dip=0, x=x, y=y, z=z, test=2)\n",
    "\n",
    "# here we prepare to plot the solid, the x,y,z indicator and we also \n",
    "# plot the line (direction) used to ray trace\n",
    "\n",
    "# convert the data in the STL file into a renderer and then we plot it\n",
    "renderer = gslib.vtktools.polydata2renderer(mycube, color=(1,0,0), opacity=0.70, background=(1,1,1))\n",
    "# add indicator (r->x, g->y, b->z)\n",
    "gslib.vtktools.addLine(renderer,[-10,-10,-10], [-7,-10,-10], color=(1, 0, 0))\n",
    "gslib.vtktools.addLine(renderer,[-10,-10,-10], [-10,-7,-10], color=(0, 1, 0))\n",
    "gslib.vtktools.addLine(renderer,[-10,-10,-10], [-10,-10,-7], color=(0, 0, 1))\n",
    "\n",
    "# add ray to see where we are pointing\n",
    "gslib.vtktools.addLine(renderer, (0.,0.,0.), tuple(-p), color=(0, 0, 0))\n"
   ]
  },
  {
   "cell_type": "code",
   "execution_count": 14,
   "metadata": {
    "collapsed": false
   },
   "outputs": [
    {
     "data": {
      "image/png": "[encoded data removed]",
      "text/plain": [
       "<IPython.core.display.Image object>"
      ]
     },
     "execution_count": 14,
     "metadata": {},
     "output_type": "execute_result"
    }
   ],
   "source": [
    "# here we plot the points selected and non-selected in different color and size\n",
    "# add the points selected\n",
    "for i in range(len(inside)):\n",
    "    p=[x[i],y[i],z[i]]\n",
    "    \n",
    "    if inside[i]!=0:\n",
    "        #inside\n",
    "        gslib.vtktools.addPoint(renderer, p, radius=0.5, color=(0.0, 0.0, 1.0))\n",
    "    else:\n",
    "        gslib.vtktools.addPoint(renderer, p, radius=0.2, color=(0.0, 1.0, 0.0))\n",
    "\n",
    "        \n",
    "#lets rotate a bit this\n",
    "gslib.vtktools.vtk_show(renderer, camera_position=(0,0,50), camera_focalpoint=(0,0,0))"
   ]
  },
  {
   "cell_type": "markdown",
   "metadata": {},
   "source": [
    "# Find points below a surface"
   ]
  },
  {
   "cell_type": "code",
   "execution_count": 15,
   "metadata": {
    "collapsed": false
   },
   "outputs": [
    {
     "data": {
      "text/plain": [
       "(vtkOpenGLRenderer)0x7fd3289ad110"
      ]
     },
     "execution_count": 15,
     "metadata": {},
     "output_type": "execute_result"
    }
   ],
   "source": [
    "# selecting all over a solid (test = 2) \n",
    "inside,p=gslib.vtktools.pointquering(mycube, azm=0, dip=0, x=x, y=y, z=z, test=3)\n",
    "\n",
    "# here we prepare to plot the solid, the x,y,z indicator and we also \n",
    "# plot the line (direction) used to ray trace\n",
    "\n",
    "# convert the data in the STL file into a renderer and then we plot it\n",
    "renderer = gslib.vtktools.polydata2renderer(mycube, color=(1,0,0), opacity=0.70, background=(1,1,1))\n",
    "# add indicator (r->x, g->y, b->z)\n",
    "gslib.vtktools.addLine(renderer,[-10,-10,-10], [-7,-10,-10], color=(1, 0, 0))\n",
    "gslib.vtktools.addLine(renderer,[-10,-10,-10], [-10,-7,-10], color=(0, 1, 0))\n",
    "gslib.vtktools.addLine(renderer,[-10,-10,-10], [-10,-10,-7], color=(0, 0, 1))\n",
    "\n",
    "# add ray to see where we are pointing\n",
    "gslib.vtktools.addLine(renderer, (0.,0.,0.), tuple(p), color=(0, 0, 0))\n"
   ]
  },
  {
   "cell_type": "code",
   "execution_count": 16,
   "metadata": {
    "collapsed": false
   },
   "outputs": [
    {
     "data": {
      "image/png": "[encoded data removed]",
      "text/plain": [
       "<IPython.core.display.Image object>"
      ]
     },
     "execution_count": 16,
     "metadata": {},
     "output_type": "execute_result"
    }
   ],
   "source": [
    "# here we plot the points selected and non-selected in different color and size\n",
    "# add the points selected\n",
    "for i in range(len(inside)):\n",
    "    p=[x[i],y[i],z[i]]\n",
    "    \n",
    "    if inside[i]!=0:\n",
    "        #inside\n",
    "        gslib.vtktools.addPoint(renderer, p, radius=0.5, color=(0.0, 0.0, 1.0))\n",
    "    else:\n",
    "        gslib.vtktools.addPoint(renderer, p, radius=0.2, color=(0.0, 1.0, 0.0))\n",
    "\n",
    "        \n",
    "#lets rotate a bit this\n",
    "gslib.vtktools.vtk_show(renderer, camera_position=(0,0,50), camera_focalpoint=(0,0,0))"
   ]
  },
  {
   "cell_type": "markdown",
   "metadata": {
    "collapsed": true
   },
   "source": [
    "## Export points to a VTK file"
   ]
  },
  {
   "cell_type": "code",
   "execution_count": 17,
   "metadata": {
    "collapsed": false
   },
   "outputs": [],
   "source": [
    "data = {'inside': inside}\n",
    "\n",
    "gslib.vtktools.points2vtkfile('points', x,y,z, data)"
   ]
  },
  {
   "cell_type": "markdown",
   "metadata": {},
   "source": [
    "The results can be ploted in an external viewer, for example mayavi or paraview:\n",
    "\n",
    "<img src=\"figures/Fig_paraview.png\">\n"
   ]
  },
  {
   "cell_type": "code",
   "execution_count": null,
   "metadata": {
    "collapsed": true
   },
   "outputs": [],
   "source": []
  }
 ],
 "metadata": {
  "kernelspec": {
   "display_name": "Python 2",
   "language": "python",
   "name": "python2"
  },
  "language_info": {
   "codemirror_mode": {
    "name": "ipython",
    "version": 2
   },
   "file_extension": ".py",
   "mimetype": "text/x-python",
   "name": "python",
   "nbconvert_exporter": "python",
   "pygments_lexer": "ipython2",
   "version": "2.7.10"
  }
 },
 "nbformat": 4,
 "nbformat_minor": 0
}
