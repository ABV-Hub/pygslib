{
 "cells": [
  {
   "cell_type": "markdown",
   "metadata": {},
   "source": [
    "PyGSLIB\n",
    "========\n",
    "\n",
    "Introduction\n",
    "---------------\n",
    "\n",
    "This is a set of test for the drillhole functions.\n",
    "\n",
    "These functions are not part of GSLIB but are required for some basic drillhole test and processing (example desurvey)\n",
    "\n"
   ]
  },
  {
   "cell_type": "code",
   "execution_count": 1,
   "metadata": {
    "collapsed": false
   },
   "outputs": [],
   "source": [
    "#general imports  \n",
    "import pygslib as gslib      \n",
    "import pandas as pd\n",
    "import matplotlib.pyplot as plt\n",
    "import numpy as np\n",
    "\n",
    "#make the plots inline\n",
    "%matplotlib inline  "
   ]
  },
  {
   "cell_type": "markdown",
   "metadata": {},
   "source": [
    "Getting the data ready for work\n",
    "---------\n",
    "\n",
    "Here we use arbitrary data\n"
   ]
  },
  {
   "cell_type": "code",
   "execution_count": 2,
   "metadata": {
    "collapsed": false
   },
   "outputs": [],
   "source": [
    "angles = pd.DataFrame (\n",
    "    {'az'   : [0.,45,90,135,180,225,270,315,360,0,45,90,135,180,225,270,315],\n",
    "     'dip': [90.,80,70,60,50,40,30,20,10,0,-10,-20,-30,-40,-50,-60,-70]})\n"
   ]
  },
  {
   "cell_type": "code",
   "execution_count": 3,
   "metadata": {
    "collapsed": false
   },
   "outputs": [
    {
     "data": {
      "text/html": [
       "<div>\n",
       "<table border=\"1\" class=\"dataframe\">\n",
       "  <thead>\n",
       "    <tr style=\"text-align: right;\">\n",
       "      <th></th>\n",
       "      <th>az</th>\n",
       "      <th>dip</th>\n",
       "    </tr>\n",
       "  </thead>\n",
       "  <tbody>\n",
       "    <tr>\n",
       "      <th>0</th>\n",
       "      <td>0</td>\n",
       "      <td>90</td>\n",
       "    </tr>\n",
       "    <tr>\n",
       "      <th>1</th>\n",
       "      <td>45</td>\n",
       "      <td>80</td>\n",
       "    </tr>\n",
       "    <tr>\n",
       "      <th>2</th>\n",
       "      <td>90</td>\n",
       "      <td>70</td>\n",
       "    </tr>\n",
       "    <tr>\n",
       "      <th>3</th>\n",
       "      <td>135</td>\n",
       "      <td>60</td>\n",
       "    </tr>\n",
       "    <tr>\n",
       "      <th>4</th>\n",
       "      <td>180</td>\n",
       "      <td>50</td>\n",
       "    </tr>\n",
       "    <tr>\n",
       "      <th>5</th>\n",
       "      <td>225</td>\n",
       "      <td>40</td>\n",
       "    </tr>\n",
       "    <tr>\n",
       "      <th>6</th>\n",
       "      <td>270</td>\n",
       "      <td>30</td>\n",
       "    </tr>\n",
       "    <tr>\n",
       "      <th>7</th>\n",
       "      <td>315</td>\n",
       "      <td>20</td>\n",
       "    </tr>\n",
       "    <tr>\n",
       "      <th>8</th>\n",
       "      <td>360</td>\n",
       "      <td>10</td>\n",
       "    </tr>\n",
       "    <tr>\n",
       "      <th>9</th>\n",
       "      <td>0</td>\n",
       "      <td>0</td>\n",
       "    </tr>\n",
       "    <tr>\n",
       "      <th>10</th>\n",
       "      <td>45</td>\n",
       "      <td>-10</td>\n",
       "    </tr>\n",
       "    <tr>\n",
       "      <th>11</th>\n",
       "      <td>90</td>\n",
       "      <td>-20</td>\n",
       "    </tr>\n",
       "    <tr>\n",
       "      <th>12</th>\n",
       "      <td>135</td>\n",
       "      <td>-30</td>\n",
       "    </tr>\n",
       "    <tr>\n",
       "      <th>13</th>\n",
       "      <td>180</td>\n",
       "      <td>-40</td>\n",
       "    </tr>\n",
       "    <tr>\n",
       "      <th>14</th>\n",
       "      <td>225</td>\n",
       "      <td>-50</td>\n",
       "    </tr>\n",
       "    <tr>\n",
       "      <th>15</th>\n",
       "      <td>270</td>\n",
       "      <td>-60</td>\n",
       "    </tr>\n",
       "    <tr>\n",
       "      <th>16</th>\n",
       "      <td>315</td>\n",
       "      <td>-70</td>\n",
       "    </tr>\n",
       "  </tbody>\n",
       "</table>\n",
       "</div>"
      ],
      "text/plain": [
       "     az  dip\n",
       "0     0   90\n",
       "1    45   80\n",
       "2    90   70\n",
       "3   135   60\n",
       "4   180   50\n",
       "5   225   40\n",
       "6   270   30\n",
       "7   315   20\n",
       "8   360   10\n",
       "9     0    0\n",
       "10   45  -10\n",
       "11   90  -20\n",
       "12  135  -30\n",
       "13  180  -40\n",
       "14  225  -50\n",
       "15  270  -60\n",
       "16  315  -70"
      ]
     },
     "execution_count": 3,
     "metadata": {},
     "output_type": "execute_result"
    }
   ],
   "source": [
    "angles"
   ]
  },
  {
   "cell_type": "markdown",
   "metadata": {},
   "source": [
    "## Testing validation functions issort"
   ]
  },
  {
   "cell_type": "code",
   "execution_count": 4,
   "metadata": {
    "collapsed": false
   },
   "outputs": [
    {
     "name": "stdout",
     "output_type": "stream",
     "text": [
      "x,y,z = ang2cart(azm,dip)\n",
      "\n",
      "Wrapper for ``ang2cart``.\n",
      "\n",
      "Parameters\n",
      "----------\n",
      "azm : input float\n",
      "dip : input float\n",
      "\n",
      "Returns\n",
      "-------\n",
      "x : float\n",
      "y : float\n",
      "z : float\n",
      "\n"
     ]
    }
   ],
   "source": [
    "print gslib.__drillhole.ang2cart.__doc__"
   ]
  },
  {
   "cell_type": "code",
   "execution_count": 5,
   "metadata": {
    "collapsed": false
   },
   "outputs": [
    {
     "data": {
      "text/html": [
       "<div>\n",
       "<table border=\"1\" class=\"dataframe\">\n",
       "  <thead>\n",
       "    <tr style=\"text-align: right;\">\n",
       "      <th></th>\n",
       "      <th>az</th>\n",
       "      <th>dip</th>\n",
       "      <th>x</th>\n",
       "      <th>y</th>\n",
       "      <th>z</th>\n",
       "      <th>az_back</th>\n",
       "      <th>dip_back</th>\n",
       "    </tr>\n",
       "  </thead>\n",
       "  <tbody>\n",
       "    <tr>\n",
       "      <th>0</th>\n",
       "      <td>0</td>\n",
       "      <td>90</td>\n",
       "      <td>-0.000000e+00</td>\n",
       "      <td>-4.371139e-08</td>\n",
       "      <td>-1.000000</td>\n",
       "      <td>0.000000</td>\n",
       "      <td>90.000000</td>\n",
       "    </tr>\n",
       "    <tr>\n",
       "      <th>1</th>\n",
       "      <td>45</td>\n",
       "      <td>80</td>\n",
       "      <td>1.227878e-01</td>\n",
       "      <td>1.227878e-01</td>\n",
       "      <td>-0.984808</td>\n",
       "      <td>45.000000</td>\n",
       "      <td>79.999985</td>\n",
       "    </tr>\n",
       "    <tr>\n",
       "      <th>2</th>\n",
       "      <td>90</td>\n",
       "      <td>70</td>\n",
       "      <td>3.420202e-01</td>\n",
       "      <td>-1.495018e-08</td>\n",
       "      <td>-0.939693</td>\n",
       "      <td>90.000000</td>\n",
       "      <td>69.999992</td>\n",
       "    </tr>\n",
       "    <tr>\n",
       "      <th>3</th>\n",
       "      <td>135</td>\n",
       "      <td>60</td>\n",
       "      <td>3.535534e-01</td>\n",
       "      <td>-3.535534e-01</td>\n",
       "      <td>-0.866025</td>\n",
       "      <td>135.000000</td>\n",
       "      <td>60.000000</td>\n",
       "    </tr>\n",
       "    <tr>\n",
       "      <th>4</th>\n",
       "      <td>180</td>\n",
       "      <td>50</td>\n",
       "      <td>-5.619428e-08</td>\n",
       "      <td>-6.427876e-01</td>\n",
       "      <td>-0.766044</td>\n",
       "      <td>180.000015</td>\n",
       "      <td>49.999996</td>\n",
       "    </tr>\n",
       "    <tr>\n",
       "      <th>5</th>\n",
       "      <td>225</td>\n",
       "      <td>40</td>\n",
       "      <td>-5.416752e-01</td>\n",
       "      <td>-5.416753e-01</td>\n",
       "      <td>-0.642788</td>\n",
       "      <td>225.000000</td>\n",
       "      <td>39.999996</td>\n",
       "    </tr>\n",
       "    <tr>\n",
       "      <th>6</th>\n",
       "      <td>270</td>\n",
       "      <td>30</td>\n",
       "      <td>-8.660254e-01</td>\n",
       "      <td>1.032725e-08</td>\n",
       "      <td>-0.500000</td>\n",
       "      <td>270.000000</td>\n",
       "      <td>30.000000</td>\n",
       "    </tr>\n",
       "    <tr>\n",
       "      <th>7</th>\n",
       "      <td>315</td>\n",
       "      <td>20</td>\n",
       "      <td>-6.644631e-01</td>\n",
       "      <td>6.644629e-01</td>\n",
       "      <td>-0.342020</td>\n",
       "      <td>314.999969</td>\n",
       "      <td>19.999998</td>\n",
       "    </tr>\n",
       "    <tr>\n",
       "      <th>8</th>\n",
       "      <td>360</td>\n",
       "      <td>10</td>\n",
       "      <td>1.721892e-07</td>\n",
       "      <td>9.848077e-01</td>\n",
       "      <td>-0.173648</td>\n",
       "      <td>0.000010</td>\n",
       "      <td>9.999999</td>\n",
       "    </tr>\n",
       "    <tr>\n",
       "      <th>9</th>\n",
       "      <td>0</td>\n",
       "      <td>0</td>\n",
       "      <td>0.000000e+00</td>\n",
       "      <td>1.000000e+00</td>\n",
       "      <td>-0.000000</td>\n",
       "      <td>0.000000</td>\n",
       "      <td>0.000000</td>\n",
       "    </tr>\n",
       "    <tr>\n",
       "      <th>10</th>\n",
       "      <td>45</td>\n",
       "      <td>-10</td>\n",
       "      <td>6.963642e-01</td>\n",
       "      <td>6.963642e-01</td>\n",
       "      <td>0.173648</td>\n",
       "      <td>45.000000</td>\n",
       "      <td>-9.999999</td>\n",
       "    </tr>\n",
       "    <tr>\n",
       "      <th>11</th>\n",
       "      <td>90</td>\n",
       "      <td>-20</td>\n",
       "      <td>9.396926e-01</td>\n",
       "      <td>-4.107527e-08</td>\n",
       "      <td>0.342020</td>\n",
       "      <td>90.000000</td>\n",
       "      <td>-19.999998</td>\n",
       "    </tr>\n",
       "    <tr>\n",
       "      <th>12</th>\n",
       "      <td>135</td>\n",
       "      <td>-30</td>\n",
       "      <td>6.123724e-01</td>\n",
       "      <td>-6.123724e-01</td>\n",
       "      <td>0.500000</td>\n",
       "      <td>135.000000</td>\n",
       "      <td>-30.000000</td>\n",
       "    </tr>\n",
       "    <tr>\n",
       "      <th>13</th>\n",
       "      <td>180</td>\n",
       "      <td>-40</td>\n",
       "      <td>-6.696973e-08</td>\n",
       "      <td>-7.660444e-01</td>\n",
       "      <td>0.642788</td>\n",
       "      <td>180.000015</td>\n",
       "      <td>-39.999996</td>\n",
       "    </tr>\n",
       "    <tr>\n",
       "      <th>14</th>\n",
       "      <td>225</td>\n",
       "      <td>-50</td>\n",
       "      <td>-4.545195e-01</td>\n",
       "      <td>-4.545195e-01</td>\n",
       "      <td>0.766044</td>\n",
       "      <td>225.000000</td>\n",
       "      <td>-49.999996</td>\n",
       "    </tr>\n",
       "    <tr>\n",
       "      <th>15</th>\n",
       "      <td>270</td>\n",
       "      <td>-60</td>\n",
       "      <td>-5.000000e-01</td>\n",
       "      <td>5.962440e-09</td>\n",
       "      <td>0.866025</td>\n",
       "      <td>270.000000</td>\n",
       "      <td>-60.000000</td>\n",
       "    </tr>\n",
       "    <tr>\n",
       "      <th>16</th>\n",
       "      <td>315</td>\n",
       "      <td>-70</td>\n",
       "      <td>-2.418448e-01</td>\n",
       "      <td>2.418447e-01</td>\n",
       "      <td>0.939693</td>\n",
       "      <td>314.999969</td>\n",
       "      <td>-69.999992</td>\n",
       "    </tr>\n",
       "  </tbody>\n",
       "</table>\n",
       "</div>"
      ],
      "text/plain": [
       "     az  dip             x             y         z     az_back   dip_back\n",
       "0     0   90 -0.000000e+00 -4.371139e-08 -1.000000    0.000000  90.000000\n",
       "1    45   80  1.227878e-01  1.227878e-01 -0.984808   45.000000  79.999985\n",
       "2    90   70  3.420202e-01 -1.495018e-08 -0.939693   90.000000  69.999992\n",
       "3   135   60  3.535534e-01 -3.535534e-01 -0.866025  135.000000  60.000000\n",
       "4   180   50 -5.619428e-08 -6.427876e-01 -0.766044  180.000015  49.999996\n",
       "5   225   40 -5.416752e-01 -5.416753e-01 -0.642788  225.000000  39.999996\n",
       "6   270   30 -8.660254e-01  1.032725e-08 -0.500000  270.000000  30.000000\n",
       "7   315   20 -6.644631e-01  6.644629e-01 -0.342020  314.999969  19.999998\n",
       "8   360   10  1.721892e-07  9.848077e-01 -0.173648    0.000010   9.999999\n",
       "9     0    0  0.000000e+00  1.000000e+00 -0.000000    0.000000   0.000000\n",
       "10   45  -10  6.963642e-01  6.963642e-01  0.173648   45.000000  -9.999999\n",
       "11   90  -20  9.396926e-01 -4.107527e-08  0.342020   90.000000 -19.999998\n",
       "12  135  -30  6.123724e-01 -6.123724e-01  0.500000  135.000000 -30.000000\n",
       "13  180  -40 -6.696973e-08 -7.660444e-01  0.642788  180.000015 -39.999996\n",
       "14  225  -50 -4.545195e-01 -4.545195e-01  0.766044  225.000000 -49.999996\n",
       "15  270  -60 -5.000000e-01  5.962440e-09  0.866025  270.000000 -60.000000\n",
       "16  315  -70 -2.418448e-01  2.418447e-01  0.939693  314.999969 -69.999992"
      ]
     },
     "execution_count": 5,
     "metadata": {},
     "output_type": "execute_result"
    }
   ],
   "source": [
    "angles['x']=0.\n",
    "angles['y']=0.\n",
    "angles['z']=0.\n",
    "\n",
    "for i in range(len(angles)):\n",
    "    x,y,z = gslib.__drillhole.ang2cart(azm=angles['az'][i],dip=angles['dip'][i])\n",
    "    angles['x'][i]=x\n",
    "    angles['y'][i]=y\n",
    "    angles['z'][i]=z\n",
    "\n",
    "angles['az_back']=0.\n",
    "angles['dip_back']=0.\n",
    "\n",
    "for i in range(len(angles)):\n",
    "    a,d = gslib.__drillhole.cart2ang(x=angles['x'][i],\n",
    "                                       y=angles['y'][i],\n",
    "                                       z=angles['z'][i])\n",
    "    angles['az_back'][i]=a\n",
    "    angles['dip_back'][i]=d\n",
    "\n",
    "    \n",
    "angles"
   ]
  },
  {
   "cell_type": "markdown",
   "metadata": {},
   "source": [
    "## 1D interpolation of angles"
   ]
  },
  {
   "cell_type": "code",
   "execution_count": 6,
   "metadata": {
    "collapsed": false
   },
   "outputs": [
    {
     "name": "stdout",
     "output_type": "stream",
     "text": [
      "azm,dip = interp_ang1d(azm1,dip1,azm2,dip2,len12,d1)\n",
      "\n",
      "Wrapper for ``interp_ang1d``.\n",
      "\n",
      "Parameters\n",
      "----------\n",
      "azm1 : input float\n",
      "dip1 : input float\n",
      "azm2 : input float\n",
      "dip2 : input float\n",
      "len12 : input float\n",
      "d1 : input float\n",
      "\n",
      "Returns\n",
      "-------\n",
      "azm : float\n",
      "dip : float\n",
      "\n"
     ]
    }
   ],
   "source": [
    "print gslib.__drillhole.interp_ang1d.__doc__"
   ]
  },
  {
   "cell_type": "markdown",
   "metadata": {},
   "source": [
    "### interpolate between two non vertical (dip=90) directions\n",
    "**this works ** "
   ]
  },
  {
   "cell_type": "code",
   "execution_count": 7,
   "metadata": {
    "collapsed": false
   },
   "outputs": [
    {
     "name": "stdout",
     "output_type": "stream",
     "text": [
      "0 0.0 74.9999923706\n",
      "1 17.5148983002 70.0589294434\n",
      "2 37.3490066528 66.0869979858\n",
      "3 55.3591079712 62.657913208\n",
      "4 69.1341018677 59.5869216919\n",
      "5 78.9467468262 56.7740516663\n",
      "6 85.9129104614 54.1579551697\n",
      "7 90.9761581421 51.6977882385\n",
      "8 94.7679443359 49.3647232056\n",
      "9 97.6901321411 47.1375312805\n",
      "10 99.9999923706 44.9999961853\n"
     ]
    },
    {
     "data": {
      "image/png": "[encoded data removed]",
      "text/plain": [
       "<matplotlib.figure.Figure at 0x7fc6b4088c50>"
      ]
     },
     "metadata": {},
     "output_type": "display_data"
    },
    {
     "data": {
      "image/png": "[encoded data removed]",
      "text/plain": [
       "<matplotlib.figure.Figure at 0x7fc6ae339050>"
      ]
     },
     "metadata": {},
     "output_type": "display_data"
    }
   ],
   "source": [
    "a=[]\n",
    "d=[]\n",
    "l=[]\n",
    "for i in range(11):\n",
    "    azm,dip = gslib.__drillhole.interp_ang1d(azm1=0,\n",
    "                                             dip1=75,\n",
    "                                             azm2=100,\n",
    "                                             dip2=45,\n",
    "                                             len12=10,\n",
    "                                             d1=i)\n",
    "    print i, azm,dip\n",
    "    \n",
    "    a.append(azm)\n",
    "    d.append(dip)\n",
    "    l.append(i)\n",
    "\n",
    "plt.plot(l,a, '-o')\n",
    "plt.title('Azimuth')\n",
    "plt.show()\n",
    "plt.plot(l,d, '-o')\n",
    "plt.title('Dip')\n",
    "plt.show()"
   ]
  },
  {
   "cell_type": "markdown",
   "metadata": {},
   "source": [
    "### Interpolate between vertical direction (dip=90) and non vertical\n",
    "\n",
    "** this works but how to interpolate azimuth of a vertical drection? ** The result is a discontinuity and this is good for drillhole desurvey!"
   ]
  },
  {
   "cell_type": "code",
   "execution_count": 8,
   "metadata": {
    "collapsed": false
   },
   "outputs": [
    {
     "name": "stdout",
     "output_type": "stream",
     "text": [
      "0 0.0 90.0\n",
      "1 100.000022888 76.0986022949\n",
      "2 100.000007629 70.2916412354\n",
      "3 100.0 65.8016662598\n",
      "4 100.0 61.9872016907\n",
      "5 99.9999923706 58.6002883911\n",
      "6 99.9999923706 55.5139427185\n",
      "7 99.9999923706 52.6528739929\n",
      "8 99.9999923706 49.9680023193\n",
      "9 99.9999923706 47.4253120422\n",
      "10 99.9999923706 44.9999961853\n"
     ]
    },
    {
     "data": {
      "image/png": "[encoded data removed]",
      "text/plain": [
       "<matplotlib.figure.Figure at 0x7fc6ae1d4510>"
      ]
     },
     "metadata": {},
     "output_type": "display_data"
    },
    {
     "data": {
      "image/png": "[encoded data removed]",
      "text/plain": [
       "<matplotlib.figure.Figure at 0x7fc6ae1a1cd0>"
      ]
     },
     "metadata": {},
     "output_type": "display_data"
    }
   ],
   "source": [
    "a=[]\n",
    "d=[]\n",
    "l=[]\n",
    "for i in range(11):\n",
    "    azm,dip = gslib.__drillhole.interp_ang1d(azm1=0,\n",
    "                                             dip1=90,\n",
    "                                             azm2=100,\n",
    "                                             dip2=45,\n",
    "                                             len12=10,\n",
    "                                             d1=i)\n",
    "    print i, azm,dip\n",
    "    \n",
    "    a.append(azm)\n",
    "    d.append(dip)\n",
    "    l.append(i)\n",
    "\n",
    "plt.plot(l,a, '-o')\n",
    "plt.title('Azimuth')\n",
    "plt.show()\n",
    "plt.plot(l,d, '-o')\n",
    "plt.title('Dip')\n",
    "plt.show()"
   ]
  },
  {
   "cell_type": "code",
   "execution_count": null,
   "metadata": {
    "collapsed": true
   },
   "outputs": [],
   "source": []
  },
  {
   "cell_type": "markdown",
   "metadata": {},
   "source": [
    "### Interpolate between two vertical directions (dip=90) \n",
    "\n",
    "The result is a discontinuity + inestable and not an issue for drillhole desurvey!"
   ]
  },
  {
   "cell_type": "code",
   "execution_count": 9,
   "metadata": {
    "collapsed": false
   },
   "outputs": [
    {
     "name": "stdout",
     "output_type": "stream",
     "text": [
      "0 0.0 90.0\n",
      "1 186.366500854 90.0\n",
      "2 194.433242798 90.0\n",
      "3 204.512786865 90.0\n",
      "4 216.593643188 90.0\n",
      "5 230.0 90.0\n",
      "6 243.406341553 90.0\n",
      "7 255.487197876 90.0\n",
      "8 265.566741943 90.0\n",
      "9 273.633514404 90.0\n",
      "10 279.999969482 90.0\n"
     ]
    },
    {
     "data": {
      "image/png": "[encoded data removed]",
      "text/plain": [
       "<matplotlib.figure.Figure at 0x7fc6ae25e490>"
      ]
     },
     "metadata": {},
     "output_type": "display_data"
    },
    {
     "data": {
      "image/png": "[encoded data removed]",
      "text/plain": [
       "<matplotlib.figure.Figure at 0x7fc6ae1f1c50>"
      ]
     },
     "metadata": {},
     "output_type": "display_data"
    }
   ],
   "source": [
    "a=[]\n",
    "d=[]\n",
    "l=[]\n",
    "for i in range(11):\n",
    "    azm,dip = gslib.__drillhole.interp_ang1d(azm1=0,\n",
    "                                             dip1=90,\n",
    "                                             azm2=100,\n",
    "                                             dip2=90,\n",
    "                                             len12=10,\n",
    "                                             d1=i)\n",
    "    print i, azm,dip\n",
    "    \n",
    "    a.append(azm)\n",
    "    d.append(dip)\n",
    "    l.append(i)\n",
    "\n",
    "plt.plot(l,a, '-o')\n",
    "plt.title('Azimuth')\n",
    "plt.show()\n",
    "plt.plot(l,d, '-o')\n",
    "plt.title('Dip')\n",
    "plt.show()"
   ]
  },
  {
   "cell_type": "markdown",
   "metadata": {},
   "source": [
    "## Desurvey function (minimum curvature)\n",
    "We use here minimum curvature with balanced tangential if the dog-leg (dl) is zero and makes the Ratio Factor (rf) undefined. It works like this\n",
    "\n",
    "```\n",
    "    ! calculate the dog-leg (dl) and the Ratio Factor (rf)\n",
    "    dl = acos(cos(i2-i1)-sin(i1)*sin(i2)*(1-cos(a2-a1))) !\n",
    "    \n",
    "    if (dl/=0) then\n",
    "        rf = 2*tan(dl/2)/dl  ! minimum curvature\n",
    "    else\n",
    "        rf=1 ! balanced tangential\n",
    "    end if\n",
    "    \n",
    "    \n",
    "    dz = 0.5*len12*(cos(i1)+cos(i2))*rf\n",
    "    dn = 0.5*len12*(sin(i1)*cos(a1)+sin(i2)*cos(a2))*rf\n",
    "    de = 0.5*len12*(sin(i1)*sin(a1)+sin(i2)*sin(a2))*rf\n",
    "```\n",
    "\n",
    "where i1,i2 are inclination angles or (90-dip) and a1, a2 are the azimuths at survey points 1,2 (with length from collar at 1 < length from collar at 2). The input angles are azimuth and dip (in degrees). Dip angles ar 90 downdip (ex. surface drillhole) to -90 upwards (ex. underground drillholes pointing to surface)"
   ]
  },
  {
   "cell_type": "code",
   "execution_count": 10,
   "metadata": {
    "collapsed": false
   },
   "outputs": [
    {
     "name": "stdout",
     "output_type": "stream",
     "text": [
      "dz,dn,de = dsmincurb(len12,az1,dip1,az2,dip2)\n",
      "\n",
      "Wrapper for ``dsmincurb``.\n",
      "\n",
      "Parameters\n",
      "----------\n",
      "len12 : input float\n",
      "az1 : input float\n",
      "dip1 : input float\n",
      "az2 : input float\n",
      "dip2 : input float\n",
      "\n",
      "Returns\n",
      "-------\n",
      "dz : float\n",
      "dn : float\n",
      "de : float\n",
      "\n"
     ]
    }
   ],
   "source": [
    "print gslib.__drillhole.dsmincurb.__doc__"
   ]
  },
  {
   "cell_type": "code",
   "execution_count": 11,
   "metadata": {
    "collapsed": false
   },
   "outputs": [
    {
     "name": "stdout",
     "output_type": "stream",
     "text": [
      "10.0 0.0 0.0 10.0\n",
      "7.07106781006 7.07106781006 0.0 9.99999999744\n",
      "7.07106781006 -3.09086203742e-07 7.07106781006 9.99999999744\n",
      "7.79696798325 3.89848351479 3.89848399162 9.54929635522\n",
      "94.0123443604 27.218328476 19.4507751465 99.787228396\n"
     ]
    }
   ],
   "source": [
    "#This works\n",
    "dz,dn,de=gslib.__drillhole.dsmincurb (len12=10,az1=0,dip1=90,az2=0,dip2=90)\n",
    "l= np.sqrt(dz**2+dn**2+de**2)\n",
    "print dz,dn,de,l\n",
    "dz,dn,de=gslib.__drillhole.dsmincurb (len12=10,az1=0,dip1=45,az2=0,dip2=45)\n",
    "l= np.sqrt(dz**2+dn**2+de**2)\n",
    "print dz,dn,de,l\n",
    "dz,dn,de=gslib.__drillhole.dsmincurb (len12=10,az1=90,dip1=45,az2=90,dip2=45)\n",
    "l= np.sqrt(dz**2+dn**2+de**2)\n",
    "print dz,dn,de,l\n",
    "dz,dn,de=gslib.__drillhole.dsmincurb (len12=10,az1=90,dip1=45,az2=0,dip2=45)\n",
    "l= np.sqrt(dz**2+dn**2+de**2)\n",
    "print dz,dn,de,l\n",
    "dz,dn,de=gslib.__drillhole.dsmincurb (len12=100,az1=20,dip1=75,az2=45,dip2=65)\n",
    "l= np.sqrt(dz**2+dn**2+de**2)\n",
    "print dz,dn,de,l"
   ]
  },
  {
   "cell_type": "markdown",
   "metadata": {},
   "source": [
    "***Note that distance calculated between endpoints is less than the the distance in the drillhole due to the drillhole curvature***"
   ]
  },
  {
   "cell_type": "markdown",
   "metadata": {},
   "source": [
    "## Test desurvey a point on a drillhole trace"
   ]
  },
  {
   "cell_type": "code",
   "execution_count": 12,
   "metadata": {
    "collapsed": false
   },
   "outputs": [
    {
     "name": "stdout",
     "output_type": "stream",
     "text": [
      "azt,dipt,xt,yt,zt = desurv1dh(lengs,azs,dips,xc,yc,zc,lpt,[ns])\n",
      "\n",
      "Wrapper for ``desurv1dh``.\n",
      "\n",
      "Parameters\n",
      "----------\n",
      "lengs : input rank-1 array('f') with bounds (ns)\n",
      "azs : input rank-1 array('f') with bounds (ns)\n",
      "dips : input rank-1 array('f') with bounds (ns)\n",
      "xc : input float\n",
      "yc : input float\n",
      "zc : input float\n",
      "lpt : input float\n",
      "\n",
      "Other Parameters\n",
      "----------------\n",
      "ns : input int, optional\n",
      "    Default: len(lengs)\n",
      "\n",
      "Returns\n",
      "-------\n",
      "azt : float\n",
      "dipt : float\n",
      "xt : float\n",
      "yt : float\n",
      "zt : float\n",
      "\n"
     ]
    }
   ],
   "source": [
    "print gslib.__drillhole.desurv1dh.__doc__"
   ]
  },
  {
   "cell_type": "code",
   "execution_count": 13,
   "metadata": {
    "collapsed": false
   },
   "outputs": [
    {
     "name": "stdout",
     "output_type": "stream",
     "text": [
      "      0.00      70.00       0.00       0.00       0.00 \n",
      "      0.00      70.00       0.00       3.42      -9.40 \n",
      "      0.00      70.00       0.00       6.84     -18.79 \n",
      "      0.00      70.00       0.00      10.26     -28.19 \n"
     ]
    }
   ],
   "source": [
    "# This works \n",
    "\n",
    "# survey\n",
    "lengs = [  0, 10, 20, 30, 40]\n",
    "azs   = [  0, 0, 0, 0, 0]\n",
    "dips  = [ 70, 70, 70, 70, 70]\n",
    "xc    = 0\n",
    "yc    = 0\n",
    "zc    = 0\n",
    "# interval table (ex. assay)\n",
    "midt  = [  0, 10, 20, 30]\n",
    "\n",
    "for interv in midt: \n",
    "    azmt,dipmt,xmt,ymt,zmt = gslib.__drillhole.desurv1dh(lengs,azs,dips,xc,yc,zc,interv)\n",
    "    print '{0:10.2f} {1:10.2f} {2:10.2f} {3:10.2f} {4:10.2f} '.format(azmt,dipmt,xmt,ymt,zmt)"
   ]
  },
  {
   "cell_type": "code",
   "execution_count": null,
   "metadata": {
    "collapsed": true
   },
   "outputs": [],
   "source": []
  }
 ],
 "metadata": {
  "kernelspec": {
   "display_name": "Python 2",
   "language": "python",
   "name": "python2"
  },
  "language_info": {
   "codemirror_mode": {
    "name": "ipython",
    "version": 2
   },
   "file_extension": ".py",
   "mimetype": "text/x-python",
   "name": "python",
   "nbconvert_exporter": "python",
   "pygments_lexer": "ipython2",
   "version": "2.7.10"
  }
 },
 "nbformat": 4,
 "nbformat_minor": 0
}
