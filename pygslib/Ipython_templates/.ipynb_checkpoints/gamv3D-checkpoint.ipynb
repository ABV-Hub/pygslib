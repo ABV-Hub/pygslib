{
 "cells": [
  {
   "cell_type": "markdown",
   "metadata": {},
   "source": [
    "PyGSLIB\n",
    "========\n",
    "\n",
    "Introduction\n",
    "---------------\n",
    "\n",
    "This is a simple example on how to use raw pyslib to compute variograms\n",
    "\n"
   ]
  },
  {
   "cell_type": "code",
   "execution_count": 27,
   "metadata": {
    "collapsed": false
   },
   "outputs": [],
   "source": [
    "#general imports\n",
    "import pygslib                  "
   ]
  },
  {
   "cell_type": "markdown",
   "metadata": {},
   "source": [
    "Getting the data ready for work\n",
    "---------\n",
    "If the data is in GSLIB format you can use the function `pygslib.gslib.read_gslib_file(filename)` to import the data into a Pandas DataFrame. \n"
   ]
  },
  {
   "cell_type": "code",
   "execution_count": 28,
   "metadata": {
    "collapsed": false
   },
   "outputs": [],
   "source": [
    "#get the data in gslib format into a pandas Dataframe\n",
    "mydata= pygslib.gslib.read_gslib_file('../datasets/cluster.dat')  "
   ]
  },
  {
   "cell_type": "code",
   "execution_count": 29,
   "metadata": {
    "collapsed": false
   },
   "outputs": [
    {
     "name": "stdout",
     "output_type": "stream",
     "text": [
      " \n",
      " **** 5 first rows in my datafile \n",
      "\n",
      "      Xlocation  Ylocation  Primary  Secondary  Declustering Weight  Zlocation  \\\n",
      "0       39.5       18.5     0.06       0.22                1.619        0.0   \n",
      "1        5.5        1.5     0.06       0.27                1.619        0.0   \n",
      "2       38.5        5.5     0.08       0.40                1.416        0.0   \n",
      "3       20.5        1.5     0.09       0.39                1.821        0.0   \n",
      "4       27.5       14.5     0.09       0.24                1.349        0.0   \n",
      "\n",
      "   bhid  \n",
      "0   1.0  \n",
      "1   1.0  \n",
      "2   1.0  \n",
      "3   1.0  \n",
      "4   1.0  \n"
     ]
    }
   ],
   "source": [
    "# This is a 2D file, in this GSLIB version we require 3D data and drillhole name or domain code\n",
    "# so, we are adding constant elevation = 0 and a dummy BHID = 1 \n",
    "mydata['Zlocation']=0.\n",
    "mydata['bhid']=1.\n",
    "\n",
    "# printing to verify results\n",
    "print ' \\n **** 5 first rows in my datafile \\n\\n  ', mydata.head(n=5)"
   ]
  },
  {
   "cell_type": "markdown",
   "metadata": {
    "collapsed": true
   },
   "source": [
    "## Testing variogram function gamv"
   ]
  },
  {
   "cell_type": "code",
   "execution_count": 30,
   "metadata": {
    "collapsed": false
   },
   "outputs": [],
   "source": [
    "# these are the parameters we need. Note that at difference of GSLIB this dictionary also stores \n",
    "# the actual data (ex, X, Y, etc.). \n",
    "\n",
    "#important! python is case sensitive 'bhid' is not equal to 'BHID'\n",
    "\n",
    "\n",
    "parameters = {\n",
    "            'x'    : mydata['Xlocation'].values,\n",
    "            'y'    : mydata['Ylocation'].values,\n",
    "            'z'    : mydata['Zlocation'].values, \n",
    "            'bhid' : mydata['bhid'].values,\n",
    "            'vr'   : mydata['Primary'].values,\n",
    "            'tmin' : -1.0e21,\n",
    "            'tmax' :  1.0e21,\n",
    "            'nlag' :  11,\n",
    "            'xlag' :  1,\n",
    "            'ndir' :  2,\n",
    "            'ndip' :  1,\n",
    "            'orgdir': 0.,\n",
    "            'orgdip': 0.,\n",
    "            'isill' : 1,\n",
    "            'sills' : [mydata['Primary'].var()],\n",
    "            'ivtail' : [1],\n",
    "            'ivhead' : [1],\n",
    "            'ivtype' : [1]\n",
    "        }\n"
   ]
  },
  {
   "cell_type": "raw",
   "metadata": {
    "collapsed": true
   },
   "source": [
    "'''\n",
    "GSLIB variograms:\n",
    "type 1 = traditional semivariogram\n",
    "     2 = traditional cross semivariogram\n",
    "     3 = covariance\n",
    "     4 = correlogram\n",
    "     5 = general relative semivariogram\n",
    "     6 = pairwise relative semivariogram\n",
    "     7 = semivariogram of logarithms\n",
    "     8 = semimadogram\n",
    "\n",
    "'''  "
   ]
  },
  {
   "cell_type": "code",
   "execution_count": 31,
   "metadata": {
    "collapsed": false
   },
   "outputs": [],
   "source": [
    "#Now we are ready to calculate the veriogram\n",
    "np, dis, gam, hm, tm, hv, tv = pygslib.gslib.gamv3D(parameters)"
   ]
  },
  {
   "cell_type": "code",
   "execution_count": 33,
   "metadata": {
    "collapsed": false
   },
   "outputs": [
    {
     "data": {
      "text/plain": [
       "array([[[[ 140.]],\n",
       "\n",
       "        [[  69.]]],\n",
       "\n",
       "\n",
       "       [[[  70.]],\n",
       "\n",
       "        [[  26.]]],\n",
       "\n",
       "\n",
       "       [[[  37.]],\n",
       "\n",
       "        [[  26.]]],\n",
       "\n",
       "\n",
       "       [[[  29.]],\n",
       "\n",
       "        [[  33.]]],\n",
       "\n",
       "\n",
       "       [[[  38.]],\n",
       "\n",
       "        [[  58.]]],\n",
       "\n",
       "\n",
       "       [[[  82.]],\n",
       "\n",
       "        [[ 116.]]],\n",
       "\n",
       "\n",
       "       [[[  76.]],\n",
       "\n",
       "        [[  74.]]],\n",
       "\n",
       "\n",
       "       [[[  74.]],\n",
       "\n",
       "        [[  76.]]],\n",
       "\n",
       "\n",
       "       [[[ 101.]],\n",
       "\n",
       "        [[  93.]]],\n",
       "\n",
       "\n",
       "       [[[  83.]],\n",
       "\n",
       "        [[  95.]]],\n",
       "\n",
       "\n",
       "       [[[ 103.]],\n",
       "\n",
       "        [[ 126.]]]])"
      ]
     },
     "execution_count": 33,
     "metadata": {},
     "output_type": "execute_result"
    }
   ],
   "source": [
    "np"
   ]
  },
  {
   "cell_type": "code",
   "execution_count": null,
   "metadata": {
    "collapsed": true
   },
   "outputs": [],
   "source": []
  },
  {
   "cell_type": "code",
   "execution_count": null,
   "metadata": {
    "collapsed": true
   },
   "outputs": [],
   "source": []
  }
 ],
 "metadata": {
  "kernelspec": {
   "display_name": "Python [default]",
   "language": "python",
   "name": "python2"
  },
  "language_info": {
   "codemirror_mode": {
    "name": "ipython",
    "version": 2
   },
   "file_extension": ".py",
   "mimetype": "text/x-python",
   "name": "python",
   "nbconvert_exporter": "python",
   "pygments_lexer": "ipython2",
   "version": "2.7.12"
  }
 },
 "nbformat": 4,
 "nbformat_minor": 1
}
